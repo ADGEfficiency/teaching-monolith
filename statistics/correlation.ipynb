{
 "cells": [
  {
   "cell_type": "code",
   "execution_count": null,
   "metadata": {},
   "outputs": [],
   "source": [
    "import numpy as np\n",
    "import matplotlib.pyplot as plt\n",
    "import seaborn as sns\n",
    "\n",
    "from common import load_iris, percentile_rank, make_cdf\n",
    "\n",
    "%matplotlib inline"
   ]
  },
  {
   "cell_type": "markdown",
   "metadata": {},
   "source": [
    "# Relationships between variables\n",
    "\n",
    "Chapter 7 of [Think Stats 2nd Edition](https://greenteapress.com/wp/think-stats-2e/)."
   ]
  },
  {
   "cell_type": "code",
   "execution_count": null,
   "metadata": {},
   "outputs": [],
   "source": [
    "iris = load_iris().features"
   ]
  },
  {
   "cell_type": "code",
   "execution_count": null,
   "metadata": {},
   "outputs": [],
   "source": [
    "f, a = plt.subplots()\n",
    "\n",
    "_ = iris.plot(kind='scatter', x='sepal length (cm)', y='sepal width (cm)', ax=a)"
   ]
  },
  {
   "cell_type": "code",
   "execution_count": null,
   "metadata": {},
   "outputs": [],
   "source": [
    "_ = sns.pairplot(iris)"
   ]
  },
  {
   "cell_type": "markdown",
   "metadata": {},
   "source": [
    "Plotting percentiles against each other:"
   ]
  },
  {
   "cell_type": "code",
   "execution_count": null,
   "metadata": {},
   "outputs": [],
   "source": [
    "y, x = zip(*make_cdf(iris.loc[:, 'petal length (cm)']))\n",
    "plt.plot(x, y)\n",
    "\n",
    "y, x = zip(*make_cdf(iris.loc[:, 'petal width (cm)']))\n",
    "plt.plot(x, y)\n",
    "\n",
    "_ = plt.ylabel('cumulative (%)')\n",
    "_ = plt.xlabel('length (cm)')"
   ]
  },
  {
   "cell_type": "markdown",
   "metadata": {},
   "source": [
    "## Co-variance\n",
    "\n",
    "Variance = how far a random variable is (on expectation) from its mean\n",
    "\n",
    "$$ \\sigma^2_X = \\mathbf{E} [(X - {E}[X])^2] $$\n",
    "\n",
    "Co-variance = measure of the **joint variability** of two random variables\n",
    "\n",
    "$$ \\sigma^2_{XY} = \\mathbf{E} [(X-\\mathbf{E}[X])(Y-\\mathbf{E}[Y])] $$\n",
    "\n",
    "Use delta degrees of freedom (`ddof`) of one for an unbiased estimate."
   ]
  },
  {
   "cell_type": "code",
   "execution_count": null,
   "metadata": {},
   "outputs": [],
   "source": [
    "x = iris.loc[:, 'sepal length (cm)']\n",
    "y = iris.loc[:, 'sepal width (cm)']\n",
    "\n",
    "def covariance(x, y, ddof=1):\n",
    "    return np.sum((x - np.mean(x)) * (y - np.mean(y))) / (x.shape[0] - ddof)"
   ]
  },
  {
   "cell_type": "code",
   "execution_count": null,
   "metadata": {},
   "outputs": [],
   "source": [
    "## co-variance with itself is the variance\n",
    "np.testing.assert_almost_equal(covariance(x, x), np.var(x, ddof=1))\n",
    "covariance(x, x)"
   ]
  },
  {
   "cell_type": "code",
   "execution_count": null,
   "metadata": {},
   "outputs": [],
   "source": [
    "#  how does x change with y?\n",
    "covariance(x, y)"
   ]
  },
  {
   "cell_type": "markdown",
   "metadata": {},
   "source": [
    "The **co-variance matrix** shows all of the pairwise co-variances:"
   ]
  },
  {
   "cell_type": "code",
   "execution_count": null,
   "metadata": {},
   "outputs": [],
   "source": [
    "np.cov(x, y, ddof=1)"
   ]
  },
  {
   "cell_type": "markdown",
   "metadata": {},
   "source": [
    "What does an identity co-variance matrix imply?"
   ]
  },
  {
   "cell_type": "code",
   "execution_count": null,
   "metadata": {},
   "outputs": [],
   "source": [
    "np.eye(3)"
   ]
  },
  {
   "cell_type": "markdown",
   "metadata": {},
   "source": [
    "## Correlation\n",
    "\n",
    "Correlation = **strength of a relationship** between two variables.  \n",
    "- almost always it is a measure of the **linear relationship**\n",
    "- correlation doesn't have to be perfect to be **useful**\n",
    "\n",
    "Challenge = variables for different units\n",
    "\n",
    "Solution = transform each value\n",
    "1. a standard score (standardization)\n",
    "2. a rank\n",
    "\n",
    "## Karl Pearson \n",
    "\n",
    "1857 to 1936 - English biostatistician - [Wikipedia](https://en.wikipedia.org/wiki/Karl_Pearson).\n",
    "\n",
    "![](assets/pearson.jpg)\n",
    "\n",
    "Introduced\n",
    "- Pearson correlation coefficient\n",
    "- moments\n",
    "- chi distance & chi squared test\n",
    "- p-value\n",
    "- PCA\n",
    "- the histogram\n",
    "\n",
    "## Pearson Correlation Coefficient\n",
    "\n",
    "$$ \\rho_{X,Y} = \\frac{\\mathbf{E}[(X - \\mathbf{E}[X])(Y - \\mathbf{E}[Y])]}{\\sigma_{X}\\sigma_{Y}} $$\n",
    "\n",
    "- dimensionless\n",
    "- always between -1 to +1\n",
    "- measures a **linear relationship**\n",
    "- assumes that both datasets are normally\n",
    "\n",
    "Problem with co-variance = the units are the product (i.e. $cm^2$)\n",
    "- Pearson's correlation fixes this by using standard scores (aka standardization)\n",
    "- dividing by the standard deviation\n",
    "\n",
    "$$ y = \\frac{x-\\mu}{\\sigma} $$ "
   ]
  },
  {
   "cell_type": "code",
   "execution_count": null,
   "metadata": {},
   "outputs": [],
   "source": [
    "from scipy.stats import pearsonr\n",
    "\n",
    "def standardize(x):\n",
    "    return (x - np.mean(x)) / np.std(x)\n",
    "\n",
    "def pearson(x, y):\n",
    "    return np.mean(standardize(x) * standardize(y))\n",
    "\n",
    "pearson(x, y)"
   ]
  },
  {
   "cell_type": "code",
   "execution_count": null,
   "metadata": {},
   "outputs": [],
   "source": [
    "pearsonr(x, y)"
   ]
  },
  {
   "cell_type": "markdown",
   "metadata": {},
   "source": [
    "## Spearman's Rank Correlation\n",
    "\n",
    "Non-parametric (why?)\n",
    "\n",
    "Dependence of the **ranks***\n",
    "- asseses strength & direction of monotonic relationships\n",
    "\n",
    "Monotonic\n",
    "- as one variable increases, so does the other variable; or\n",
    "- as one variable increases, the other variable decreases"
   ]
  },
  {
   "cell_type": "code",
   "execution_count": null,
   "metadata": {},
   "outputs": [],
   "source": [
    "def rank(x):\n",
    "    temp = x.argsort()\n",
    "    ranks = np.empty_like(temp)\n",
    "    ranks[temp] = np.arange(len(x))\n",
    "    return ranks\n",
    "\n",
    "ranked = rank(x)"
   ]
  },
  {
   "cell_type": "code",
   "execution_count": null,
   "metadata": {},
   "outputs": [],
   "source": [
    "def spearman(x, y):\n",
    "    x_ranks = rank(x)\n",
    "    y_ranks = rank(y)\n",
    "    return pearson(x_ranks, y_ranks)\n",
    "\n",
    "spearman(x, y)"
   ]
  },
  {
   "cell_type": "code",
   "execution_count": null,
   "metadata": {},
   "outputs": [],
   "source": [
    "from scipy.stats import spearmanr, tiecorrect\n",
    "\n",
    "corr, p_value = spearmanr(x, y)\n",
    "#  a bug!!!\n",
    "corr"
   ]
  },
  {
   "cell_type": "code",
   "execution_count": null,
   "metadata": {},
   "outputs": [],
   "source": [
    "import scipy\n",
    "pearson(scipy.stats.rankdata(x), scipy.stats.rankdata(y))"
   ]
  },
  {
   "cell_type": "code",
   "execution_count": null,
   "metadata": {},
   "outputs": [],
   "source": [
    "#  using pandas here\n",
    "iris.corr('spearman')"
   ]
  },
  {
   "cell_type": "markdown",
   "metadata": {},
   "source": [
    "## Anscombe's quartet \n",
    "\n",
    "[Wikipedia](https://en.wikipedia.org/wiki/Anscombe%27s_quartet)\n",
    "\n",
    "Each dataset consists of eleven (x, y) points. \n",
    "\n",
    "Constructed in 1973 by the statistician Francis Anscombe to demonstrate:\n",
    "- the importance of **graphing data before analyzing it**\n",
    "- the **effect of outliers** and other influential observations on statistical properties"
   ]
  },
  {
   "cell_type": "code",
   "execution_count": null,
   "metadata": {},
   "outputs": [],
   "source": [
    "data = pd.DataFrame({\n",
    "    'x': [10, 8, 13, 9, 11, 14, 6, 4, 12, 7, 5],\n",
    "    'y1': [8.04, 6.95, 7.58, 8.81, 8.33, 9.96, 7.24, 4.26, 10.84, 4.82, 5.68],\n",
    "    'y2': [9.14, 8.14, 8.74, 8.77, 9.26, 8.10, 6.13, 3.10, 9.13, 7.26, 4.74],\n",
    "    'y3': [7.46, 6.77, 12.74, 7.11, 7.81, 8.84, 6.08, 5.39, 8.15, 6.42, 5.73]\n",
    "})\n",
    "\n",
    "data2 = pd.DataFrame({\n",
    "    'x4': [8, 8, 8, 8, 8, 8, 8, 19, 8, 8, 8],\n",
    "    'y4': [6.58, 5.76, 7.71, 8.84, 8.47, 7.04, 5.25, 12.50, 5.56, 7.91, 6.89]\n",
    "})"
   ]
  },
  {
   "cell_type": "code",
   "execution_count": null,
   "metadata": {},
   "outputs": [],
   "source": [
    "#  all our y's have similar means\n",
    "data.mean(axis=0)"
   ]
  },
  {
   "cell_type": "code",
   "execution_count": null,
   "metadata": {},
   "outputs": [],
   "source": [
    "#  all our y's have similar variances\n",
    "data.cov()"
   ]
  },
  {
   "cell_type": "code",
   "execution_count": null,
   "metadata": {},
   "outputs": [],
   "source": [
    "#  x has different values - hence two dfs \n",
    "data2.cov()"
   ]
  },
  {
   "cell_type": "code",
   "execution_count": null,
   "metadata": {},
   "outputs": [],
   "source": [
    "f, a = plt.subplots(2, 2, figsize=(10,5))\n",
    "data.plot(ax=a[0][0], x='x', y='y1', kind='scatter')\n",
    "data.plot(ax=a[0][1], x='x', y='y2', kind='scatter')\n",
    "data.plot(ax=a[1][0], x='x', y='y3', kind='scatter')\n",
    "data2.plot(ax=a[1][1], x='x4', y='y4', kind='scatter')\n",
    "\n",
    "for ax in a.flatten():\n",
    "    ax.get_yaxis().set_label_text('')\n",
    "    ax.get_xaxis().set_label_text('')"
   ]
  },
  {
   "cell_type": "markdown",
   "metadata": {},
   "source": [
    "a[0][0] = simple linear relationship\n",
    "\n",
    "a[0][1] = Pearson correlation coefficient is not relevant. A more general regression and the corresponding coefficient of determination would be more appropriate.\n",
    "\n",
    "a[1][0] = the distribution is linear, but should have a different regression line (a robust regression would have been called for). The calculated regression is offset by the one outlier which exerts enough influence to lower the correlation coefficient from 1 to 0.816.\n",
    "\n",
    "a[1][1] =  one high-leverage point is enough to produce a high correlation coefficient, even though the other data points do not indicate any relationship between the variables.\n",
    "\n",
    "## Quiz\n",
    "\n",
    "What is variance?\n",
    "\n",
    "What is co-variance?\n",
    "\n",
    "What is correlation?\n",
    "\n",
    "What challenge do the Pearson & Spearman correlations attempt to solve?\n",
    "\n",
    "What is the Pearson correlation coefficient?  What kind of relationship does it measure?\n",
    "\n",
    "What is the Spearman correlation coefficient?  What kind of relationship does it measure?\n",
    "\n",
    "What are two takeaways from Anscombe's quartet?"
   ]
  }
 ],
 "metadata": {
  "kernelspec": {
   "display_name": "Python 3",
   "language": "python",
   "name": "python3"
  },
  "language_info": {
   "codemirror_mode": {
    "name": "ipython",
    "version": 3
   },
   "file_extension": ".py",
   "mimetype": "text/x-python",
   "name": "python",
   "nbconvert_exporter": "python",
   "pygments_lexer": "ipython3",
   "version": "3.6.8"
  }
 },
 "nbformat": 4,
 "nbformat_minor": 4
}

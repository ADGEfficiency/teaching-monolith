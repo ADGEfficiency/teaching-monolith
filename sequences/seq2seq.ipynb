{
 "cells": [
  {
   "cell_type": "markdown",
   "metadata": {},
   "source": [
    "# seq2seq\n",
    "\n",
<<<<<<< HEAD
    "seq2seq is a sequence model introduced in 2014\n",
    "- major contribution = allows variable length input and output sequence\n",
    "- can be used with LSTMs or attention\n",
    "\n",
    "Sutskever et. al (2014) Sequence to Sequence Learning with Neural Networks - [arvix](https://arxiv.org/abs/1409.3215)\n",
    "- 12 million Eng -> French sentences\n",
    "- 10 days to train across 8 GPUs\n",
    "- reverses the order of words in the source (not the target)\n",
    "\n",
    "Applications of seq2seq\n",
    "- translation, question answering, image captioning\n",
    "\n",
    "One limitation is knowing the set of possible output elements in advance\n",
=======
    "Sequence to sequence allows variable length input & output sequences\n",
    "- major contribution = variable length sequences\n",
    "- can be used with LSTMs or attention\n",
    "\n",
    "Sutskever et. al (2014) Sequence to Sequence Learningwith Neural Networks - [arvix](https://arxiv.org/abs/1409.3215)\n",
    "- reverses the order of words in the source (not the target)\n",
    "- 12 million Eng -> French sentences\n",
    "- 10 days to train across 8 GPUs\n",
    "\n",
    "Applications\n",
    "- translation, question answering, image captioning\n",
    "\n",
    "One limitation of seq2seq is knowning the set of possible output elements in advance\n",
    "- limits seq2seq to solve problems like sorting or travelling salesman\n",
    "- Pointer Net (Vinyals et. al 2015) to solve this\n",
>>>>>>> 1378f2aecd219e1172b05e1f713b00d908a08b43
    "\n",
    "\n",
    "## Embeddings\n",
    "\n",
<<<<<<< HEAD
    "Machines understand numbers\n",
    "- part of any NLP pipeline is converting the raw text into tokens\n",
    "- these tokens can then be transformed into a vector (numeric) representation\n",
=======
    "Text / sequence is first tokenized.  \n",
    "- transforming the tokens (that form our corpus) into a vector\n",
>>>>>>> 1378f2aecd219e1172b05e1f713b00d908a08b43
    "\n",
    "Special tokens include:\n",
    "- `<EOS>` = end of sentence\n",
    "- `<PAD>` = padding (if you require constant length sequences)\n",
    "\n",
<<<<<<< HEAD
    "A simple approach is frequency based embeddings, such as bag of words or TIDF\n",
    "- these are commonly used to generate features for non-neural network NLP approaches\n",
    "- lose all infomation about context\n",
    "\n",
    "It is more common with neural networks to use vector embeddings\n",
    "- each word in corpus is mapped to a vector (say of shape (1, 300))\n",
    "- these vectors can be learnt unsupervised by predicting current word - know as Continuous Bag-of-Words (CBOW)\n",
    "- after these vectors have been learnt, they can be used for other tasks\n",
    "\n",
    "A simple approach to create a representation of a sentence is to average all the word vectors\n",
    "- this gives a fixed length representation of a variable length sequence\n",
    "- lose all infomation about context\n",
    "\n",
    "Word2Vec (all Mikolov et. al (2013))\n",
    "- two papers - Efficient Estimation of Word Representations in Vector Space and Linguistic Regularities in Continuous Space Word Representations\n",
    "\n",
    "<img src=\"assets/word-embed.png\" alt=\"drawing\" width=\"50%\"/>\n",
    "<center>From Linguistic Regularities in Continuous Space Word Representations</center>\n",
=======
    "Frequency based embeddings include bag of words or TIDF:\n",
    "- these are commonly used to generate features for non-neural network NLP approaches\n",
    "\n",
    "It is more common with neural networks to use vector embeddings:\n",
    "- each word in corpus is mapped to a vector\n",
    "- can be learnt unsupervised by predicting current word - know as Continuous Bag-of-Words (CBOW)\n",
    "\n",
    "Word2Vec (all Mikolov et. al (2013))\n",
    "- Efficient Estimation of Word Representations in Vector Space\n",
    "- Linguistic Regularities in Continuous Space Word Representations\n",
    "\n",
    "![](assets/word-embed.png)\n",
    "*From Linguistic Regularities in Continuous Space Word Representations*\n",
>>>>>>> 1378f2aecd219e1172b05e1f713b00d908a08b43
    "\n",
    "Word embeddings can be reused\n",
    "- transfer learning\n",
    "- driving lots of recent progress in NLP\n",
    "\n",
    "Further reading\n",
    "- What are Word Embeddings - ML Mastery - [text](https://machinelearningmastery.com/what-are-word-embeddings/)\n",
    "\n",
    "## Encoder-Decoder architecture\n",
    "\n",
    "![](assets/seq2seq.png)\n",
    "\n",
    "*From Sutskever et. al (2014)*\n",
    "\n",
    "- encoder processes input seq using an LSTM to a fixed length embedding (context vector)\n",
    "- decoder is initialized with context, then generates the output sequence\n",
    "\n",
<<<<<<< HEAD
    "Encoder output acts like a sentence embedding\n",
    "- fixed length context vector, that summarizes entire sentence\n",
    "\n",
    "Decoder is then initialized with context \n",
    "- generates variable length output using RNN\n",
=======
    "Encoder output = like a sentence embedding\n",
    "\n",
    "Encoder -> fixed length context (aka sentence embedding, thought vector), that summarizes entire sentence\n",
    "\n",
    "Decoder = initialized with context -> output\n",
>>>>>>> 1378f2aecd219e1172b05e1f713b00d908a08b43
    "\n",
    "![](assets/enc-dec.png)\n",
    "\n",
    "\n",
    "## Resources used\n",
    "\n",
    "Attention? Attention! - Lilian Wang - [text](https://lilianweng.github.io/lil-log/2018/06/24/attention-attention.html)\n",
    "\n",
    "What are Word Embeddings - ML Mastery - [text](https://machinelearningmastery.com/what-are-word-embeddings/)"
   ]
<<<<<<< HEAD
=======
  },
  {
   "cell_type": "code",
   "execution_count": null,
   "metadata": {},
   "outputs": [],
   "source": []
>>>>>>> 1378f2aecd219e1172b05e1f713b00d908a08b43
  }
 ],
 "metadata": {
  "kernelspec": {
   "display_name": "Python 3",
   "language": "python",
   "name": "python3"
  },
  "language_info": {
   "codemirror_mode": {
    "name": "ipython",
    "version": 3
   },
   "file_extension": ".py",
   "mimetype": "text/x-python",
   "name": "python",
   "nbconvert_exporter": "python",
   "pygments_lexer": "ipython3",
   "version": "3.7.6"
  }
 },
 "nbformat": 4,
 "nbformat_minor": 4
}

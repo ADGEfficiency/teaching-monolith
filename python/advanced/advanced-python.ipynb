{
 "cells": [
  {
   "cell_type": "markdown",
   "metadata": {},
   "source": [
    "## `@classmethod`\n",
    "\n",
    "## inherit userdict\n",
    "\n",
    "## returning earlyf\n",
    "\n",
    "\n",
    "## Put empty lists before the loop that fills them\n",
    "\n",
    "Define things where you use them (ie lists to append too etc) \n",
    "- holdover from C to define everything at the start\n",
    "\n",
    "List comprehension is the ultimate example of this\n",
    "\n",
    "## Temporary variables\n",
    "\n",
    "Faster, but hurt readibility\n",
    "\n",
    "If you can get away without using a temporary - don’t use it (skip the temporary)\n",
    "- means reader has less to worry about \n",
    "\n",
    "## Objects contain addressess (not data)\n",
    "\n",
    "## Why zero based indexing (see fluent python)\n",
    "\n",
    "## Functions \n",
    "\n",
    "Reader should be able to figure out in a minute what a function does\n",
    "\n",
    "What should a function do?\n",
    "- one thing (Unix philosophy)\n",
    "- one of the big challenges in writing code = not mixing unrelated ideas!\n",
    "\n",
    "Functions are about WHAT - what does the function do\n",
    "- function should go on as long as it has too\n",
    "\n",
    "Function versus procedures\n",
    "- functions = compute stuff & returns value with no side effect\n",
    "- procedure = has side effects\n",
    "\n",
    "Return early if possible \n",
    "- holdover from C - compiler would require/need a single return\n",
    "\n",
    "### Input\n",
    "\n",
    "- get info\n",
    "- don't get what you don't need\n",
    "- early errors are good errors (ie input checks)\n",
    "- asserts add information\n",
    "\n",
    "### Transform\n",
    "\n",
    "- should be boring\n",
    "- exceptions should be exceptional\n",
    "\n",
    "### Output\n",
    "\n",
    "- pretty print results\n",
    "- executions should be really surprising\n",
    "- format info the way caller expects\n",
    "- use assert statements - they are low overhead and tells reader what is going to happen\n",
    "- return once = form old compilers (no longer true) = use as many returns as you need\n",
    "- returning early adds confidence - return early when you can"
   ]
  },
  {
   "cell_type": "markdown",
   "metadata": {},
   "source": [
    "## Error handling\n",
    "\n",
    "Exceptions show that you have thought about your failure conditions"
   ]
  },
  {
   "cell_type": "markdown",
   "metadata": {},
   "source": [
    "## Classes\n",
    "\n",
    "Classes allow us to \n",
    "- control scope\n",
    "- reuse code\n",
    "- maintain state\n",
    "\n",
    "When should you use a class?\n",
    "- a bundle of mutable data and bunch of related functions\n",
    "\n",
    "Shouldn't use a class:\n",
    "- If you have two methods - one being init - it shouldn’t be a class!\n",
    "- If you use class once and throw it away, it could be a lot simpler\n",
    "\n",
    "Instance of class\n",
    "\n",
    "Let's program a **dummy regressor**.  This dummy regression will learn a single statistic from some training data.  That single statistic is the mean of the training data:"
   ]
  },
  {
   "cell_type": "code",
   "execution_count": 1,
   "metadata": {},
   "outputs": [],
   "source": [
    "class Model:\n",
    "    def __init__(self):\n",
    "        #  self is this instance of the class\n",
    "        pass\n",
    "        \n",
    "    def fit(self, x, y):\n",
    "        self.mean = np.mean(y)\n",
    "\n",
    "    def predict(self, x):\n",
    "        return [self.mean for sample in x]\n",
    "        \n",
    "model = Model()"
   ]
  },
  {
   "cell_type": "markdown",
   "metadata": {},
   "source": [
    "## Methods & attributes\n",
    "\n",
    "`@property` - can be added later to attributes. Can’t do in a compiled language (but can in a dynamic language)"
   ]
  },
  {
   "cell_type": "code",
   "execution_count": null,
   "metadata": {},
   "outputs": [],
   "source": []
  },
  {
   "cell_type": "markdown",
   "metadata": {},
   "source": [
    "## Inheritance\n",
    "\n",
    "Some uses of inheritance are\n",
    "- adding functionality to a class from a third party library (OpenAI gym)\n",
    "- writing custom classes that will work with a third party library (sklearn pipelines)\n",
    "\n",
    "It is very unlikely that you will need to use inheritance in most projects (the same is true for classes).\n",
    "\n",
    "Lets imagine we want to build three agents that take actions (either always turn left, always turn right or randomly do either)\n",
    "\n",
    "We can do this without inheritance:"
   ]
  },
  {
   "cell_type": "code",
   "execution_count": 2,
   "metadata": {},
   "outputs": [],
   "source": [
    "from random import choice\n",
    "\n",
    "import numpy as np\n",
    "\n",
    "\n",
    "class Left:\n",
    "    def __init__(self):\n",
    "        self.name = 'left'\n",
    "        self.age = 0\n",
    "        \n",
    "    def act(self):\n",
    "        self.age += 1\n",
    "        return 'go left'\n",
    "    \n",
    "\n",
    "class Right:\n",
    "    def __init__(self):\n",
    "        self.name = 'right'\n",
    "        self.age = 0\n",
    "        \n",
    "    def act(self):\n",
    "        self.age += 1\n",
    "        return 'go right'"
   ]
  },
  {
   "cell_type": "markdown",
   "metadata": {},
   "source": [
    "- we import from the standard library, then a third party library\n",
    "- we separate the class definitions by two lines\n",
    "\n",
    "We can instantiate these classes, and access their methods and attributes"
   ]
  },
  {
   "cell_type": "code",
   "execution_count": 3,
   "metadata": {},
   "outputs": [
    {
     "data": {
      "text/plain": [
       "'left'"
      ]
     },
     "execution_count": 3,
     "metadata": {},
     "output_type": "execute_result"
    }
   ],
   "source": [
    "left = Left()\n",
    "\n",
    "left.name"
   ]
  },
  {
   "cell_type": "code",
   "execution_count": 4,
   "metadata": {},
   "outputs": [
    {
     "data": {
      "text/plain": [
       "['go right', 'go right', 'go right']"
      ]
     },
     "execution_count": 4,
     "metadata": {},
     "output_type": "execute_result"
    }
   ],
   "source": [
    "right = Right()\n",
    "\n",
    "acts = [right.act() for _ in range(3)]\n",
    "acts"
   ]
  },
  {
   "cell_type": "code",
   "execution_count": 5,
   "metadata": {},
   "outputs": [
    {
     "data": {
      "text/plain": [
       "3"
      ]
     },
     "execution_count": 5,
     "metadata": {},
     "output_type": "execute_result"
    }
   ],
   "source": [
    "right.age"
   ]
  },
  {
   "cell_type": "markdown",
   "metadata": {},
   "source": [
    "You can see there is a lot of repeated code in the examples above - lets see how inheritance might help"
   ]
  },
  {
   "cell_type": "code",
   "execution_count": 6,
   "metadata": {},
   "outputs": [],
   "source": [
    "class Agent:\n",
    "    def __init__(self, name):\n",
    "        self.name = name\n",
    "        self.age = 0\n",
    "        \n",
    "    def act(self):\n",
    "        self.age += 1\n",
    "        \n",
    "        \n",
    "class Left(Agent):\n",
    "    def __init__(self, name):\n",
    "        super().__init__(name)\n",
    "        \n",
    "    def act(self):\n",
    "        super().act()\n",
    "        return 'left'"
   ]
  },
  {
   "cell_type": "code",
   "execution_count": 7,
   "metadata": {},
   "outputs": [
    {
     "data": {
      "text/plain": [
       "['left', 'left', 'left', 'left']"
      ]
     },
     "execution_count": 7,
     "metadata": {},
     "output_type": "execute_result"
    }
   ],
   "source": [
    "left = Left('child left')\n",
    "\n",
    "acts = [left.act() for _ in range(4)]\n",
    "acts"
   ]
  },
  {
   "cell_type": "code",
   "execution_count": 8,
   "metadata": {},
   "outputs": [
    {
     "data": {
      "text/plain": [
       "4"
      ]
     },
     "execution_count": 8,
     "metadata": {},
     "output_type": "execute_result"
    }
   ],
   "source": [
    "left.age"
   ]
  },
  {
   "cell_type": "code",
   "execution_count": 9,
   "metadata": {},
   "outputs": [
    {
     "data": {
      "text/plain": [
       "['right', 'right', 'right', 'right', 'right']"
      ]
     },
     "execution_count": 9,
     "metadata": {},
     "output_type": "execute_result"
    }
   ],
   "source": [
    "class Right(Agent):\n",
    "    def __init__(self, name):\n",
    "        super().__init__(name)\n",
    "        \n",
    "    def act(self):\n",
    "        super().act()\n",
    "        return 'right'\n",
    "\n",
    "right = Right('child right')\n",
    "acts = [right.act() for _ in range(5)]\n",
    "acts"
   ]
  },
  {
   "cell_type": "code",
   "execution_count": 10,
   "metadata": {},
   "outputs": [
    {
     "data": {
      "text/plain": [
       "5"
      ]
     },
     "execution_count": 10,
     "metadata": {},
     "output_type": "execute_result"
    }
   ],
   "source": [
    "right.age"
   ]
  },
  {
   "cell_type": "code",
   "execution_count": 11,
   "metadata": {},
   "outputs": [
    {
     "data": {
      "text/plain": [
       "'child right'"
      ]
     },
     "execution_count": 11,
     "metadata": {},
     "output_type": "execute_result"
    }
   ],
   "source": [
    "right.name"
   ]
  },
  {
   "cell_type": "markdown",
   "metadata": {},
   "source": [
    "- data can flow from the child class to the parent via super\n",
    "- we can access the methods of the parent on the child\n",
    "- we define the common functionality once"
   ]
  },
  {
   "cell_type": "code",
   "execution_count": 12,
   "metadata": {},
   "outputs": [],
   "source": [
    "## inherit from list\n"
   ]
  },
  {
   "cell_type": "code",
   "execution_count": null,
   "metadata": {},
   "outputs": [],
   "source": []
  },
  {
   "cell_type": "markdown",
   "metadata": {},
   "source": []
  },
  {
   "cell_type": "code",
   "execution_count": null,
   "metadata": {},
   "outputs": [],
   "source": []
  },
  {
   "cell_type": "markdown",
   "metadata": {},
   "source": []
  },
  {
   "cell_type": "markdown",
   "metadata": {},
   "source": [
    "## Counter & Sets\n",
    "\n",
    "\n",
    "## Decorators\n",
    "\n",
    "\n",
    "## Garbage coll (see page 241 fluent)\n"
   ]
  },
  {
   "cell_type": "code",
   "execution_count": null,
   "metadata": {},
   "outputs": [],
   "source": []
  }
 ],
 "metadata": {
  "kernelspec": {
   "display_name": "Python 3",
   "language": "python",
   "name": "python3"
  },
  "language_info": {
   "codemirror_mode": {
    "name": "ipython",
    "version": 3
   },
   "file_extension": ".py",
   "mimetype": "text/x-python",
   "name": "python",
   "nbconvert_exporter": "python",
   "pygments_lexer": "ipython3",
   "version": "3.6.8"
  }
 },
 "nbformat": 4,
 "nbformat_minor": 4
}

{
 "cells": [
  {
   "cell_type": "markdown",
   "metadata": {},
   "source": [
    "# Evolutionary methods with `multiprocessing`\n",
    "\n",
    "*At least let me have a little fun!*\n",
    "\n",
    "Context on evolutionary algorithms from the Four Competences (on whiteboard)\n",
    "- [more context here](https://towardsdatascience.com/daniel-c-dennetts-four-competences-779648bdbabc?source=friends_link&sk=15fe38a0971a25c0ddb028aec05109a4)\n",
    "- **neuroevolution** = using evolutionary methods to find the parameters (or even architecture) of a neural network\n",
    "\n",
    "Computational evolutionary methods\n",
    "- general, black box optimization\n",
    "- gradient free \n",
    "- work in challenging cost functions (non-linear, discontinuous etc)\n",
    "- can be parallelized\n",
    "\n",
    "Sample inefficient\n",
    "- because they learn from a weak learning signal (fitness / total episode reward)\n",
    "- don't learn from state / reward transitions that occur during an episode\n",
    "\n",
    "If you want a tool for your toolbet, CMA-ES (https://en.wikipedia.org/wiki/CMA-ES) is a good choice\n",
    "- adapts covariance matrix\n",
    "- good up until 1,000 - 10,000 parameters\n",
    "- used in World Models\n",
    "\n",
    "## Generate, test & select\n",
    "\n",
    "Evolutionary improvement occurs through a **generate, test & select loop**\n",
    "- substrate independent\n",
    "\n",
    "Our algorithm will:\n",
    "- generate a population of parameters (neural network weights and biases)\n",
    "- test these parameters in the `mountaincar` environment\n",
    "- select the best performing set of parameters to use in the next generate step\n",
    "\n",
    "Let's first setup the code for the forward pass of a neural net.  We aren't going to do any backprop, so we can do it all in `numpy`:"
   ]
  },
  {
   "cell_type": "code",
   "execution_count": 1,
   "metadata": {},
   "outputs": [
    {
     "name": "stdout",
     "output_type": "stream",
     "text": [
      "\u001b[33mWARNING: You are using pip version 21.2.4; however, version 22.0.4 is available.\n",
      "You should consider upgrading via the '/Users/adam/.pyenv/versions/3.8.5/envs/general/bin/python3.8 -m pip install --upgrade pip' command.\u001b[0m\n"
     ]
    }
   ],
   "source": [
    "!pip install gym pygame -q\n",
    "\n",
    "import gym\n",
    "from evolution import make_env, initialize_parameters, episode\n",
    "\n",
    "#  you can use either 'CartPole-v0' or 'MountainCarContinuous-v0'\n",
    "env_id = 'CartPole-v0'\n",
    "env_id = 'MountainCarContinuous-v0'\n",
    "h_size = 10\n",
    "env, forward, i_size, o_size = make_env(env_id)\n",
    "params = initialize_parameters(i_size, h_size, o_size)"
   ]
  },
  {
   "cell_type": "markdown",
   "metadata": {},
   "source": [
    "We end up with a dictionary of parameters with random weights:"
   ]
  },
  {
   "cell_type": "code",
   "execution_count": 2,
   "metadata": {},
   "outputs": [
    {
     "name": "stderr",
     "output_type": "stream",
     "text": [
      "/Users/adam/.pyenv/versions/3.8.5/envs/general/lib/python3.8/site-packages/ipykernel/ipkernel.py:283: DeprecationWarning: `should_run_async` will not call `transform_cell` automatically in the future. Please pass the result to `transformed_cell` argument and any exception that happen during thetransform in `preprocessing_exc_tuple` in IPython 7.17 and above.\n",
      "  and should_run_async(code)\n"
     ]
    },
    {
     "data": {
      "text/plain": [
       "dict_keys(['w0', 'b0', 'w1', 'b1'])"
      ]
     },
     "execution_count": 2,
     "metadata": {},
     "output_type": "execute_result"
    }
   ],
   "source": [
    "params.keys()"
   ]
  },
  {
   "cell_type": "markdown",
   "metadata": {},
   "source": [
    "We can use the function forward to select an action using these parameters & a randomly sampled observation:"
   ]
  },
  {
   "cell_type": "code",
   "execution_count": 2,
   "metadata": {},
   "outputs": [
    {
     "name": "stderr",
     "output_type": "stream",
     "text": [
      "/Users/adam/.pyenv/versions/3.8.5/envs/general/lib/python3.8/site-packages/ipykernel/ipkernel.py:283: DeprecationWarning: `should_run_async` will not call `transform_cell` automatically in the future. Please pass the result to `transformed_cell` argument and any exception that happen during thetransform in `preprocessing_exc_tuple` in IPython 7.17 and above.\n",
      "  and should_run_async(code)\n"
     ]
    },
    {
     "data": {
      "text/plain": [
       "array([[0.46199009]])"
      ]
     },
     "execution_count": 2,
     "metadata": {},
     "output_type": "execute_result"
    }
   ],
   "source": [
    "action = forward(env.observation_space.sample(), params)\n",
    "action"
   ]
  },
  {
   "cell_type": "markdown",
   "metadata": {},
   "source": [
    "Below the machinery for saving and loading parameters is given - this is so you can run `python render_mountaincar.py` when you agent is learning:"
   ]
  },
  {
   "cell_type": "code",
   "execution_count": 3,
   "metadata": {},
   "outputs": [
    {
     "name": "stdout",
     "output_type": "stream",
     "text": [
      "saving to agents/MountainCarContinuous-v0/agent_1\n",
      "loading from agents/MountainCarContinuous-v0/agent_1\n"
     ]
    }
   ],
   "source": [
    "from evolution import save_params, load_params\n",
    "\n",
    "params = initialize_parameters(i_size, h_size, o_size)\n",
    "save_params(params, env_id, agent_id=1)\n",
    "params = load_params(env_id, agent_id=1)"
   ]
  },
  {
   "cell_type": "markdown",
   "metadata": {},
   "source": [
    "Now you should be able to run (in a shell - will break your notebook kernel):\n",
    "\n",
    "```bash\n",
    "$ python render.py --env_id CartPole-v0 --agent_id 1\n",
    "\n",
    "$ python render.py --env_id MountainCarContinuous-v0 --agent_id 1\n",
    "```\n",
    "\n",
    "![](assets/car.png)"
   ]
  },
  {
   "cell_type": "markdown",
   "metadata": {},
   "source": [
    "## The components of an evolutionary algorithm\n",
    "\n",
    "Above we have outlined the code we need to do the test step of generate/test/select.  Now we will outline the code for the generate & select steps.\n",
    "\n",
    "For the first generation, the loop is to **generate** a population with random weights:"
   ]
  },
  {
   "cell_type": "code",
   "execution_count": 4,
   "metadata": {},
   "outputs": [],
   "source": [
    "pop_size = 32\n",
    "pop = [initialize_parameters(i_size, h_size, o_size) for _ in range(pop_size)]"
   ]
  },
  {
   "cell_type": "markdown",
   "metadata": {},
   "source": [
    "**Test** the population in the environment:"
   ]
  },
  {
   "cell_type": "code",
   "execution_count": 6,
   "metadata": {},
   "outputs": [
    {
     "name": "stdout",
     "output_type": "stream",
     "text": [
      "-135.66124760278075\n"
     ]
    }
   ],
   "source": [
    "from functools import partial\n",
    "\n",
    "results = list(map(partial(episode, env_id=env_id), pop))\n",
    "\n",
    "print(np.mean(results))\n",
    "assert len(results) == pop_size"
   ]
  },
  {
   "cell_type": "markdown",
   "metadata": {},
   "source": [
    "**Select** the best performing parameters:"
   ]
  },
  {
   "cell_type": "code",
   "execution_count": 7,
   "metadata": {},
   "outputs": [],
   "source": [
    "best = pop[np.argmax(results)]"
   ]
  },
  {
   "cell_type": "markdown",
   "metadata": {},
   "source": [
    "We are now on the second generation - instead of sampling parameters randomly using `initialize_parameters` we use selected best from the last generation.\n",
    "\n",
    "We still sample a new generation randomly, but now we use the results of the first generation to create the distribution to sample from.\n",
    "\n",
    "Below we create a new generation, using the best performing member to estimate the mean.  We use an identity covariance matrix."
   ]
  },
  {
   "cell_type": "code",
   "execution_count": 8,
   "metadata": {},
   "outputs": [
    {
     "data": {
      "text/plain": [
       "array([[1., 0., 0., 0.],\n",
       "       [0., 1., 0., 0.],\n",
       "       [0., 0., 1., 0.],\n",
       "       [0., 0., 0., 1.]])"
      ]
     },
     "execution_count": 8,
     "metadata": {},
     "output_type": "execute_result"
    }
   ],
   "source": [
    "np.eye(4)"
   ]
  },
  {
   "cell_type": "code",
   "execution_count": 9,
   "metadata": {},
   "outputs": [
    {
     "data": {
      "text/plain": [
       "array([-2.34898098, -0.30588893, -0.75487664,  0.70972261])"
      ]
     },
     "execution_count": 9,
     "metadata": {},
     "output_type": "execute_result"
    }
   ],
   "source": [
    "num_w = 4\n",
    "[np.random.normal(0, 1) for _ in range(num_w)]\n",
    "\n",
    "np.random.multivariate_normal([0, 0, 0, 0], np.eye(4))"
   ]
  },
  {
   "cell_type": "code",
   "execution_count": 10,
   "metadata": {},
   "outputs": [],
   "source": [
    "def sample_params(best):\n",
    "    p = {}\n",
    "    for k, v in best.items():\n",
    "        #  sample new parameters from a flat multivariate normal\n",
    "        flat = v.flatten()\n",
    "        new = np.random.multivariate_normal(flat, np.eye(flat.shape[0]), size=1)\n",
    "        #  reshape the weight or bias\n",
    "        p[k] = new.reshape(v.shape)\n",
    "    return p\n",
    "\n",
    "pop = [sample_params(best) for _ in range(pop_size)]"
   ]
  },
  {
   "cell_type": "code",
   "execution_count": 11,
   "metadata": {},
   "outputs": [
    {
     "name": "stdout",
     "output_type": "stream",
     "text": [
      "-1459.082061596898\n"
     ]
    }
   ],
   "source": [
    "results = list(map(partial(episode, env_id=env_id), pop))\n",
    "print(np.mean(results))"
   ]
  },
  {
   "cell_type": "markdown",
   "metadata": {},
   "source": [
    "## Practical\n",
    "\n",
    "Take the components above and put them together:\n",
    "- implement an evolutionary method using `map` (single core)\n",
    "- implement an evolutionary method using `pool.map` (multi-core)\n",
    "\n",
    "```\n",
    "initialize a population of parameters\n",
    "\n",
    "for generation in generation\n",
    "    test parameters in the environment\n",
    "    select the best\n",
    "    generate new parameters using the best\n",
    "```"
   ]
  },
  {
   "cell_type": "code",
   "execution_count": 13,
   "metadata": {},
   "outputs": [
    {
     "name": "stdout",
     "output_type": "stream",
     "text": [
      "-96.05617855834738\n",
      "saving to agents/MountainCarContinuous-v0/agent_0\n",
      "-1286.555787827189\n",
      "saving to agents/MountainCarContinuous-v0/agent_1\n"
     ]
    },
    {
     "name": "stderr",
     "output_type": "stream",
     "text": [
      "/Users/adam/.pyenv/versions/3.8.5/envs/general/lib/python3.8/site-packages/gym/envs/classic_control/continuous_mountain_car.py:157: DeprecationWarning: setting an array element with a sequence. This was supported in some cases where the elements are arrays with a single element. For example `np.array([1, np.array([2])], dtype=int)`. In the future this will raise the same ValueError as `np.array([1, [2]], dtype=int)`.\n",
      "  self.state = np.array([position, velocity], dtype=np.float32)\n"
     ]
    },
    {
     "name": "stdout",
     "output_type": "stream",
     "text": [
      "-3013.746492249873\n",
      "saving to agents/MountainCarContinuous-v0/agent_2\n",
      "-1910.8434185054357\n",
      "saving to agents/MountainCarContinuous-v0/agent_3\n",
      "-4561.310058945429\n",
      "saving to agents/MountainCarContinuous-v0/agent_4\n",
      "-5808.4653146792425\n",
      "saving to agents/MountainCarContinuous-v0/agent_5\n",
      "-1677.3546036664297\n",
      "saving to agents/MountainCarContinuous-v0/agent_6\n",
      "-2585.223913714975\n",
      "saving to agents/MountainCarContinuous-v0/agent_7\n",
      "-1758.8380225772728\n",
      "saving to agents/MountainCarContinuous-v0/agent_8\n",
      "-748.6910438321156\n",
      "saving to agents/MountainCarContinuous-v0/agent_9\n",
      "-2115.8641869362928\n",
      "saving to agents/MountainCarContinuous-v0/agent_10\n",
      "-2836.3429809222644\n",
      "saving to agents/MountainCarContinuous-v0/agent_11\n",
      "-4314.142912406582\n",
      "saving to agents/MountainCarContinuous-v0/agent_12\n",
      "-4601.559110345568\n",
      "saving to agents/MountainCarContinuous-v0/agent_13\n",
      "-4240.4373313317155\n",
      "saving to agents/MountainCarContinuous-v0/agent_14\n",
      "-5293.962920051354\n",
      "saving to agents/MountainCarContinuous-v0/agent_15\n",
      "-10417.819279246614\n",
      "saving to agents/MountainCarContinuous-v0/agent_16\n",
      "-2238.991954080477\n",
      "saving to agents/MountainCarContinuous-v0/agent_17\n",
      "-1318.3297264037396\n",
      "saving to agents/MountainCarContinuous-v0/agent_18\n",
      "-15426.488074913563\n",
      "saving to agents/MountainCarContinuous-v0/agent_19\n",
      "-2619.5327765587203\n",
      "saving to agents/MountainCarContinuous-v0/agent_20\n",
      "-11441.92192818744\n",
      "saving to agents/MountainCarContinuous-v0/agent_21\n",
      "-6851.361320824609\n",
      "saving to agents/MountainCarContinuous-v0/agent_22\n",
      "-1990.7235648440885\n",
      "saving to agents/MountainCarContinuous-v0/agent_23\n",
      "-5005.241026053338\n",
      "saving to agents/MountainCarContinuous-v0/agent_24\n",
      "-5459.019959008745\n",
      "saving to agents/MountainCarContinuous-v0/agent_25\n",
      "-3862.2251939177704\n",
      "saving to agents/MountainCarContinuous-v0/agent_26\n",
      "-2528.1855492081986\n",
      "saving to agents/MountainCarContinuous-v0/agent_27\n",
      "-3978.9043447428558\n",
      "saving to agents/MountainCarContinuous-v0/agent_28\n",
      "-12391.476596074353\n",
      "saving to agents/MountainCarContinuous-v0/agent_29\n",
      "-18482.89220346677\n",
      "saving to agents/MountainCarContinuous-v0/agent_30\n",
      "-2552.603444580269\n",
      "saving to agents/MountainCarContinuous-v0/agent_31\n",
      "-9228.516540253911\n",
      "saving to agents/MountainCarContinuous-v0/agent_32\n",
      "-12177.095778102044\n",
      "saving to agents/MountainCarContinuous-v0/agent_33\n",
      "-15906.272258431169\n",
      "saving to agents/MountainCarContinuous-v0/agent_34\n",
      "-2766.498219669521\n",
      "saving to agents/MountainCarContinuous-v0/agent_35\n",
      "-271.8664955524776\n",
      "saving to agents/MountainCarContinuous-v0/agent_36\n",
      "-100.38201048583736\n",
      "saving to agents/MountainCarContinuous-v0/agent_37\n",
      "-106.80394357606009\n",
      "saving to agents/MountainCarContinuous-v0/agent_38\n",
      "-430.4118805979623\n",
      "saving to agents/MountainCarContinuous-v0/agent_39\n",
      "-208.2132523906701\n",
      "saving to agents/MountainCarContinuous-v0/agent_40\n",
      "-1087.3110872997236\n",
      "saving to agents/MountainCarContinuous-v0/agent_41\n",
      "-3292.2535043964303\n",
      "saving to agents/MountainCarContinuous-v0/agent_42\n",
      "-4840.230784935945\n",
      "saving to agents/MountainCarContinuous-v0/agent_43\n",
      "-2958.5881309498977\n",
      "saving to agents/MountainCarContinuous-v0/agent_44\n",
      "-1961.0020838754897\n",
      "saving to agents/MountainCarContinuous-v0/agent_45\n",
      "-2122.329557219149\n",
      "saving to agents/MountainCarContinuous-v0/agent_46\n",
      "-11435.860100563072\n",
      "saving to agents/MountainCarContinuous-v0/agent_47\n",
      "-1791.8286559690364\n",
      "saving to agents/MountainCarContinuous-v0/agent_48\n",
      "-12394.408947183903\n",
      "saving to agents/MountainCarContinuous-v0/agent_49\n",
      "-14970.938704061395\n",
      "saving to agents/MountainCarContinuous-v0/agent_50\n",
      "-5904.557236850782\n",
      "saving to agents/MountainCarContinuous-v0/agent_51\n",
      "-8076.523813365675\n",
      "saving to agents/MountainCarContinuous-v0/agent_52\n",
      "-3142.533300590513\n",
      "saving to agents/MountainCarContinuous-v0/agent_53\n",
      "-9131.087424775063\n",
      "saving to agents/MountainCarContinuous-v0/agent_54\n",
      "-2508.2938020388096\n",
      "saving to agents/MountainCarContinuous-v0/agent_55\n",
      "-7985.256740744462\n",
      "saving to agents/MountainCarContinuous-v0/agent_56\n",
      "-9035.282164872066\n",
      "saving to agents/MountainCarContinuous-v0/agent_57\n",
      "-11961.00056775017\n",
      "saving to agents/MountainCarContinuous-v0/agent_58\n",
      "-9979.978818259304\n",
      "saving to agents/MountainCarContinuous-v0/agent_59\n",
      "-4248.149257429968\n",
      "saving to agents/MountainCarContinuous-v0/agent_60\n",
      "-81.29239331378697\n",
      "saving to agents/MountainCarContinuous-v0/agent_61\n",
      "-832.5574856028761\n",
      "saving to agents/MountainCarContinuous-v0/agent_62\n",
      "-2192.827355995675\n",
      "saving to agents/MountainCarContinuous-v0/agent_63\n"
     ]
    }
   ],
   "source": [
    "generations = 64\n",
    "pop_size = 32\n",
    "\n",
    "#  cartpole broken\n",
    "env_id = 'CartPole-v0'\n",
    "env_id = 'MountainCarContinuous-v0'\n",
    "pop = [initialize_parameters(i_size, h_size, o_size) for _ in range(pop_size)]\n",
    "for generation in range(generations):\n",
    "    #  test\n",
    "    results = list(map(partial(episode, env_id=env_id), pop))\n",
    "    print(np.mean(results))\n",
    "    #  select\n",
    "    best = pop[np.argmax(results)]\n",
    "    pop = [sample_params(best) for _ in range(pop_size)]\n",
    "    save_params(best, env_id, agent_id=generation)"
   ]
  },
  {
   "cell_type": "code",
   "execution_count": null,
   "metadata": {},
   "outputs": [],
   "source": []
  }
 ],
 "metadata": {
  "kernelspec": {
   "display_name": "Python 3",
   "language": "python",
   "name": "python3"
  },
  "language_info": {
   "codemirror_mode": {
    "name": "ipython",
    "version": 3
   },
   "file_extension": ".py",
   "mimetype": "text/x-python",
   "name": "python",
   "nbconvert_exporter": "python",
   "pygments_lexer": "ipython3",
   "version": "3.8.5"
  }
 },
 "nbformat": 4,
 "nbformat_minor": 4
}

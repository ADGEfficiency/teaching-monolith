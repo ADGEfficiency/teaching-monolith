{
 "cells": [
  {
   "cell_type": "markdown",
   "metadata": {},
   "source": [
    "## What is Python\n",
    "\n",
    "- dynamic / weakly typed\n",
    "- interpreted\n",
    "- object oriented\n",
    "- open source\n",
    "- wide range of use cases\n",
    "\n",
    "## Guido van Rossum\n",
    "\n",
    "<img src=\"../assets/guido.jpeg\" alt=\"drawing\" width=\"300\"/>\n",
    "\n",
    "Python was named after Monty Python - see the [Argument Clinic](https://youtu.be/xpAvcGcEc0k?t=84) (my favourite Python skit).\n",
    "\n",
    "For more on the development of Python:\n",
    "- [The A-Z of Programming Languages](https://www.computerworld.com.au/article/255835/a-z_programming_languages_python/)\n",
    "- [Lex Fridman interview](https://www.youtube.com/watch?v=ghwaIiE3Nd8)\n",
    "\n",
    "## Why Python\n",
    "\n",
    "The motivation behind Python is **programmer productivity**:\n",
    "\n",
    "> So I set out to come up with a language that made programmers more productive, and if that meant that the programs would run a bit slower, well, that was an acceptable trade-off - Van Rossum\n",
    "\n",
    "Python is **not** the language of choice for applications where speed is the most important concern\n",
    "\n",
    "Python is the language of choice for data science - also popular with web developers\n",
    "\n",
    "Central to the language is the idea of being **pythonic**\n",
    "\n",
    "```python\n",
    "#  not pythonic\n",
    "for i in range(mylist_length):\n",
    "   do_something(mylist[i])\n",
    "\n",
    "#  pythonic\n",
    "for element in mylist:\n",
    "   do_something(element)\n",
    "```\n",
    "\n",
    "## The Zen of Python\n",
    "\n",
    "Python has a philosophy built into it:"
   ]
  },
  {
   "cell_type": "code",
   "execution_count": null,
   "metadata": {},
   "outputs": [],
   "source": [
    "import this"
   ]
  },
  {
   "cell_type": "markdown",
   "metadata": {},
   "source": [
    "## Running the Python interperter\n",
    "\n",
    "If you are using the recommended Jupyter Lab, then you can eaisly access a terminal in the same window as this notebook\n",
    "\n",
    "We can start an interactive Python **interpreter** session by typing the following \n",
    "\n",
    "```bash\n",
    "#  the $ indicates the command is run in a shell\n",
    "$ python\n",
    "```\n",
    "\n",
    "We can see where this Python executable is located on our machine using the bash program `which`:"
   ]
  },
  {
   "cell_type": "code",
   "execution_count": null,
   "metadata": {},
   "outputs": [],
   "source": [
    "#  use ! to run bash/shell code in the notebook directly\n",
    "!which python"
   ]
  },
  {
   "cell_type": "markdown",
   "metadata": {},
   "source": [
    "And what version of Python we are using by running Python with a command line argument:"
   ]
  },
  {
   "cell_type": "code",
   "execution_count": null,
   "metadata": {},
   "outputs": [],
   "source": [
    "#  use ! to run bash/shell code in the notebook directly\n",
    "!python --version"
   ]
  },
  {
   "cell_type": "markdown",
   "metadata": {},
   "source": [
    "# Python development environment\n",
    "\n",
    "## Which Python should I use?\n",
    "\n",
    "Use Python 3.6\n",
    "\n",
    "3.7 has f-strings, data classes - but not compatible with some data science libraries\n",
    "\n",
    "## System Python\n",
    "\n",
    "macOS and most Unix operating systems come with a version of Python installed by default. \n",
    "\n",
    "This is the **system Python**, and is used by the OS for some tasks.  You want to avoid using this - breaking this can be painful.  \n",
    "\n",
    "Keep your system Python as clean as possible.\n",
    "\n",
    "You can do this using a **virtual environment**.  \n",
    "\n",
    "## Virtual environments\n",
    "\n",
    "Virtual environments are ignored by most beginners - using them is part of becoming an intermediate level Python programmer.  It is a best practice.\n",
    "\n",
    "Idea = it is cheaper and simpler (at least in 2018) to copy the whole Python installation and to customise it than to try to manage a single installation that satisfies all the requirements. It’s the same advantage we have when using virtual machines, but on a smaller scale.\n",
    "\n",
    "A virtual environment allows you to **isolate** different installations of Python\n",
    "- a directory (with many subdirectories) that mirrors a Python installation like the one that you can find in your operating system\n",
    "\n",
    "Makes it easy access to different installations of Python with different packages\n",
    "- managing fast moving libraries like TensorFlow, pandas\n",
    "- reproducibility\n",
    "\n",
    "Using Python virtual environments (usually one per project) is **computational hygiene**.\n",
    "\n",
    "```bash\n",
    "#  create a new environment called dsr\n",
    "$ conda create --name dsr python=3.6\n",
    "\n",
    "#  activate the dsr environment\n",
    "$ source activate dsr\n",
    "```\n",
    "\n",
    "## Anaconda\n",
    "\n",
    "A distribution of Python ([installers here](https://www.anaconda.com/distribution/)) for data science\n",
    "- precompiles a lot of the C code used in libraries like `numpy`\n",
    "\n",
    "Also has a **virtual environment manager**\n",
    "\n",
    "```bash\n",
    "$ conda info —envs\n",
    "\n",
    "$ conda create --name dsr python=3.6\n",
    "\n",
    "$ conda env remove -n dsr\n",
    "```\n",
    "\n",
    "## iPython\n",
    "\n",
    "IPython = Interactive Python \n",
    "- command shell for interactive computing\n",
    "- IPython is what runs in Jupyter\n",
    "\n",
    "We can use `?` to see infomation about Python objects:"
   ]
  },
  {
   "cell_type": "markdown",
   "metadata": {},
   "source": [
    "Two `??` to see the source:"
   ]
  },
  {
   "cell_type": "code",
   "execution_count": null,
   "metadata": {},
   "outputs": [],
   "source": [
    "def example_func():\n",
    "    \"\"\" \n",
    "    My docstring\n",
    "    \"\"\"\n",
    "    print('')\n",
    "\n",
    "example_func?"
   ]
  },
  {
   "cell_type": "code",
   "execution_count": null,
   "metadata": {},
   "outputs": [],
   "source": [
    "example_func??"
   ]
  },
  {
   "cell_type": "markdown",
   "metadata": {},
   "source": [
    "\n"
   ]
  },
  {
   "cell_type": "markdown",
   "metadata": {},
   "source": [
    "## Built-in functions\n",
    "\n",
    "The Python interpreter has a number of functions and types built into it that are always available - [see the documentation for a complete list](https://docs.python.org/3/library/functions.html)\n",
    "\n",
    "- `len`\n",
    "- `any`\n",
    "- `all`\n",
    "- `reversed`\n",
    "- `range`\n",
    "\n",
    "## dir()\n",
    "\n",
    "See your current **name space** using the Python builtin `dir()`"
   ]
  },
  {
   "cell_type": "code",
   "execution_count": null,
   "metadata": {},
   "outputs": [],
   "source": [
    "dir()"
   ]
  },
  {
   "cell_type": "markdown",
   "metadata": {},
   "source": [
    "We can also use `dir` to see what *methods* and *attributes* an instance an object has.\n",
    "\n",
    "Let's look at the `dir` of a `float` object:"
   ]
  },
  {
   "cell_type": "code",
   "execution_count": null,
   "metadata": {},
   "outputs": [],
   "source": [
    "dir(float(64))"
   ]
  },
  {
   "cell_type": "markdown",
   "metadata": {},
   "source": [
    "And the last five:"
   ]
  },
  {
   "cell_type": "markdown",
   "metadata": {},
   "source": [
    "Type, value, ref count, garbage count"
   ]
  },
  {
   "cell_type": "markdown",
   "metadata": {},
   "source": [
    "## Primitives - numbers"
   ]
  },
  {
   "cell_type": "code",
   "execution_count": null,
   "metadata": {},
   "outputs": [],
   "source": [
    "float(16)"
   ]
  },
  {
   "cell_type": "code",
   "execution_count": null,
   "metadata": {},
   "outputs": [],
   "source": [
    "int(16.0)"
   ]
  },
  {
   "cell_type": "markdown",
   "metadata": {},
   "source": [
    "## Primitives - booleans"
   ]
  },
  {
   "cell_type": "code",
   "execution_count": null,
   "metadata": {},
   "outputs": [],
   "source": [
    "True"
   ]
  },
  {
   "cell_type": "code",
   "execution_count": null,
   "metadata": {},
   "outputs": [],
   "source": [
    "False"
   ]
  },
  {
   "cell_type": "markdown",
   "metadata": {},
   "source": [
    "Truthy and Falsy = values which are evaluated to `True` or `False`"
   ]
  },
  {
   "cell_type": "code",
   "execution_count": null,
   "metadata": {},
   "outputs": [],
   "source": [
    "bool(8)"
   ]
  },
  {
   "cell_type": "code",
   "execution_count": null,
   "metadata": {},
   "outputs": [],
   "source": [
    "bool(0)"
   ]
  },
  {
   "cell_type": "code",
   "execution_count": null,
   "metadata": {},
   "outputs": [],
   "source": [
    "bool(None)"
   ]
  },
  {
   "cell_type": "markdown",
   "metadata": {},
   "source": [
    "## Conditionals"
   ]
  },
  {
   "cell_type": "code",
   "execution_count": null,
   "metadata": {},
   "outputs": [],
   "source": [
    "import random\n",
    "\n",
    "c1 = random.randint(0, 1)\n",
    "c2 = random.randint(0, 1)\n",
    "\n",
    "if c1:\n",
    "    print('c1')\n",
    "    \n",
    "elif c2:\n",
    "    print('not c1, c2')\n",
    "    \n",
    "else:\n",
    "    print('not c1, not c2')"
   ]
  },
  {
   "cell_type": "markdown",
   "metadata": {},
   "source": [
    "## Comparisons"
   ]
  },
  {
   "cell_type": "code",
   "execution_count": null,
   "metadata": {},
   "outputs": [],
   "source": [
    "5 == 6"
   ]
  },
  {
   "cell_type": "code",
   "execution_count": null,
   "metadata": {},
   "outputs": [],
   "source": [
    "5 == 3 + 2"
   ]
  },
  {
   "cell_type": "code",
   "execution_count": null,
   "metadata": {},
   "outputs": [],
   "source": [
    "x = 1\n",
    "y = 2\n",
    "\n",
    "x == y  # Produce True if ... x is equal to y\n",
    "x != y  # ... x is not equal to y\n",
    "x > y   # ... x is greater than y\n",
    "x < y   # ... x is less than y\n",
    "x >= y  # ... x is greater than or equal to y\n",
    "x <= y  # ... x is less than or equal to y"
   ]
  },
  {
   "cell_type": "markdown",
   "metadata": {},
   "source": [
    "## Logical operators"
   ]
  },
  {
   "cell_type": "code",
   "execution_count": null,
   "metadata": {},
   "outputs": [],
   "source": [
    "True and False"
   ]
  },
  {
   "cell_type": "code",
   "execution_count": null,
   "metadata": {},
   "outputs": [],
   "source": [
    "True or False"
   ]
  },
  {
   "cell_type": "code",
   "execution_count": null,
   "metadata": {},
   "outputs": [],
   "source": [
    "not True"
   ]
  },
  {
   "cell_type": "code",
   "execution_count": null,
   "metadata": {},
   "outputs": [],
   "source": [
    "not False"
   ]
  },
  {
   "cell_type": "markdown",
   "metadata": {},
   "source": [
    "# Loops\n",
    "\n",
    "`for`"
   ]
  },
  {
   "cell_type": "code",
   "execution_count": null,
   "metadata": {},
   "outputs": [],
   "source": [
    "for item in range(3):\n",
    "    print(item)"
   ]
  },
  {
   "cell_type": "markdown",
   "metadata": {},
   "source": [
    "`while`\n",
    "\n",
    "A common pattern is to use a condition to break out of a loop:"
   ]
  },
  {
   "cell_type": "code",
   "execution_count": null,
   "metadata": {},
   "outputs": [],
   "source": [
    "done = False\n",
    "\n",
    "while not done:\n",
    "    done = True"
   ]
  },
  {
   "cell_type": "markdown",
   "metadata": {},
   "source": [
    "## Variables & objects\n",
    "\n",
    "In Python (unlike other languages) there is a difference between **objects** and **variables**:\n",
    "- object = the actual data in memory\n",
    "- variable = a label that refers to an object\n",
    "\n",
    "Objects have an identity, type and value.  Only the value changes over time.\n",
    "\n",
    "In Python, variables **refer** to objects.  They are labels for objects - not the object themselves.\n",
    "- one object can have many labels\n",
    "- one label = only one object\n",
    "\n",
    "Below we create two objects"
   ]
  },
  {
   "cell_type": "code",
   "execution_count": null,
   "metadata": {},
   "outputs": [],
   "source": [
    "first = [2, 4, 8]\n",
    "\n",
    "second = [2, 4, 8]"
   ]
  },
  {
   "cell_type": "markdown",
   "metadata": {},
   "source": [
    "We can use two different operators to compare these variables.\n",
    "\n",
    "The `==` operator checks if the two objects have the same values:"
   ]
  },
  {
   "cell_type": "code",
   "execution_count": null,
   "metadata": {},
   "outputs": [],
   "source": [
    "first == second"
   ]
  },
  {
   "cell_type": "markdown",
   "metadata": {},
   "source": [
    "The `is` operator checks whether both variables refer to the same object:"
   ]
  },
  {
   "cell_type": "code",
   "execution_count": null,
   "metadata": {},
   "outputs": [],
   "source": [
    "first is second"
   ]
  },
  {
   "cell_type": "code",
   "execution_count": null,
   "metadata": {},
   "outputs": [],
   "source": [
    "third = first\n",
    "\n",
    "first == third"
   ]
  },
  {
   "cell_type": "markdown",
   "metadata": {},
   "source": [
    "Under the hood Python is comparing the object's `id` - a unique value for each object:"
   ]
  },
  {
   "cell_type": "code",
   "execution_count": null,
   "metadata": {},
   "outputs": [],
   "source": [
    "id(first)"
   ]
  },
  {
   "cell_type": "markdown",
   "metadata": {},
   "source": [
    "Most of the time we only care about comparing values, meaning\n",
    "\n",
    "This behaviour can lead to strange effects:"
   ]
  },
  {
   "cell_type": "code",
   "execution_count": null,
   "metadata": {},
   "outputs": [],
   "source": [
    "third.append(16)\n",
    "\n",
    "first"
   ]
  }
 ],
 "metadata": {
  "kernelspec": {
   "display_name": "Python 3",
   "language": "python",
   "name": "python3"
  },
  "language_info": {
   "codemirror_mode": {
    "name": "ipython",
    "version": 3
   },
   "file_extension": ".py",
   "mimetype": "text/x-python",
   "name": "python",
   "nbconvert_exporter": "python",
   "pygments_lexer": "ipython3",
   "version": "3.6.8"
  }
 },
 "nbformat": 4,
 "nbformat_minor": 4
}

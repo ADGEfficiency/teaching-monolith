{
 "cells": [
  {
   "cell_type": "code",
   "execution_count": null,
   "metadata": {},
   "outputs": [],
   "source": [
    "import numpy as np\n",
    "import matplotlib.pyplot as plt\n",
    "import sklearn.datasets\n",
    "\n",
    "np.random.seed(0)"
   ]
  },
  {
   "cell_type": "code",
   "execution_count": null,
   "metadata": {},
   "outputs": [],
   "source": [
    "#  load a classification dataset from sklearn\n",
    "x, y = sklearn.datasets.make_moons(200, noise=0.20)\n",
    "plt.scatter(x[:,0], x[:,1], s=40, c=y, cmap=plt.cm.Spectral)"
   ]
  },
  {
   "cell_type": "code",
   "execution_count": null,
   "metadata": {},
   "outputs": [],
   "source": [
    "#  network architecture\n",
    "i_size = x.shape[1]\n",
    "h_size = 3\n",
    "o_size = 2\n",
    "\n",
    "#  hyperparameters\n",
    "#  learning rate\n",
    "lr = 0.01\n",
    "#  regularization\n",
    "reg = 0.01"
   ]
  },
  {
   "cell_type": "code",
   "execution_count": null,
   "metadata": {},
   "outputs": [],
   "source": [
    "#  sample weights from a normal distribution\n",
    "w0 = np.random.randn(i_size, h_size)\n",
    "b0 = np.zeros((1, h_size))\n",
    "\n",
    "w1 = np.random.randn(h_size, o_size)\n",
    "b1 = np.zeros((1, o_size))\n",
    "\n",
    "w = [w0, w1]\n",
    "b = [b0, b1]"
   ]
  },
  {
   "cell_type": "code",
   "execution_count": null,
   "metadata": {},
   "outputs": [],
   "source": [
    "#  work with a sample of data\n",
    "n_samples = 4\n",
    "sample_x, sample_y = x[:n_samples], y[:n_samples]"
   ]
  },
  {
   "cell_type": "code",
   "execution_count": null,
   "metadata": {},
   "outputs": [],
   "source": [
    "def forward(x, w, b):\n",
    "    #  input -> hidden\n",
    "    z0 = x.dot(w[0]) + b[0]\n",
    "    a0 = np.tanh(z0)\n",
    "\n",
    "    #  hidden -> output\n",
    "    z1 = a0.dot(w[1]) + b[1]\n",
    "\n",
    "    #  softmax\n",
    "    probs = np.exp(z1) / np.sum(np.exp(z1), axis=1, keepdims=True)\n",
    "    preds = np.argmax(probs, axis=1)\n",
    "    \n",
    "    return z0, a0, z1, probs, preds\n",
    "\n",
    "z0, a0, z1, probs, preds = forward(sample_x, w, b)"
   ]
  },
  {
   "cell_type": "code",
   "execution_count": null,
   "metadata": {},
   "outputs": [],
   "source": [
    "probs"
   ]
  },
  {
   "cell_type": "code",
   "execution_count": null,
   "metadata": {},
   "outputs": [],
   "source": [
    "preds"
   ]
  },
  {
   "cell_type": "code",
   "execution_count": null,
   "metadata": {},
   "outputs": [],
   "source": [
    "sample_y"
   ]
  },
  {
   "cell_type": "code",
   "execution_count": null,
   "metadata": {},
   "outputs": [],
   "source": [
    "def log_likelihood_loss(probs, y):\n",
    "    #  select probs for the correct classes\n",
    "    errors = probs[range(y.shape[0]), y]\n",
    "    log_probs = -np.log(errors)\n",
    "    loss = np.mean(log_probs)\n",
    "    return errors, log_probs, loss\n",
    "\n",
    "errors, log_probs, loss = log_likelihood_loss(probs, sample_y)\n",
    "loss"
   ]
  },
  {
   "cell_type": "code",
   "execution_count": null,
   "metadata": {},
   "outputs": [],
   "source": [
    "def backward(lr, reg, w, b, z0, a0, z1, probs, preds, y, x):\n",
    "    d2 = probs\n",
    "    d2[range(y.shape[0]), y] -= 1\n",
    "    dw1 = (a0.T).dot(d2)\n",
    "    db1 = d2\n",
    "    \n",
    "    d1 = d2.dot(w[1].T) * (1 - np.power(a0, 2))\n",
    "    dw0 = np.dot(x.T, d1)\n",
    "    db0 = d1\n",
    "\n",
    "    dw1 += reg * w1\n",
    "    dw0 += reg * w0\n",
    "\n",
    "    w[0] += -lr * dw0\n",
    "    b[0] += -lr * np.sum(db0, 0, keepdims=True)\n",
    "    w[1] += -lr * dw1\n",
    "    b[1] += -lr * np.sum(db1, 0, keepdims=True)\n",
    "    return w, b"
   ]
  },
  {
   "cell_type": "code",
   "execution_count": null,
   "metadata": {},
   "outputs": [],
   "source": [
    "hist = []\n",
    "for _ in range(100):\n",
    "    z0, a0, z1, probs, preds = forward(x, w, b)\n",
    "    hist.append(np.mean(log_likelihood_loss(probs, y)))\n",
    "    w, b = backward(lr, reg, w, b, z0, a0, z1, probs, preds, y, x)"
   ]
  },
  {
   "cell_type": "code",
   "execution_count": null,
   "metadata": {},
   "outputs": [],
   "source": [
    "z0, a0, z1, probs, preds = forward(x, w, b)"
   ]
  },
  {
   "cell_type": "code",
   "execution_count": null,
   "metadata": {},
   "outputs": [],
   "source": [
    "def plot_decision_boundary(pred_func):\n",
    "    # Set min and max values and give it some padding\n",
    "    x_min, x_max = X[:, 0].min() - .5, X[:, 0].max() + .5\n",
    "    y_min, y_max = X[:, 1].min() - .5, X[:, 1].max() + .5\n",
    "    h = 0.01\n",
    "    # Generate a grid of points with distance h between them\n",
    "    xx, yy = np.meshgrid(np.arange(x_min, x_max, h), np.arange(y_min, y_max, h))\n",
    "    # Predict the function value for the whole gid\n",
    "    Z = pred_func(np.c_[xx.ravel(), yy.ravel()])\n",
    "    Z = Z.reshape(xx.shape)\n",
    "    # Plot the contour and training examples\n",
    "    plt.contourf(xx, yy, Z, cmap=plt.cm.Spectral)\n",
    "    plt.scatter(X[:, 0], X[:, 1], c=y, cmap=plt.cm.Spectral)"
   ]
  },
  {
   "cell_type": "code",
   "execution_count": null,
   "metadata": {},
   "outputs": [],
   "source": [
    "#  these refer to the axes of features only - not feature and target\n",
    "x_min, x_max = x[:, 0].min() - .5, x[:, 0].max() + .5\n",
    "y_min, y_max = x[:, 1].min() - .5, x[:, 1].max() + .5\n",
    "\n",
    "h = 0.01\n",
    "\n",
    "xx, yy = np.meshgrid(np.arange(x_min, x_max, h), np.arange(y_min, y_max, h))\n",
    "\n",
    "z0, a0, z1, probs, preds = forward(np.c_[xx.ravel(), yy.ravel()], w, b)\n",
    "preds = preds.reshape(xx.shape)\n",
    "plt.contourf(xx, yy, preds, cmap=plt.cm.Spectral, alpha=0.2)\n",
    "plt.scatter(x[:, 0], x[:, 1], c=y, cmap=plt.cm.Spectral)"
   ]
  },
  {
   "cell_type": "code",
   "execution_count": null,
   "metadata": {},
   "outputs": [],
   "source": []
  }
 ],
 "metadata": {
  "kernelspec": {
   "display_name": "Python 3",
   "language": "python",
   "name": "python3"
  },
  "language_info": {
   "codemirror_mode": {
    "name": "ipython",
    "version": 3
   },
   "file_extension": ".py",
   "mimetype": "text/x-python",
   "name": "python",
   "nbconvert_exporter": "python",
   "pygments_lexer": "ipython3",
   "version": "3.7.2"
  }
 },
 "nbformat": 4,
 "nbformat_minor": 2
}

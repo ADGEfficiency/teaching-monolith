{
 "cells": [
  {
   "cell_type": "code",
   "execution_count": 1,
   "metadata": {},
   "outputs": [],
   "source": [
    "import matplotlib.pyplot as plt\n",
    "import numpy as np\n",
    "import pandas as pd\n",
    "from scipy.stats import sem as scipy_standard_error\n",
    "\n",
    "from common import make_cdf, percentile_rank, load_forest_fires\n",
    "\n",
    "%matplotlib inline"
   ]
  },
  {
   "cell_type": "markdown",
   "metadata": {},
   "source": [
    "#  Estimation\n",
    "\n",
    "See Chapter 8 of [Think Stats 2nd Edition](https://greenteapress.com/wp/think-stats-2e/), Chapter 2 of [Practical Statistics for Data Scientists](https://www.oreilly.com/library/view/practical-statistics-for/9781491952955/).\n",
    "\n",
    "## What do we want to estimate?\n",
    "\n",
    "[Estimator - Wikipedia](https://en.wikipedia.org/wiki/Estimator)\n",
    "\n",
    "We want to **estimate statistics**.  Why?  Statistics allow us to measure, model and compare.\n",
    "\n",
    "A statistic is a summary of the data\n",
    "- mean\n",
    "- min\n",
    "- max\n",
    "- variance\n",
    "\n",
    "## How can we estimate?\n",
    "\n",
    "By sampling!\n",
    "- we will never have the entire population\n",
    "\n",
    "An (insufficient) definition of statistics = making inference from samples to populations\n",
    "\n",
    "We often make use of statistics drawn from samples\n",
    "- these statistics will be different than the statistics of the entire population\n",
    "\n",
    "The distribution of a given statistic is known as a **sampling distribution**\n",
    "\n",
    "## Three sources of error in estimation\n",
    "\n",
    "How can we make mistakes in estimating statistics?\n",
    "\n",
    "**Sampling bias**\n",
    "- samples having different probabilities than others\n",
    "- non-random sampling\n",
    "\n",
    "**Sampling error**\n",
    "- arises from using statistics of a subset of a larger population \n",
    "- usually impossible to measure exactly\n",
    "\n",
    "**Measurement error**\n",
    "- difference between measurement & true value\n",
    "\n",
    "## Let's talk about bias\n",
    "\n",
    "The effect of sample bias is simple = our sample will be different from the population.\n",
    "\n",
    "The causes of sample bias are more complex - because there are so many!  \n",
    "\n",
    "We can easily demonstrate one cause of sample bias:"
   ]
  },
  {
   "cell_type": "code",
   "execution_count": 2,
   "metadata": {},
   "outputs": [
    {
     "data": {
      "text/plain": [
       "'population mean 10.00 - biased sample mean 13.06'"
      ]
     },
     "execution_count": 2,
     "metadata": {},
     "output_type": "execute_result"
    }
   ],
   "source": [
    "population = np.random.normal(10, 3, 100000)\n",
    "\n",
    "biased = [x for x in population if x > 11]\n",
    "\n",
    "'population mean {:.2f} - biased sample mean {:.2f}'.format(np.mean(population), np.mean(biased))"
   ]
  },
  {
   "cell_type": "markdown",
   "metadata": {},
   "source": [
    "Note that if our sampling error is random, we don't see the bias:"
   ]
  },
  {
   "cell_type": "code",
   "execution_count": 3,
   "metadata": {},
   "outputs": [
    {
     "data": {
      "text/plain": [
       "'9.98'"
      ]
     },
     "execution_count": 3,
     "metadata": {},
     "output_type": "execute_result"
    }
   ],
   "source": [
    "data = []\n",
    "for x in population:\n",
    "    if np.random.uniform() > 0.5:\n",
    "        data.append(x)\n",
    "    else:\n",
    "        pass\n",
    "\n",
    "'{:.2f}'.format(np.mean(data))"
   ]
  },
  {
   "cell_type": "markdown",
   "metadata": {},
   "source": [
    "Bias is **systematic error**\n",
    "\n",
    "One form of bias a data scientist needs to be aware of is **selection bias**.  There are many reasons why this can happen:\n",
    "- vast search = asking many different questions / training many different models\n",
    "- non-random sampling (aka sampling bias)\n",
    "- cherry picking data\n",
    "- stopping an experiment based on the result\n",
    "- after the fact selection of results\n",
    "\n",
    "Many of the mistakes above are caused directly by the data scientist :) \n",
    "\n",
    "A particular case of selection bias is **regression to the mean**\n",
    "- select a high performing athlete based on performance that is somewhat due to luck\n",
    "- later on the luck disappears!\n",
    "\n",
    "## Sampling error\n",
    "\n",
    "Above we talked about sampling bias - now lets talk about **sampling error**\n",
    "\n",
    "We can can estimate the sampling error through simulation\n",
    "- we don't know the true statistics\n",
    "- lets instead use estimates from our small number of samples\n",
    "\n",
    "The question we are asking is\n",
    "- if the true stats were the same as the population stats\n",
    "- and we ran this experiment many times\n",
    "- how much would our estimated mean vary\n",
    "\n",
    "## Statistic sampling distributions\n",
    "\n",
    "The distribution of a statistic is known as a **sampling distribution**\n",
    "- is not the data distribution!\n",
    "\n",
    "The question we are asking is - how do statistics vary with sampling?\n",
    "- we want to know how variable our statistics are - their **sampling variability**\n",
    "\n",
    "The **sampling distribution** of a statistic shows us how a sample statistic varies\n",
    "\n",
    "## Estimating the sampling distribution using computation\n",
    "\n",
    "There is an entire literature in traditional statistics that **developed under constraints of data & computation**.  Normal approximation methods such as t-distributions rely on the Central Limit Theorem to calculate sampling distributions.\n",
    "\n",
    "A key tool in computational statistics is **bootstrap sampling**.\n",
    "- classic statistics was developed in an era of expensive compute\n",
    "- we live in an era where compute is cheap - let's use it\n",
    "\n",
    "<img src=\"assets/ram_slack.jpg\" alt=\"\" width=\"350\"/>\n",
    "\n",
    "## Boostrap sampling\n",
    "\n",
    "Creating new datasets by **sampling with replacement**\n",
    "- contrast to shuffling / permutation sampling (without replacement)\n",
    "- sampling without replacement = probability of sampling a sample is unchanged\n",
    "\n",
    "Bootstrap samples \n",
    "- are always available\n",
    "- require no assumption about the sample statistic being normally distributed\n",
    "- can be widely applied\n",
    "\n",
    "The boostrap does not compensate for a small dataset\n",
    "\n",
    "## Standard error\n",
    "\n",
    "A metric that sums up **how variable a sampling distribution is**.  \n",
    "\n",
    "It is estimated using \n",
    "- the standard deviation of the samples\n",
    "- the sample size\n",
    "\n",
    "The standard error is\n",
    "- the expected error\n",
    "- describes variability in the estimate"
   ]
  },
  {
   "cell_type": "code",
   "execution_count": 4,
   "metadata": {},
   "outputs": [
    {
     "data": {
      "text/plain": [
       "0.015751271626773394"
      ]
     },
     "execution_count": 4,
     "metadata": {},
     "output_type": "execute_result"
    }
   ],
   "source": [
    "d = np.random.normal(10, 5, 100000)\n",
    "\n",
    "np.testing.assert_allclose(scipy_standard_error(d), np.std(d) / np.power(len(d), 0.5), rtol=1e-05)\n",
    "\n",
    "np.std(d) / np.power(len(d), 0.5)"
   ]
  },
  {
   "cell_type": "markdown",
   "metadata": {},
   "source": [
    "We can also take a computational approach to estimating standard (sampling?) error.  Before we do this, let's introduce a new dataset.\n",
    "\n",
    "## A new dataset (no more Iris!)\n",
    "\n",
    "http://archive.ics.uci.edu/ml/datasets/Forest+Fires"
   ]
  },
  {
   "cell_type": "code",
   "execution_count": 5,
   "metadata": {},
   "outputs": [
    {
     "name": "stdout",
     "output_type": "stream",
     "text": [
      "Downloading forest fires dataset - the aim is to predict the burned area of forest fires, in the northeast region of Portugal, by using meteorological and other data\n",
      "\n",
      "data.shape = (517, 13)\n",
      "columns ['X', 'Y', 'month', 'day', 'FFMC', 'DMC', 'DC', 'ISI', 'temp', 'RH', 'wind', 'rain', 'area']\n"
     ]
    },
    {
     "data": {
      "text/plain": [
       "(517, 13)"
      ]
     },
     "execution_count": 5,
     "metadata": {},
     "output_type": "execute_result"
    }
   ],
   "source": [
    "data = load_forest_fires()\n",
    "\n",
    "data.shape"
   ]
  },
  {
   "cell_type": "code",
   "execution_count": 6,
   "metadata": {},
   "outputs": [
    {
     "data": {
      "text/html": [
       "<div>\n",
       "<style scoped>\n",
       "    .dataframe tbody tr th:only-of-type {\n",
       "        vertical-align: middle;\n",
       "    }\n",
       "\n",
       "    .dataframe tbody tr th {\n",
       "        vertical-align: top;\n",
       "    }\n",
       "\n",
       "    .dataframe thead th {\n",
       "        text-align: right;\n",
       "    }\n",
       "</style>\n",
       "<table border=\"1\" class=\"dataframe\">\n",
       "  <thead>\n",
       "    <tr style=\"text-align: right;\">\n",
       "      <th></th>\n",
       "      <th>X</th>\n",
       "      <th>Y</th>\n",
       "      <th>month</th>\n",
       "      <th>day</th>\n",
       "      <th>FFMC</th>\n",
       "      <th>DMC</th>\n",
       "      <th>DC</th>\n",
       "      <th>ISI</th>\n",
       "      <th>temp</th>\n",
       "      <th>RH</th>\n",
       "      <th>wind</th>\n",
       "      <th>rain</th>\n",
       "      <th>area</th>\n",
       "    </tr>\n",
       "  </thead>\n",
       "  <tbody>\n",
       "    <tr>\n",
       "      <th>0</th>\n",
       "      <td>7</td>\n",
       "      <td>5</td>\n",
       "      <td>mar</td>\n",
       "      <td>fri</td>\n",
       "      <td>86.2</td>\n",
       "      <td>26.2</td>\n",
       "      <td>94.3</td>\n",
       "      <td>5.1</td>\n",
       "      <td>8.2</td>\n",
       "      <td>51</td>\n",
       "      <td>6.7</td>\n",
       "      <td>0.0</td>\n",
       "      <td>0.0</td>\n",
       "    </tr>\n",
       "    <tr>\n",
       "      <th>1</th>\n",
       "      <td>7</td>\n",
       "      <td>4</td>\n",
       "      <td>oct</td>\n",
       "      <td>tue</td>\n",
       "      <td>90.6</td>\n",
       "      <td>35.4</td>\n",
       "      <td>669.1</td>\n",
       "      <td>6.7</td>\n",
       "      <td>18.0</td>\n",
       "      <td>33</td>\n",
       "      <td>0.9</td>\n",
       "      <td>0.0</td>\n",
       "      <td>0.0</td>\n",
       "    </tr>\n",
       "  </tbody>\n",
       "</table>\n",
       "</div>"
      ],
      "text/plain": [
       "   X  Y month  day  FFMC   DMC     DC  ISI  temp  RH  wind  rain  area\n",
       "0  7  5   mar  fri  86.2  26.2   94.3  5.1   8.2  51   6.7   0.0   0.0\n",
       "1  7  4   oct  tue  90.6  35.4  669.1  6.7  18.0  33   0.9   0.0   0.0"
      ]
     },
     "execution_count": 6,
     "metadata": {},
     "output_type": "execute_result"
    }
   ],
   "source": [
    "data.head(2)"
   ]
  },
  {
   "cell_type": "markdown",
   "metadata": {},
   "source": [
    "Let's first look at the **data distribution** of a feature:"
   ]
  },
  {
   "cell_type": "code",
   "execution_count": 7,
   "metadata": {},
   "outputs": [
    {
     "data": {
      "image/png": "[encoded data removed]",
      "text/plain": [
       "<Figure size 432x288 with 1 Axes>"
      ]
     },
     "metadata": {
      "needs_background": "light"
     },
     "output_type": "display_data"
    }
   ],
   "source": [
    "_ = data.plot(y='temp', kind='hist')"
   ]
  },
  {
   "cell_type": "markdown",
   "metadata": {},
   "source": [
    "And some of the statistics of this data:"
   ]
  },
  {
   "cell_type": "code",
   "execution_count": 8,
   "metadata": {},
   "outputs": [
    {
     "data": {
      "text/plain": [
       "count    517.000000\n",
       "mean      44.288201\n",
       "std       16.317469\n",
       "min       15.000000\n",
       "25%       33.000000\n",
       "50%       42.000000\n",
       "75%       53.000000\n",
       "max      100.000000\n",
       "Name: RH, dtype: float64"
      ]
     },
     "execution_count": 8,
     "metadata": {},
     "output_type": "execute_result"
    }
   ],
   "source": [
    "data.loc[:, 'RH'].describe()"
   ]
  },
  {
   "cell_type": "markdown",
   "metadata": {},
   "source": [
    "## Practical\n",
    "[Sampling distribution simulation](http://onlinestatbook.com/stat_sim/sampling_dist/index.html)\n",
    "\n",
    "Take a computational approach to estimating sampling distribution:\n",
    "1. sample a bootstrap of `n` samples\n",
    "2. record the sample mean of the `n` samples\n",
    "3. repeat steps 1 & 2 `m` times - each time reporting the sample mean\n",
    "4. produce a histogram of the sample means"
   ]
  },
  {
   "cell_type": "markdown",
   "metadata": {},
   "source": [
    "## Confidence intervals\n",
    "\n",
    "A confidence interval = measurement of error in a sample estimate\n",
    "- same purpose as histograms, boxplots & standard errors\n",
    "\n",
    "The confidence interval can be thought of as\n",
    "- the interval that encloses X % of the bootstrap sampling distribution\n",
    "- an X % CI should, on average, contain similar sample estimates X % of the time\n",
    "\n",
    "The general method for generating a boostrap confidence interval:\n",
    "1. draw a bootstrap sample\n",
    "2. record the statistic (mean, var etc)\n",
    "3. repeat 1 & 2 many times\n",
    "4. trim (100-x) / 2 % from either end of the distribution - the end points are now your confidence intervals"
   ]
  },
  {
   "cell_type": "code",
   "execution_count": 9,
   "metadata": {},
   "outputs": [],
   "source": [
    "data = pd.read_csv('./data/forestfires.csv')\n",
    "col = 'temp'\n",
    "\n",
    "n_samples = 1000\n",
    "sample_size = 1000\n",
    "\n",
    "statistics = []\n",
    "for _ in range(n_samples):\n",
    "    idxs = np.random.randint(0, data.shape[0], sample_size)\n",
    "    sample_mean = np.mean(data.loc[idxs, col])\n",
    "    statistics.append(sample_mean)"
   ]
  },
  {
   "cell_type": "code",
   "execution_count": 10,
   "metadata": {},
   "outputs": [
    {
     "data": {
      "text/plain": [
       "12"
      ]
     },
     "execution_count": 10,
     "metadata": {},
     "output_type": "execute_result"
    }
   ],
   "source": [
    "statistics = sorted(statistics)\n",
    "\n",
    "interval = 0.95\n",
    "split = int(data.shape[0] * (1 - interval) / 2)\n",
    "split"
   ]
  },
  {
   "cell_type": "code",
   "execution_count": 11,
   "metadata": {},
   "outputs": [
    {
     "data": {
      "text/plain": [
       "(18.4414, 19.338399999999996)"
      ]
     },
     "execution_count": 11,
     "metadata": {},
     "output_type": "execute_result"
    }
   ],
   "source": [
    "start, end = statistics[split], statistics[-split]\n",
    "\n",
    "start, end"
   ]
  },
  {
   "cell_type": "code",
   "execution_count": 12,
   "metadata": {},
   "outputs": [
    {
     "data": {
      "text/plain": [
       "<matplotlib.lines.Line2D at 0x1178a5908>"
      ]
     },
     "execution_count": 12,
     "metadata": {},
     "output_type": "execute_result"
    },
    {
     "data": {
      "image/png": "[encoded data removed]",
      "text/plain": [
       "<Figure size 432x288 with 1 Axes>"
      ]
     },
     "metadata": {
      "needs_background": "light"
     },
     "output_type": "display_data"
    }
   ],
   "source": [
    "f, ax = plt.subplots()\n",
    "ax.hist(statistics)\n",
    "ax.axvline(start, color='red')\n",
    "ax.axvline(end, color='red')"
   ]
  },
  {
   "cell_type": "markdown",
   "metadata": {},
   "source": [
    "We can also use a cumulative density function (CDF) to \n",
    "- visualize the distribution of sample means\n",
    "- calculate the confidence intervals"
   ]
  },
  {
   "cell_type": "code",
   "execution_count": 13,
   "metadata": {},
   "outputs": [
    {
     "data": {
      "text/plain": [
       "<matplotlib.lines.Line2D at 0x119e5d7f0>"
      ]
     },
     "execution_count": 13,
     "metadata": {},
     "output_type": "execute_result"
    },
    {
     "data": {
      "image/png": "[encoded data removed]",
      "text/plain": [
       "<Figure size 432x288 with 1 Axes>"
      ]
     },
     "metadata": {
      "needs_background": "light"
     },
     "output_type": "display_data"
    }
   ],
   "source": [
    "y, x = zip(*make_cdf(statistics))\n",
    "\n",
    "y = np.array(y)\n",
    "x = np.array(x)\n",
    "\n",
    "start = x[y == 0.05]\n",
    "end = x[y == 0.95]\n",
    "\n",
    "f, ax = plt.subplots()\n",
    "ax.plot(x, y)\n",
    "ax.axvline(start, color='red')\n",
    "ax.axvline(end, color='red')"
   ]
  },
  {
   "cell_type": "code",
   "execution_count": 14,
   "metadata": {},
   "outputs": [
    {
     "name": "stdout",
     "output_type": "stream",
     "text": [
      "[18.5645] [19.1951]\n"
     ]
    }
   ],
   "source": [
    "print(start, end)"
   ]
  },
  {
   "cell_type": "markdown",
   "metadata": {},
   "source": [
    "## Quiz\n",
    "\n",
    "[Chapter 12 of Statistics Done Wrong - Alex Reinhart](https://www.statisticsdonewrong.com/)\n",
    "\n",
    "As the sample size increases, what happens to the\n",
    "- standard error\n",
    "- standard deviation\n",
    "\n",
    "What sources of error are we not accounting for with these two statistics?\n",
    "\n",
    "Which of the three sources of error (sampling error, sampling bias or measurement) is pseudoreplication?\n"
   ]
  }
 ],
 "metadata": {
  "kernelspec": {
   "display_name": "Python 3",
   "language": "python",
   "name": "python3"
  },
  "language_info": {
   "codemirror_mode": {
    "name": "ipython",
    "version": 3
   },
   "file_extension": ".py",
   "mimetype": "text/x-python",
   "name": "python",
   "nbconvert_exporter": "python",
   "pygments_lexer": "ipython3",
   "version": "3.6.4"
  }
 },
 "nbformat": 4,
 "nbformat_minor": 4
}

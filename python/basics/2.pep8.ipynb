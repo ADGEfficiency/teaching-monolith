{
 "cells": [
  {
   "cell_type": "markdown",
   "metadata": {},
   "source": [
    "## Code style\n",
    "\n",
    "> Programs must be written for people to read, and only incidentally for machines to execute - Harold Abelson\n",
    "\n",
    "**Code style matters**\n",
    "\n",
    "Poor code style\n",
    "- looks careless (to experienced programmers)\n",
    "- screams junior\n",
    "\n",
    "## Whitespace indentation\n",
    "\n",
    "Python uses indentation (ie whitespace). Other languages (such as Java and C++) use `;` to organize code.\n",
    "\n",
    "Comments are lines beginning with `#`\n",
    "\n",
    "Spaces, not tabs\n",
    "- TAB is a character!\n",
    "- four spaces = one level of indentation\n",
    "\n",
    "## PEP 8\n",
    "\n",
    "PEP = Python Enhancement Proposal\n",
    "\n",
    "[Python style guide - PEP 8](https://www.python.org/dev/peps/pep-0008/)\n",
    "\n",
    "[Code Style - The Hitchhiker’s Guide to Python!](https://docs.python-guide.org/writing/style/)\n",
    "\n",
    "[Chapter 2 of Effective Python - Brett Slatkin](https://effectivepython.com/)\n",
    "\n",
    "Imports at the top of the `.py` file (each section in alphabetical order)\n",
    "- standard library\n",
    "- third party modules\n",
    "- your own modules\n",
    "\n",
    "Limits line length to 79 characters"
   ]
  },
  {
   "cell_type": "markdown",
   "metadata": {},
   "source": [
    "Put one—and only one—space before and after variable assignments:"
   ]
  },
  {
   "cell_type": "code",
   "execution_count": null,
   "metadata": {},
   "outputs": [],
   "source": [
    "#  poorly formatted\n",
    "sample=64\n",
    "\n",
    "#  PEP8\n",
    "sample = 64"
   ]
  },
  {
   "cell_type": "markdown",
   "metadata": {},
   "source": [
    "Don’t put spaces around list indexes:"
   ]
  },
  {
   "cell_type": "code",
   "execution_count": null,
   "metadata": {},
   "outputs": [],
   "source": [
    "#  poorly formatted\n",
    "data = [ 2, 4, 8 ]\n",
    "sample = data[ 1 ]\n",
    "\n",
    "#  PEP8\n",
    "data = [2, 4, 8]\n",
    "sample = data[1]"
   ]
  },
  {
   "cell_type": "markdown",
   "metadata": {},
   "source": [
    "Spaces around positional arguments in functions:"
   ]
  },
  {
   "cell_type": "code",
   "execution_count": null,
   "metadata": {},
   "outputs": [],
   "source": [
    "#  incorrect\n",
    "def f(x,y):\n",
    "    pass\n",
    "\n",
    "#  correct\n",
    "def f(x, y):\n",
    "    pass"
   ]
  },
  {
   "cell_type": "markdown",
   "metadata": {},
   "source": [
    "Don’t put spaces around function calls:"
   ]
  },
  {
   "cell_type": "code",
   "execution_count": null,
   "metadata": {},
   "outputs": [],
   "source": [
    "#  poorly formatted\n",
    "sample = sum( [2, 4, 8] )\n",
    "\n",
    "#  PEP8\n",
    "sample = sum([2, 4, 8])"
   ]
  },
  {
   "cell_type": "markdown",
   "metadata": {},
   "source": [
    "Don’t put spaces around keyword argument assignments:"
   ]
  },
  {
   "cell_type": "code",
   "execution_count": null,
   "metadata": {},
   "outputs": [],
   "source": [
    "#  incorrect\n",
    "sorted_data = sorted([2, 4, 8], reverse = True)\n",
    "\n",
    "#  correct\n",
    "sorted_data = sorted([2, 4, 8], reverse=True)"
   ]
  },
  {
   "cell_type": "markdown",
   "metadata": {},
   "source": [
    "Spaces around operators:"
   ]
  },
  {
   "cell_type": "code",
   "execution_count": null,
   "metadata": {},
   "outputs": [],
   "source": [
    "# not correct\n",
    "a = b+c\n",
    "\n",
    "# good\n",
    "a = b + c"
   ]
  },
  {
   "cell_type": "markdown",
   "metadata": {},
   "source": [
    "Naming styles"
   ]
  },
  {
   "cell_type": "code",
   "execution_count": null,
   "metadata": {},
   "outputs": [],
   "source": [
    "#  functions & variables\n",
    "variables_are_lower_case_underscore = 10\n",
    "\n",
    "def functions_are_lower_case_underscore():\n",
    "    pass\n",
    "\n",
    "#  classes\n",
    "class ClassesAreCamelCase:\n",
    "    pass\n",
    "\n",
    "#  intances of classes are lowercase\n",
    "word = ClassesAreCamelCase()"
   ]
  },
  {
   "cell_type": "markdown",
   "metadata": {},
   "source": [
    "## Practical\n",
    "\n",
    "Fix the code style below to be PEP8 compliant"
   ]
  },
  {
   "cell_type": "code",
   "execution_count": null,
   "metadata": {},
   "outputs": [],
   "source": [
    "def get_data(fold,seq_length): ## cnn only part\n",
    "    name='/home/adam/Documents/fold'+str(fold)+'_X.npy'\n",
    "    x = np.load(name)\n",
    "    name = '/home/adam/Documents/fold'+str(fold)+'_Y.npy'\n",
    "    y = np.load(name)\n",
    "    \n",
    "    b = a + x\n",
    "    \n",
    "    xx = np.array(np.split(x,x.shape[0]//3,axis = 0))\n",
    "    shuffle = np.random.permutation(len(xx))  \n",
    "    xx = xx[shuffle]\n",
    "    y = y[shuffle]\n",
    "    x= []\n",
    "    for i in range (len(xx)):\n",
    "        tmp = xx[i]\n",
    "        for j in np.arange(0, 30000, 3000):\n",
    "            x.append(tmp[:, j:j+3000])  \n",
    "    \n",
    "    yy = np.split(y,y.shape[0],axis = 0)\n",
    "    y=[]\n",
    "    for i in range (len(yy)):\n",
    "        tmp = yy[i]\n",
    "        for j in np.arange(0,30000,3000):\n",
    "            y.append(tmp[0][j])  \n",
    "\n",
    "    y=np.array(y)\n",
    "    y=OneHotEncoder(sparse=False).fit_transform(y.reshape(-1, 1))\n",
    "    x=np.split(np.array(x), len(x)//seq_length, axis=0)\n",
    "    y=np.split(np.array(y), len(y)//seq_length, axis=0)\n",
    "    # per_cat=np.sum(y,axis=0)\n",
    "    return np.array(x), np.array(y) \n",
    "\n",
    "\n",
    "class Model:\n",
    "    def __init__ (self):\n",
    "        self.m1 = cnn_model1()\n",
    "        self.m2 = cnn_model2()\n",
    "\n",
    "        \n",
    "def cnn_model1(name, rate, x_shaped):\n",
    "    input = Input(shape=x_shaped)\n",
    "    sum = 1 + 2\n",
    "    my_cnn = Conv2D(filters=64, kernel_size=(50,1), strides=(8,1), padding = \"same\", input_shape=x_shaped, activation=\"relu\")(input)\n",
    "    my_cnn = MaxPool2D(pool_size=(8,1), strides=(8,1), padding=\"same\")(my_cnn)\n",
    "    my_cnn = Dropout(rate=rate)(my_cnn)\n",
    "    for _ in range(3):\n",
    "        my_cnn = Conv2D(filters=40,kernel_size=(8,1),strides=(1,1), padding=\"same\", activation=\"relu\")(my_cnn)\n",
    "    my_cnn = MaxPool2D (pool_size=(4,1), strides=(4,1), padding=\"same\")(my_cnn)\n",
    "    my_cnn = Flatten()(my_cnn)\n",
    "    my_cnn = Model(inputs=input,outputs = my_cnn)\n",
    "\n",
    "    return my_cnn\n",
    "def cnn_model2(name,rate,x_shaped):\n",
    "    input = Input(shape=x_shaped)\n",
    "    my_cnn= TimeDistributed(input)\n",
    "    my_cnn = Conv2D(filters=64, kernel_size=(400,1), strides=(50,1), padding = \"same\", input_shape=x_shaped, activation=\"relu\")(input)\n",
    "    my_cnn = MaxPool2D(pool_size=(4,1), strides=(4,1), padding=\"same\")(my_cnn)\n",
    "    my_cnn = Dropout(rate=rate)(my_cnn)\n",
    "    for _ in range(3):\n",
    "        my_cnn = Conv2D(filters=40,kernel_size=(6,1),strides=(1,1), padding=\"same\", activation=\"relu\")(my_cnn)\n",
    "    my_cnn = MaxPool2D (pool_size=(2,1), strides=(2,1), padding=\"same\")(my_cnn)\n",
    "    my_cnn = Flatten()(my_cn\n",
    "                       \n",
    "                n)\n",
    "    my_cnn = Model(inputs=input,outputs = my_cnn)\n",
    "    return my_cnn\n",
    "\n",
    "\n",
    "def f(x, y):"
   ]
  }
 ],
 "metadata": {
  "kernelspec": {
   "display_name": "Python 3",
   "language": "python",
   "name": "python3"
  },
  "language_info": {
   "codemirror_mode": {
    "name": "ipython",
    "version": 3
   },
   "file_extension": ".py",
   "mimetype": "text/x-python",
   "name": "python",
   "nbconvert_exporter": "python",
   "pygments_lexer": "ipython3",
   "version": "3.6.8"
  }
 },
 "nbformat": 4,
 "nbformat_minor": 4
}

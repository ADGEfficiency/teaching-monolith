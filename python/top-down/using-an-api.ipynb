{
 "cells": [
  {
   "cell_type": "code",
   "execution_count": null,
   "metadata": {},
   "outputs": [],
   "source": [
    "import json\n",
    "\n",
    "!pip install -q requests\n",
    "\n",
    "import requests"
   ]
  },
  {
   "cell_type": "markdown",
   "metadata": {},
   "source": [
    "## API versus web-scraping\n",
    "\n",
    "Both are ways to sample data from the internet\n",
    "\n",
    "API\n",
    "- structured\n",
    "- limited data / rate limits\n",
    "- parsing JSON\n",
    "\n",
    "Web scraping\n",
    "- less structure\n",
    "- parsing HTML\n",
    "\n",
    "This notebook covers using an API - see the []() notebook for web scraping.\n",
    "\n",
    "Before we introduce using an API we will first cover **JSON** - a file format used often in API calls.  We will also take a look at handling files in Python.\n",
    "\n",
    "## JSON\n",
    "\n",
    "JSON (JavaScript Object Notation) is a lightweight data-interchange format. It is easy for humans to read and write. It is easy for machines to parse and generate.\n",
    "\n",
    "You can think of the Python `dict` as JSON like:"
   ]
  },
  {
   "cell_type": "code",
   "execution_count": null,
   "metadata": {},
   "outputs": [],
   "source": [
    "data = {'alan': 'turing'}\n",
    "\n",
    "data"
   ]
  },
  {
   "cell_type": "markdown",
   "metadata": {},
   "source": [
    "But true JSON is just a string.  We can use the Python standard library to turn the `dict` into a JSON string:"
   ]
  },
  {
   "cell_type": "code",
   "execution_count": null,
   "metadata": {},
   "outputs": [],
   "source": [
    "json_data = json.dumps(data)\n",
    "json_data"
   ]
  },
  {
   "cell_type": "code",
   "execution_count": null,
   "metadata": {},
   "outputs": [],
   "source": [
    "type(json_data)"
   ]
  },
  {
   "cell_type": "markdown",
   "metadata": {},
   "source": [
    "We can turn this string back into a `dict`:"
   ]
  },
  {
   "cell_type": "code",
   "execution_count": null,
   "metadata": {},
   "outputs": [],
   "source": [
    "json.loads(json_data)"
   ]
  },
  {
   "cell_type": "markdown",
   "metadata": {},
   "source": [
    "Let's save this data to disk as a JSON file.  \n",
    "\n",
    "We will use the **context management** feature of Python (see [Python with Context Managers - Jeff Knupp](https://jeffknupp.com/blog/2016/03/07/python-with-context-managers/) for a deeper look).\n",
    "\n",
    "## Why do we need to manage context?\n",
    "\n",
    "When we are reading or writing to a file we consume an operating system resource known as a file descriptor.  \n",
    "\n",
    "The OS limits the number of file descriptors a process can have open.  We can see this by running the following in a shell (we use the `!` shortcut to run it directly in a notebook):"
   ]
  },
  {
   "cell_type": "code",
   "execution_count": null,
   "metadata": {},
   "outputs": [],
   "source": [
    "!ulimit -n"
   ]
  },
  {
   "cell_type": "markdown",
   "metadata": {},
   "source": [
    "We open files using the Python `open` builtin.  We specify the file path and the mode, most commonly:\n",
    "- `r` read\n",
    "- `w+` write (`+` to create file if it doesn't exist)\n",
    "- `a` append\n",
    "\n",
    "We can open a file using the Python builtin `open`:"
   ]
  },
  {
   "cell_type": "code",
   "execution_count": null,
   "metadata": {},
   "outputs": [],
   "source": [
    "open('./readme.md', 'r').read()"
   ]
  },
  {
   "cell_type": "markdown",
   "metadata": {},
   "source": [
    "We can write to a new file:"
   ]
  },
  {
   "cell_type": "code",
   "execution_count": null,
   "metadata": {},
   "outputs": [],
   "source": [
    "open('./dump.md', 'w+').write('hi')"
   ]
  },
  {
   "cell_type": "markdown",
   "metadata": {},
   "source": [
    "The issue with the code above is that we aren't closing the file.  We can fix this by intentionally closing the file.   Note that in the code below we open the file far more than the `ulimit`:"
   ]
  },
  {
   "cell_type": "code",
   "execution_count": null,
   "metadata": {},
   "outputs": [],
   "source": [
    "#  how not to do it\n",
    "\n",
    "data = []\n",
    "for _ in range(1024):\n",
    "    fi = open('./readme.md', 'r')\n",
    "    fi.close()\n",
    "    data.append(fi)"
   ]
  },
  {
   "cell_type": "markdown",
   "metadata": {},
   "source": [
    "The Pythonic way of handling opening & closing of files is **context management**:"
   ]
  },
  {
   "cell_type": "code",
   "execution_count": null,
   "metadata": {},
   "outputs": [],
   "source": [
    "#  the pythonic way - one less line\n",
    "\n",
    "data = []\n",
    "for _ in range(1024):\n",
    "    with open('./readme.md', 'r') as fi:\n",
    "        data.append(fi)"
   ]
  },
  {
   "cell_type": "markdown",
   "metadata": {},
   "source": [
    "Now that we understand context management, we can save our `data` dict as JSON:"
   ]
  },
  {
   "cell_type": "code",
   "execution_count": null,
   "metadata": {},
   "outputs": [],
   "source": [
    "data = {'name': 'alan turing'}\n",
    "\n",
    "with open('./test.json', 'w') as fi:\n",
    "    fi.write(json.dumps(data))\n",
    "\n",
    "with open('./test.json', 'w') as fi:\n",
    "    json.dump(data, fi)"
   ]
  },
  {
   "cell_type": "markdown",
   "metadata": {},
   "source": [
    "## REST API's\n",
    "\n",
    "API = application programming interface\n",
    "\n",
    "Take a look at [ProgrammableWeb](https://www.programmableweb.com/apis/directory) for a collection of available API's.\n",
    "- also look for the *Developer* or *For Developers* documentation on your favourite website\n",
    "\n",
    "RESTful APIs enable you to develop any kind of web application having all possible CRUD (create, retrieve, update, delete) operations.\n",
    "\n",
    "HTTP means HyperText Transfer Protocol. HTTP is the underlying protocol used by the World Wide Web and this protocol defines how messages are formatted and transmitted, and what actions Web servers and browsers should take in response to various commands.\n",
    "- data that your business logic works on should be in the body (content), metadata can/should be put in headers.\n",
    "\n",
    "HTTP methods:\n",
    "- GET - retrieve information about the REST API resource\n",
    "- POST - create a REST API resource\n",
    "- PUT - update a REST API resource\n",
    "- DELETE - delete a REST API resource or related component\n",
    "\n",
    "## SpaceX API using Python\n",
    "\n",
    "Now that we know a bit about APIs, let's use one.  We will use the [SpaceX API](https://github.com/r-spacex/SpaceX-API).\n",
    "\n",
    "We use the `requests` HTTP library to perform a `GET` request:"
   ]
  },
  {
   "cell_type": "code",
   "execution_count": null,
   "metadata": {},
   "outputs": [],
   "source": [
    "response = requests.get(\"https://api.spacexdata.com/v3/launches/latest\")"
   ]
  },
  {
   "cell_type": "markdown",
   "metadata": {},
   "source": [
    "Use `dir` to see what we can do with this HTTP response:"
   ]
  },
  {
   "cell_type": "code",
   "execution_count": null,
   "metadata": {},
   "outputs": [],
   "source": [
    "dir(response)"
   ]
  },
  {
   "cell_type": "markdown",
   "metadata": {},
   "source": [
    "We can get the HTTP header:"
   ]
  },
  {
   "cell_type": "code",
   "execution_count": null,
   "metadata": {},
   "outputs": [],
   "source": [
    "response.status_code"
   ]
  },
  {
   "cell_type": "code",
   "execution_count": null,
   "metadata": {},
   "outputs": [],
   "source": [
    "response.headers"
   ]
  },
  {
   "cell_type": "markdown",
   "metadata": {},
   "source": [
    "And the response body using the `json` method:"
   ]
  },
  {
   "cell_type": "code",
   "execution_count": null,
   "metadata": {},
   "outputs": [],
   "source": [
    "content = response.json()\n",
    "content"
   ]
  },
  {
   "cell_type": "markdown",
   "metadata": {},
   "source": [
    "This response is a Python **dictionary**.  We can access the **keys** of the dictionary:"
   ]
  },
  {
   "cell_type": "code",
   "execution_count": null,
   "metadata": {},
   "outputs": [],
   "source": [
    "content.keys()"
   ]
  },
  {
   "cell_type": "markdown",
   "metadata": {},
   "source": [
    "We can access the **values** using the square bracket indexing with a key:"
   ]
  },
  {
   "cell_type": "code",
   "execution_count": null,
   "metadata": {},
   "outputs": [],
   "source": [
    "content['links']"
   ]
  },
  {
   "cell_type": "code",
   "execution_count": null,
   "metadata": {},
   "outputs": [],
   "source": [
    "content['links'].keys()"
   ]
  },
  {
   "cell_type": "code",
   "execution_count": null,
   "metadata": {},
   "outputs": [],
   "source": [
    "content['links']['flickr_images']"
   ]
  },
  {
   "cell_type": "code",
   "execution_count": null,
   "metadata": {},
   "outputs": [],
   "source": [
    "image = content['links']['flickr_images'][-1]\n",
    "print(image)\n",
    "response = requests.get(image)\n",
    "\n",
    "#  run a bash commmand to make new directory\n",
    "#  -p to work if dir already exists\n",
    "!mkdir -p images\n",
    "\n",
    "with open(\"./images/spacex.jpg\", 'wb') as f:\n",
    "    f.write(response.content)"
   ]
  },
  {
   "cell_type": "markdown",
   "metadata": {},
   "source": [
    "We can run the shell command `ls` to see"
   ]
  },
  {
   "cell_type": "code",
   "execution_count": null,
   "metadata": {},
   "outputs": [],
   "source": [
    "!ls"
   ]
  },
  {
   "cell_type": "markdown",
   "metadata": {},
   "source": [
    "We can now see this image (you may need to run this cell again).\n",
    "\n",
    "![](images/spacex.jpg)"
   ]
  },
  {
   "cell_type": "markdown",
   "metadata": {},
   "source": [
    "## Exercise\n",
    "\n",
    "Download data from the SpaceX API into a folder that is the `mission_name`\n",
    "- images an `.png` in an images folder\n",
    "- the metadata (flight number etc) into a `json` file"
   ]
  },
  {
   "cell_type": "code",
   "execution_count": null,
   "metadata": {},
   "outputs": [],
   "source": []
  },
  {
   "cell_type": "markdown",
   "metadata": {},
   "source": [
    "## Exercise\n",
    "\n",
    "[Programmable Web API directory](https://www.programmableweb.com/apis/directory) - pick an API and grab some data\n",
    "\n",
    "If you are stuck - the Wikipedia API:\n",
    "- [Main API page](https://www.mediawiki.org/wiki/API:Main_page)\n",
    "- [What the actions are](https://www.mediawiki.org/w/api.php)\n",
    "- [Python examples](https://github.com/wikimedia/mediawiki-api-demos/tree/master/python)\n",
    "- `https://en.wikipedia.org/w/api.php\\?action\\=opensearch\\&search\\=germany\\&limit\\=2\\&format\\=json`\n",
    "- `https://en.wikipedia.org/w/api.php\\?action\\=parse\\&page\\=germany\\&format\\=json`"
   ]
  },
  {
   "cell_type": "code",
   "execution_count": null,
   "metadata": {},
   "outputs": [],
   "source": []
  }
 ],
 "metadata": {
  "kernelspec": {
   "display_name": "Python 3",
   "language": "python",
   "name": "python3"
  },
  "language_info": {
   "codemirror_mode": {
    "name": "ipython",
    "version": 3
   },
   "file_extension": ".py",
   "mimetype": "text/x-python",
   "name": "python",
   "nbconvert_exporter": "python",
   "pygments_lexer": "ipython3",
   "version": "3.6.8"
  }
 },
 "nbformat": 4,
 "nbformat_minor": 4
}

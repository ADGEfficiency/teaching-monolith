{
 "cells": [
  {
   "cell_type": "markdown",
   "metadata": {},
   "source": [
    "# `multiprocessing`\n",
    "\n",
    "Parallel computation on a single machine in Python. One of the most important tools for a data scientist. Part of the Python standard library.\n",
    "\n",
    "\n",
    "## Python standard library parallel computation ecosystem\n",
    "\n",
    "[Multiprocessing Vs. Threading In Python - Sid Panjwani](https://timber.io/blog/multiprocessing-vs-multithreading-in-python-what-you-need-to-know/)\n",
    "\n",
    "`threading` - uses threads (same memory space) - IO bound problems.\n",
    "\n",
    "`multiprocessing` - uses processes (different memory space) - CPU bound.\n",
    "\n",
    "How does this relate to CPU cores:\n",
    "\n",
    "- CPU cores are fixed (usually 4-16 in laptops - depends on your physical hardware),\n",
    "- more cores = true parallelism (opposed to the very fast task switching done by the OS),\n",
    "- your computer can have many threads and many processes (depends on the OS),\n",
    "- the OS will schedule these threads/processes to available cores,\n",
    "- a single thread consumes an entire core.\n",
    "\n",
    "[Multithreading and multicore differences](https://stackoverflow.com/questions/11835046/multithreading-and-multicore-differences)\n",
    "\n",
    "*But my CPU cores have two threads*:\n",
    "\n",
    "- this is a different use of the term (the hardware thread),\n",
    "- CPU having threads allows a core to run thread in parallel, as if there were multiple cores - known as hyperthreading.\n",
    "\n",
    "\n",
    "## Why do we need `multiprocessing`?\n",
    "\n",
    "Python has a Global Interpreter Lock (GIL) that prevents parallelizing computation across multiple cores:\n",
    "\n",
    "Python is not thread safe - requires a lock when accessing an object (a form of memory management).\n",
    "\n",
    "\n",
    "## What can be hard in multiprocessing?\n",
    "\n",
    "Sharing things between processes:\n",
    "\n",
    "- solution = don't use it in this way,\n",
    "- make every process independent,\n",
    "- a more functional style = no interaction (because interaction = side effects!).\n",
    "\n",
    "\n",
    "## `multiprocessing` 101\n",
    "\n",
    "We map functions to data - but in parallel!\n",
    "\n",
    "First let's do a `map` in Python:"
   ]
  },
  {
   "cell_type": "code",
   "execution_count": null,
   "metadata": {},
   "outputs": [],
   "source": [
    "import time\n",
    "import numpy as np\n",
    "\n",
    "from src import subtract\n",
    "\n",
    "data = np.random.uniform(0, 100, size=10).tolist()\n",
    "st = time.time()\n",
    "\n",
    "result = list(map(subtract, data))\n",
    "print(time.time() - st)"
   ]
  },
  {
   "cell_type": "markdown",
   "metadata": {},
   "source": [
    "Let's parallelize this using `multiprocessing`:"
   ]
  },
  {
   "cell_type": "code",
   "execution_count": null,
   "metadata": {},
   "outputs": [],
   "source": [
    "from multiprocessing import Pool\n",
    "\n",
    "num_process = 2\n",
    "st = time.time()\n",
    "\n",
    "with Pool(num_process) as pool:\n",
    "    out = pool.map(subtract, data)\n",
    "    \n",
    "print(time.time() - st)"
   ]
  },
  {
   "cell_type": "markdown",
   "metadata": {},
   "source": [
    "A common use case is to have arguments for the function being mapped:"
   ]
  },
  {
   "cell_type": "code",
   "execution_count": null,
   "metadata": {},
   "outputs": [],
   "source": [
    "from functools import partial\n",
    "\n",
    "st = time.time()\n",
    "with Pool(num_process) as p:\n",
    "    rewards = p.map(partial(subtract, sleep=0.1), data)\n",
    "    \n",
    "print(time.time() - st)"
   ]
  },
  {
   "cell_type": "markdown",
   "metadata": {},
   "source": [
    "Note that when we remove our sleep, the non-mulitprocessing `map` is faster:"
   ]
  },
  {
   "cell_type": "code",
   "execution_count": null,
   "metadata": {},
   "outputs": [],
   "source": [
    "st = time.time()\n",
    "result = list(map(partial(subtract, sleep=0.0), data))\n",
    "print(time.time() - st)"
   ]
  },
  {
   "cell_type": "markdown",
   "metadata": {},
   "source": [
    "Distributed computation has overhead (fixed + variable) - make sure your function runs long enough to justify it!\n",
    "\n",
    "## Exercise - Blockchain Mining\n",
    "\n",
    "Write multiprocessed code to solve a hashing problem (similar to how *proof of work* works in Bitcoin).\n",
    "\n",
    "Our proof of work is as follows:\n",
    "\n",
    "- take a given input string (base string),\n",
    "- add strings on the end of it until you get a hash with a trailing `1` (this is what we consider the hash problem as solved).\n",
    "\n",
    "You can make this hash problem harder to solve by being more strict (perhaps a condition of `hash[-2:] == '11'` - it's totally arbitrary).\n",
    "\n",
    "We can hash in Python using `zlib`:"
   ]
  },
  {
   "cell_type": "code",
   "execution_count": null,
   "metadata": {},
   "outputs": [],
   "source": [
    "from zlib import adler32\n",
    "str(adler32('baseman'.encode()))"
   ]
  },
  {
   "cell_type": "markdown",
   "metadata": {},
   "source": [
    "We can add characters onto the end of this string and we will get a different hash:"
   ]
  },
  {
   "cell_type": "code",
   "execution_count": null,
   "metadata": {},
   "outputs": [],
   "source": [
    "str(adler32('basemans'.encode()))"
   ]
  },
  {
   "cell_type": "markdown",
   "metadata": {},
   "source": [
    "This task (finding a string that solves our hash problem) can be run in parallel:\n",
    "\n",
    "Suggested approach:\n",
    "1. write a `for` loop,\n",
    "2. convert to a `map`,\n",
    "3. multiprocess :)\n",
    "\n",
    "You can then extend the program to look across many different base hashes at once."
   ]
  },
  {
   "cell_type": "code",
   "execution_count": null,
   "metadata": {},
   "outputs": [],
   "source": [
    "import string\n",
    "import random\n",
    "from zlib import adler32\n",
    "\n",
    "\n",
    "def check_string(s):\n",
    "    hsh = str(adler32(s.encode()))\n",
    "    if hsh[-1] == str(1):\n",
    "        return True\n",
    "    else:\n",
    "        return False\n",
    "    \n",
    "base = 'baseman'\n",
    "\n",
    "#  this for loop is your oppourtunity to parallelize\n",
    "for _ in range(64):\n",
    "    new = random.choice(string.ascii_lowercase)\n",
    "    success = check_string(base + new)\n",
    "    \n",
    "    #  I think we could use := here ?\n",
    "    if success:\n",
    "        print(success)"
   ]
  }
 ],
 "metadata": {
  "kernelspec": {
   "display_name": "Python 3 (ipykernel)",
   "language": "python",
   "name": "python3"
  },
  "language_info": {
   "codemirror_mode": {
    "name": "ipython",
    "version": 3
   },
   "file_extension": ".py",
   "mimetype": "text/x-python",
   "name": "python",
   "nbconvert_exporter": "python",
   "pygments_lexer": "ipython3",
   "version": "3.8.12"
  }
 },
 "nbformat": 4,
 "nbformat_minor": 4
}

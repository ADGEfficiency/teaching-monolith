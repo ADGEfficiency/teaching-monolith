{
 "cells": [
  {
   "cell_type": "code",
   "execution_count": null,
   "metadata": {},
   "outputs": [],
   "source": [
    "from collections import namedtuple\n",
    "\n",
    "import numpy as np\n",
    "import pandas as pd "
   ]
  },
  {
   "cell_type": "markdown",
   "metadata": {},
   "source": [
    "# The Introspection Paradox\n",
    "\n",
    "References for Allen Downey - The Inspection Paradox is Everywhere:\n",
    "- [PyData New York 2019 talk](https://www.youtube.com/watch?v=cXWTHfvycyM)\n",
    "- [Medium post](https://towardsdatascience.com/the-inspection-paradox-is-everywhere-2ef1c2e9d709)\n",
    "\n",
    "## What is the inspection paradox?\n",
    "\n",
    "Form of **biased sampling**\n",
    "- biased by the size / length / duration of the data\n",
    "\n",
    "The Inspection Paradox accounts for\n",
    "- train companies losing money on empty trains while passengers complain about how their train is always full\n",
    "- why you always wait longer for the train\n",
    "- call centers always experiencing higher than normal call volumes when you call\n",
    "- why your friends have more friends than you\n",
    "\n",
    "## Example - determining average family size\n",
    "\n",
    "A reasonable approach would be to ask the question \"How many children does your mother have?\"\n",
    "\n",
    "There are two problems here\n",
    "- families with no children are not represented\n",
    "- families with many children are over-represented\n",
    "\n",
    "Families of $x$ children are over-represented by a factor of $x$!\n",
    "\n",
    "We can show this using a simple dataset:"
   ]
  },
  {
   "cell_type": "code",
   "execution_count": null,
   "metadata": {},
   "outputs": [],
   "source": [
    "Person = namedtuple('person', ['name', 'family', 'family_size'])\n",
    "\n",
    "data = pd.DataFrame([\n",
    "    Person('eve', 'zero', 1),\n",
    "    \n",
    "    Person('adam', 'one', 2),\n",
    "    Person('rebecca', 'one', 2),\n",
    "    \n",
    "    Person('jane', 'two', 3),\n",
    "    Person('james', 'two', 3),\n",
    "    Person('john', 'two', 3),\n",
    "    \n",
    "    Person('bob', 'three', 3),\n",
    "    Person('bella', 'three', 3),\n",
    "    Person('Bianca', 'three', 3),\n",
    "])\n",
    "\n",
    "data.loc[:, 'family_size'] = data.loc[:, 'family_size'].astype(float)\n",
    "\n",
    "data"
   ]
  },
  {
   "cell_type": "markdown",
   "metadata": {},
   "source": [
    "What is the size of the average family?  \n",
    "\n",
    "We can ask each person and report the mean\n",
    "- families with more children will be over-represented!"
   ]
  },
  {
   "cell_type": "code",
   "execution_count": null,
   "metadata": {},
   "outputs": [],
   "source": [
    "data.loc[:, 'family_size'].mean()"
   ]
  },
  {
   "cell_type": "markdown",
   "metadata": {},
   "source": [
    "Or we can have one sample per family:"
   ]
  },
  {
   "cell_type": "code",
   "execution_count": null,
   "metadata": {},
   "outputs": [],
   "source": [
    "data.groupby('family').mean().mean().values[0]"
   ]
  },
  {
   "cell_type": "markdown",
   "metadata": {},
   "source": [
    "## Length biased sampling\n",
    "\n",
    "Sampling processes where the population is sampled in proportion to size, duration, length etc\n",
    "\n",
    "Probability of sampling depends on size\n",
    "- this means the probability of sampling is not independent\n",
    "- -> biased sampling!\n",
    "- degree of oversampling is proportional to the class size\n",
    "\n",
    "Returning to our example - which average family size is correct?\n",
    "\n",
    "Both are correct!\n",
    "- they measure different things\n",
    "- they reporting averages over different populations\n",
    "- one describes the experience of children, the other the average family size\n",
    "\n",
    "Our unbiased sample is the average family size:"
   ]
  },
  {
   "cell_type": "code",
   "execution_count": null,
   "metadata": {},
   "outputs": [],
   "source": [
    "unbiased_sample = data.groupby('family').mean()\n",
    "\n",
    "unbiased_sample"
   ]
  },
  {
   "cell_type": "code",
   "execution_count": null,
   "metadata": {},
   "outputs": [],
   "source": [
    "unbiased_sample.mean()"
   ]
  },
  {
   "cell_type": "markdown",
   "metadata": {},
   "source": [
    "Our biased sample is the experience of children:"
   ]
  },
  {
   "cell_type": "code",
   "execution_count": null,
   "metadata": {},
   "outputs": [],
   "source": [
    "biased_sample = data.loc[:, 'family_size']\n",
    "\n",
    "biased_sample.mean()"
   ]
  },
  {
   "cell_type": "markdown",
   "metadata": {},
   "source": [
    "##  Takeaway \n",
    "\n",
    "If the class size is x, it will be overrepresented by a factor of x!"
   ]
  }
 ],
 "metadata": {
  "kernelspec": {
   "display_name": "Python 3",
   "language": "python",
   "name": "python3"
  },
  "language_info": {
   "codemirror_mode": {
    "name": "ipython",
    "version": 3
   },
   "file_extension": ".py",
   "mimetype": "text/x-python",
   "name": "python",
   "nbconvert_exporter": "python",
   "pygments_lexer": "ipython3",
   "version": "3.6.8"
  }
 },
 "nbformat": 4,
 "nbformat_minor": 4
}

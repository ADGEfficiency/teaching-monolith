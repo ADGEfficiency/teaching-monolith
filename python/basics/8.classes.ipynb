{
 "cells": [
  {
   "cell_type": "markdown",
   "metadata": {},
   "source": [
    "Todo\n",
    "- inheritance from user dict\n",
    "\n",
    "## Why classes\n",
    "\n",
    "Class = pillar of Object Oriented Programming\n",
    "\n",
    "Classes allow us to\n",
    "- control scope (like a function)\n",
    "- reuse code (like a function)\n",
    "- maintain state\n",
    "\n",
    "## When to use classes\n",
    "\n",
    "Group data and/or functionality\n",
    "\n",
    "## The world's simplest class\n",
    "\n",
    "Note the `CamelCase` style"
   ]
  },
  {
   "cell_type": "code",
   "execution_count": null,
   "metadata": {},
   "outputs": [],
   "source": [
    "class SimpleClass:\n",
    "    pass\n",
    "\n",
    "s = SimpleClass()\n",
    "\n",
    "type(s)"
   ]
  },
  {
   "cell_type": "markdown",
   "metadata": {},
   "source": [
    "## `super()`"
   ]
  },
  {
   "cell_type": "code",
   "execution_count": null,
   "metadata": {},
   "outputs": [],
   "source": []
  },
  {
   "cell_type": "code",
   "execution_count": null,
   "metadata": {},
   "outputs": [],
   "source": []
  },
  {
   "cell_type": "code",
   "execution_count": null,
   "metadata": {},
   "outputs": [],
   "source": []
  },
  {
   "cell_type": "markdown",
   "metadata": {},
   "source": [
    "\n",
    "## Example - \n",
    "\n",
    "Lets imagine we want to build three agents that take actions (either always turn left, always turn right or randomly do either)\n",
    "\n",
    "We can do this without inheritance:"
   ]
  },
  {
   "cell_type": "code",
   "execution_count": null,
   "metadata": {},
   "outputs": [],
   "source": [
    "class Left:\n",
    "    def __init__(self):\n",
    "        self.name = 'left'\n",
    "        self.age = 0\n",
    "        \n",
    "    def act(self):\n",
    "        self.age += 1\n",
    "        return 'go left'\n",
    "    \n",
    "\n",
    "class Right:\n",
    "    def __init__(self):\n",
    "        self.name = 'right'\n",
    "        self.age = 0\n",
    "        \n",
    "    def act(self):\n",
    "        self.age += 1\n",
    "        return 'go right'"
   ]
  },
  {
   "cell_type": "markdown",
   "metadata": {},
   "source": [
    "We can instantiate these classes, and access their methods and attributes"
   ]
  },
  {
   "cell_type": "code",
   "execution_count": null,
   "metadata": {},
   "outputs": [],
   "source": [
    "left = Left()\n",
    "\n",
    "left.name"
   ]
  },
  {
   "cell_type": "code",
   "execution_count": null,
   "metadata": {},
   "outputs": [],
   "source": [
    "right = Right()\n",
    "\n",
    "acts = [right.act() for _ in range(3)]\n",
    "acts"
   ]
  },
  {
   "cell_type": "code",
   "execution_count": null,
   "metadata": {},
   "outputs": [],
   "source": [
    "right.age"
   ]
  },
  {
   "cell_type": "markdown",
   "metadata": {},
   "source": [
    "You can see there is a lot of repeated code in the examples above - lets see how inheritance might help"
   ]
  },
  {
   "cell_type": "code",
   "execution_count": null,
   "metadata": {},
   "outputs": [],
   "source": [
    "class Agent:\n",
    "    def __init__(self, name):\n",
    "        self.name = name\n",
    "        self.age = 0\n",
    "        \n",
    "    def act(self):\n",
    "        self.age += 1\n",
    "        \n",
    "        \n",
    "class Left(Agent):\n",
    "    def __init__(self, name):\n",
    "        super().__init__(name)\n",
    "        \n",
    "    def act(self):\n",
    "        super().act()\n",
    "        return 'left'"
   ]
  },
  {
   "cell_type": "code",
   "execution_count": null,
   "metadata": {},
   "outputs": [],
   "source": [
    "left = Left('child left')\n",
    "\n",
    "acts = [left.act() for _ in range(4)]\n",
    "acts"
   ]
  },
  {
   "cell_type": "code",
   "execution_count": null,
   "metadata": {},
   "outputs": [],
   "source": [
    "left.age"
   ]
  },
  {
   "cell_type": "code",
   "execution_count": null,
   "metadata": {},
   "outputs": [],
   "source": [
    "class Right(Agent):\n",
    "    def __init__(self, name):\n",
    "        super().__init__(name)\n",
    "        \n",
    "    def act(self):\n",
    "        super().act()\n",
    "        return 'right'\n",
    "\n",
    "right = Right('child right')\n",
    "acts = [right.act() for _ in range(5)]\n",
    "acts"
   ]
  },
  {
   "cell_type": "code",
   "execution_count": null,
   "metadata": {},
   "outputs": [],
   "source": [
    "right.age"
   ]
  },
  {
   "cell_type": "code",
   "execution_count": null,
   "metadata": {},
   "outputs": [],
   "source": [
    "right.name"
   ]
  },
  {
   "cell_type": "markdown",
   "metadata": {},
   "source": [
    "Note how\n",
    "- data can flow from the child class to the parent via super\n",
    "- we can access the methods of the parent on the child\n",
    "- we define the common functionality once\n"
   ]
  },
  {
   "cell_type": "code",
   "execution_count": null,
   "metadata": {},
   "outputs": [],
   "source": [
    "print(left.__dict__)"
   ]
  },
  {
   "cell_type": "markdown",
   "metadata": {},
   "source": [
    "## Example Two - Cat, Dog, Animal"
   ]
  },
  {
   "cell_type": "code",
   "execution_count": null,
   "metadata": {},
   "outputs": [],
   "source": [
    "class Cat:\n",
    "    def __init__(self, name='brian'):  #  default argument for name\n",
    "        self.name = name\n",
    "        self.stomach = []\n",
    "        \n",
    "    def eat(self, food):\n",
    "        print('{} eating {}'.format(self.name, food))\n",
    "        self.stomach.append(food)\n",
    "\n",
    "        \n",
    "class Dog:\n",
    "    def __init__(self, name):\n",
    "        self.name = name\n",
    "        self.stomach = []\n",
    "        \n",
    "    def eat(self, food):\n",
    "        if food == 'grapes':\n",
    "            print('{} cant eat grapes'.format(self.name))\n",
    "            pass\n",
    "        else:\n",
    "            print('{} eating {}'.format(self.name, food))\n",
    "            self.stomach.append(food)"
   ]
  },
  {
   "cell_type": "code",
   "execution_count": null,
   "metadata": {},
   "outputs": [],
   "source": [
    "class Animal:\n",
    "    def __init__(self, name):\n",
    "        self.name = name\n",
    "        self.stomach = []\n",
    "        \n",
    "    def eat(self, food):\n",
    "        print('{} eating {} now'.format(self.name, food))\n",
    "        self.stomach.append(food)        \n",
    "    \n",
    "class Cat(Animal):\n",
    "    def __init__(self, name='brian'):  #  default argument for name\n",
    "        super().__init__(name)"
   ]
  },
  {
   "cell_type": "code",
   "execution_count": null,
   "metadata": {},
   "outputs": [],
   "source": [
    "class Dog(Animal):\n",
    "    def __init__(self, name):\n",
    "        super().__init__(name)\n",
    "        \n",
    "    def eat(self, food):\n",
    "        if food == 'grapes':\n",
    "            print('{} cant eat grapes'.format(self.name))\n",
    "            pass\n",
    "        else:\n",
    "            super().eat(food)"
   ]
  },
  {
   "cell_type": "code",
   "execution_count": null,
   "metadata": {},
   "outputs": [],
   "source": []
  },
  {
   "cell_type": "markdown",
   "metadata": {},
   "source": [
    "## Example Three - Actors in Apocalypse Now\n",
    "\n",
    "The `namedtuple` is a fine data structure for **holding state** (aka data):"
   ]
  },
  {
   "cell_type": "code",
   "execution_count": null,
   "metadata": {},
   "outputs": [],
   "source": [
    "from collections import namedtuple\n",
    "\n",
    "Actor = namedtuple('Actor', ['name'])\n",
    "\n",
    "actors = ['Marlon Brando', 'Robert Duvall', 'Martin Sheen']\n",
    "actors = [Actor(name) for name in actors]\n",
    "\n",
    "actors"
   ]
  },
  {
   "cell_type": "markdown",
   "metadata": {},
   "source": [
    "Let's also have a data structure for films:"
   ]
  },
  {
   "cell_type": "code",
   "execution_count": null,
   "metadata": {},
   "outputs": [],
   "source": [
    "Film = namedtuple('Film', ['name', 'actors'])\n",
    "\n",
    "films = [\n",
    "    Film('Apocalypse Now', ('Martin Sheen', 'Marlon Brando', 'Robert Duvall')),\n",
    "    Film('The Godfather', ('Marlon Brando', 'Al Pacino', 'Robert Duvall')),\n",
    "    Film('The Godfather Part II', ('Marlon Brando', 'Al Pacino', 'Robert Duvall'))\n",
    "]\n",
    "\n",
    "films"
   ]
  },
  {
   "cell_type": "code",
   "execution_count": null,
   "metadata": {},
   "outputs": [],
   "source": []
  },
  {
   "cell_type": "code",
   "execution_count": null,
   "metadata": {},
   "outputs": [],
   "source": []
  },
  {
   "cell_type": "code",
   "execution_count": null,
   "metadata": {},
   "outputs": [],
   "source": []
  },
  {
   "cell_type": "markdown",
   "metadata": {},
   "source": [
    "## Practical - "
   ]
  },
  {
   "cell_type": "code",
   "execution_count": null,
   "metadata": {},
   "outputs": [],
   "source": [
    "class Dataset:\n",
    "    \"\"\"Insert docstring here\"\"\"\n",
    "    \n",
    "    def __init__(self):\n",
    "        pass\n",
    "    \n",
    "    def sample_batch(self):\n",
    "        raise NotImplementedError('Sampling batching not implemented in your child class')\n",
    "    \n",
    "\n",
    "class OrderedDataset(Dataset):\n",
    "    \"\"\"Insert docstring here\"\"\"\n",
    "    \n",
    "    def __init__(self):\n",
    "        pass\n",
    "    \n",
    "    \n",
    "class ShuffledDataset(Dataset):\n",
    "    \"\"\"Insert docstring here\"\"\"\n",
    "        \n",
    "    def __init__(self):\n",
    "        pass"
   ]
  },
  {
   "cell_type": "code",
   "execution_count": null,
   "metadata": {},
   "outputs": [],
   "source": []
  },
  {
   "cell_type": "code",
   "execution_count": null,
   "metadata": {},
   "outputs": [],
   "source": []
  },
  {
   "cell_type": "code",
   "execution_count": null,
   "metadata": {},
   "outputs": [],
   "source": []
  },
  {
   "cell_type": "markdown",
   "metadata": {},
   "source": [
    "## `@classmethod`"
   ]
  },
  {
   "cell_type": "code",
   "execution_count": null,
   "metadata": {},
   "outputs": [],
   "source": []
  },
  {
   "cell_type": "code",
   "execution_count": null,
   "metadata": {},
   "outputs": [],
   "source": []
  },
  {
   "cell_type": "markdown",
   "metadata": {},
   "source": [
    "## Jeff Dean\n",
    "\n",
    "[Jeff Dean](https://en.wikipedia.org/wiki/Jeff_Dean_(computer_scientist)) - head of Google.ai\n",
    "- [Building Software Systems At Google and Lessons Learned - Jeff Dean Stanford lecture](https://www.youtube.com/watch?v=modXC5IWTJI)\n",
    "-[The Friendship That Made Google Huge - The New Yorker](https://www.newyorker.com/magazine/2018/12/10/the-friendship-that-made-google-huge)\n",
    "- involved in TensorFlow, BigTable, MapReduce\n",
    "\n",
    "## MapReduce\n",
    "\n",
    "https://en.wikipedia.org/wiki/MapReduce\n",
    "\n",
    "> MapReduce was used to completely regenerate Google's index of the World Wide Web\n",
    "\n",
    "**MapReduce** = **parallel, distributed data processing**\n",
    "- functional programming\n",
    "\n",
    "Map\n",
    "- filtering & sorting\n",
    "\n",
    "Reduce\n",
    "- summary operation"
   ]
  },
  {
   "cell_type": "code",
   "execution_count": null,
   "metadata": {},
   "outputs": [],
   "source": []
  }
 ],
 "metadata": {
  "kernelspec": {
   "display_name": "Python 3",
   "language": "python",
   "name": "python3"
  },
  "language_info": {
   "codemirror_mode": {
    "name": "ipython",
    "version": 3
   },
   "file_extension": ".py",
   "mimetype": "text/x-python",
   "name": "python",
   "nbconvert_exporter": "python",
   "pygments_lexer": "ipython3",
   "version": "3.6.8"
  }
 },
 "nbformat": 4,
 "nbformat_minor": 4
}

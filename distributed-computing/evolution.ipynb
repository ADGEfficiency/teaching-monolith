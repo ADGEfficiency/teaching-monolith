{
 "cells": [
  {
   "cell_type": "markdown",
   "metadata": {},
   "source": [
    "# Evolutionary methods with `multiprocessing`\n",
    "\n",
    "*At least let me have a little fun!*\n",
    "\n",
    "Context on evolutionary algorithms from the Four Competences (on whiteboard)\n",
    "- [more context here](https://towardsdatascience.com/daniel-c-dennetts-four-competences-779648bdbabc?source=friends_link&sk=15fe38a0971a25c0ddb028aec05109a4)\n",
    "- **neuroevolution** = using evolutionary methods to find the parameters (or even architecture) of a neural network\n",
    "\n",
    "Computational evolutionary methods\n",
    "- general, black box optimization\n",
    "- gradient free \n",
    "- work in challenging cost functions (non-linear, discontinuous etc)\n",
    "- can be parallelized\n",
    "\n",
    "Sample inefficient\n",
    "- because they learn from a weak learning signal (fitness / total episode reward)\n",
    "- don't learn from state / reward transitions that occur during an episode\n",
    "\n",
    "If you want a tool for your toolbet, CMA-ES (https://en.wikipedia.org/wiki/CMA-ES) is a good choice\n",
    "- adapts covariance matrix\n",
    "- good up until 1,000 - 10,000 parameters\n",
    "- used in World Models\n",
    "\n",
    "## Generate, test & select\n",
    "\n",
    "Evolutionary improvement occurs through a **generate, test & select loop**\n",
    "- substrate independent\n",
    "\n",
    "Our algorithm will:\n",
    "- generate a population of parameters (neural network weights and biases)\n",
    "- test these parameters in the `mountaincar` environment\n",
    "- select the best performing set of parameters to use in the next generate step\n",
    "\n",
    "Let's first setup the code for the forward pass of a neural net.  We aren't going to do any backprop, so we can do it all in `numpy`:"
   ]
  },
  {
   "cell_type": "code",
   "execution_count": null,
   "metadata": {},
   "outputs": [],
   "source": [
    "!pip install gym pygame -q\n",
    "\n",
    "import gym\n",
    "from evolution import make_env, initialize_parameters, episode\n",
    "\n",
    "#  you can use either 'CartPole-v0' or 'MountainCarContinuous-v0'\n",
    "env_id = 'CartPole-v0'\n",
    "env_id = 'MountainCarContinuous-v0'\n",
    "h_size = 10\n",
    "env, forward, i_size, o_size = make_env(env_id)\n",
    "params = initialize_parameters(i_size, h_size, o_size)"
   ]
  },
  {
   "cell_type": "markdown",
   "metadata": {},
   "source": [
    "We end up with a dictionary of parameters with random weights:"
   ]
  },
  {
   "cell_type": "code",
   "execution_count": null,
   "metadata": {},
   "outputs": [],
   "source": [
    "params.keys()"
   ]
  },
  {
   "cell_type": "markdown",
   "metadata": {},
   "source": [
    "We can use the function forward to select an action using these parameters & a randomly sampled observation:"
   ]
  },
  {
   "cell_type": "code",
   "execution_count": null,
   "metadata": {},
   "outputs": [],
   "source": [
    "action = forward(env.observation_space.sample(), params)\n",
    "action"
   ]
  },
  {
   "cell_type": "markdown",
   "metadata": {},
   "source": [
    "Below the machinery for saving and loading parameters is given - this is so you can run `python render.py` when you agent is learning:"
   ]
  },
  {
   "cell_type": "code",
   "execution_count": null,
   "metadata": {},
   "outputs": [],
   "source": [
    "from evolution import save_params, load_params\n",
    "\n",
    "params = initialize_parameters(i_size, h_size, o_size)\n",
    "save_params(params, env_id, agent_id=1)\n",
    "params = load_params(env_id, agent_id=1)"
   ]
  },
  {
   "cell_type": "markdown",
   "metadata": {},
   "source": [
    "Now you should be able to run (in a shell - will break your notebook kernel):\n",
    "\n",
    "```bash\n",
    "$ python render.py --env_id CartPole-v0 --agent_id 1\n",
    "\n",
    "$ python render.py --env_id MountainCarContinuous-v0 --agent_id 1\n",
    "```\n",
    "\n",
    "![](assets/car.png)"
   ]
  },
  {
   "cell_type": "markdown",
   "metadata": {},
   "source": [
    "## The components of an evolutionary algorithm\n",
    "\n",
    "Above we have outlined the code we need to do the test step of generate/test/select.  Now we will outline the code for the generate & select steps.\n",
    "\n",
    "For the first generation, the loop is to **generate** a population with random weights:"
   ]
  },
  {
   "cell_type": "code",
   "execution_count": null,
   "metadata": {},
   "outputs": [],
   "source": [
    "pop_size = 32\n",
    "pop = [initialize_parameters(i_size, h_size, o_size) for _ in range(pop_size)]"
   ]
  },
  {
   "cell_type": "markdown",
   "metadata": {},
   "source": [
    "**Test** the population in the environment:"
   ]
  },
  {
   "cell_type": "code",
   "execution_count": null,
   "metadata": {},
   "outputs": [],
   "source": [
    "from functools import partial\n",
    "\n",
    "results = list(map(partial(episode, env_id=env_id), pop))\n",
    "\n",
    "print(np.mean(results))\n",
    "assert len(results) == pop_size"
   ]
  },
  {
   "cell_type": "markdown",
   "metadata": {},
   "source": [
    "**Select** the best performing parameters:"
   ]
  },
  {
   "cell_type": "code",
   "execution_count": null,
   "metadata": {},
   "outputs": [],
   "source": [
    "best = pop[np.argmax(results)]"
   ]
  },
  {
   "cell_type": "markdown",
   "metadata": {},
   "source": [
    "We are now on the second generation - instead of sampling parameters randomly using `initialize_parameters` we use selected best from the last generation.\n",
    "\n",
    "We still sample a new generation randomly, but now we use the results of the first generation to create the distribution to sample from.\n",
    "\n",
    "Below we create a new generation, using the best performing member to estimate the mean.  We use an identity covariance matrix."
   ]
  },
  {
   "cell_type": "code",
   "execution_count": null,
   "metadata": {},
   "outputs": [],
   "source": [
    "np.eye(4)"
   ]
  },
  {
   "cell_type": "code",
   "execution_count": null,
   "metadata": {},
   "outputs": [],
   "source": [
    "num_w = 4\n",
    "[np.random.normal(0, 1) for _ in range(num_w)]\n",
    "\n",
    "np.random.multivariate_normal([0, 0, 0, 0], np.eye(4))"
   ]
  },
  {
   "cell_type": "code",
   "execution_count": null,
   "metadata": {},
   "outputs": [],
   "source": [
    "def sample_params(best):\n",
    "    p = {}\n",
    "    for k, v in best.items():\n",
    "        #  sample new parameters from a flat multivariate normal\n",
    "        flat = v.flatten()\n",
    "        new = np.random.multivariate_normal(flat, np.eye(flat.shape[0]), size=1)\n",
    "        #  reshape the weight or bias\n",
    "        p[k] = new.reshape(v.shape)\n",
    "    return p\n",
    "\n",
    "pop = [sample_params(best) for _ in range(pop_size)]"
   ]
  },
  {
   "cell_type": "code",
   "execution_count": null,
   "metadata": {},
   "outputs": [],
   "source": [
    "results = list(map(partial(episode, env_id=env_id), pop))\n",
    "print(np.mean(results))"
   ]
  },
  {
   "cell_type": "markdown",
   "metadata": {},
   "source": [
    "## Practical\n",
    "\n",
    "Take the components above and put them together:\n",
    "- implement an evolutionary method using `map` (single core)\n",
    "- implement an evolutionary method using `pool.map` (multi-core)\n",
    "\n",
    "```\n",
    "initialize a population of parameters\n",
    "\n",
    "for generation in generation\n",
    "    test parameters in the environment\n",
    "    select the best\n",
    "    generate new parameters using the best\n",
    "```"
   ]
  },
  {
   "cell_type": "code",
   "execution_count": null,
   "metadata": {},
   "outputs": [],
   "source": [
    "generations = 64\n",
    "pop_size = 32\n",
    "\n",
    "#  cartpole broken\n",
    "env_id = 'MountainCarContinuous-v0'\n",
    "env_id = 'CartPole-v0'\n",
    "\n",
    "h_size = 10\n",
    "env, forward, i_size, o_size = make_env(env_id)\n",
    "params = initialize_parameters(i_size, h_size, o_size)\n",
    "\n",
    "pop = [initialize_parameters(i_size, h_size, o_size) for _ in range(pop_size)]\n",
    "for generation in range(generations):\n",
    "    #  test\n",
    "    results = list(map(partial(episode, env_id=env_id), pop))\n",
    "    print(np.mean(results))\n",
    "    #  select\n",
    "    best = pop[np.argmax(results)]\n",
    "    pop = [sample_params(best) for _ in range(pop_size)]\n",
    "    save_params(best, env_id, agent_id=generation)"
   ]
  },
  {
   "cell_type": "code",
   "execution_count": null,
   "metadata": {},
   "outputs": [],
   "source": []
  }
 ],
 "metadata": {
  "kernelspec": {
   "display_name": "Python 3 (ipykernel)",
   "language": "python",
   "name": "python3"
  },
  "language_info": {
   "codemirror_mode": {
    "name": "ipython",
    "version": 3
   },
   "file_extension": ".py",
   "mimetype": "text/x-python",
   "name": "python",
   "nbconvert_exporter": "python",
   "pygments_lexer": "ipython3",
   "version": "3.8.12"
  }
 },
 "nbformat": 4,
 "nbformat_minor": 4
}

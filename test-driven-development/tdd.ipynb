{
 "cells": [
  {
   "cell_type": "markdown",
   "metadata": {},
   "source": [
    "The first step in developing code in a TDD style is to \n",
    "- write the function skeleton\n",
    "- write the test\n",
    "- check the test fails"
   ]
  },
  {
   "cell_type": "code",
   "execution_count": null,
   "metadata": {},
   "outputs": [],
   "source": [
    "def one_hot(data):\n",
    "    pass\n",
    "\n",
    "\n",
    "def test_one_hot():\n",
    "    data = ['left', 'left', 'right', 'straight']\n",
    "    \n",
    "    encoded = one_hot(data)\n",
    "    \n",
    "    #  check we have the correct number of rows\n",
    "    assert encoded.shape[0] == len(data)\n",
    "    \n",
    "    #  check columns are in the correct order (alphabetical)\n",
    "    assert (encoded.columns == ['left', 'right', 'straight']).all()\n",
    "    \n",
    "    #  check only one category in each row\n",
    "    assert encoded.sum(axis=1).all() == 1\n",
    "    \n",
    "    #  numpy testing is very handy for comparing arrays\n",
    "    np.testing.assert_array_equal(encoded.loc[:, 'left'], [1, 1, 0, 0])\n",
    "    np.testing.assert_array_equal(encoded.loc[:, 'right'], [0, 0, 1, 0])\n",
    "    np.testing.assert_array_equal(encoded.loc[:, 'straight'], [0, 0, 0, 1])\n",
    "    \n",
    "test_one_hot()"
   ]
  },
  {
   "cell_type": "markdown",
   "metadata": {},
   "source": [
    "Note how before we have written any functional code, we are already thinking about\n",
    "- what order the columns should be in (alphabetical)\n",
    "- that encoded should return a Pandas DataFrame\n",
    "\n",
    "Also note how we (as the reader) can understand the intention of the function - this is executable documentation.\n",
    "\n",
    "Lets write our function:"
   ]
  },
  {
   "cell_type": "code",
   "execution_count": null,
   "metadata": {},
   "outputs": [],
   "source": [
    "def one_hot(data):\n",
    "    columns = sorted(set(data))\n",
    "\n",
    "    values = np.zeros((len(data), len(columns)))\n",
    "\n",
    "    for row, d in enumerate(data):\n",
    "        col = columns.index(d)\n",
    "        values[row, col] = 1\n",
    "        \n",
    "    return pd.DataFrame(values, columns=columns)\n",
    "\n",
    "test_one_hot()"
   ]
  },
  {
   "cell_type": "markdown",
   "metadata": {},
   "source": [
    "Now lets see if our function generalizes:"
   ]
  },
  {
   "cell_type": "code",
   "execution_count": null,
   "metadata": {},
   "outputs": [],
   "source": [
    "one_hot(['cat', 'dog', 'fish', 'fish', 'dog'])"
   ]
  },
  {
   "cell_type": "markdown",
   "metadata": {},
   "source": [
    "## Exercise\n",
    "\n",
    "Now follow the same TDD style to write a test & function to normalize a 2D array\n",
    "\n",
    "$$ y = \\frac{x - x_{min}}{x_{max} - x_{min}} $$"
   ]
  },
  {
   "cell_type": "code",
   "execution_count": null,
   "metadata": {},
   "outputs": [],
   "source": []
  }
 ],
 "metadata": {
  "kernelspec": {
   "display_name": "Python 3",
   "language": "python",
   "name": "python3"
  },
  "language_info": {
   "codemirror_mode": {
    "name": "ipython",
    "version": 3
   },
   "file_extension": ".py",
   "mimetype": "text/x-python",
   "name": "python",
   "nbconvert_exporter": "python",
   "pygments_lexer": "ipython3",
   "version": "3.6.8"
  }
 },
 "nbformat": 4,
 "nbformat_minor": 4
}

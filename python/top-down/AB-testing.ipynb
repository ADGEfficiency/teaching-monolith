{
 "cells": [
  {
   "cell_type": "markdown",
   "metadata": {},
   "source": [
    "## The A/B testing problem\n",
    "\n",
    "In this notebook we will write a Python program for A/B testing.  Writing the program is all about it's structure - the specific **data structures** (such as `list` or `dict`) and how we use them.\n",
    "\n",
    "The two options we want to A/B test are an old website or new website.  You have the ability to **sample data** for both options, by directing traffic to the old or new website.  \n",
    "\n",
    "We want to optimize for **bounce rate** - the percentage of visitors to a particular website who navigate away from the site after viewing only one page.  The bounce rate can be thought of as our reward signal or fitness function.\n",
    "\n",
    "Lets make a **list** called `websites` to hold our two websites as **strings** - `old` and `new`:"
   ]
  },
  {
   "cell_type": "code",
   "execution_count": null,
   "metadata": {},
   "outputs": [],
   "source": [
    "websites = ['old', 'new']"
   ]
  },
  {
   "cell_type": "markdown",
   "metadata": {},
   "source": [
    "We can access them using an **integer index**.  Python uses **zero based indexing**.  Other languages such as R use one based indexing.\n",
    "\n",
    "In Python the first element is at `0`:"
   ]
  },
  {
   "cell_type": "code",
   "execution_count": null,
   "metadata": {},
   "outputs": [],
   "source": [
    "websites[0]"
   ]
  },
  {
   "cell_type": "markdown",
   "metadata": {},
   "source": [
    "The second element is at `1`:"
   ]
  },
  {
   "cell_type": "code",
   "execution_count": null,
   "metadata": {},
   "outputs": [],
   "source": [
    "websites[1]"
   ]
  },
  {
   "cell_type": "markdown",
   "metadata": {},
   "source": [
    "In the real world data would be generated for us by choosing which website to show to each user and recording the bounce rate.\n",
    "\n",
    "Here we will build a **simple model** of the world to simulate this data generating process.  What would be a good choice of a model?\n",
    "\n",
    "The **Central Limit Theorem** tells us that many real world processes look normally distributed.  This suggests that a normal (aka Gaussian) distribution is a good choice.\n",
    "\n",
    "## Importing objects\n",
    "\n",
    "Python is a **batteries included** language - meaning we can do alot with the standard library.  We won't need to form a Gaussian kernel ourselves.\n",
    "\n",
    "We can `import` **objects** from **modules** of the Python standard library.  \n",
    "\n",
    "Let's `import` `gauss` and `seed` from the `random` module:"
   ]
  },
  {
   "cell_type": "code",
   "execution_count": null,
   "metadata": {},
   "outputs": [],
   "source": [
    "from random import gauss, seed"
   ]
  },
  {
   "cell_type": "markdown",
   "metadata": {},
   "source": [
    "What are these three things we have imported?  We can use the Python **builtin function** `type`:"
   ]
  },
  {
   "cell_type": "code",
   "execution_count": null,
   "metadata": {},
   "outputs": [],
   "source": [
    "type(gauss)"
   ]
  },
  {
   "cell_type": "markdown",
   "metadata": {},
   "source": [
    "When using iPython (Jupyter notebooks all run iPython), we can get even more infomation about objects using the `?` after the object:"
   ]
  },
  {
   "cell_type": "code",
   "execution_count": null,
   "metadata": {},
   "outputs": [],
   "source": [
    "gauss?"
   ]
  },
  {
   "cell_type": "markdown",
   "metadata": {},
   "source": [
    "And even more info with two `??` after the object"
   ]
  },
  {
   "cell_type": "code",
   "execution_count": null,
   "metadata": {},
   "outputs": [],
   "source": [
    "gauss??"
   ]
  },
  {
   "cell_type": "markdown",
   "metadata": {},
   "source": [
    "The `gauss` function take two arguments.  These two arguments are the **statistics** needed to parameterize a Gaussian (aka normal) distribution - the mean (`mu`) and the standard deviation (`sigma`).  \n",
    "\n",
    "We can use the `gauss` function to sample from a **standard normal** distribution, by setting `mu=0` & `sigma=1`.  \n",
    "\n",
    "We can do this via **calling** the `gauss` method with **positional** or **keyword** arguments:"
   ]
  },
  {
   "cell_type": "code",
   "execution_count": null,
   "metadata": {},
   "outputs": [],
   "source": [
    "gauss(0, sigma=1)"
   ]
  },
  {
   "cell_type": "markdown",
   "metadata": {},
   "source": [
    "Sampling from this Gaussian is a psuedorandom process.  We can use `seed` to control the generation of random numbers.\n",
    "\n",
    "We would like to have some confidence that the random seed works as expected.  Here we will write a simple **test** to comfirm that `seed` is working.\n",
    "\n",
    "Some of the tools that might be useful are `print`:"
   ]
  },
  {
   "cell_type": "code",
   "execution_count": null,
   "metadata": {},
   "outputs": [],
   "source": [
    "print(gauss(0, sigma=1))"
   ]
  },
  {
   "cell_type": "markdown",
   "metadata": {},
   "source": [
    "One of Python's **comparison operators** (such as `==`):"
   ]
  },
  {
   "cell_type": "code",
   "execution_count": null,
   "metadata": {},
   "outputs": [],
   "source": [
    "gauss(0, sigma=1) == 0"
   ]
  },
  {
   "cell_type": "markdown",
   "metadata": {},
   "source": [
    "An `assert` statement:"
   ]
  },
  {
   "cell_type": "code",
   "execution_count": null,
   "metadata": {},
   "outputs": [],
   "source": [
    "assert 1.0 == 1"
   ]
  },
  {
   "cell_type": "markdown",
   "metadata": {},
   "source": [
    "## Exercise\n",
    "\n",
    "Write some code to **test** `seed`.  You want to check that\n",
    "- when you reset the seed the random numbers generated are the same\n",
    "- when you don't reset the seed, they are different"
   ]
  },
  {
   "cell_type": "code",
   "execution_count": null,
   "metadata": {},
   "outputs": [],
   "source": []
  },
  {
   "cell_type": "markdown",
   "metadata": {},
   "source": [
    "When do you think we should be using random seeds in data science?\n",
    "\n",
    "Returning to our purpose for using `gauss` - we want to model the data generating process for our two websites.  \n",
    "That means we need to assume statistics for the two websites.  Let's look again at the data structure for our options:"
   ]
  },
  {
   "cell_type": "code",
   "execution_count": null,
   "metadata": {},
   "outputs": [],
   "source": [
    "websites"
   ]
  },
  {
   "cell_type": "markdown",
   "metadata": {},
   "source": [
    "A better data structure here is a **dictionary**.  Let's make a `dict` where the `key` is the website option name, and the `value` is a list of the statistics (mean & standard deviation) for that website:"
   ]
  },
  {
   "cell_type": "code",
   "execution_count": null,
   "metadata": {},
   "outputs": [],
   "source": [
    "websites = {\n",
    "    'old': [50, 1], \n",
    "    'new': [50, 3]\n",
    "}"
   ]
  },
  {
   "cell_type": "markdown",
   "metadata": {},
   "source": [
    "We can access our options using a now familar syntax, but with a `key` as the index:"
   ]
  },
  {
   "cell_type": "code",
   "execution_count": null,
   "metadata": {},
   "outputs": [],
   "source": [
    "websites['old']"
   ]
  },
  {
   "cell_type": "markdown",
   "metadata": {},
   "source": [
    "But we can do better here.  One problem we have is that our statistics are **mutable** - our user change the statistics:"
   ]
  },
  {
   "cell_type": "code",
   "execution_count": null,
   "metadata": {},
   "outputs": [],
   "source": [
    "websites['old'][0] = 25"
   ]
  },
  {
   "cell_type": "markdown",
   "metadata": {},
   "source": [
    "Python offers a mutable data structure - the `tuple`.\n",
    "\n",
    "Let's recreate our website dictionary:"
   ]
  },
  {
   "cell_type": "code",
   "execution_count": null,
   "metadata": {},
   "outputs": [],
   "source": [
    "websites = {\n",
    "    'old': (50, 1),\n",
    "    'new': (50, 3)\n",
    "}"
   ]
  },
  {
   "cell_type": "markdown",
   "metadata": {},
   "source": [
    "One more problem - the user who is using our website dictionary doesn't know what two numbers are!  To fix this we will use a `namedtuple` from (my favourite) module - the `collections` module.\n",
    "\n",
    "One of the strengths of Python is the quality of the higher level data structures!\n",
    "\n",
    "Below is an example of using a `namedtuple`:"
   ]
  },
  {
   "cell_type": "code",
   "execution_count": null,
   "metadata": {},
   "outputs": [],
   "source": [
    "from collections import namedtuple\n",
    "\n",
    "Stat = namedtuple('Statistics', ['mu', 'sigma'])\n",
    "\n",
    "Stat(0, 1)"
   ]
  },
  {
   "cell_type": "markdown",
   "metadata": {},
   "source": [
    "## Practical\n",
    "\n",
    "Rewrite our `websites` dictionary to use `namedtuple` for the statistics:"
   ]
  },
  {
   "cell_type": "code",
   "execution_count": null,
   "metadata": {},
   "outputs": [],
   "source": []
  },
  {
   "cell_type": "markdown",
   "metadata": {},
   "source": [
    "## Turning the Gaussian into a bounce rate\n",
    "\n",
    "The bounce rate is a percentage, with bounds of $[0, 1]$.  We will need to slightly modify our `gauss` to give us a sensible bounce rate.  \n",
    "\n",
    "Let's write a **function** called `bounce` that wraps around the `gauss`.  \n",
    "\n",
    "You will find the `min` and `max` Python builtins useful (bonus points for a **[doc string](https://realpython.com/python-pep8/#documentation-strings)**)."
   ]
  },
  {
   "cell_type": "code",
   "execution_count": null,
   "metadata": {},
   "outputs": [],
   "source": [
    "def bounce(mu, sigma):\n",
    "    value = gauss(mu, sigma)\n",
    "    return min(max(value, 0), 1)"
   ]
  },
  {
   "cell_type": "code",
   "execution_count": null,
   "metadata": {},
   "outputs": [],
   "source": [
    "bounce(0.5, 0.5)"
   ]
  },
  {
   "cell_type": "markdown",
   "metadata": {},
   "source": [
    "## Optimize the A/B test\n",
    "\n",
    "Now that we have a data structure for the data generating process, we can sample data from it.  We need a data structure to store data - the `list` is a good choice here.\n",
    "\n",
    "One very useful Python builtin in is `dir` - primarily as a convenience for use at an interactive prompt.\n",
    "\n",
    "When we run `dir()` with no arguments, it will return a list of names in the current scope:"
   ]
  },
  {
   "cell_type": "code",
   "execution_count": null,
   "metadata": {},
   "outputs": [],
   "source": [
    "dir()"
   ]
  },
  {
   "cell_type": "markdown",
   "metadata": {},
   "source": [
    "We can use `dir()` on an object as well - it will return a list of **attributes** and **methods** of the object:"
   ]
  },
  {
   "cell_type": "code",
   "execution_count": null,
   "metadata": {},
   "outputs": [],
   "source": [
    "dir(list)"
   ]
  },
  {
   "cell_type": "markdown",
   "metadata": {},
   "source": [
    "One of the attributes above is the `append` method, which we can use to store results from our sampling our websites:"
   ]
  },
  {
   "cell_type": "code",
   "execution_count": null,
   "metadata": {},
   "outputs": [],
   "source": [
    "gauss(websites['old'].mu, websites['old'].sigma)"
   ]
  },
  {
   "cell_type": "markdown",
   "metadata": {},
   "source": [
    "A shortcut for the above is to **explode** the arguments into `gauss` using `*` (this will work with any iterable):"
   ]
  },
  {
   "cell_type": "code",
   "execution_count": null,
   "metadata": {},
   "outputs": [],
   "source": [
    "gauss(*websites['old'])"
   ]
  },
  {
   "cell_type": "markdown",
   "metadata": {},
   "source": [
    "## Back to the lab\n",
    "\n",
    "Let's run an experiment.  We will sample from both options the same number of times in series.  To do this we will need iterate for a given number of steps.\n",
    "\n",
    "We can do the iteration with a `for` loop and the Python built-in `range`.  Write a `for` loop that iterates for a given number of steps, and stores the data in two lists."
   ]
  },
  {
   "cell_type": "code",
   "execution_count": null,
   "metadata": {},
   "outputs": [],
   "source": [
    "old, new = [], []\n",
    "for _ in range(10):\n",
    "    old.append(gauss(*websites['old']))\n",
    "    new.append(gauss(*websites['new']))\n",
    "    \n",
    "old"
   ]
  },
  {
   "cell_type": "markdown",
   "metadata": {},
   "source": [
    "But we can do better.  Let's use the `defaultdict` ([blog post](https://adgefficiency.com/defaultdict/))., which is also in the `collections` module. \n",
    "\n",
    "Use a `list` as the default value.  What does using a `defaultdict` give us?"
   ]
  },
  {
   "cell_type": "code",
   "execution_count": null,
   "metadata": {},
   "outputs": [],
   "source": [
    "from collections import defaultdict\n",
    "\n",
    "steps = 10\n",
    "data = defaultdict(list)\n",
    "\n",
    "for step in range(steps):\n",
    "    data['old'].append(bounce(*websites['old']))\n",
    "    data['new'].append(bounce(*websites['new']))"
   ]
  },
  {
   "cell_type": "markdown",
   "metadata": {},
   "source": [
    "## Evaluation of option performance\n",
    "\n",
    "One way to analyze these results would be to look at the average reward.  Let's get the mean reward our two options experienced.  \n",
    "\n",
    "We will use two of the Python bulitins - `sum` and `len`:"
   ]
  },
  {
   "cell_type": "code",
   "execution_count": null,
   "metadata": {},
   "outputs": [],
   "source": [
    "def mean(samples):\n",
    "    return sum(samples) / len(samples)"
   ]
  },
  {
   "cell_type": "markdown",
   "metadata": {},
   "source": [
    "We use on of the three Python's API's yor string formatting\n",
    "-`:10.4f` is the format specification\n",
    "-`f` denotes fixed-point notation\n",
    "-`10` is the total width of the field being printed, lefted-padded by spaces\n",
    "-`4` is the number of digits after the decimal point\n",
    "\n",
    "The other two are\n",
    "- the older `%` style\n",
    "- the Python 3.7 f-string\n",
    "\n",
    "Having multiple ways to do one thing in a programming language is almost never good (see TensorFlow 1.0, matplotlib).\n",
    "\n",
    "We can access both the name & rewards experienced oy our options as by calling the `items` and iterating over what comes back:"
   ]
  },
  {
   "cell_type": "code",
   "execution_count": null,
   "metadata": {},
   "outputs": [],
   "source": [
    "for name, rewards in data.items():\n",
    "    print('{} {:6.2f}'.format(name, mean(rewards)))"
   ]
  },
  {
   "cell_type": "markdown",
   "metadata": {},
   "source": [
    "## Optimizing website selection\n",
    "\n",
    "In the real world we will want to pick the best website more often as we are learning - let's try to do that.  \n",
    "\n",
    "We will introduce a function that picks a website design based the highest observed average reward (this is known as a greedy policy in reinforcement learning).\n",
    "\n",
    "First we need a way to do an **argmax** - to get the index of the highest item in the list.  Let's write this function like a software engineer would - using **test driven development** (we \n",
    "\n",
    "First we write data to test with:"
   ]
  },
  {
   "cell_type": "code",
   "execution_count": null,
   "metadata": {},
   "outputs": [],
   "source": [
    "data = [0, 3, 2]\n",
    "expected = 1"
   ]
  },
  {
   "cell_type": "markdown",
   "metadata": {},
   "source": [
    "Now let's write our function.  We can use a combination of the Python builtin `max` and the `index` method of the list (note that you would most likely use `numpy.argmax`)."
   ]
  },
  {
   "cell_type": "code",
   "execution_count": null,
   "metadata": {},
   "outputs": [],
   "source": [
    "def argmax(data):\n",
    "    return data.index(max(data))\n",
    "\n",
    "assert argmax(data) == expected"
   ]
  },
  {
   "cell_type": "markdown",
   "metadata": {},
   "source": [
    "For a given dataset, the function above will always select the same website.\n",
    "\n",
    "The final piece of the puzzle is a way to **explore** - we can do this by randomly selecting a website.  \n",
    "\n",
    "Write a function to randomly select a website - you will need the `random.random` function and most likely an `if` statement."
   ]
  },
  {
   "cell_type": "code",
   "execution_count": null,
   "metadata": {},
   "outputs": [],
   "source": []
  },
  {
   "cell_type": "markdown",
   "metadata": {},
   "source": [
    "## Final exercise\n",
    "\n",
    "You now have all the tools to run an A/B test.\n",
    "\n",
    "Let's run a experiment where we:\n",
    "1. collect data by randomly selecting a website for 6 steps\n",
    "2. use that data to greedily select a website for another 20 steps\n",
    "3. calculate the bounce rate across all the websites"
   ]
  },
  {
   "cell_type": "code",
   "execution_count": null,
   "metadata": {},
   "outputs": [],
   "source": []
  }
 ],
 "metadata": {
  "kernelspec": {
   "display_name": "Python 3",
   "language": "python",
   "name": "python3"
  },
  "language_info": {
   "codemirror_mode": {
    "name": "ipython",
    "version": 3
   },
   "file_extension": ".py",
   "mimetype": "text/x-python",
   "name": "python",
   "nbconvert_exporter": "python",
   "pygments_lexer": "ipython3",
   "version": "3.6.8"
  }
 },
 "nbformat": 4,
 "nbformat_minor": 4
}

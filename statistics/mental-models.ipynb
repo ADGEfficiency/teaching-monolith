{
 "cells": [
  {
   "cell_type": "markdown",
   "metadata": {},
   "source": [
    "## 80/20 of data science\n",
    "\n",
    "Knowing when to use the mean versus median\n",
    "- always report both\n",
    "\n",
    "Knowing when the ranks matter versus when the absolute values matter\n",
    "- can allow you to change a regression problem into a classification problem\n",
    "\n",
    "## How does bias change with more data?\n",
    "\n",
    "[Statistical Thinking for Data Science | SciPy 2015 | Chris Fonnesbeck](https://www.youtube.com/watch?v=TGGGDpb04Yc)\n",
    "\n",
    "Bias = systematic error (wrong in the same direction all the time)\n",
    "\n",
    "Does experiment looking at how sample size changes bias (min 8)\n",
    "- induces bias intentionally by ignoring negative values 50% of the time\n",
    "- shows that bias gets worse with sample size!\n",
    "- highly precise wrong answers\n",
    "\n",
    "## Practical\n",
    "\n",
    "Investigate how bias changes with sample size"
   ]
  },
  {
   "cell_type": "code",
   "execution_count": null,
   "metadata": {},
   "outputs": [],
   "source": []
  },
  {
   "cell_type": "markdown",
   "metadata": {},
   "source": [
    "## Simpsons paradox\n",
    "\n",
    "[Wikipedia](https://en.wikipedia.org/wiki/Simpson%27s_paradox)\n",
    "\n",
    "Trend appearing in several different groups that reverses when groups are combined\n",
    "\n",
    "![](./assets/si.gif)\n",
    "\n",
    "Study of gender bias among graduate school admissions to University of California, Berkeley. The admission figures for the fall of 1973:\n",
    "\n",
    "![](./assets/simpson1.png)\n",
    "\n",
    "The figures indicate that men are less likely to be admitted.  The effect is unlikely to be due to chance.\n",
    "\n",
    "But if we examine the six largest departments:\n",
    "\n",
    "![](./assets/simpson2.png)\n",
    "\n",
    "Bickel et. al (1975) concluded\n",
    "- women tended to apply for competitive departments with lowel admission rates (English)\n",
    "- men apply for less competitive departments with high rates of admission (engineering, chemistry)\n",
    "\n",
    "I think it is more a commentary on lack of funding (more funding = less competition)\n",
    "\n",
    "## Survivorship bias\n",
    "\n",
    "[Statistical Thinking for Data Science | SciPy 2015 | Chris Fonnesbeck](https://www.youtube.com/watch?v=TGGGDpb04Yc)\n",
    "\n",
    "Cat survivorship numbers being higher [NY Times](https://www.nytimes.com/1989/08/22/science/on-landing-like-a-cat-it-is-a-fact.html\n",
    ")\n",
    "\n",
    ">>>\n",
    "From June 4 through Nov. 4, 1984, for instance, 132 such victims were admitted to the Animal Medical Center on 62d Street in Manhattan.\n",
    "Most of the cats landed on concrete. Most survived. Experts believe they were able to do so because of the laws of physics, superior balance and what might be called the flying-squirrel tactic.\n",
    "Even more surprising, the longer the fall, the greater the chance of survival. Only one of 22 cats that plunged from above 7 stories died, and there was only one fracture among the 13 that fell more than 9 stories. The cat that fell 32 stories on concrete, Sabrina, suffered a mild lung puncture and a chipped tooth. She was released from the hospital after 48 hours.\n",
    ">>>\n",
    "\n",
    "Survivorship\n",
    "- found data\n",
    "- conveinent data\n",
    "- is the missing data related to the target?\n",
    "\n",
    "Self selection bias\n",
    "- can choose to report data or not"
   ]
  },
  {
   "cell_type": "markdown",
   "metadata": {},
   "source": []
  },
  {
   "cell_type": "markdown",
   "metadata": {},
   "source": [
    "## The Baltimore stockbroker\n",
    "\n",
    "Chapter 6 of [How Not to Be Wrong: The Power of Mathematical Thinking - Jordan Ellenberg](https://en.wikipedia.org/wiki/How_Not_to_Be_Wrong).\n",
    "\n",
    "You recieve mail from a stockbroker who correctly predicts the movement of stock prices\n",
    "- this continues for 10 weeks\n",
    "\n",
    "We can calculate the probability of this happening:"
   ]
  },
  {
   "cell_type": "code",
   "execution_count": 5,
   "metadata": {},
   "outputs": [
    {
     "data": {
      "text/plain": [
       "0.0009765625"
      ]
     },
     "execution_count": 5,
     "metadata": {},
     "output_type": "execute_result"
    }
   ],
   "source": [
    "0.5 ** 10"
   ]
  },
  {
   "cell_type": "markdown",
   "metadata": {},
   "source": [
    "If we instead look at it from the stockbrokers perspective\n",
    "- send 10,240 letters in the first week\n",
    "- send 5,120 in the second (to those who we got the first week correct)\n",
    "- continue for 10 weeks, and we have 10 people who have recieved perfect predictions\n",
    "\n",
    "The kef is to understand how many chances did the stockbroker have\n",
    "- not only the probablility\n",
    "\n",
    "Improbable things happen a lot"
   ]
  },
  {
   "cell_type": "code",
   "execution_count": 6,
   "metadata": {},
   "outputs": [
    {
     "data": {
      "text/plain": [
       "10.0"
      ]
     },
     "execution_count": 6,
     "metadata": {},
     "output_type": "execute_result"
    }
   ],
   "source": [
    "10240 * 0.5 ** 10"
   ]
  },
  {
   "cell_type": "code",
   "execution_count": null,
   "metadata": {},
   "outputs": [],
   "source": []
  }
 ],
 "metadata": {
  "kernelspec": {
   "display_name": "Python 3",
   "language": "python",
   "name": "python3"
  },
  "language_info": {
   "codemirror_mode": {
    "name": "ipython",
    "version": 3
   },
   "file_extension": ".py",
   "mimetype": "text/x-python",
   "name": "python",
   "nbconvert_exporter": "python",
   "pygments_lexer": "ipython3",
   "version": "3.6.8"
  }
 },
 "nbformat": 4,
 "nbformat_minor": 4
}

{
 "cells": [
  {
   "cell_type": "markdown",
   "metadata": {},
   "source": [
    "## API versus web-scraping\n",
    "\n",
    "Both are ways to sample data from the internet\n",
    "\n",
    "API\n",
    "- structured\n",
    "- limited data / rate limits\n",
    "- parsing JSON\n",
    "\n",
    "Web scraping\n",
    "- less structure\n",
    "- parsing HTML\n",
    "\n",
    "This notebook covers **web scraping**.  It is reccomended that you have worked with the [using-an-API.ipynb]() notebook before working through this one.\n",
    "\n",
    "## Web scraping\n",
    "\n",
    "Two processes\n",
    "1. fetching a webpage HTML\n",
    "2. extracting data from the HTML\n",
    "\n",
    "Note that some websites do not want to be scraped!  They may offer an API instead (try to find a *For Developers* page on their website).\n",
    "\n",
    "## Fetching HTML\n",
    "\n",
    "We will be scraping Wikipedia.  We will be scraping the Wiki pages for the three recipients of the 2018 Turing Award \n",
    "- [Yann LeCun](https://en.wikipedia.org/wiki/Yann_LeCun) - Chief AI Scientist at Facebook\n",
    "- \n",
    "\n",
    "First we need a data structure to hold the URL's of our three deep learning pioneers.  Let's use a `dict`:"
   ]
  },
  {
   "cell_type": "code",
   "execution_count": null,
   "metadata": {},
   "outputs": [],
   "source": [
    "pioneers = {\n",
    "    'lecun': 'https://en.wikipedia.org/wiki/Yann_LeCun'\n",
    "}"
   ]
  },
  {
   "cell_type": "code",
   "execution_count": null,
   "metadata": {},
   "outputs": [],
   "source": [
    "!pip install -q requests\n",
    "import requests\n",
    "\n",
    "response = requests.get(pioneers['lecun'])"
   ]
  },
  {
   "cell_type": "markdown",
   "metadata": {},
   "source": [
    "We can look at the HTML content we get back - this is the same HTML that your browser uses to render a page:"
   ]
  },
  {
   "cell_type": "code",
   "execution_count": null,
   "metadata": {},
   "outputs": [],
   "source": [
    "response.text[:250]"
   ]
  },
  {
   "cell_type": "code",
   "execution_count": null,
   "metadata": {},
   "outputs": [],
   "source": [
    "len(response.text)"
   ]
  },
  {
   "cell_type": "markdown",
   "metadata": {},
   "source": [
    "## Parsing HTML\n",
    "\n",
    "We need some way to parse this HTML text - to do this we will use **beautiful soup**:"
   ]
  },
  {
   "cell_type": "code",
   "execution_count": null,
   "metadata": {},
   "outputs": [],
   "source": [
    "!pip install -q bs4\n",
    "from bs4 import BeautifulSoup\n",
    "\n",
    "soup = BeautifulSoup(response.text, 'lxml')\n",
    "\n",
    "#  uncomment out the line below - warining - it prints out a lot!\n",
    "# print(soup.prettify())"
   ]
  },
  {
   "cell_type": "markdown",
   "metadata": {},
   "source": [
    "We can use beautiful soup to parse the HTML for specific tags:\n",
    "\n",
    "https://en.wikipedia.org/wiki/File:Yann_LeCun_-_2018_(cropped).jpg"
   ]
  },
  {
   "cell_type": "code",
   "execution_count": null,
   "metadata": {},
   "outputs": [],
   "source": [
    "soup.title"
   ]
  },
  {
   "cell_type": "markdown",
   "metadata": {},
   "source": [
    "## Developer tools\n",
    "\n",
    "One useful tool in web development are the **Developer Tools** included in modern browsers:"
   ]
  },
  {
   "cell_type": "markdown",
   "metadata": {},
   "source": [
    "![](../assets/dev1.png)\n",
    "\n",
    "The **Inspect elements** tool allows us to find the HTML block for the biography table:\n",
    "\n",
    "![](../assets/dev2.png)"
   ]
  },
  {
   "cell_type": "markdown",
   "metadata": {},
   "source": [
    "Let's find the table:"
   ]
  },
  {
   "cell_type": "code",
   "execution_count": null,
   "metadata": {},
   "outputs": [],
   "source": [
    "table = soup.find('table', 'infobox biography vcard')"
   ]
  },
  {
   "cell_type": "markdown",
   "metadata": {},
   "source": [
    "## Tables in HTML\n",
    "\n",
    "`tr` = row\n",
    "\n",
    "`th` = header cell\n",
    "\n",
    "`td` = data cell\n",
    "\n",
    "Let's take a look at the third row (**Born**):"
   ]
  },
  {
   "cell_type": "code",
   "execution_count": null,
   "metadata": {},
   "outputs": [],
   "source": [
    "rows = [r for r in table.find_all('tr')]\n",
    "row = rows[2]"
   ]
  },
  {
   "cell_type": "markdown",
   "metadata": {},
   "source": [
    "The header:"
   ]
  },
  {
   "cell_type": "code",
   "execution_count": null,
   "metadata": {},
   "outputs": [],
   "source": [
    "row.find('th')"
   ]
  },
  {
   "cell_type": "markdown",
   "metadata": {},
   "source": [
    "The data:"
   ]
  },
  {
   "cell_type": "code",
   "execution_count": null,
   "metadata": {},
   "outputs": [],
   "source": [
    "row.find('td')"
   ]
  },
  {
   "cell_type": "markdown",
   "metadata": {},
   "source": [
    "We can also get the text from these HTML elements:"
   ]
  },
  {
   "cell_type": "code",
   "execution_count": null,
   "metadata": {},
   "outputs": [],
   "source": [
    "row.find('td').text"
   ]
  },
  {
   "cell_type": "markdown",
   "metadata": {},
   "source": [
    "We can store this data in a dictionary:"
   ]
  },
  {
   "cell_type": "code",
   "execution_count": null,
   "metadata": {},
   "outputs": [],
   "source": [
    "data = {}\n",
    "\n",
    "data[row.find('th').text] = row.find('td').text\n",
    "data"
   ]
  },
  {
   "cell_type": "markdown",
   "metadata": {},
   "source": [
    "## Exercise\n",
    "\n",
    "Let's iterate over the rows in the biography table and store each row in a list of dictionaries.\n",
    "\n",
    "Note that you might encounter a row without a header - in this case `bs4` will return `None`:"
   ]
  },
  {
   "cell_type": "code",
   "execution_count": null,
   "metadata": {},
   "outputs": [],
   "source": [
    "header = rows[6].find('th')\n",
    "\n",
    "print(header)"
   ]
  },
  {
   "cell_type": "markdown",
   "metadata": {},
   "source": [
    "You can deal with this by taking advantage of `None` being *falsey* in Python:"
   ]
  },
  {
   "cell_type": "code",
   "execution_count": null,
   "metadata": {},
   "outputs": [],
   "source": [
    "obj = None\n",
    "\n",
    "if obj:\n",
    "    print('obj is truthy')\n",
    "else:\n",
    "    print('obj is falsey')"
   ]
  },
  {
   "cell_type": "code",
   "execution_count": null,
   "metadata": {},
   "outputs": [],
   "source": []
  },
  {
   "cell_type": "code",
   "execution_count": null,
   "metadata": {},
   "outputs": [],
   "source": []
  },
  {
   "cell_type": "code",
   "execution_count": null,
   "metadata": {},
   "outputs": [],
   "source": []
  },
  {
   "cell_type": "markdown",
   "metadata": {},
   "source": [
    "## Finding links\n",
    "\n",
    "Another common task when parsing HTML is to look for links - in HTML links have an `a` tag.  \n",
    "\n",
    "Let's find all the links in the **References** section - which is a `div` element:"
   ]
  },
  {
   "cell_type": "code",
   "execution_count": null,
   "metadata": {},
   "outputs": [],
   "source": [
    "table = soup.find('div', 'mw-references-wrap mw-references-columns')"
   ]
  },
  {
   "cell_type": "code",
   "execution_count": null,
   "metadata": {},
   "outputs": [],
   "source": [
    "links = [link for link in table.find_all('a')]\n",
    "\n",
    "li = links[1]\n",
    "\n",
    "li"
   ]
  },
  {
   "cell_type": "code",
   "execution_count": null,
   "metadata": {},
   "outputs": [],
   "source": [
    "li['href']"
   ]
  },
  {
   "cell_type": "code",
   "execution_count": null,
   "metadata": {},
   "outputs": [],
   "source": [
    "li.text"
   ]
  },
  {
   "cell_type": "markdown",
   "metadata": {},
   "source": [
    "We can store a link in a `namedtuple`:"
   ]
  },
  {
   "cell_type": "code",
   "execution_count": null,
   "metadata": {},
   "outputs": [],
   "source": [
    "from collections import namedtuple\n",
    "\n",
    "Link = namedtuple('Link', ['text', 'url'])\n",
    "\n",
    "Link(li.text, li['href'])"
   ]
  },
  {
   "cell_type": "markdown",
   "metadata": {},
   "source": [
    "## Exercise\n",
    "\n",
    "Create a list of the links from the **External Links** section:"
   ]
  },
  {
   "cell_type": "code",
   "execution_count": null,
   "metadata": {},
   "outputs": [],
   "source": []
  }
 ],
 "metadata": {
  "kernelspec": {
   "display_name": "Python 3",
   "language": "python",
   "name": "python3"
  },
  "language_info": {
   "codemirror_mode": {
    "name": "ipython",
    "version": 3
   },
   "file_extension": ".py",
   "mimetype": "text/x-python",
   "name": "python",
   "nbconvert_exporter": "python",
   "pygments_lexer": "ipython3",
   "version": "3.6.8"
  }
 },
 "nbformat": 4,
 "nbformat_minor": 4
}

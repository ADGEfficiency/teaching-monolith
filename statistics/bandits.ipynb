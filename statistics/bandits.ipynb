{
 "cells": [
  {
   "cell_type": "code",
   "execution_count": 1,
   "metadata": {},
   "outputs": [],
   "source": [
    "from collections import namedtuple\n",
    "\n",
    "import matplotlib.pyplot as plt\n",
    "import numpy as np\n",
    "import pandas as pd\n",
    "\n",
    "from answers import expectation, ucb, run_ucb_expt, run_bandit\n",
    "\n",
    "import sys\n",
    "sys.path.append('..')\n",
    "from common import generate_bandit_dataset\n",
    "\n",
    "%matplotlib inline"
   ]
  },
  {
   "cell_type": "markdown",
   "metadata": {},
   "source": [
    "# Multi Armed Bandits\n",
    "\n",
    "## Resources\n",
    "\n",
    "- Chapter 3 of [Practical Statistics for Data Scientists](https://www.oreilly.com/library/view/practical-statistics-for/9781491952955/)\n",
    "- Chapter 2 of [Sutton & Barto - Reinforcement Learning: An Introduction](http://incompleteideas.net/book/RLbook2018.pdf).\n",
    "\n",
    "## When is classical hypothesis testing not enough?\n",
    "\n",
    "In classical hypothesis testing we\n",
    "- run an experiment, collecting a dataset of A & B\n",
    "- perform a hypothesis test on observed effects (differences between A and B)\n",
    "\n",
    "There are a few problems with this\n",
    "- we only compare two options (one of which is usually a default)\n",
    "- we might lose money by showing customers a suboptimal option \n",
    "- the hypothesis test only shows us if an observed effect is unlikely, not if the effect is large\n",
    "- in a real business, there is no 'experiment over' date\n",
    "- the real world is non-stationary - the results we collect might be from a distribution that is changing\n",
    "\n",
    "We want an experiment where we can **take advantage of the results as we learn** - not have to wait until the experiment results can be used\n",
    "\n",
    "In a business context we are not concerned with statistical significance - we are (often) concerned with optimizing money as quickly as possible\n",
    "\n",
    "## The mulit-armed bandit\n",
    "\n",
    "Bandits allow\n",
    "- testing multiple options at once\n",
    "- reach conclusions faster\n",
    "\n",
    "The term bandit comes from slot machines \n",
    "- one armed bandits for their ability to extract money from gamblers\n",
    "\n",
    "The goal of a multi armed bandit problem is to win as much money as possible\n",
    "- this is the same as figuring out which arm is best as quick as possible\n",
    "\n",
    "Bandits are a simplification of the full reinforcement learing problem\n",
    "\n",
    "## Exploration versus exploitation\n",
    "\n",
    "Favourite restaurant or somewhere new?\n",
    "- if you know all the restaurants well, trust your judgement\n",
    "- if you don't, just randomly pick\n",
    "\n",
    "## Reinforcement learning context\n",
    "\n",
    "Bandits share in common with reinforcement learning\n",
    "- exploration versus exploitation problem (which arm to pull)\n",
    "- potentially non-stationary\n",
    "\n",
    "Is supervised learning we use data learn a function to use for prediction on unseen data\n",
    "- in a bandit problem we could predict the expected value of each arm\n",
    "- this is **prediction** / evaluation\n",
    "\n",
    "Use data (the results we get from pulling an arm) to select an action\n",
    "- this is **control**\n",
    "\n",
    "We can define the value of an action (pulling a specific arm) as an expectation\n",
    "- the expected reward of an action\n",
    "\n",
    "$q_{*}(a) = \\mathbb{E}[r(a)]$\n",
    "\n",
    "Reinforcement learning has a **convenient goal** - maximizing expected reward\n",
    "- if we did know the true expectation of each action, maximization is an argmax\n",
    "\n",
    "The bandit problem is one step short of the full reinforcement learning problem\n",
    "- the bandit is a single state, no transitions of state happen\n",
    "\n",
    "## Example\n",
    "\n",
    "You have the following results from comparing different landing pages:"
   ]
  },
  {
   "cell_type": "code",
   "execution_count": 2,
   "metadata": {},
   "outputs": [
    {
     "data": {
      "text/plain": [
       "{'0': [3.2858017902970236, 12.083189226273435, 3.9805822512457185],\n",
       " '1': [10.066502149238072, 14.221031572038052, 11.779338983317063],\n",
       " '2': [14.440936232072064, 9.349207821890246, 12.353062777950633],\n",
       " '3': [16.827372626012608, 11.007322332882627, 18.048536401533077],\n",
       " '4': [13.258063218575218, 15.913702094060907, 13.248883537552269],\n",
       " '5': [36.448590412267905, 20.41029297998412, 11.434180481066196],\n",
       " '6': [30.427040651410564, 11.061341529404531, 24.611030928981165],\n",
       " '7': [20.416916500497667, 21.80896927064079, 25.170805905115923],\n",
       " '8': [30.231640940958822, 27.628679657818296, 26.31128370690849],\n",
       " '9': [27.855160894438153, 23.584256410806795, 26.3362438353519],\n",
       " '10': [26.531582014728716, 41.4280109032164, 34.425155596137984],\n",
       " '11': [30.917403331206522, 33.569744317196054, 32.66852781169808],\n",
       " '12': [33.56542652963262, 36.79725195636628, 37.84892143316182],\n",
       " '13': [44.90149751322413, 30.580034143325676, 34.867218222210106],\n",
       " '14': [42.24423086159517, 47.63272933501728, 35.46607439281778],\n",
       " '15': [40.02881384431714, 32.341759041132356, 31.591388333770862],\n",
       " '16': [49.58462664224798, 53.53298123746897, 43.16128599866096],\n",
       " '17': [51.08530958042037, 47.6978964642039, 42.38505280177773],\n",
       " '18': [50.10376561316281, 57.295977406395366, 47.67575036318674],\n",
       " '19': [61.54540811874875, 30.66906398692133, 56.064767406669915]}"
      ]
     },
     "execution_count": 2,
     "metadata": {},
     "output_type": "execute_result"
    }
   ],
   "source": [
    "params, results = generate_bandit_dataset(arms=20, samples=3)\n",
    "\n",
    "results"
   ]
  },
  {
   "cell_type": "markdown",
   "metadata": {},
   "source": [
    "## Practical \n",
    "\n",
    "Write a function to take an expectation over the results\n",
    "- one number for each arm"
   ]
  },
  {
   "cell_type": "code",
   "execution_count": 3,
   "metadata": {},
   "outputs": [
    {
     "data": {
      "text/plain": [
       "{'0': 6.449857755938726,\n",
       " '1': 12.022290901531063,\n",
       " '2': 12.047735610637647,\n",
       " '3': 15.294410453476104,\n",
       " '4': 14.14021628339613,\n",
       " '5': 22.764354624439406,\n",
       " '6': 22.03313770326542,\n",
       " '7': 22.46556389208479,\n",
       " '8': 28.057201435228535,\n",
       " '9': 25.925220380198947,\n",
       " '10': 34.12824950469437,\n",
       " '11': 32.38522515336689,\n",
       " '12': 36.070533306386906,\n",
       " '13': 36.782916626253304,\n",
       " '14': 41.78101152981008,\n",
       " '15': 34.65398707307345,\n",
       " '16': 48.75963129279264,\n",
       " '17': 47.056086282134004,\n",
       " '18': 51.691831127581644,\n",
       " '19': 49.426413170779995}"
      ]
     },
     "execution_count": 3,
     "metadata": {},
     "output_type": "execute_result"
    }
   ],
   "source": [
    "# answer\n",
    "expectation(results)"
   ]
  },
  {
   "cell_type": "markdown",
   "metadata": {},
   "source": [
    "One approach would be to conclude that one of the arms is optimal and send all our users there\n",
    "- this is a **greedy** solution to the exploration & exploitation dilemma\n",
    "\n",
    "## Practical\n",
    "\n",
    "Take a greedy action based on the results\n",
    "- take the argmax across expected reward"
   ]
  },
  {
   "cell_type": "code",
   "execution_count": null,
   "metadata": {},
   "outputs": [],
   "source": []
  },
  {
   "cell_type": "markdown",
   "metadata": {},
   "source": [
    "The problem with a greedy strategy is that we might have noise in our samples that\n",
    "- our expectation has variance\n",
    "\n",
    "## Question to class\n",
    "\n",
    "Is the expectation above biased?\n",
    "\n",
    "## epsilon-greedy\n",
    "\n",
    "Another solution would be to favour the option that appears optimal, while still sampling from the options that appear sub-optimal.\n",
    "\n",
    "A simple algorithm to tackle the exploration-exploitation dilemma is known as **epsilon-greedy** - it is the method used for exploration in DeepMind's 2013 DQN.\n",
    "\n",
    "The algorithm has a single parameter $\\epsilon$, which controls how greedy we are.  \n",
    "\n",
    "- $\\epsilon$ = 1 -> standard A/B test\n",
    "- $\\epsilon$ = 0 -> greedy\n",
    "\n",
    "In reinforcement learning $\\epsilon$ is often decayed from 1 to a 0.05 over an agents lifetime.  Proper selection of $\\epsilon$ depends on\n",
    "- how accurate your greedy estimate is\n",
    "- how non-stationary the process is\n",
    "\n",
    "The basic algorithm is as follows:"
   ]
  },
  {
   "cell_type": "code",
   "execution_count": 4,
   "metadata": {},
   "outputs": [],
   "source": [
    "def get_performance(results):\n",
    "    d = []\n",
    "    for arm, data in results.items():\n",
    "        d.extend(data)\n",
    "    return np.mean(d)"
   ]
  },
  {
   "cell_type": "code",
   "execution_count": 5,
   "metadata": {},
   "outputs": [
    {
     "name": "stdout",
     "output_type": "stream",
     "text": [
      "bandit 0.0\n",
      "bandit 0.1\n",
      "bandit 0.5\n",
      "bandit 1.0\n"
     ]
    },
    {
     "data": {
      "image/png": "[encoded data removed]",
      "text/plain": [
       "<Figure size 432x288 with 1 Axes>"
      ]
     },
     "metadata": {
      "needs_background": "light"
     },
     "output_type": "display_data"
    }
   ],
   "source": [
    "from answers import run_bandit\n",
    "\n",
    "for eps in [0.0, 0.1, 0.5, 1.0]:\n",
    "    results = run_bandit(eps, params)\n",
    "    plt.plot(results, label='eps {}'.format(eps))\n",
    "    _ = plt.legend()"
   ]
  },
  {
   "cell_type": "markdown",
   "metadata": {},
   "source": [
    "\n",
    "## Upper Confidence Bound (UCB)\n",
    "\n",
    "2.7 in [Sutton & Barto - Reinforcement Learning: An Introduction](http://incompleteideas.net/book/RLbook2018.pdf)\n",
    "\n",
    "Select an action based on it's historical mean + an exploration bonus\n",
    "\n",
    "$a = \\underset{x}{\\text{argmax}} \\left[ q(a) + c \\cdot \\sqrt{\\frac{\\ln t}{N(a)}} \\right] $\n",
    "\n",
    "$t$ = timestep\n",
    "\n",
    "$N(a)$ = number of times action $a$ taken"
   ]
  },
  {
   "cell_type": "markdown",
   "metadata": {},
   "source": [
    "## UCB experiment"
   ]
  },
  {
   "cell_type": "code",
   "execution_count": 6,
   "metadata": {},
   "outputs": [
    {
     "name": "stdout",
     "output_type": "stream",
     "text": [
      "running UCB\n",
      "bandit 0.1\n"
     ]
    },
    {
     "data": {
      "image/png": "[encoded data removed]",
      "text/plain": [
       "<Figure size 432x288 with 1 Axes>"
      ]
     },
     "metadata": {
      "needs_background": "light"
     },
     "output_type": "display_data"
    }
   ],
   "source": [
    "ucb_performance = run_ucb_expt(5, params)\n",
    "results = run_bandit(0.1, params)\n",
    "\n",
    "plt.plot(results, label='eps {}'.format(eps)) \n",
    "plt.plot(ucb_performance, label='ucb')\n",
    "_ = plt.legend()"
   ]
  }
 ],
 "metadata": {
  "kernelspec": {
   "display_name": "Python 3",
   "language": "python",
   "name": "python3"
  },
  "language_info": {
   "codemirror_mode": {
    "name": "ipython",
    "version": 3
   },
   "file_extension": ".py",
   "mimetype": "text/x-python",
   "name": "python",
   "nbconvert_exporter": "python",
   "pygments_lexer": "ipython3",
   "version": "3.7.6"
  }
 },
 "nbformat": 4,
 "nbformat_minor": 4
}

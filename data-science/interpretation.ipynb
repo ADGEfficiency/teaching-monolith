{
 "cells": [
  {
   "cell_type": "code",
   "execution_count": null,
   "metadata": {},
   "outputs": [],
   "source": [
    "!pip install lime -q\n",
    "!pip install tensorflow -q\n",
    "\n",
    "from lime.lime_text import LimeTextExplainer\n",
    "from sklearn.pipeline import make_pipeline\n",
    "from sklearn.datasets import fetch_20newsgroups\n",
    "from sklearn.feature_extraction.text import TfidfVectorizer\n",
    "from sklearn.linear_model import RidgeCV, LassoCV\n",
    "from sklearn.ensemble import RandomForestClassifier\n",
    "from sklearn.metrics import f1_score"
   ]
  },
  {
   "cell_type": "markdown",
   "metadata": {},
   "source": [
    "# Interpretation\n",
    "\n",
    "Understanding and diagnosing your machine-learning models - Gaël Varoquaux - [youtube](https://youtu.be/kbj3llSbaVA)"
   ]
  },
  {
   "cell_type": "code",
   "execution_count": null,
   "metadata": {},
   "outputs": [],
   "source": [
    "url = 'http://lib.stat.cmu.edu/datasets/CPS_85_Wages'\n",
    "\n",
    "cols = [\n",
    "'EDUCATION: Number of years of education.',\n",
    "'SOUTH: Indicator variable for Southern Region (1=Person lives in \t\tSouth, 0=Person lives elsewhere).',\n",
    "'SEX: Indicator variable for sex (1=Female, 0=Male).',\n",
    "'EXPERIENCE: Number of years of work experience.',\n",
    "'UNION: Indicator variable for union membership (1=Union member, \t\t0=Not union member).',\n",
    "'WAGE: Wage (dollars per hour).',\n",
    "'AGE: Age (years).',\n",
    "'RACE: Race (1=Other, 2=Hispanic, 3=White).',\n",
    "'OCCUPATION: Occupational category (1=Management, \t\t2=Sales, 3=Clerical, 4=Service, 5=Professional, 6=Other).',\n",
    "'SECTOR: Sector (0=Other, 1=Manufacturing, 2=Construction).',\n",
    "'MARR: Marital Status (0=Unmarried,  1=Married)'\n",
    "]"
   ]
  },
  {
   "cell_type": "code",
   "execution_count": null,
   "metadata": {},
   "outputs": [],
   "source": [
    "raw = pd.read_csv(url, skiprows=27, skipfooter=6, sep=None, header=None)\n",
    "\n",
    "raw.columns = [c.split(':')[0].lower() for c in cols]\n",
    "\n",
    "raw.head()"
   ]
  },
  {
   "cell_type": "markdown",
   "metadata": {},
   "source": [
    "Log-transform to deal with multiplicative factors (also makes more normal):"
   ]
  },
  {
   "cell_type": "code",
   "execution_count": null,
   "metadata": {},
   "outputs": [],
   "source": [
    "data = raw.copy()\n",
    "\n",
    "data.loc[:, 'y'] = np.log10(data.loc[:, 'wage'])"
   ]
  },
  {
   "cell_type": "markdown",
   "metadata": {},
   "source": [
    "## What do you see below?"
   ]
  },
  {
   "cell_type": "code",
   "execution_count": null,
   "metadata": {},
   "outputs": [],
   "source": [
    "import seaborn as sns\n",
    "sns.pairplot(data, vars=['y', 'age', 'education', 'experience'])"
   ]
  },
  {
   "cell_type": "markdown",
   "metadata": {},
   "source": [
    "Strong correlation between age & experience.\n",
    "\n",
    "Variables are related to each other\n",
    "\n",
    "Univarite feature selection = marignal links\n",
    "- single feature + target\n",
    "- not conditional\n",
    "\n",
    "Linear models = conditional links = conditional correlations\n",
    "- remove the effect of features on other features\n",
    "- hard if features are correlated\n",
    "\n",
    "Conditioning\n",
    "- if I remove the effect of experience on age - is there anything left?\n",
    "\n",
    "Linear model = conditional correlations"
   ]
  },
  {
   "cell_type": "code",
   "execution_count": null,
   "metadata": {},
   "outputs": [],
   "source": [
    "\n",
    "y = data.loc[:, 'y']\n",
    "\n",
    "x = data.drop(['y', 'wage'], axis=1)\n",
    "\n",
    "model = RidgeCV()\n",
    "model.fit(x, y)\n",
    "\n",
    "params = model.coef_\n",
    "\n",
    "plt.barh(np.arange(params.size), params)\n",
    "plt.yticks(np.arange(params.size), x.columns)\n",
    "plt.tight_layout()"
   ]
  },
  {
   "cell_type": "markdown",
   "metadata": {},
   "source": [
    "These coefficients are conditional between target and wage, conditioning on others\n",
    "\n",
    "Let's try with L1 reg:"
   ]
  },
  {
   "cell_type": "code",
   "execution_count": null,
   "metadata": {},
   "outputs": [],
   "source": [
    "model = LassoCV(max_iter=10000, cv=3)\n",
    "model.fit(x, y)\n",
    "\n",
    "params = model.coef_\n",
    "\n",
    "plt.barh(np.arange(params.size), params)\n",
    "plt.yticks(np.arange(params.size), x.columns)\n",
    "plt.tight_layout()"
   ]
  },
  {
   "cell_type": "markdown",
   "metadata": {},
   "source": [
    "Now occupation and experience have disappeared!\n",
    "- experience can be explained by age\n",
    "\n",
    "Correlated features + L1 -> unstable feature selection!"
   ]
  },
  {
   "cell_type": "markdown",
   "metadata": {},
   "source": [
    "## LIME\n",
    "\n",
    "[marcotcr/lime](https://github.com/marcotcr/lime) - explores linear, local decision boundaries of features\n",
    "\n",
    "For a linear model, interpretation is global (constant)\n",
    "\n",
    "For non-linear models, the interpretation must be local\n",
    "\n",
    "Explains **single predictions**\n",
    "- local explanation\n",
    "- local means linear is a good approximation\n",
    "\n",
    "LIME can be used for tabular data, images and text\n",
    "\n",
    "### LIME for NLP\n",
    "\n",
    "[Tutorial](https://marcotcr.github.io/lime/tutorials/Lime%20-%20basic%20usage%2C%20two%20class%20case.html)\n",
    "\n",
    "```\n",
    "The 20 newsgroups dataset comprises around 18000 newsgroups posts on 20 topics split in two subsets: one for training (or development) and the other one for testing (or for performance evaluation). The split between the train and test set is based upon a messages posted before and after a specific date.\n",
    "```"
   ]
  },
  {
   "cell_type": "code",
   "execution_count": null,
   "metadata": {},
   "outputs": [],
   "source": [
    "cats = ['alt.atheism', 'soc.religion.christian']\n",
    "tr = fetch_20newsgroups(subset='train', categories=cats)\n",
    "te = fetch_20newsgroups(subset='test', categories=cats)\n",
    "\n",
    "print(tr['target_names'])"
   ]
  },
  {
   "cell_type": "code",
   "execution_count": null,
   "metadata": {},
   "outputs": [],
   "source": [
    "enc = TfidfVectorizer(lowercase=False)\n",
    "tr_vec = enc.fit_transform(tr.data)\n",
    "te_vec = enc.transform(te.data)"
   ]
  },
  {
   "cell_type": "code",
   "execution_count": null,
   "metadata": {},
   "outputs": [],
   "source": [
    "tr_vec[1].todense()"
   ]
  },
  {
   "cell_type": "markdown",
   "metadata": {},
   "source": [
    "Train a forest:"
   ]
  },
  {
   "cell_type": "code",
   "execution_count": null,
   "metadata": {},
   "outputs": [],
   "source": [
    "rf = RandomForestClassifier(n_estimators=50, verbose=0, n_jobs=4)\n",
    "rf.fit(tr_vec, tr.target)\n",
    "pred = rf.predict(te_vec)\n",
    "f1_score(te.target, pred, average='weighted')"
   ]
  },
  {
   "cell_type": "code",
   "execution_count": null,
   "metadata": {},
   "outputs": [],
   "source": [
    "c = make_pipeline(enc, rf)\n",
    "print(c.predict_proba([te.data[0]]))"
   ]
  },
  {
   "cell_type": "code",
   "execution_count": null,
   "metadata": {},
   "outputs": [],
   "source": [
    "explainer = LimeTextExplainer(class_names=tr['target_names'])\n",
    "idx = 83\n",
    "exp = explainer.explain_instance(te.data[idx], c.predict_proba, num_features=6)\n",
    "print('Document id: %d' % idx)\n",
    "print('Probability(christian) =', c.predict_proba([te.data[idx]])[0,1])\n",
    "print('True class: %s' % tr['target_names'][te.target[idx]])\n",
    "\n",
    "exp.show_in_notebook(text=True)"
   ]
  }
 ],
 "metadata": {
  "kernelspec": {
   "display_name": "Python 3",
   "language": "python",
   "name": "python3"
  },
  "language_info": {
   "codemirror_mode": {
    "name": "ipython",
    "version": 3
   },
   "file_extension": ".py",
   "mimetype": "text/x-python",
   "name": "python",
   "nbconvert_exporter": "python",
   "pygments_lexer": "ipython3",
   "version": "3.6.8"
  }
 },
 "nbformat": 4,
 "nbformat_minor": 4
}

{
 "cells": [
  {
   "cell_type": "code",
   "execution_count": null,
   "metadata": {},
   "outputs": [],
   "source": [
    "import matplotlib.pyplot as plt\n",
    "import numpy as np\n",
    "import pandas as pd\n",
    "\n",
    "from answers import central_limit"
   ]
  },
  {
   "cell_type": "markdown",
   "metadata": {},
   "source": [
    "# Central Limit Theorem\n",
    "\n",
    "Chapter 14 of [Think Stats 2nd Edition](https://greenteapress.com/wp/think-stats-2e/).\n",
    "\n",
    "Chapter 3 of [Deep Learning](https://www.deeplearningbook.org/).\n",
    "\n",
    "## Johann Carl Friedrich Gauss \n",
    "\n",
    "1777 – 1855.  German mathematician and physicist.  [Wikipedia](https://en.wikipedia.org/wiki/Carl_Friedrich_Gauss).\n",
    "\n",
    "![](assets/gauss.jpg)\n",
    "\n",
    "## Normal distribution\n",
    "\n",
    "Also known as the **Gaussian** distribution\n",
    "\n",
    "Two parameters - mean & standard deviation\n",
    "- mean == median\n",
    "\n",
    "Sensible choice for many applications\n",
    "1. many processes we want to model are Gaussian\n",
    "2. encodes the maximum amount of uncertantity (i.e. the least amount of knowledge)\n",
    "\n",
    "## Central Limit Theorem\n",
    "\n",
    "[Wikipedia](https://en.wikipedia.org/wiki/Central_limit_theorem)\n",
    "\n",
    "**Sums are normally distributed**\n",
    "- when independent random variables are added\n",
    "- their properly normalized sum tends toward a normal distribution\n",
    "\n",
    "Explains the prescence of normal distributions in the natural world\n",
    "- characteristics of living things are often the result of additive processes\n",
    "- the data we measure (i.e. age) is the sum of a large number of effects\n",
    "- which makes lot of the data we work with normally dsitributed\n",
    "\n",
    "Caveats\n",
    "- variables should be normalized\n",
    "- IID\n",
    "- same distribution\n",
    "\n",
    "Implications\n",
    "- **probabilistic and statistical methods that work for normal distributions can be applicable to many problems**\n",
    "- involving many other types of distributions"
   ]
  },
  {
   "cell_type": "code",
   "execution_count": null,
   "metadata": {},
   "outputs": [],
   "source": [
    "def sample_means(iters=100):\n",
    "    return [\n",
    "        np.mean(pop[np.random.randint(0, pop.shape[0], size=100)])\n",
    "        for _ in range(iters)\n",
    "    ]\n",
    "\n",
    "pop = np.random.uniform(0, 100, size=10000)"
   ]
  },
  {
   "cell_type": "code",
   "execution_count": null,
   "metadata": {},
   "outputs": [],
   "source": [
    "num_plots = 12\n",
    "nrows = 3\n",
    "epochs = 500\n",
    "\n",
    "freq = int(epochs / num_plots)\n",
    "\n",
    "f, axes = plt.subplots(ncols=int(num_plots/nrows), nrows=nrows, figsize=(25, 10))\n",
    "means = []\n",
    "for num, ax in enumerate(axes.flatten()):\n",
    "    means.extend(sample_means(freq))\n",
    "    pd.DataFrame(means).plot(ax=ax, kind='hist', legend=None, title=num*freq)\n",
    "    ax.get_xaxis().set_visible(False)\n",
    "    ax.get_yaxis().set_visible(False)"
   ]
  },
  {
   "cell_type": "markdown",
   "metadata": {},
   "source": [
    "## Practical\n",
    "\n",
    "Break the Central Limit Theorem by breaking the IID assumption - the challenge is sample data in an non-identical or a non-independent way"
   ]
  },
  {
   "cell_type": "code",
   "execution_count": null,
   "metadata": {},
   "outputs": [],
   "source": []
  },
  {
   "cell_type": "code",
   "execution_count": null,
   "metadata": {},
   "outputs": [],
   "source": [
    "## answer\n",
    "# central_limit??"
   ]
  },
  {
   "cell_type": "markdown",
   "metadata": {},
   "source": [
    "## Quiz\n",
    "\n",
    "What is the Central Limit Theorem?\n",
    "\n",
    "Why is the Central Limit Theorem important?"
   ]
  }
 ],
 "metadata": {
  "kernelspec": {
   "display_name": "Python 3",
   "language": "python",
   "name": "python3"
  },
  "language_info": {
   "codemirror_mode": {
    "name": "ipython",
    "version": 3
   },
   "file_extension": ".py",
   "mimetype": "text/x-python",
   "name": "python",
   "nbconvert_exporter": "python",
   "pygments_lexer": "ipython3",
   "version": "3.6.8"
  }
 },
 "nbformat": 4,
 "nbformat_minor": 4
}

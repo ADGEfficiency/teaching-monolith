{
 "cells": [
  {
   "cell_type": "markdown",
   "metadata": {},
   "source": [
    "The first step in developing code in a TDD style is to \n",
    "- write the function skeleton\n",
    "- write the test\n",
    "- check the test fails"
   ]
  },
  {
   "cell_type": "code",
   "execution_count": 1,
   "metadata": {},
   "outputs": [],
   "source": [
    "import numpy as np\n",
    "import pandas as pd"
   ]
  },
  {
   "cell_type": "code",
   "execution_count": 2,
   "metadata": {},
   "outputs": [
    {
     "ename": "AttributeError",
     "evalue": "'NoneType' object has no attribute 'shape'",
     "output_type": "error",
     "traceback": [
      "\u001b[0;31m---------------------------------------------------------------------------\u001b[0m",
      "\u001b[0;31mAttributeError\u001b[0m                            Traceback (most recent call last)",
      "\u001b[0;32m<ipython-input-2-d2a16ea46d8f>\u001b[0m in \u001b[0;36m<module>\u001b[0;34m\u001b[0m\n\u001b[1;32m     22\u001b[0m     \u001b[0mnp\u001b[0m\u001b[0;34m.\u001b[0m\u001b[0mtesting\u001b[0m\u001b[0;34m.\u001b[0m\u001b[0massert_array_equal\u001b[0m\u001b[0;34m(\u001b[0m\u001b[0mencoded\u001b[0m\u001b[0;34m.\u001b[0m\u001b[0mloc\u001b[0m\u001b[0;34m[\u001b[0m\u001b[0;34m:\u001b[0m\u001b[0;34m,\u001b[0m \u001b[0;34m'straight'\u001b[0m\u001b[0;34m]\u001b[0m\u001b[0;34m,\u001b[0m \u001b[0;34m[\u001b[0m\u001b[0;36m0\u001b[0m\u001b[0;34m,\u001b[0m \u001b[0;36m0\u001b[0m\u001b[0;34m,\u001b[0m \u001b[0;36m0\u001b[0m\u001b[0;34m,\u001b[0m \u001b[0;36m1\u001b[0m\u001b[0;34m]\u001b[0m\u001b[0;34m)\u001b[0m\u001b[0;34m\u001b[0m\u001b[0;34m\u001b[0m\u001b[0m\n\u001b[1;32m     23\u001b[0m \u001b[0;34m\u001b[0m\u001b[0m\n\u001b[0;32m---> 24\u001b[0;31m \u001b[0mtest_one_hot\u001b[0m\u001b[0;34m(\u001b[0m\u001b[0;34m)\u001b[0m\u001b[0;34m\u001b[0m\u001b[0;34m\u001b[0m\u001b[0m\n\u001b[0m",
      "\u001b[0;32m<ipython-input-2-d2a16ea46d8f>\u001b[0m in \u001b[0;36mtest_one_hot\u001b[0;34m()\u001b[0m\n\u001b[1;32m      9\u001b[0m \u001b[0;34m\u001b[0m\u001b[0m\n\u001b[1;32m     10\u001b[0m     \u001b[0;31m#  check we have the correct number of rows\u001b[0m\u001b[0;34m\u001b[0m\u001b[0;34m\u001b[0m\u001b[0;34m\u001b[0m\u001b[0m\n\u001b[0;32m---> 11\u001b[0;31m     \u001b[0;32massert\u001b[0m \u001b[0mencoded\u001b[0m\u001b[0;34m.\u001b[0m\u001b[0mshape\u001b[0m\u001b[0;34m[\u001b[0m\u001b[0;36m0\u001b[0m\u001b[0;34m]\u001b[0m \u001b[0;34m==\u001b[0m \u001b[0mlen\u001b[0m\u001b[0;34m(\u001b[0m\u001b[0mdata\u001b[0m\u001b[0;34m)\u001b[0m\u001b[0;34m\u001b[0m\u001b[0;34m\u001b[0m\u001b[0m\n\u001b[0m\u001b[1;32m     12\u001b[0m \u001b[0;34m\u001b[0m\u001b[0m\n\u001b[1;32m     13\u001b[0m     \u001b[0;31m#  check columns are in the correct order (alphabetical)\u001b[0m\u001b[0;34m\u001b[0m\u001b[0;34m\u001b[0m\u001b[0;34m\u001b[0m\u001b[0m\n",
      "\u001b[0;31mAttributeError\u001b[0m: 'NoneType' object has no attribute 'shape'"
     ]
    }
   ],
   "source": [
    "def one_hot(data):\n",
    "    pass\n",
    "\n",
    "\n",
    "def test_one_hot():\n",
    "    data = ['left', 'left', 'right', 'straight']\n",
    "    \n",
    "    encoded = one_hot(data)\n",
    "    \n",
    "    #  check we have the correct number of rows\n",
    "    assert encoded.shape[0] == len(data)\n",
    "    \n",
    "    #  check columns are in the correct order (alphabetical)\n",
    "    assert (encoded.columns == ['left', 'right', 'straight']).all()\n",
    "    \n",
    "    #  check only one category in each row\n",
    "    assert encoded.sum(axis=1).all() == 1\n",
    "    \n",
    "    #  numpy testing is very handy for comparing arrays\n",
    "    np.testing.assert_array_equal(encoded.loc[:, 'left'], [1, 1, 0, 0])\n",
    "    np.testing.assert_array_equal(encoded.loc[:, 'right'], [0, 0, 1, 0])\n",
    "    np.testing.assert_array_equal(encoded.loc[:, 'straight'], [0, 0, 0, 1])\n",
    "    \n",
    "test_one_hot()"
   ]
  },
  {
   "cell_type": "markdown",
   "metadata": {},
   "source": [
    "Note how before we have written any functional code, we are already thinking about\n",
    "- what order the columns should be in (alphabetical)\n",
    "- that encoded should return a Pandas DataFrame\n",
    "\n",
    "Also note how we (as the reader) can understand the intention of the function - this is executable documentation.\n",
    "\n",
    "Lets write our function:"
   ]
  },
  {
   "cell_type": "code",
   "execution_count": null,
   "metadata": {},
   "outputs": [],
   "source": [
    "def one_hot(data):\n",
    "    columns = sorted(set(data))\n",
    "\n",
    "    values = np.zeros((len(data), len(columns)))\n",
    "\n",
    "    for row, d in enumerate(data):\n",
    "        col = columns.index(d)\n",
    "        values[row, col] = 1\n",
    "        \n",
    "    return pd.DataFrame(values, columns=columns)\n",
    "\n",
    "test_one_hot()"
   ]
  },
  {
   "cell_type": "markdown",
   "metadata": {},
   "source": [
    "Now lets see if our function generalizes:"
   ]
  },
  {
   "cell_type": "code",
   "execution_count": null,
   "metadata": {},
   "outputs": [],
   "source": [
    "one_hot(['cat', 'dog', 'fish', 'fish', 'dog'])"
   ]
  },
  {
   "cell_type": "markdown",
   "metadata": {},
   "source": [
    "## Exercise\n",
    "\n",
    "Now follow the same TDD style to write a test & function to normalize a 2D array\n",
    "\n",
    "$$ y = \\frac{x - x_{min}}{x_{max} - x_{min}} $$"
   ]
  },
  {
   "cell_type": "code",
   "execution_count": null,
   "metadata": {},
   "outputs": [],
   "source": [
    "def normalize(arr):\n",
    "    pass"
   ]
  },
  {
   "cell_type": "code",
   "execution_count": 8,
   "metadata": {},
   "outputs": [],
   "source": [
    "def test_normalize():\n",
    "    \n",
    "    arr = np.array([[-5, 0], [0, 10], [5, -10]]).astype(np.float32)\n",
    "    norm = normalize(arr)\n",
    "    \n",
    "    np.testing.assert_array_equal(norm, [[0, 0.5], [0.5, 1], [1, 0]])\n",
    "    assert norm.shape == arr.shape\n",
    "    assert (np.min(norm, axis=0) == 0).all()\n",
    "    assert (np.max(norm, axis=0) == 1.0).all()\n",
    "    "
   ]
  },
  {
   "cell_type": "code",
   "execution_count": 9,
   "metadata": {},
   "outputs": [],
   "source": [
    "def normalize(arr):\n",
    "    mins = np.min(arr, axis=0)\n",
    "    maxs = np.max(arr, axis=0)\n",
    "    return (arr - mins) / (maxs - mins)\n",
    "\n",
    "normalize(np.array([[-5, 0], [0, 10], [5, -10]])).astype(np.float32)"
   ]
  },
  {
   "cell_type": "code",
   "execution_count": 11,
   "metadata": {},
   "outputs": [
    {
     "data": {
      "text/plain": [
       "array([[0. , 0.5],\n",
       "       [0.5, 1. ],\n",
       "       [1. , 0. ]], dtype=float32)"
      ]
     },
     "execution_count": 11,
     "metadata": {},
     "output_type": "execute_result"
    }
   ],
   "source": []
  },
  {
   "cell_type": "code",
   "execution_count": null,
   "metadata": {},
   "outputs": [],
   "source": []
  }
 ],
 "metadata": {
  "kernelspec": {
   "display_name": "Python 3",
   "language": "python",
   "name": "python3"
  },
  "language_info": {
   "codemirror_mode": {
    "name": "ipython",
    "version": 3
   },
   "file_extension": ".py",
   "mimetype": "text/x-python",
   "name": "python",
   "nbconvert_exporter": "python",
   "pygments_lexer": "ipython3",
   "version": "3.7.2"
  }
 },
 "nbformat": 4,
 "nbformat_minor": 4
}

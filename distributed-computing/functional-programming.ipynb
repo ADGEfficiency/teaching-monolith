{
 "cells": [
  {
   "cell_type": "markdown",
   "metadata": {},
   "source": [
    "# Functional Programming \n",
    "\n",
    "Elements of functional programming with Python.\n",
    "\n",
    "## Resources\n",
    "\n",
    "[Functional Programming in Python\n",
    "By Marcus Sanatan](https://stackabuse.com/functional-programming-in-python/)\n",
    "\n",
    "[Clean Architecture - Uncle Bob Martin](https://www.amazon.co.uk/Clean-Architecture-Craftsmans-Software-Structure/dp/0134494164)\n",
    "\n",
    "[What is Functional Programming? - Scott Murphy](https://www.youtube.com/watch?v=KHojnWHemO0)\n",
    "\n",
    "## What is functional programming?\n",
    "\n",
    "- variables that don't vary (immutable data)\n",
    "- first class functions (no objects - aka no state)\n",
    "- no side effects\n",
    "\n",
    "> Discipline imposed on variable assignment - Uncle Bob Martin\n",
    "\n",
    "> Isolate transformation of data from definition of the data - Scott Murphy\n",
    "\n",
    "Examples of functional languages include Lisp, Haskell, Erlang, Clojure\n",
    "\n",
    "Also a useful idea when thinking about implementations\n",
    "- [John Carmack on Parallel Implementations](http://sevangelatos.com/john-carmack-on-parallel-implementations/)\n",
    "- implement new ideas in parallel with the old ones, rather than mutating the existing code\n",
    "- easy to switch out implementations if the idea is expressed as a pure function\n",
    "- internal state / multiple entry points = harder\n",
    "\n",
    "Python has many of the components of a functional language\n",
    "- map, filter, sum etc\n",
    "\n",
    "## No side effects\n",
    "\n",
    "- same inputs -> same outputs (always)\n",
    "- no dependency on the state of the outside world\n",
    "\n",
    "Not doing something like:"
   ]
  },
  {
   "cell_type": "code",
   "execution_count": null,
   "metadata": {},
   "outputs": [],
   "source": [
    "def pipeline(data):\n",
    "    new_data = clean(data)\n",
    "    database.save(new_data)\n",
    "    database.load(features)\n",
    "    return features"
   ]
  },
  {
   "cell_type": "markdown",
   "metadata": {},
   "source": [
    "## Variables that don't vary\n",
    "\n",
    "Variables are only initialized \n",
    "- they are never changed \n",
    "- this avoids problems such as race conditions / deadlocks\n",
    "\n",
    "Variables being immutable means we can't do:"
   ]
  },
  {
   "cell_type": "code",
   "execution_count": null,
   "metadata": {},
   "outputs": [],
   "source": [
    "#  can't do this - mutates the object in place\n",
    "def f(x):\n",
    "    x += 1\n",
    "    return x\n",
    "\n",
    "#  can do this - creates a new object\n",
    "def f(x):\n",
    "    x = x + 1\n",
    "    return x"
   ]
  },
  {
   "cell_type": "markdown",
   "metadata": {},
   "source": [
    "## Functions are first class\n",
    "\n",
    "First class citizens means we can pass functions around like other variables \n",
    "- also known as higher order functions\n",
    "\n",
    "Below we pass the `sum` function into a generic `reducer` function:"
   ]
  },
  {
   "cell_type": "code",
   "execution_count": 1,
   "metadata": {},
   "outputs": [
    {
     "data": {
      "text/plain": [
       "6"
      ]
     },
     "execution_count": 1,
     "metadata": {},
     "output_type": "execute_result"
    }
   ],
   "source": [
    "def reducer(func, data):\n",
    "    return func(data)\n",
    "\n",
    "data = [1, 2, 3]\n",
    "reducer(sum, data)"
   ]
  },
  {
   "cell_type": "markdown",
   "metadata": {},
   "source": [
    "Passing in another function gives different results:"
   ]
  },
  {
   "cell_type": "code",
   "execution_count": 2,
   "metadata": {},
   "outputs": [
    {
     "data": {
      "text/plain": [
       "3"
      ]
     },
     "execution_count": 2,
     "metadata": {},
     "output_type": "execute_result"
    }
   ],
   "source": [
    "reducer(len, data)"
   ]
  },
  {
   "cell_type": "markdown",
   "metadata": {},
   "source": [
    "## Map\n",
    "\n",
    "Similar to apply in pandas.\n",
    "\n",
    "Applying a function to each element of an iterable:"
   ]
  },
  {
   "cell_type": "code",
   "execution_count": 8,
   "metadata": {},
   "outputs": [
    {
     "data": {
      "text/plain": [
       "<map at 0x11d1a9bd0>"
      ]
     },
     "execution_count": 8,
     "metadata": {},
     "output_type": "execute_result"
    }
   ],
   "source": [
    "def lower(s):\n",
    "    return s.lower()\n",
    "\n",
    "cities = ['Berlin', 'Auckland', 'London', 'Sheffield']\n",
    "m = map(lower, cities)\n",
    "m"
   ]
  },
  {
   "cell_type": "markdown",
   "metadata": {},
   "source": [
    "We can see that Python has returned a map object, not the transformed data.  This is an example of **lazy computation**, which is a two step process:\n",
    "1. build a pipeline/graph\n",
    "\n",
    "2. put data through it when needed\n",
    "\n",
    "Examples include Tensorflow 1, Spark, Python generators.\n",
    "\n",
    "We can get the next element as we would for any kind of generator:"
   ]
  },
  {
   "cell_type": "markdown",
   "metadata": {},
   "source": [
    "As we are more impatient than lazy, we can get all the processed data by calling `list` on the generator:"
   ]
  },
  {
   "cell_type": "code",
   "execution_count": 5,
   "metadata": {},
   "outputs": [
    {
     "data": {
      "text/plain": [
       "['berlin', 'auckland', 'london', 'sheffield']"
      ]
     },
     "execution_count": 5,
     "metadata": {},
     "output_type": "execute_result"
    }
   ],
   "source": [
    "list(map(lower, cities))"
   ]
  },
  {
   "cell_type": "code",
   "execution_count": 6,
   "metadata": {},
   "outputs": [
    {
     "data": {
      "text/plain": [
       "['Berlin', 'Auckland', 'London', 'Sheffield']"
      ]
     },
     "execution_count": 6,
     "metadata": {},
     "output_type": "execute_result"
    }
   ],
   "source": [
    "cities"
   ]
  },
  {
   "cell_type": "markdown",
   "metadata": {},
   "source": [
    "## Lambda functions\n",
    "\n",
    "Anonymous - not assigned to a variable\n",
    "- possible to have objects with no variable reference (until they get garbage collected :)\n",
    "\n",
    "We can do the same example using a lambda:"
   ]
  },
  {
   "cell_type": "code",
   "execution_count": 9,
   "metadata": {},
   "outputs": [
    {
     "data": {
      "text/plain": [
       "['berlin', 'auckland', 'london', 'sheffield']"
      ]
     },
     "execution_count": 9,
     "metadata": {},
     "output_type": "execute_result"
    }
   ],
   "source": [
    "list(map(lambda x: x.lower(), cities))"
   ]
  },
  {
   "cell_type": "markdown",
   "metadata": {},
   "source": [
    "The object we define above is a lambda function:"
   ]
  },
  {
   "cell_type": "code",
   "execution_count": 15,
   "metadata": {},
   "outputs": [],
   "source": [
    "lw = lambda x: x.lower()"
   ]
  },
  {
   "cell_type": "markdown",
   "metadata": {},
   "source": [
    "We can do more complex things in lambdas, such as accessing elements of the input data:"
   ]
  },
  {
   "cell_type": "code",
   "execution_count": 17,
   "metadata": {},
   "outputs": [
    {
     "data": {
      "text/plain": [
       "[('Berlin', 3700.0),\n",
       " ('Auckland', 1700.0),\n",
       " ('London', 8900.0),\n",
       " ('Sheffield', 500.0)]"
      ]
     },
     "execution_count": 17,
     "metadata": {},
     "output_type": "execute_result"
    }
   ],
   "source": [
    "populations = [\n",
    "    ('Berlin', 3.7, 'eu'),\n",
    "    ('Auckland', 1.7, 'pac'),\n",
    "    ('London', 8.9, 'eu'),\n",
    "    ('Sheffield', 0.5, 'eu')\n",
    "]\n",
    "\n",
    "list(map(lambda x: (x[0], x[1] * 1000), populations))"
   ]
  },
  {
   "cell_type": "markdown",
   "metadata": {},
   "source": [
    "Note that we have total flexibility in what data structure we use in the iterable, and how we interact with it in the lambda.\n",
    "\n",
    "For example, we could map over a sequence of namedtuples, and access elements using the attribute:"
   ]
  },
  {
   "cell_type": "code",
   "execution_count": 19,
   "metadata": {},
   "outputs": [
    {
     "data": {
      "text/plain": [
       "[('Berlin', 3700.0),\n",
       " ('Auckland', 1700.0),\n",
       " ('London', 8900.0),\n",
       " ('Sheffield', 500.0)]"
      ]
     },
     "execution_count": 19,
     "metadata": {},
     "output_type": "execute_result"
    }
   ],
   "source": [
    "from collections import namedtuple\n",
    "\n",
    "pop = namedtuple('city', ['city', 'population', 'continent'])\n",
    "\n",
    "populations = [pop(*p) for p in populations]\n",
    "\n",
    "list(map(lambda x: (x.city, x.population * 1000), populations))"
   ]
  },
  {
   "cell_type": "markdown",
   "metadata": {},
   "source": [
    "## Reduce\n",
    "\n",
    "Reduce is an operation that will reduce a sequence to single values (either a single value for the entire sequence, or one single value per group).  Also known as aggregation or a groupby.\n",
    "\n",
    "Above we defined a function `reducer` to demonstrate that functions are first class citizens in Python.  \n",
    "\n",
    "The Python standard library also has it's own reduce function - `functools.reduce`.  This function operates on each element and accumulates, returning a single aggregated example.\n",
    "\n",
    "We can use this `reduce` function on our `populations` dataset\n",
    "- define a lambda function that adds on the population of the sequence to the total\n",
    "- our sequence populations\n",
    "- an initial value of `0`"
   ]
  },
  {
   "cell_type": "code",
   "execution_count": 23,
   "metadata": {},
   "outputs": [
    {
     "data": {
      "text/plain": [
       "14.8"
      ]
     },
     "execution_count": 23,
     "metadata": {},
     "output_type": "execute_result"
    }
   ],
   "source": [
    "total = 0\n",
    "for p in populations:\n",
    "    total += p.population\n",
    "total"
   ]
  },
  {
   "cell_type": "code",
   "execution_count": 20,
   "metadata": {},
   "outputs": [
    {
     "data": {
      "text/plain": [
       "14.8"
      ]
     },
     "execution_count": 20,
     "metadata": {},
     "output_type": "execute_result"
    }
   ],
   "source": [
    "from functools import reduce\n",
    "\n",
    "reduce(lambda total, pop: total + pop[1], populations, 0)"
   ]
  },
  {
   "cell_type": "markdown",
   "metadata": {},
   "source": [
    "We can use this `reduce` function to groupby continent:"
   ]
  },
  {
   "cell_type": "code",
   "execution_count": 27,
   "metadata": {},
   "outputs": [
    {
     "data": {
      "text/plain": [
       "\u001b[0;31mDocstring:\u001b[0m\n",
       "reduce(function, sequence[, initial]) -> value\n",
       "\n",
       "Apply a function of two arguments cumulatively to the items of a sequence,\n",
       "from left to right, so as to reduce the sequence to a single value.\n",
       "For example, reduce(lambda x, y: x+y, [1, 2, 3, 4, 5]) calculates\n",
       "((((1+2)+3)+4)+5).  If initial is present, it is placed before the items\n",
       "of the sequence in the calculation, and serves as a default when the\n",
       "sequence is empty.\n",
       "\u001b[0;31mType:\u001b[0m      builtin_function_or_method\n"
      ]
     },
     "metadata": {},
     "output_type": "display_data"
    }
   ],
   "source": [
    "reduce?"
   ]
  },
  {
   "cell_type": "code",
   "execution_count": 24,
   "metadata": {},
   "outputs": [
    {
     "data": {
      "text/plain": [
       "{'eu': ['Berlin', 'London', 'Sheffield'], 'pac': ['Auckland']}"
      ]
     },
     "execution_count": 24,
     "metadata": {},
     "output_type": "execute_result"
    }
   ],
   "source": [
    "def gb(acc, city):\n",
    "    acc[city.continent].append(city.city)\n",
    "    return acc\n",
    "\n",
    "reduce(\n",
    "    gb,\n",
    "    populations,\n",
    "    {'eu': [], 'pac': []}\n",
    ")"
   ]
  },
  {
   "cell_type": "markdown",
   "metadata": {},
   "source": [
    "## Filter\n",
    "\n",
    "Similar to boolean masking in pandas/numpy.\n",
    "\n",
    "Tests each element, keeps those that pass:"
   ]
  },
  {
   "cell_type": "code",
   "execution_count": 25,
   "metadata": {},
   "outputs": [
    {
     "data": {
      "text/plain": [
       "[city(city='Berlin', population=3.7, continent='eu'),\n",
       " city(city='Auckland', population=1.7, continent='pac'),\n",
       " city(city='London', population=8.9, continent='eu')]"
      ]
     },
     "execution_count": 25,
     "metadata": {},
     "output_type": "execute_result"
    }
   ],
   "source": [
    "list(filter(lambda x: x[1] > 1.0, populations))"
   ]
  },
  {
   "cell_type": "markdown",
   "metadata": {},
   "source": [
    "## Practical\n",
    "\n",
    "Create a data processing pipeline that selects the cities that have populations greater than the average of all cities\n",
    "\n",
    "Two steps:\n",
    "- `reduce` to find the average of all cities\n",
    "- `filter` to select using cities above that average\n",
    "\n",
    "These don't have to be done in a single line!"
   ]
  },
  {
   "cell_type": "code",
   "execution_count": 33,
   "metadata": {},
   "outputs": [
    {
     "name": "stdout",
     "output_type": "stream",
     "text": [
      "3.7\n"
     ]
    },
    {
     "data": {
      "text/plain": [
       "[city(city='London', population=8.9, continent='eu')]"
      ]
     },
     "execution_count": 33,
     "metadata": {},
     "output_type": "execute_result"
    }
   ],
   "source": [
    "populations\n",
    "\n",
    "def avg(total, nxt):\n",
    "    return (total[0]+nxt[1], total[1]+1)\n",
    "total = reduce(avg, populations, (0, 0))\n",
    "\n",
    "# total = (sum, count)\n",
    "mean = total[0] / total[1]\n",
    "\n",
    "print(mean)\n",
    "list(filter(lambda x: x.population > mean, populations))"
   ]
  },
  {
   "cell_type": "markdown",
   "metadata": {},
   "source": [
    "You can also do this by incrementally updating the mean:"
   ]
  },
  {
   "cell_type": "code",
   "execution_count": 32,
   "metadata": {},
   "outputs": [
    {
     "data": {
      "text/plain": [
       "3.7000000000000006"
      ]
     },
     "execution_count": 32,
     "metadata": {},
     "output_type": "execute_result"
    }
   ],
   "source": [
    "# state = (mean, num)\n",
    "def incremental_mean(state, nxt):\n",
    "    state[1] += 1\n",
    "    state[0] = state[0] + (nxt.population - state[0]) / state[1]\n",
    "    return state\n",
    "\n",
    "reduce(incremental_mean, populations, [0, 0])[0]"
   ]
  },
  {
   "cell_type": "code",
   "execution_count": null,
   "metadata": {},
   "outputs": [],
   "source": []
  },
  {
   "cell_type": "markdown",
   "metadata": {},
   "source": [
    "## Practical\n",
    "\n",
    "Implement the same pipeline using two list comprehensions"
   ]
  },
  {
   "cell_type": "code",
   "execution_count": null,
   "metadata": {},
   "outputs": [],
   "source": []
  },
  {
   "cell_type": "markdown",
   "metadata": {},
   "source": [
    "## Question\n",
    "\n",
    "In Python, any combination of `map` & `filter` can be done with a single list comprehension\n",
    "- why do we need to use two in the example above?\n",
    "\n",
    "## Practical\n",
    "\n",
    "Create a data processing pipeline that finds the average population for both continents\n",
    "- step one = reduce to (key, (populations))\n",
    "- step two = map from (key, (populations)) to (key, avg)"
   ]
  },
  {
   "cell_type": "code",
   "execution_count": 29,
   "metadata": {},
   "outputs": [
    {
     "data": {
      "text/plain": [
       "[('eu', 4.366666666666667), ('pac', 1.7)]"
      ]
     },
     "execution_count": 29,
     "metadata": {},
     "output_type": "execute_result"
    }
   ],
   "source": [
    "populations\n",
    "\n",
    "def gb(acc, city):\n",
    "    acc[city.continent].append(city.population)\n",
    "    return acc# acc is initialized as a dict here (see below)\n",
    "\n",
    "pop_cont = reduce(\n",
    "    gb,\n",
    "    populations,\n",
    "    {'eu': [], 'pac': []}\n",
    ")\n",
    "\n",
    "list(map(lambda kv: (kv[0], sum(kv[1]) / len(kv[1])), pop_cont.items()))"
   ]
  },
  {
   "cell_type": "code",
   "execution_count": null,
   "metadata": {},
   "outputs": [],
   "source": []
  }
 ],
 "metadata": {
  "kernelspec": {
   "display_name": "Python 3",
   "language": "python",
   "name": "python3"
  },
  "language_info": {
   "codemirror_mode": {
    "name": "ipython",
    "version": 3
   },
   "file_extension": ".py",
   "mimetype": "text/x-python",
   "name": "python",
   "nbconvert_exporter": "python",
   "pygments_lexer": "ipython3",
   "version": "3.7.6"
  }
 },
 "nbformat": 4,
 "nbformat_minor": 4
}

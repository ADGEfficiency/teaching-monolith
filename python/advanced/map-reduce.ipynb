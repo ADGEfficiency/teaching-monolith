{
 "cells": [
  {
   "cell_type": "code",
   "execution_count": null,
   "metadata": {},
   "outputs": [],
   "source": []
  },
  {
   "cell_type": "markdown",
   "metadata": {},
   "source": [
    "## Jeff Dean\n",
    "\n",
    "[Jeff Dean](https://en.wikipedia.org/wiki/Jeff_Dean_(computer_scientist)) - head of Google.ai\n",
    "- [Building Software Systems At Google and Lessons Learned - Jeff Dean Stanford lecture](https://www.youtube.com/watch?v=modXC5IWTJI)\n",
    "-[The Friendship That Made Google Huge - The New Yorker](https://www.newyorker.com/magazine/2018/12/10/the-friendship-that-made-google-huge)\n",
    "- involved in TensorFlow, BigTable, MapReduce\n",
    "\n",
    "## MapReduce\n",
    "\n",
    "https://en.wikipedia.org/wiki/MapReduce\n",
    "\n",
    "> MapReduce was used to completely regenerate Google's index of the World Wide Web\n",
    "\n",
    "**MapReduce** = **parallel, distributed data processing**\n",
    "- functional programming\n",
    "\n",
    "Map\n",
    "- filtering & sorting\n",
    "\n",
    "Reduce\n",
    "- summary operation"
   ]
  }
 ],
 "metadata": {
  "kernelspec": {
   "display_name": "Python 3",
   "language": "python",
   "name": "python3"
  },
  "language_info": {
   "codemirror_mode": {
    "name": "ipython",
    "version": 3
   },
   "file_extension": ".py",
   "mimetype": "text/x-python",
   "name": "python",
   "nbconvert_exporter": "python",
   "pygments_lexer": "ipython3",
   "version": "3.6.8"
  }
 },
 "nbformat": 4,
 "nbformat_minor": 4
}

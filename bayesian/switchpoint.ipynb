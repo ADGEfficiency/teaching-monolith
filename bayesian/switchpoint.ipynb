{
 "cells": [
  {
   "cell_type": "markdown",
   "metadata": {},
   "source": [
    "This example is based on the example in Chapter 1 of Hacker, "
   ]
  },
  {
   "cell_type": "code",
   "execution_count": 1,
   "metadata": {},
   "outputs": [
    {
     "name": "stdout",
     "output_type": "stream",
     "text": [
      "NASA Goddard Institute for Space Studies\n",
      "https://data.giss.nasa.gov/gistemp/\n"
     ]
    },
    {
     "data": {
      "text/html": [
       "<div>\n",
       "<style scoped>\n",
       "    .dataframe tbody tr th:only-of-type {\n",
       "        vertical-align: middle;\n",
       "    }\n",
       "\n",
       "    .dataframe tbody tr th {\n",
       "        vertical-align: top;\n",
       "    }\n",
       "\n",
       "    .dataframe thead th {\n",
       "        text-align: right;\n",
       "    }\n",
       "</style>\n",
       "<table border=\"1\" class=\"dataframe\">\n",
       "  <thead>\n",
       "    <tr style=\"text-align: right;\">\n",
       "      <th></th>\n",
       "      <th>Jan</th>\n",
       "      <th>Feb</th>\n",
       "      <th>Mar</th>\n",
       "      <th>Apr</th>\n",
       "      <th>May</th>\n",
       "      <th>Jun</th>\n",
       "      <th>Jul</th>\n",
       "      <th>Aug</th>\n",
       "      <th>Sep</th>\n",
       "      <th>Oct</th>\n",
       "      <th>Nov</th>\n",
       "      <th>Dec</th>\n",
       "      <th>J-D</th>\n",
       "      <th>D-N</th>\n",
       "      <th>DJF</th>\n",
       "      <th>MAM</th>\n",
       "      <th>JJA</th>\n",
       "      <th>SON</th>\n",
       "    </tr>\n",
       "    <tr>\n",
       "      <th>Year</th>\n",
       "      <th></th>\n",
       "      <th></th>\n",
       "      <th></th>\n",
       "      <th></th>\n",
       "      <th></th>\n",
       "      <th></th>\n",
       "      <th></th>\n",
       "      <th></th>\n",
       "      <th></th>\n",
       "      <th></th>\n",
       "      <th></th>\n",
       "      <th></th>\n",
       "      <th></th>\n",
       "      <th></th>\n",
       "      <th></th>\n",
       "      <th></th>\n",
       "      <th></th>\n",
       "      <th></th>\n",
       "    </tr>\n",
       "  </thead>\n",
       "  <tbody>\n",
       "    <tr>\n",
       "      <th>2016</th>\n",
       "      <td>0.79</td>\n",
       "      <td>0.80</td>\n",
       "      <td>0.81</td>\n",
       "      <td>0.76</td>\n",
       "      <td>0.80</td>\n",
       "      <td>0.53</td>\n",
       "      <td>0.67</td>\n",
       "      <td>0.92</td>\n",
       "      <td>0.62</td>\n",
       "      <td>0.73</td>\n",
       "      <td>0.71</td>\n",
       "      <td>0.69</td>\n",
       "      <td>0.73</td>\n",
       "      <td>0.74</td>\n",
       "      <td>0.79</td>\n",
       "      <td>0.79</td>\n",
       "      <td>0.71</td>\n",
       "      <td>0.69</td>\n",
       "    </tr>\n",
       "    <tr>\n",
       "      <th>2017</th>\n",
       "      <td>0.67</td>\n",
       "      <td>0.76</td>\n",
       "      <td>0.80</td>\n",
       "      <td>0.67</td>\n",
       "      <td>0.88</td>\n",
       "      <td>0.53</td>\n",
       "      <td>0.69</td>\n",
       "      <td>0.73</td>\n",
       "      <td>0.60</td>\n",
       "      <td>0.75</td>\n",
       "      <td>0.54</td>\n",
       "      <td>0.49</td>\n",
       "      <td>0.68</td>\n",
       "      <td>0.69</td>\n",
       "      <td>0.71</td>\n",
       "      <td>0.78</td>\n",
       "      <td>0.65</td>\n",
       "      <td>0.63</td>\n",
       "    </tr>\n",
       "    <tr>\n",
       "      <th>2018</th>\n",
       "      <td>0.50</td>\n",
       "      <td>0.46</td>\n",
       "      <td>0.61</td>\n",
       "      <td>0.81</td>\n",
       "      <td>0.64</td>\n",
       "      <td>0.70</td>\n",
       "      <td>0.75</td>\n",
       "      <td>0.68</td>\n",
       "      <td>0.65</td>\n",
       "      <td>0.78</td>\n",
       "      <td>0.68</td>\n",
       "      <td>0.74</td>\n",
       "      <td>0.67</td>\n",
       "      <td>0.64</td>\n",
       "      <td>0.48</td>\n",
       "      <td>0.69</td>\n",
       "      <td>0.71</td>\n",
       "      <td>0.70</td>\n",
       "    </tr>\n",
       "  </tbody>\n",
       "</table>\n",
       "</div>"
      ],
      "text/plain": [
       "       Jan   Feb   Mar   Apr   May   Jun   Jul   Aug   Sep   Oct   Nov   Dec  \\\n",
       "Year                                                                           \n",
       "2016  0.79  0.80  0.81  0.76  0.80  0.53  0.67  0.92  0.62  0.73  0.71  0.69   \n",
       "2017  0.67  0.76  0.80  0.67  0.88  0.53  0.69  0.73  0.60  0.75  0.54  0.49   \n",
       "2018  0.50  0.46  0.61  0.81  0.64  0.70  0.75  0.68  0.65  0.78  0.68  0.74   \n",
       "\n",
       "       J-D   D-N   DJF   MAM   JJA   SON  \n",
       "Year                                      \n",
       "2016  0.73  0.74  0.79  0.79  0.71  0.69  \n",
       "2017  0.68  0.69  0.71  0.78  0.65  0.63  \n",
       "2018  0.67  0.64  0.48  0.69  0.71  0.70  "
      ]
     },
     "execution_count": 1,
     "metadata": {},
     "output_type": "execute_result"
    }
   ],
   "source": [
    "import matplotlib.pyplot as plt\n",
    "import pymc as pm\n",
    "import requests\n",
    "\n",
    "print('NASA Goddard Institute for Space Studies')\n",
    "print('https://data.giss.nasa.gov/gistemp/')\n",
    "\n",
    "# glbl = 'https://data.giss.nasa.gov/gistemp/tabledata_v4/GLB.Ts+dSST.csv'\n",
    "# north = 'https://data.giss.nasa.gov/gistemp/tabledata_v4/NH.Ts+dSST.csv'\n",
    "# south = 'https://data.giss.nasa.gov/gistemp/tabledata_v4/SH.Ts+dSST.csv'\n",
    "\n",
    "# res = requests.get(south)\n",
    "# os.makedirs('./data', exist_ok=True)\n",
    "# with open('./data/south-temps.csv', 'wb') as fi:\n",
    "#     fi.write(res.content)\n",
    "    \n",
    "data = pd.read_csv('./data/south-temps.csv', header=1, index_col=0)\n",
    "data = data.replace(\"***\", 0)\n",
    "data = data.iloc[:-1, :]\n",
    "data = data.astype(float)\n",
    "\n",
    "data.tail(3)"
   ]
  },
  {
   "cell_type": "code",
   "execution_count": 2,
   "metadata": {},
   "outputs": [
    {
     "data": {
      "text/plain": [
       "Year\n",
       "1880   -0.05\n",
       "1881   -0.01\n",
       "1882   -0.02\n",
       "Name: J-D, dtype: float64"
      ]
     },
     "execution_count": 2,
     "metadata": {},
     "output_type": "execute_result"
    }
   ],
   "source": [
    "annual = data.loc[:, 'J-D']\n",
    "annual.head(3)"
   ]
  },
  {
   "cell_type": "code",
   "execution_count": 3,
   "metadata": {},
   "outputs": [
    {
     "data": {
      "text/plain": [
       "<matplotlib.axes._subplots.AxesSubplot at 0x11e8b1278>"
      ]
     },
     "execution_count": 3,
     "metadata": {},
     "output_type": "execute_result"
    },
    {
     "data": {
      "image/png": "[encoded data removed]",
      "text/plain": [
       "<Figure size 432x288 with 1 Axes>"
      ]
     },
     "metadata": {
      "needs_background": "light"
     },
     "output_type": "display_data"
    }
   ],
   "source": [
    "annual.plot()"
   ]
  },
  {
   "cell_type": "code",
   "execution_count": null,
   "metadata": {},
   "outputs": [],
   "source": []
  },
  {
   "cell_type": "markdown",
   "metadata": {},
   "source": [
    "As the annual temperature is a continuous, an exponential probability density is a good choice\n",
    "\n",
    "$$Z(z|\\lambda) = \\lambda e^{- \\lambda z}$$\n",
    "\n",
    "The expected value of the exponential random variable is equal to the inverse of the parameter $\\lambda$ \n",
    "\n",
    "$$ \\mathbf{E}[Z|\\lambda] = \\frac{1}{\\lambda}$$\n",
    "\n",
    "Let's create variables for the parameter before and after the switch:"
   ]
  },
  {
   "cell_type": "code",
   "execution_count": 4,
   "metadata": {},
   "outputs": [],
   "source": [
    "# before_mu = pm.Uniform('before_mu', -2, 2)\n",
    "# before_sigma = pm.Exponential('before_sigma', 1 / annual.std())\n",
    "\n",
    "# after_mu = pm.Uniform('after_mu', -2, 2)\n",
    "# after_sigma = pm.Exponential('after_sigma', 1 / annual.std())\n",
    "\n",
    "# x\n",
    "size = 2\n",
    "mu = pm.Uniform('mu', -2, 2, size=size)\n",
    "sigma = pm.Exponential('sigma', 1 / annual.std(), size=size)"
   ]
  },
  {
   "cell_type": "markdown",
   "metadata": {},
   "source": [
    "We also need a parameter to control the switch:"
   ]
  },
  {
   "cell_type": "code",
   "execution_count": 5,
   "metadata": {},
   "outputs": [],
   "source": [
    "tau = pm.DiscreteUniform('tau', lower=0, upper=annual.shape[0])"
   ]
  },
  {
   "cell_type": "markdown",
   "metadata": {},
   "source": [
    "All of these `pymc` variables are stochastic - they can be sampled from:"
   ]
  },
  {
   "cell_type": "code",
   "execution_count": 6,
   "metadata": {},
   "outputs": [
    {
     "data": {
      "text/plain": [
       "array([ 0.9632591 , -0.56202541])"
      ]
     },
     "execution_count": 6,
     "metadata": {},
     "output_type": "execute_result"
    }
   ],
   "source": [
    "mu.random()"
   ]
  },
  {
   "cell_type": "code",
   "execution_count": 7,
   "metadata": {},
   "outputs": [
    {
     "data": {
      "text/plain": [
       "array([0.02245813, 0.2583534 ])"
      ]
     },
     "execution_count": 7,
     "metadata": {},
     "output_type": "execute_result"
    }
   ],
   "source": [
    "sigma.random()"
   ]
  },
  {
   "cell_type": "code",
   "execution_count": 8,
   "metadata": {},
   "outputs": [
    {
     "data": {
      "text/plain": [
       "array(135)"
      ]
     },
     "execution_count": 8,
     "metadata": {},
     "output_type": "execute_result"
    }
   ],
   "source": [
    "tau.random()"
   ]
  },
  {
   "cell_type": "markdown",
   "metadata": {},
   "source": [
    "We now need to combine these into a single parameter.  \n",
    "\n",
    "We use the `pm.deterministic` decorator to tell `pymc` that this is a deterministic function\n",
    "- all variables need to be kwargs"
   ]
  },
  {
   "cell_type": "code",
   "execution_count": 9,
   "metadata": {},
   "outputs": [],
   "source": [
    "@pm.deterministic\n",
    "def mu_p(tau=tau, mu=mu, count=annual.shape[0]):\n",
    "    out = np.zeros(count)\n",
    "    out[:tau] = mu[0]\n",
    "    out[tau:] = mu[1]\n",
    "    return out\n",
    "\n",
    "@pm.deterministic\n",
    "def sigma_p(tau=tau, sigma=sigma, count=annual.shape[0]):\n",
    "    out = np.zeros(count)\n",
    "    out[:tau] = sigma[0]\n",
    "    out[tau:] = sigma[1]\n",
    "    return out"
   ]
  },
  {
   "cell_type": "markdown",
   "metadata": {},
   "source": [
    "Now we can finally create our object combines our data with our priors:"
   ]
  },
  {
   "cell_type": "code",
   "execution_count": 10,
   "metadata": {},
   "outputs": [],
   "source": [
    "observation = pm.Normal('temperature', mu=mu_p, tau=1/sigma_p, value=annual, observed=True)"
   ]
  },
  {
   "cell_type": "markdown",
   "metadata": {},
   "source": [
    "And make a `Model` instance:"
   ]
  },
  {
   "cell_type": "code",
   "execution_count": 11,
   "metadata": {},
   "outputs": [
    {
     "name": "stdout",
     "output_type": "stream",
     "text": [
      " [-----------------100%-----------------] 40000 of 40000 complete in 7.2 sec"
     ]
    }
   ],
   "source": [
    "model = pm.Model([observation, mu_p, sigma_p, tau])\n",
    "mcmc = pm.MCMC(model)\n",
    "mcmc.sample(40000, 10000)"
   ]
  },
  {
   "cell_type": "code",
   "execution_count": 12,
   "metadata": {},
   "outputs": [
    {
     "data": {
      "text/plain": [
       "array([[-0.18877774, -0.18877774, -0.18877774, ...,  0.37593162,\n",
       "         0.37593162,  0.37593162],\n",
       "       [-0.19431185, -0.19431185, -0.19431185, ...,  0.34195811,\n",
       "         0.34195811,  0.34195811],\n",
       "       [-0.19431185, -0.19431185, -0.19431185, ...,  0.34195811,\n",
       "         0.34195811,  0.34195811],\n",
       "       ...,\n",
       "       [-0.17681311, -0.17681311, -0.17681311, ...,  0.38953892,\n",
       "         0.38953892,  0.38953892],\n",
       "       [-0.17681311, -0.17681311, -0.17681311, ...,  0.38953892,\n",
       "         0.38953892,  0.38953892],\n",
       "       [-0.17681311, -0.17681311, -0.17681311, ...,  0.38953892,\n",
       "         0.38953892,  0.38953892]])"
      ]
     },
     "execution_count": 12,
     "metadata": {},
     "output_type": "execute_result"
    }
   ],
   "source": [
    "mcmc.trace('mu_p')[:, :]"
   ]
  },
  {
   "cell_type": "code",
   "execution_count": 13,
   "metadata": {},
   "outputs": [
    {
     "data": {
      "text/plain": [
       "<matplotlib.legend.Legend at 0x132093470>"
      ]
     },
     "execution_count": 13,
     "metadata": {},
     "output_type": "execute_result"
    },
    {
     "data": {
      "image/png": "[encoded data removed]",
      "text/plain": [
       "<Figure size 720x720 with 4 Axes>"
      ]
     },
     "metadata": {
      "needs_background": "light"
     },
     "output_type": "display_data"
    }
   ],
   "source": [
    "before_mu_samples = mcmc.trace('mu')[:, 0]\n",
    "after_mu_samples = mcmc.trace('mu')[:, 1]\n",
    "before_sigma_samples = mcmc.trace('sigma')[:, 0]\n",
    "after_sigma_samples = mcmc.trace('sigma')[:, 1]\n",
    "\n",
    "tau_samples = mcmc.trace('tau')[:]\n",
    "\n",
    "f, axes = plt.subplots(2, 2, figsize=(10, 10), sharex='col')\n",
    "\n",
    "_ = axes[0][0].hist(before_mu_samples, label=r\"posterior of $\\mu$ before $\\tau$\")\n",
    "_ = axes[1][0].hist(after_mu_samples, label=r\"posterior of $\\mu$ after $\\tau$\")\n",
    "\n",
    "_ = axes[0][1].hist(before_sigma_samples)\n",
    "_ = axes[1][1].hist(after_sigma_samples)\n",
    "\n",
    "axes[0][0].legend(loc=\"upper right\")\n",
    "axes[1][0].legend(loc=\"upper right\")"
   ]
  },
  {
   "cell_type": "code",
   "execution_count": 14,
   "metadata": {},
   "outputs": [
    {
     "data": {
      "text/plain": [
       "<matplotlib.legend.Legend at 0x1321f5710>"
      ]
     },
     "execution_count": 14,
     "metadata": {},
     "output_type": "execute_result"
    },
    {
     "data": {
      "image/png": "[encoded data removed]",
      "text/plain": [
       "<Figure size 1440x360 with 2 Axes>"
      ]
     },
     "metadata": {
      "needs_background": "light"
     },
     "output_type": "display_data"
    }
   ],
   "source": [
    "f, ax = plt.subplots(figsize=(20, 5), nrows=2, sharex=True)\n",
    "years = tau_samples + annual.index[0]\n",
    "w = 1.0 / years.shape[0] * np.ones_like(years)\n",
    "ax[0].hist(years, bins=annual.shape[0], alpha=1, label=r\"posterior of $\\tau$\", color=\"#467821\", weights=w, rwidth=2.)\n",
    "ax[0].legend(loc=\"upper left\")\n",
    "ax[0].xaxis.set_major_locator(plt.MaxNLocator(10))\n",
    "_ = ax[1].plot(annual, label='temperature')\n",
    "ax[1].legend(loc=\"upper left\")"
   ]
  },
  {
   "cell_type": "markdown",
   "metadata": {},
   "source": [
    "The width of these distributions shows how certain we should be\n",
    "\n",
    "Our analysis shows support for\n",
    "- a change in warming (mu0 != mu1)\n",
    "- a switchpoint occured in the late 1960's / 1970's\n",
    "\n",
    "## Statistical significance\n",
    "\n",
    "We can visually inspect the parameters above and see a clear trend (i.e. no overlap for the mean).  \n",
    "\n",
    "We can use our samples to determine this:"
   ]
  },
  {
   "cell_type": "code",
   "execution_count": 15,
   "metadata": {},
   "outputs": [
    {
     "data": {
      "text/plain": [
       "0.6697666666666666"
      ]
     },
     "execution_count": 15,
     "metadata": {},
     "output_type": "execute_result"
    }
   ],
   "source": [
    "np.mean(before_sigma_samples < after_sigma_samples)"
   ]
  },
  {
   "cell_type": "markdown",
   "metadata": {},
   "source": [
    "We can use a similar logic for a given size of effect:"
   ]
  },
  {
   "cell_type": "code",
   "execution_count": 16,
   "metadata": {},
   "outputs": [
    {
     "data": {
      "text/plain": [
       "0.4062"
      ]
     },
     "execution_count": 16,
     "metadata": {},
     "output_type": "execute_result"
    }
   ],
   "source": [
    "effect_size = 0.01\n",
    "\n",
    "np.mean(np.abs(before_sigma_samples - after_sigma_samples) >= effect_size)"
   ]
  },
  {
   "cell_type": "markdown",
   "metadata": {},
   "source": [
    "## Practical\n",
    "\n",
    "Extend the example above to model multiple switchpoints"
   ]
  },
  {
   "cell_type": "code",
   "execution_count": null,
   "metadata": {},
   "outputs": [],
   "source": []
  },
  {
   "cell_type": "markdown",
   "metadata": {},
   "source": [
    "## A bit more on PyMC\n",
    "\n",
    "### Parent & child relationships"
   ]
  },
  {
   "cell_type": "code",
   "execution_count": 17,
   "metadata": {},
   "outputs": [
    {
     "data": {
      "text/plain": [
       "(<pymc.distributions.new_dist_class.<locals>.new_class 'temperature' at 0x12dda6b70>,\n",
       " <pymc.distributions.new_dist_class.<locals>.new_class 'mu' at 0x12dceecc0>,\n",
       " <pymc.distributions.new_dist_class.<locals>.new_class 'sigma' at 0x12dceec50>)"
      ]
     },
     "execution_count": 17,
     "metadata": {},
     "output_type": "execute_result"
    }
   ],
   "source": [
    "observation, mu, sigma"
   ]
  },
  {
   "cell_type": "code",
   "execution_count": 18,
   "metadata": {},
   "outputs": [
    {
     "data": {
      "text/plain": [
       "{'mu': <pymc.PyMCObjects.Deterministic 'mu_p' at 0x12dce5470>,\n",
       " 'tau': <pymc.PyMCObjects.Deterministic '(sigma_p_rtruediv_1)' at 0x12dda6320>}"
      ]
     },
     "execution_count": 18,
     "metadata": {},
     "output_type": "execute_result"
    }
   ],
   "source": [
    "observation.parents"
   ]
  },
  {
   "cell_type": "code",
   "execution_count": 19,
   "metadata": {},
   "outputs": [
    {
     "data": {
      "text/plain": [
       "{<pymc.PyMCObjects.Deterministic 'mu_p' at 0x12dce5470>}"
      ]
     },
     "execution_count": 19,
     "metadata": {},
     "output_type": "execute_result"
    }
   ],
   "source": [
    "mu.children"
   ]
  },
  {
   "cell_type": "markdown",
   "metadata": {},
   "source": [
    "### Variables have values"
   ]
  },
  {
   "cell_type": "code",
   "execution_count": 20,
   "metadata": {},
   "outputs": [
    {
     "data": {
      "text/plain": [
       "array([-0.05, -0.01, -0.02, -0.07, -0.15, -0.25, -0.21, -0.29, -0.13,\n",
       "       -0.05, -0.33, -0.2 , -0.16, -0.16, -0.23, -0.16, -0.04, -0.07,\n",
       "       -0.28, -0.16, -0.08, -0.2 , -0.24, -0.38, -0.48, -0.24, -0.23,\n",
       "       -0.32, -0.42, -0.49, -0.44, -0.47, -0.26, -0.28, -0.13, -0.15,\n",
       "       -0.32, -0.37, -0.21, -0.22, -0.26, -0.28, -0.31, -0.32, -0.37,\n",
       "       -0.31, -0.23, -0.3 , -0.3 , -0.39, -0.3 , -0.22, -0.27, -0.33,\n",
       "       -0.27, -0.31, -0.27, -0.19, -0.19, -0.14,  0.08,  0.16,  0.  ,\n",
       "       -0.02,  0.13,  0.08, -0.18, -0.14, -0.21, -0.2 , -0.21, -0.19,\n",
       "       -0.04, -0.08, -0.26, -0.21, -0.16,  0.05, -0.02, -0.06, -0.12,\n",
       "        0.03, -0.06, -0.03, -0.21, -0.07, -0.09, -0.08, -0.09,  0.15,\n",
       "        0.09, -0.02,  0.2 ,  0.23,  0.04,  0.02,  0.01,  0.24,  0.12,\n",
       "        0.25,  0.35,  0.27,  0.23,  0.38,  0.27,  0.23,  0.24,  0.41,\n",
       "        0.4 ,  0.28,  0.38,  0.4 ,  0.31,  0.28,  0.26,  0.32,  0.39,\n",
       "        0.42,  0.52,  0.29,  0.29,  0.44,  0.54,  0.5 ,  0.43,  0.51,\n",
       "        0.47,  0.47,  0.41,  0.59,  0.55,  0.47,  0.48,  0.57,  0.58,\n",
       "        0.64,  0.73,  0.68,  0.67])"
      ]
     },
     "execution_count": 20,
     "metadata": {},
     "output_type": "execute_result"
    }
   ],
   "source": [
    "observation.value"
   ]
  },
  {
   "cell_type": "markdown",
   "metadata": {},
   "source": [
    "## Variables are stochastic or deterministic\n",
    "\n",
    "Deterministic\n",
    "- not random if parents values known\n",
    "- made using the `@pm.deterministic` decorator\n",
    "- elementary operations such as addition, exponentials etc\n",
    "\n",
    "Stochastic\n",
    "- even if you know all parent's values, it is is still random\n",
    "- Poisson, DiscreteUniform, Exponential\n",
    "\n",
    "We can call `.random()` on stochastic variables"
   ]
  },
  {
   "cell_type": "code",
   "execution_count": 21,
   "metadata": {},
   "outputs": [
    {
     "data": {
      "text/plain": [
       "array([-1.1683512 , -1.15529729])"
      ]
     },
     "execution_count": 21,
     "metadata": {},
     "output_type": "execute_result"
    }
   ],
   "source": [
    "mu.random()"
   ]
  },
  {
   "cell_type": "markdown",
   "metadata": {},
   "source": [
    "## How do we include data?\n",
    "\n",
    "Stochastic variables have kwarg `observed`"
   ]
  },
  {
   "cell_type": "code",
   "execution_count": 22,
   "metadata": {},
   "outputs": [
    {
     "data": {
      "text/plain": [
       "<pymc.distributions.new_dist_class.<locals>.new_class 'fixed' at 0x132b1fd30>"
      ]
     },
     "execution_count": 22,
     "metadata": {},
     "output_type": "execute_result"
    }
   ],
   "source": [
    "pm.Poisson('fixed', 1, value=data, observed=True)"
   ]
  },
  {
   "cell_type": "markdown",
   "metadata": {},
   "source": [
    "## Using `pymc` to generate data\n",
    "\n",
    "A superpower of machine learning\n",
    "\n",
    "2.2.1 hacker"
   ]
  },
  {
   "cell_type": "code",
   "execution_count": 23,
   "metadata": {},
   "outputs": [
    {
     "data": {
      "image/png": "[encoded data removed]",
      "text/plain": [
       "<Figure size 432x288 with 1 Axes>"
      ]
     },
     "metadata": {
      "needs_background": "light"
     },
     "output_type": "display_data"
    }
   ],
   "source": [
    "#  sample a switchpoint\n",
    "tau = pm.rdiscrete_uniform(0, annual.shape[0])\n",
    "\n",
    "#  sample statitics for the Gaussian\n",
    "mu = pm.runiform(-2, 2, size=size)\n",
    "sigma = pm.rexponential(1 / annual.std(), size=size)\n",
    "\n",
    "mus = np.r_[\n",
    "    mu[0] * np.ones(tau), mu[1] * np.ones(annual.shape[0] - tau)\n",
    "]\n",
    "\n",
    "sigmas = np.r_[\n",
    "    sigma[0] * np.ones(tau), sigma[1] * np.ones(annual.shape[0] - tau)\n",
    "]\n",
    "\n",
    "data = pm.rnormal(mus, sigmas)\n",
    "\n",
    "plt.plot(data)\n",
    "_ = plt.axvline(tau, color='green')"
   ]
  },
  {
   "cell_type": "markdown",
   "metadata": {},
   "source": [
    "## Revisiting the temperature dataset\n",
    "\n",
    "If we have a look again at our dataset"
   ]
  },
  {
   "cell_type": "code",
   "execution_count": 24,
   "metadata": {},
   "outputs": [
    {
     "data": {
      "image/png": "[encoded data removed]",
      "text/plain": [
       "<Figure size 432x288 with 1 Axes>"
      ]
     },
     "metadata": {
      "needs_background": "light"
     },
     "output_type": "display_data"
    }
   ],
   "source": [
    "_ = annual.plot()"
   ]
  },
  {
   "cell_type": "markdown",
   "metadata": {},
   "source": [
    "https://link.springer.com/content/pdf/10.3758%2Fs13423-017-1281-0.pdf\n",
    "\n",
    "Let's sample"
   ]
  },
  {
   "cell_type": "code",
   "execution_count": null,
   "metadata": {},
   "outputs": [],
   "source": []
  },
  {
   "cell_type": "code",
   "execution_count": 26,
   "metadata": {},
   "outputs": [
    {
     "name": "stdout",
     "output_type": "stream",
     "text": [
      " [-----------------100%-----------------] 40000 of 40000 complete in 0.4 sec"
     ]
    }
   ],
   "source": [
    "size = 2\n",
    "\n",
    "mu = pm.Uniform('mu', size=size)\n",
    "beta = pm.Normal('beta', mu=mu, tau=0.5)\n",
    "\n",
    "@pm.deterministic\n",
    "def mu_p(mu=beta, count=annual.shape[0]):\n",
    "    out = np.full(count, mu[0])\n",
    "    out *= mu[1] * np.arange(count)\n",
    "    return out\n",
    "\n",
    "observation = pm.Normal('temperature', mu=mu_p, value=annual, observed=True)\n",
    "\n",
    "model = pm.Model([observation, mu_p])\n",
    "mcmc = pm.MCMC(model)\n",
    "mcmc.sample(40000, 10000)"
   ]
  },
  {
   "cell_type": "code",
   "execution_count": 28,
   "metadata": {},
   "outputs": [
    {
     "data": {
      "text/plain": [
       "<matplotlib.legend.Legend at 0x135020860>"
      ]
     },
     "execution_count": 28,
     "metadata": {},
     "output_type": "execute_result"
    },
    {
     "data": {
      "image/png": "[encoded data removed]",
      "text/plain": [
       "<Figure size 720x720 with 4 Axes>"
      ]
     },
     "metadata": {
      "needs_background": "light"
     },
     "output_type": "display_data"
    }
   ],
   "source": [
    "before_mu_samples = mcmc.trace('mu_p')[:, 0]\n",
    "after_mu_samples = mcmc.trace('mu_p')[:, 1]\n",
    "\n",
    "f, axes = plt.subplots(2, 2, figsize=(10, 10), sharex='col')\n",
    "\n",
    "_ = axes[0][0].hist(before_mu_samples, label=r\"posterior of $\\mu$ before $\\tau$\")\n",
    "_ = axes[1][0].hist(after_mu_samples, label=r\"posterior of $\\mu$ after $\\tau$\")\n",
    "\n",
    "#_ = axes[0][1].hist(before_sigma_samples)\n",
    "#_ = axes[1][1].hist(after_sigma_samples)\n",
    "\n",
    "axes[0][0].legend(loc=\"upper right\")\n",
    "axes[1][0].legend(loc=\"upper right\")"
   ]
  },
  {
   "cell_type": "code",
   "execution_count": null,
   "metadata": {},
   "outputs": [],
   "source": []
  },
  {
   "cell_type": "code",
   "execution_count": null,
   "metadata": {},
   "outputs": [],
   "source": []
  },
  {
   "cell_type": "code",
   "execution_count": null,
   "metadata": {},
   "outputs": [],
   "source": []
  },
  {
   "cell_type": "markdown",
   "metadata": {},
   "source": [
    "Let's try to model this as a time series problem, using an autoregression model with two lags\n",
    "\n",
    "https://towardsdatascience.com/a-bayesian-approach-to-time-series-forecasting-d97dd4168cb7"
   ]
  },
  {
   "cell_type": "code",
   "execution_count": null,
   "metadata": {},
   "outputs": [],
   "source": []
  },
  {
   "cell_type": "code",
   "execution_count": null,
   "metadata": {},
   "outputs": [],
   "source": []
  },
  {
   "cell_type": "code",
   "execution_count": null,
   "metadata": {},
   "outputs": [],
   "source": []
  }
 ],
 "metadata": {
  "kernelspec": {
   "display_name": "Python 3",
   "language": "python",
   "name": "python3"
  },
  "language_info": {
   "codemirror_mode": {
    "name": "ipython",
    "version": 3
   },
   "file_extension": ".py",
   "mimetype": "text/x-python",
   "name": "python",
   "nbconvert_exporter": "python",
   "pygments_lexer": "ipython3",
   "version": "3.6.8"
  }
 },
 "nbformat": 4,
 "nbformat_minor": 4
}

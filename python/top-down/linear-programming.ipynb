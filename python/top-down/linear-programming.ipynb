{
 "cells": [
  {
   "cell_type": "code",
   "execution_count": null,
   "metadata": {},
   "outputs": [],
   "source": [
    "!pip install pulp -q\n",
    "\n",
    "from collections import namedtuple\n",
    "\n",
    "from pulp import LpProblem, LpMinimize, LpVariable, LpStatus"
   ]
  },
  {
   "cell_type": "markdown",
   "metadata": {},
   "source": [
    "# Linear programming\n",
    "\n",
    "This notebook gives \n",
    "- an introduction to linear programming\n",
    "- two worked examples\n",
    "- a practical exercise\n",
    "\n",
    "## Resources & further reading\n",
    "\n",
    "- [6 part blog post series on linear programming with PuLP - Ben Alex Keen](http://benalexkeen.com/blog/)\n",
    "- [Linear programming - Michel Goemans](https://math.mit.edu/~goemans/18310S15/lpnotes310.pdf)\n",
    "- [Linear programming - Thomas Ferguson](https://www.math.ucla.edu/~tom/LP.pdf)\n",
    "\n",
    "## Why linear programming\n",
    "\n",
    "[Linear programming - Wikipedia](https://en.wikipedia.org/wiki/Linear_programming)\n",
    "\n",
    "Classical optimization method\n",
    "- minimize cost or maximize profit\n",
    "- guranteed global optimum\n",
    "- deterministic\n",
    "- can be used for prediction or control\n",
    "\n",
    "> I used to mixed integer linear programming in Excel an an energy engineer using [OpenSolver](https://opensolver.org/) (University of Auckland, New Zealand) to optimize the dispatch of combined heat and power.  In my previous job as a data scientist we developed [a linear program to dispatch electric battery storage](https://github.com/ADGEfficiency/energy-py-linear).  [Tempus Energy](https://blog.tempusenergy.com/blog/2019/8/20/tempus-price-prediction-quality) use the model to dispatch price arbitrage battery storage & to measure electricity price forecast quality.\n",
    "\n",
    "## Why not linear programming\n",
    "\n",
    "Many business problems are not linear - but if yours is, linear programs are a huge advantage.\n",
    "\n",
    "Uncertanitity on the inputs - see [robust optimization](https://en.wikipedia.org/wiki/Robust_optimization).\n",
    "\n",
    "## Linear programming with PuLP\n",
    "\n",
    "We can do linear programming in Python using [PuLP](https://pythonhosted.org/PuLP/) - a library that abstracts away the mechanics of solving linear programs.  The mathematics of the optimization is not covered here - if you are interested, the [Simplex Method](https://en.wikipedia.org/wiki/Simplex_algorithm) is a good place to start.\n",
    "\n",
    "## The structure of a linear program\n",
    "\n",
    "**Objective function** - minimize or maximize\n",
    "\n",
    "**Variables** - things you can change - continuous, integer, binary\n",
    "\n",
    "**Constraints** - equality (==) or inequality (>=, <=)\n",
    "\n",
    "## What do we mean by linear?\n",
    "\n",
    "If you have a vector of two variables\n",
    "\n",
    "$\\textbf{V} = \\begin{bmatrix}v_{1} \\\\ v_{2} \\\\ \\end{bmatrix}$\n",
    "\n",
    "You cannot do operations that are non-linear\n",
    "- multipying a variable by itself $ v_{1}^{2} $\n",
    "- multipying a variable by another variable $v_{1} * v_{2} $ (bilinearity)\n",
    "\n",
    "This means that linear programs are limited in scope \n",
    "- systems that can be modelled in terms of linear relationships\n",
    "\n",
    "A linear program is a **convex optimization problem**\n",
    "- only one globally optimal solution (or infeasible)\n",
    "\n",
    "## Using linear programs in industry\n",
    "\n",
    "Writing linear programs requires two skills\n",
    "1. identifying the business problem can be modelled as a linear program\n",
    "2. writing the objective, variables and constraints as a program\n",
    "\n",
    "The first step is harder\n",
    "\n",
    "You don't need to know how the optimization is done\n",
    "- driving a car - the detail of combustion is hidden\n",
    "- stochastic gradient descent (used to train neural nets) - you can optimize a function without knowing exactly how the optimizer works\n",
    "\n",
    "## Example - diet problem\n",
    "\n",
    "From [Linear programming - Michel Goemans](https://math.mit.edu/~goemans/18310S15/lpnotes310.pdf).\n",
    "\n",
    "> In the diet model, a list of available foods is given together with the nutrient content and the cost\n",
    "per unit weight of each food. A certain amount of each nutrient is required per day. For example,\n",
    "here is the data corresponding to a civilization with just two types of grains (G1 and G2) and three\n",
    "types of nutrients (starch, proteins, vitamins)\n",
    "\n",
    "| | Starch [kg/kg] | Protiens [kg/kg] | Vitamins [kg/kg] | Cost [$/g] |\n",
    "|---|---|---|---|---|\n",
    "|apples| 5 | 4 | 2| 0.6 |\n",
    "|oranges| 7 | 2 | 1| 0.35 |\n",
    "\n",
    "We have a requirement per day of 8g of starch, 15g of protiens and 3g of vitamins\n",
    "\n",
    "### Formulating as a linear problem\n",
    "\n",
    "Let's map this problem directly onto the definition of linear programming\n",
    "\n",
    "Objective function = minimize cost\n",
    "\n",
    "Variables = amount of apples & oranges\n",
    "\n",
    "Constraints = daily requirements of starch, protien and vitamins\n",
    "\n",
    "### The PuLP api\n",
    "\n",
    "Below is a full linear program for the problem above:"
   ]
  },
  {
   "cell_type": "code",
   "execution_count": null,
   "metadata": {},
   "outputs": [],
   "source": [
    "problem = LpProblem('cost minimization', LpMinimize)\n",
    "\n",
    "apples = LpVariable('apples', 0, None)\n",
    "bannanas = LpVariable('banannas', 0, None)\n",
    "\n",
    "#  add the objective function\n",
    "problem += apples * 0.6 + bannanas * 0.35\n",
    "\n",
    "#  add contstraints\n",
    "#  starch\n",
    "problem += apples * 5 + bannanas * 7 >= 8\n",
    "#  protien\n",
    "problem += apples * 4 + bannanas * 2 >= 15\n",
    "#  vitamins\n",
    "problem += apples * 2 + bannanas * 1 >= 3\n",
    "\n",
    "problem.solve()\n",
    "print(LpStatus[problem.status])\n",
    "\n",
    "for v in (apples, bannanas):\n",
    "    print('{} {}'.format(v.name, v.varValue))"
   ]
  },
  {
   "cell_type": "markdown",
   "metadata": {},
   "source": [
    "## Standard form of a linear program\n",
    "\n",
    "A linear program is said to be in standard form if\n",
    "- it is a maximization program\n",
    "- there are only equalities (no inequalities)\n",
    "- all variables are restricted to be nonnegative\n",
    "\n",
    "## Example - resource allocation \n",
    "\n",
    "Our company makes two products - wind turbines and solar panels.  We want to build \n",
    "- products that minimizes the carbon impact of construction (objective)\n",
    "- a certain number of products (our constraints)\n",
    "\n",
    "Inputs / assumptions are\n",
    "- producing one wind turbine requires two units of coal and one unit of steel\n",
    "- producing one solar panel requires three units of steel\n",
    "\n",
    "Let's put this into code.  First thing we need to choose is a data structure - a `namedtuple` is a good choice to hold state):"
   ]
  },
  {
   "cell_type": "code",
   "execution_count": null,
   "metadata": {},
   "outputs": [],
   "source": [
    "Product = namedtuple('Product', ['name', 'coal', 'steel', 'limit'])\n",
    "\n",
    "wind = Product('wind', 2, 1, 100)\n",
    "wind"
   ]
  },
  {
   "cell_type": "code",
   "execution_count": null,
   "metadata": {},
   "outputs": [],
   "source": [
    "solar = Product('solar', 0, 3, 100)\n",
    "solar"
   ]
  },
  {
   "cell_type": "markdown",
   "metadata": {},
   "source": [
    "Now we will model the costs - we will use specific carbon cost (ton carbon per unit)."
   ]
  },
  {
   "cell_type": "code",
   "execution_count": null,
   "metadata": {},
   "outputs": [],
   "source": [
    "Resource = namedtuple('Resource', ['name', 'cost'])\n",
    "\n",
    "coal = Resource('coal', 3)\n",
    "steel = Resource('steel', 10)"
   ]
  },
  {
   "cell_type": "markdown",
   "metadata": {},
   "source": [
    "Now lets start to use PuLP to build the linear program:"
   ]
  },
  {
   "cell_type": "code",
   "execution_count": null,
   "metadata": {},
   "outputs": [],
   "source": [
    "problem = LpProblem('carbon minimization', LpMinimize)\n",
    "\n",
    "products = [wind, solar]\n",
    "variables = [LpVariable(p.name, 0, p.limit) for p in products]\n",
    "\n",
    "variables"
   ]
  },
  {
   "cell_type": "markdown",
   "metadata": {},
   "source": [
    "Add the objective function, which is total carbon cost:"
   ]
  },
  {
   "cell_type": "code",
   "execution_count": null,
   "metadata": {},
   "outputs": [],
   "source": [
    "problem += sum(\n",
    "    [v * p.coal * coal.cost for v, p in zip(variables, products)]\n",
    "    \n",
    ") + sum(\n",
    "    [v * p.steel * steel.cost for v, p in zip(variables, products)]\n",
    ")"
   ]
  },
  {
   "cell_type": "markdown",
   "metadata": {},
   "source": [
    "Add the constraint to deliver a certain number of units:"
   ]
  },
  {
   "cell_type": "code",
   "execution_count": null,
   "metadata": {},
   "outputs": [],
   "source": [
    "demand = 10\n",
    "\n",
    "problem += sum(variables) == demand"
   ]
  },
  {
   "cell_type": "code",
   "execution_count": null,
   "metadata": {},
   "outputs": [],
   "source": [
    "problem.solve()\n",
    "print(LpStatus[problem.status])\n",
    "\n",
    "for v in variables:\n",
    "    print('{} {}'.format(v.name, v.varValue))"
   ]
  },
  {
   "cell_type": "markdown",
   "metadata": {},
   "source": [
    "## Practical - transportation problem\n",
    "\n",
    "$P$ ports\n",
    "- a capacity (num. units) \n",
    "- a cost (\\$/unit)\n",
    "\n",
    "$M$ markets\n",
    "- a demand (num. units)\n",
    "\n",
    "Map this problem directly onto the definition of linear programming\n",
    "\n",
    "- objective function = ?\n",
    "- variables = ?\n",
    "- constraints = ?\n",
    "\n",
    "Build a linear program to solve the transportation problem"
   ]
  },
  {
   "cell_type": "code",
   "execution_count": null,
   "metadata": {},
   "outputs": [],
   "source": [
    "port_capacity = [20, 30, 30, 50]\n",
    "market_demand = [20, 10, 5]\n",
    "\n",
    "#  one price for a port-market pair\n",
    "port_cost = np.random.uniform(\n",
    "    0, 1, \n",
    "    size=len(port_capacity) * len(market_demand)\n",
    ")\n",
    "\n",
    "port_cost = port_cost.reshape(len(port_capacity), len(market_demand))"
   ]
  },
  {
   "cell_type": "markdown",
   "metadata": {},
   "source": [
    "We can access the cost to trade from a port to a market by indexing `port_cost[port, market]`"
   ]
  },
  {
   "cell_type": "code",
   "execution_count": null,
   "metadata": {},
   "outputs": [],
   "source": [
    "#  trade from port 0 to market 0\n",
    "port_cost[0, 0]"
   ]
  },
  {
   "cell_type": "code",
   "execution_count": null,
   "metadata": {},
   "outputs": [],
   "source": [
    "#  trade from port 3 to market 2\n",
    "port_cost[3, 2]"
   ]
  },
  {
   "cell_type": "code",
   "execution_count": null,
   "metadata": {},
   "outputs": [],
   "source": []
  }
 ],
 "metadata": {
  "kernelspec": {
   "display_name": "Python 3",
   "language": "python",
   "name": "python3"
  },
  "language_info": {
   "codemirror_mode": {
    "name": "ipython",
    "version": 3
   },
   "file_extension": ".py",
   "mimetype": "text/x-python",
   "name": "python",
   "nbconvert_exporter": "python",
   "pygments_lexer": "ipython3",
   "version": "3.6.8"
  }
 },
 "nbformat": 4,
 "nbformat_minor": 4
}

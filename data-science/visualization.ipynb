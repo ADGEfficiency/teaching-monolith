{
 "cells": [
  {
   "cell_type": "markdown",
   "metadata": {},
   "source": [
    "# Visualization\n",
    "\n",
    "[Effectively Using matplotlib](https://pbpython.com/effective-matplotlib.html)\n",
    "\n",
    "[matplotlib FAQ](https://matplotlib.org/faq/usage_faq.html)\n",
    "\n",
    "[How to Use t-SNE Effectively](https://distill.pub/2016/misread-tsne/)\n",
    "\n",
    "General advice:\n",
    "- look at your data - manually inspect it\n",
    "- any kind of results summary can be useful\n",
    "- people are good at spotting visual problems\n",
    "- log data to text files, use notebooks to view from data on disk\n",
    "\n",
    "Important visualization tools:\n",
    "- matplotlib\n",
    "- seaborn (wrapper around matplotlib)\n",
    "- Plotly\n",
    "- D3 (Javascript)\n",
    "\n",
    "## Types of charts\n",
    "\n",
    "- line\n",
    "- scatter\n",
    "- histogram\n",
    "- bar\n",
    "\n",
    "## Mistakes, we’ve drawn a few\n",
    "\n",
    "https://medium.economist.com/mistakes-weve-drawn-a-few-8cdd8a42d368\n",
    "\n",
    "### Truncating the scale\n",
    "\n",
    "Putting break points in the scale distorts the chart\n",
    "\n",
    "![](assets/truncating.png)\n",
    "\n",
    "### Choosing scales to force relationships\n",
    "\n",
    "![](assets/scales.png)\n",
    "\n",
    "### Using a line chart to show trend\n",
    "\n",
    "Instead use dots for the individual points, smoothed line for the trend\n",
    "\n",
    "![](assets/trend.png)\n"
   ]
  },
  {
   "cell_type": "markdown",
   "metadata": {},
   "source": [
    "## Matplotlib - a tale of three (?) API's\n",
    "\n",
    "- MATLAB / state based interface\n",
    "- object oriented \n",
    "\n",
    "The two main abstractions in matplotlib are the **Figure** and **Axes**\n",
    "- Figure = final image (can have many Axes)\n",
    "- Axes = individual plot\n",
    "\n",
    "\n",
    "![](assets/mpl-faq.png)\n",
    "[From the matplotlib FAQ](https://matplotlib.org/faq/usage_faq.html)"
   ]
  },
  {
   "cell_type": "markdown",
   "metadata": {},
   "source": [
    "### API One - `plt.plot()`\n",
    "\n",
    "pyplot level\n",
    "\n",
    "In this API, the figure is automatically created, and the `plt.` always refer to the most recent figure.\n",
    "\n",
    "This is a quick and dirty way to make a plot.  \n",
    "\n",
    "It is shown only for reference (and to be able to understand other peoples code). \n",
    "\n",
    "**It is not recommended.**"
   ]
  },
  {
   "cell_type": "code",
   "execution_count": null,
   "metadata": {},
   "outputs": [],
   "source": [
    "import matplotlib.pyplot as plt\n",
    "\n",
    "x = np.random.uniform(0, 100, size=100)\n",
    "y = np.random.uniform(0, 100, size=100)\n",
    "line = plt.plot(x)\n",
    "\n",
    "#  to get access to the figure and axes objects\n",
    "fig = plt.figure(1)\n",
    "axes = fig.axes\n",
    "\n",
    "#  common operations\n",
    "plt.title('API One')\n",
    "plt.xlabel('x-axis')\n",
    "plt.ylabel('y-axis')\n",
    "#plt.savefig('./one.png')"
   ]
  },
  {
   "cell_type": "markdown",
   "metadata": {},
   "source": [
    "## API Two - `plt.subplots()`\n",
    "\n",
    "The reccomended API\n",
    "- more explicit & clear\n",
    "- more typing\n",
    "- multiple axes on the same figure"
   ]
  },
  {
   "cell_type": "code",
   "execution_count": null,
   "metadata": {},
   "outputs": [],
   "source": [
    "fig, axes = plt.subplots(nrows=2, ncols=1, sharex=True, sharey=True)"
   ]
  },
  {
   "cell_type": "markdown",
   "metadata": {},
   "source": [
    "The `axes` object is a `np.array`:"
   ]
  },
  {
   "cell_type": "code",
   "execution_count": null,
   "metadata": {},
   "outputs": [],
   "source": [
    "axes[0]"
   ]
  },
  {
   "cell_type": "markdown",
   "metadata": {},
   "source": [
    "## API Three - `df.plot()`\n",
    "\n",
    "Combination of pandas"
   ]
  },
  {
   "cell_type": "code",
   "execution_count": null,
   "metadata": {},
   "outputs": [],
   "source": [
    "#  returns the ax - very cool!\n",
    "df = pd.DataFrame({\n",
    "    'x': x, 'y': y\n",
    "})\n",
    "ax = df.plot(kind='barh', y=\"y\", x=\"x\")\n",
    "ax.legend().set_visible(False)\n",
    "ax.set_xlim([-10000, 140000])\n",
    "ax.set(title='2014 Revenue', xlabel='Total Revenue', ylabel='Customer')"
   ]
  },
  {
   "cell_type": "markdown",
   "metadata": {},
   "source": [
    "## Changing plot style"
   ]
  },
  {
   "cell_type": "code",
   "execution_count": null,
   "metadata": {},
   "outputs": [],
   "source": [
    "plt.style.available\n",
    "plt.style.use('ggplot')"
   ]
  },
  {
   "cell_type": "markdown",
   "metadata": {},
   "source": [
    "## Making gifs with matplotlib"
   ]
  },
  {
   "cell_type": "code",
   "execution_count": null,
   "metadata": {},
   "outputs": [],
   "source": []
  },
  {
   "cell_type": "markdown",
   "metadata": {},
   "source": [
    "# Changing dimensionality for visualization\n",
    "\n",
    "Most commonly, we want a 2D representation of data to be able to plot it.  \n",
    "\n",
    "Often our data is a higher dimension\n",
    "- sometimes it can be lower (plot a latent space into 2D)\n",
    "\n",
    "## t-SNE\n",
    "\n",
    "Can also be used to increase dimensionality!\n",
    "- use case = transforming a 1D latent space of an autoencoder to 2D"
   ]
  },
  {
   "cell_type": "code",
   "execution_count": null,
   "metadata": {},
   "outputs": [],
   "source": [
    "from sklearn.datasets import load_digits\n",
    "from sklearn.manifold import TSNE\n",
    "import seaborn as sns\n",
    "\n",
    "digits = load_digits()"
   ]
  },
  {
   "cell_type": "code",
   "execution_count": null,
   "metadata": {},
   "outputs": [],
   "source": [
    "x = digits['data']\n",
    "y = digits['target']\n",
    "x.shape"
   ]
  },
  {
   "cell_type": "code",
   "execution_count": null,
   "metadata": {},
   "outputs": [],
   "source": [
    "tsne = TSNE(n_components=2)\n",
    "trans = tsne.fit_transform(x)\n",
    "trans.shape"
   ]
  },
  {
   "cell_type": "code",
   "execution_count": null,
   "metadata": {},
   "outputs": [],
   "source": [
    "sns.scatterplot(trans[:,0], trans[:,1], hue=y, legend='full', palette=sns.color_palette(\"bright\", 10))"
   ]
  },
  {
   "cell_type": "markdown",
   "metadata": {},
   "source": [
    "[How to Use t-SNE Effectively](https://distill.pub/2016/misread-tsne/)\n",
    "\n",
    "- cluster sizes & distances are unstable\n",
    "\n",
    "Hyperparameter perplexity\n",
    "- balances between the local & global aspects of the data\n",
    "- original paper suggests t-SNE is robust to values between 5-50\n",
    "- in practice, you should look at a few different perplexities\n"
   ]
  },
  {
   "cell_type": "code",
   "execution_count": null,
   "metadata": {},
   "outputs": [],
   "source": [
    "tsne = TSNE(n_components=2, perplexity=25)\n",
    "trans = tsne.fit_transform(x)\n",
    "sns.scatterplot(trans[:,0], trans[:,1], hue=y, legend='full', palette=sns.color_palette(\"bright\", 10))"
   ]
  },
  {
   "cell_type": "code",
   "execution_count": null,
   "metadata": {},
   "outputs": [],
   "source": [
    "tsne = TSNE(n_components=2, perplexity=50)\n",
    "trans = tsne.fit_transform(x)\n",
    "sns.scatterplot(trans[:,0], trans[:,1], hue=y, legend='full', palette=sns.color_palette(\"bright\", 10))"
   ]
  },
  {
   "cell_type": "markdown",
   "metadata": {},
   "source": [
    "## PCA\n",
    "\n",
    "Only used for dimensionality reduction"
   ]
  },
  {
   "cell_type": "code",
   "execution_count": null,
   "metadata": {},
   "outputs": [],
   "source": [
    "from sklearn.decomposition import PCA\n",
    "\n",
    "pca = PCA(n_components=2)\n",
    "trans = pca.fit_transform(x)\n",
    "sns.scatterplot(trans[:,0], trans[:,1], hue=y, legend='full', palette=sns.color_palette(\"bright\", 10))"
   ]
  },
  {
   "cell_type": "code",
   "execution_count": null,
   "metadata": {},
   "outputs": [],
   "source": [
    "sum(pca.explained_variance_ratio_)"
   ]
  }
 ],
 "metadata": {
  "kernelspec": {
   "display_name": "Python 3",
   "language": "python",
   "name": "python3"
  },
  "language_info": {
   "codemirror_mode": {
    "name": "ipython",
    "version": 3
   },
   "file_extension": ".py",
   "mimetype": "text/x-python",
   "name": "python",
   "nbconvert_exporter": "python",
   "pygments_lexer": "ipython3",
   "version": "3.6.8"
  }
 },
 "nbformat": 4,
 "nbformat_minor": 4
}

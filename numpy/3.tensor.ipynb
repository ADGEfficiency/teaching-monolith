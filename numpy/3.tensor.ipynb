{
 "cells": [
  {
   "cell_type": "markdown",
   "metadata": {},
   "source": [
    "## Tensors\n",
    "\n",
    "- n-dimensional arrays\n",
    "- 3 = volume\n",
    "- uppercase, bold $\\textbf{A}_{i,j,k}$\n",
    "\n",
    "## Working in three dimensions\n",
    "\n",
    "Extension of two dimensions\n",
    "- everything we saw in the previous notebook holds\n",
    "\n",
    "Images\n",
    "- height\n",
    "- width\n",
    "- channels (colors)\n",
    "\n",
    "Sequential models\n",
    "- (batch_size, num_timesteps, *features)"
   ]
  },
  {
   "cell_type": "code",
   "execution_count": null,
   "metadata": {},
   "outputs": [],
   "source": [
    "#  three rows, three columns, three channels\n",
    "image = np.random.rand(3, 3, 3)\n",
    "\n",
    "image"
   ]
  },
  {
   "cell_type": "markdown",
   "metadata": {},
   "source": [
    "## Practical\n",
    "\n",
    "Aggregate by standard deviation `np.std` \n",
    "- over the width\n",
    "- over the height\n",
    "- over the channels\n",
    "- over all data"
   ]
  },
  {
   "cell_type": "code",
   "execution_count": null,
   "metadata": {},
   "outputs": [],
   "source": []
  },
  {
   "cell_type": "markdown",
   "metadata": {},
   "source": [
    "## Practical - convolution\n",
    "\n",
    "Implement the convolution operation\n",
    "- we will do this together as a class!"
   ]
  },
  {
   "cell_type": "code",
   "execution_count": null,
   "metadata": {},
   "outputs": [],
   "source": []
  }
 ],
 "metadata": {
  "kernelspec": {
   "display_name": "Python 3",
   "language": "python",
   "name": "python3"
  },
  "language_info": {
   "codemirror_mode": {
    "name": "ipython",
    "version": 3
   },
   "file_extension": ".py",
   "mimetype": "text/x-python",
   "name": "python",
   "nbconvert_exporter": "python",
   "pygments_lexer": "ipython3",
   "version": "3.6.8"
  }
 },
 "nbformat": 4,
 "nbformat_minor": 4
}

{
 "cells": [
  {
   "cell_type": "markdown",
   "metadata": {},
   "source": [
    "[Allen Downey: The Inspection Paradox is Everywhere | PyData New York 2019](https://www.youtube.com/watch?v=cXWTHfvycyM)\n",
    "\n",
    "https://towardsdatascience.com/the-inspection-paradox-is-everywhere-2ef1c2e9d709\n",
    "\n",
    "## What is the inspection paradox?\n",
    "\n",
    "Form of biased sampling\n",
    "\n",
    "The Inspection Paradox accounts for\n",
    "- train companies losing money on empty trains while passengers complain about how their train is always full\n",
    "- call centers always experiencing higher than normal call volumes\n",
    "- why you always wait longer for the train\n",
    "- why your friends have more friends than you\n",
    "\n",
    "## Example - determining average family size\n",
    "\n",
    "A reasonable approach would be to ask the question \"How many children does your mother have?\"\n",
    "\n",
    "There are two problems here\n",
    "- families with no children are not represented\n",
    "- families with many children are over-represented\n",
    "\n",
    "Families of $x$ children are over-represented by a factor of $x$!\n",
    "\n",
    "We can show this using a simple dataset:"
   ]
  },
  {
   "cell_type": "code",
   "execution_count": 1,
   "metadata": {},
   "outputs": [
    {
     "data": {
      "text/html": [
       "<div>\n",
       "<style scoped>\n",
       "    .dataframe tbody tr th:only-of-type {\n",
       "        vertical-align: middle;\n",
       "    }\n",
       "\n",
       "    .dataframe tbody tr th {\n",
       "        vertical-align: top;\n",
       "    }\n",
       "\n",
       "    .dataframe thead th {\n",
       "        text-align: right;\n",
       "    }\n",
       "</style>\n",
       "<table border=\"1\" class=\"dataframe\">\n",
       "  <thead>\n",
       "    <tr style=\"text-align: right;\">\n",
       "      <th></th>\n",
       "      <th>name</th>\n",
       "      <th>family</th>\n",
       "      <th>family_size</th>\n",
       "    </tr>\n",
       "  </thead>\n",
       "  <tbody>\n",
       "    <tr>\n",
       "      <th>0</th>\n",
       "      <td>eve</td>\n",
       "      <td>zero</td>\n",
       "      <td>1</td>\n",
       "    </tr>\n",
       "    <tr>\n",
       "      <th>1</th>\n",
       "      <td>adam</td>\n",
       "      <td>one</td>\n",
       "      <td>2</td>\n",
       "    </tr>\n",
       "    <tr>\n",
       "      <th>2</th>\n",
       "      <td>rebecca</td>\n",
       "      <td>one</td>\n",
       "      <td>2</td>\n",
       "    </tr>\n",
       "    <tr>\n",
       "      <th>3</th>\n",
       "      <td>jane</td>\n",
       "      <td>two</td>\n",
       "      <td>3</td>\n",
       "    </tr>\n",
       "    <tr>\n",
       "      <th>4</th>\n",
       "      <td>james</td>\n",
       "      <td>two</td>\n",
       "      <td>3</td>\n",
       "    </tr>\n",
       "    <tr>\n",
       "      <th>5</th>\n",
       "      <td>john</td>\n",
       "      <td>two</td>\n",
       "      <td>3</td>\n",
       "    </tr>\n",
       "    <tr>\n",
       "      <th>6</th>\n",
       "      <td>bob</td>\n",
       "      <td>three</td>\n",
       "      <td>3</td>\n",
       "    </tr>\n",
       "    <tr>\n",
       "      <th>7</th>\n",
       "      <td>bella</td>\n",
       "      <td>three</td>\n",
       "      <td>3</td>\n",
       "    </tr>\n",
       "    <tr>\n",
       "      <th>8</th>\n",
       "      <td>Bianca</td>\n",
       "      <td>three</td>\n",
       "      <td>3</td>\n",
       "    </tr>\n",
       "  </tbody>\n",
       "</table>\n",
       "</div>"
      ],
      "text/plain": [
       "      name family  family_size\n",
       "0      eve   zero            1\n",
       "1     adam    one            2\n",
       "2  rebecca    one            2\n",
       "3     jane    two            3\n",
       "4    james    two            3\n",
       "5     john    two            3\n",
       "6      bob  three            3\n",
       "7    bella  three            3\n",
       "8   Bianca  three            3"
      ]
     },
     "execution_count": 1,
     "metadata": {},
     "output_type": "execute_result"
    }
   ],
   "source": [
    "from collections import namedtuple\n",
    "import pandas as pd \n",
    "\n",
    "Person = namedtuple('person', ['name', 'family', 'family_size'])\n",
    "\n",
    "data = pd.DataFrame([\n",
    "    Person('eve', 'zero', 1),\n",
    "    \n",
    "    Person('adam', 'one', 2),\n",
    "    Person('rebecca', 'one', 2),\n",
    "    \n",
    "    Person('jane', 'two', 3),\n",
    "    Person('james', 'two', 3),\n",
    "    Person('john', 'two', 3),\n",
    "    \n",
    "    Person('bob', 'three', 3),\n",
    "    Person('bella', 'three', 3),\n",
    "    Person('Bianca', 'three', 3),\n",
    "])\n",
    "\n",
    "data"
   ]
  },
  {
   "cell_type": "markdown",
   "metadata": {},
   "source": [
    "What is the size of the average family?"
   ]
  },
  {
   "cell_type": "code",
   "execution_count": 2,
   "metadata": {},
   "outputs": [
    {
     "data": {
      "text/plain": [
       "2.25"
      ]
     },
     "execution_count": 2,
     "metadata": {},
     "output_type": "execute_result"
    }
   ],
   "source": [
    "(1 + 2 + 3 + 3) / 4"
   ]
  },
  {
   "cell_type": "code",
   "execution_count": 3,
   "metadata": {},
   "outputs": [
    {
     "data": {
      "text/plain": [
       "2.5555555555555554"
      ]
     },
     "execution_count": 3,
     "metadata": {},
     "output_type": "execute_result"
    }
   ],
   "source": [
    "data.loc[:, 'family_size'].mean()"
   ]
  },
  {
   "cell_type": "code",
   "execution_count": 4,
   "metadata": {},
   "outputs": [
    {
     "data": {
      "text/plain": [
       "family_size    2.25\n",
       "dtype: float64"
      ]
     },
     "execution_count": 4,
     "metadata": {},
     "output_type": "execute_result"
    }
   ],
   "source": [
    "data.groupby('family').mean().mean()"
   ]
  },
  {
   "cell_type": "markdown",
   "metadata": {},
   "source": [
    "## Length biased sampling\n",
    "\n",
    "Sampling processes where the population is sampled in proportion to size, duration, length etc\n",
    "\n",
    "Probability of sampling depends on size\n",
    "- this means the probability of sampling is not independent\n",
    "- -> biased sampling!\n",
    "\n",
    "The Inspection Paradox is the effect of small changes in sampling giving different results\n",
    "\n",
    "The degree of oversampling is proportional to the class size\n",
    "\n",
    "## Example - class sizes\n",
    "\n",
    "Ask teachers how big there classes are - 31\n",
    "\n",
    "Ask students how big there classes are - 56\n",
    "\n",
    "Both are correct!\n",
    "- they measure different things\n",
    "- they are reporting averages over different populations\n",
    "- one describes the teachers experience, the other the students"
   ]
  },
  {
   "cell_type": "code",
   "execution_count": 5,
   "metadata": {},
   "outputs": [
    {
     "data": {
      "text/html": [
       "<div>\n",
       "<style scoped>\n",
       "    .dataframe tbody tr th:only-of-type {\n",
       "        vertical-align: middle;\n",
       "    }\n",
       "\n",
       "    .dataframe tbody tr th {\n",
       "        vertical-align: top;\n",
       "    }\n",
       "\n",
       "    .dataframe thead th {\n",
       "        text-align: right;\n",
       "    }\n",
       "</style>\n",
       "<table border=\"1\" class=\"dataframe\">\n",
       "  <thead>\n",
       "    <tr style=\"text-align: right;\">\n",
       "      <th></th>\n",
       "      <th>family_size</th>\n",
       "    </tr>\n",
       "    <tr>\n",
       "      <th>family</th>\n",
       "      <th></th>\n",
       "    </tr>\n",
       "  </thead>\n",
       "  <tbody>\n",
       "    <tr>\n",
       "      <th>one</th>\n",
       "      <td>2</td>\n",
       "    </tr>\n",
       "    <tr>\n",
       "      <th>three</th>\n",
       "      <td>3</td>\n",
       "    </tr>\n",
       "    <tr>\n",
       "      <th>two</th>\n",
       "      <td>3</td>\n",
       "    </tr>\n",
       "    <tr>\n",
       "      <th>zero</th>\n",
       "      <td>1</td>\n",
       "    </tr>\n",
       "  </tbody>\n",
       "</table>\n",
       "</div>"
      ],
      "text/plain": [
       "        family_size\n",
       "family             \n",
       "one               2\n",
       "three             3\n",
       "two               3\n",
       "zero              1"
      ]
     },
     "execution_count": 5,
     "metadata": {},
     "output_type": "execute_result"
    }
   ],
   "source": [
    "unbiased_sample = data.groupby('family').mean()\n",
    "\n",
    "unbiased_sample"
   ]
  },
  {
   "cell_type": "code",
   "execution_count": 6,
   "metadata": {},
   "outputs": [],
   "source": [
    "def resample_weighted(sample, weights):\n",
    "    sample = np.array(sample).reshape(-1)\n",
    "    weights = np.array(weights).reshape(-1)\n",
    "    \n",
    "    prob = weights / np.sum(weights)\n",
    "    return np.random.choice(sample, len(sample), p=prob)"
   ]
  },
  {
   "cell_type": "code",
   "execution_count": 7,
   "metadata": {},
   "outputs": [
    {
     "data": {
      "text/plain": [
       "3.0"
      ]
     },
     "execution_count": 7,
     "metadata": {},
     "output_type": "execute_result"
    }
   ],
   "source": [
    "# min 8:44\n",
    "import numpy as np\n",
    "np.mean(resample_weighted(unbiased_sample.values, unbiased_sample.values))"
   ]
  },
  {
   "cell_type": "code",
   "execution_count": 8,
   "metadata": {},
   "outputs": [
    {
     "data": {
      "text/plain": [
       "3.0"
      ]
     },
     "execution_count": 8,
     "metadata": {},
     "output_type": "execute_result"
    }
   ],
   "source": [
    "np.mean(resample_weighted(unbiased_sample.values, np.full_like(unbiased_sample.values.astype(float), 1/len(unbiased_sample.values)).astype(float)))"
   ]
  },
  {
   "cell_type": "markdown",
   "metadata": {},
   "source": [
    "# Exercise\n",
    "\n",
    "It is possible to use a biased sample to resample the unbiased\n",
    "- use the inverse weights"
   ]
  },
  {
   "cell_type": "code",
   "execution_count": null,
   "metadata": {},
   "outputs": [],
   "source": []
  },
  {
   "cell_type": "markdown",
   "metadata": {},
   "source": [
    "##  Takeaway \n",
    "\n",
    "If the class size is x, it will be overrepresented by a factor of x!"
   ]
  }
 ],
 "metadata": {
  "kernelspec": {
   "display_name": "Python 3",
   "language": "python",
   "name": "python3"
  },
  "language_info": {
   "codemirror_mode": {
    "name": "ipython",
    "version": 3
   },
   "file_extension": ".py",
   "mimetype": "text/x-python",
   "name": "python",
   "nbconvert_exporter": "python",
   "pygments_lexer": "ipython3",
   "version": "3.6.4"
  }
 },
 "nbformat": 4,
 "nbformat_minor": 4
}

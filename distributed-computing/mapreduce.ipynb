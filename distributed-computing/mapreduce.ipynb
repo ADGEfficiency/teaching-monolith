{
 "cells": [
  {
   "cell_type": "markdown",
   "metadata": {},
   "source": [
    "# MapReduce\n",
    "\n",
    "Generic programming model for processing data on many machines\n",
    "- parallel computation\n",
    "- fault tolerance to machine failure\n",
    "\n",
    "Basic algorithm\n",
    "- **map** records to key, value pairs\n",
    "- **collect** records by key\n",
    "- **reduce** across keys\n",
    "\n",
    "Very similar to the split-apply-combine many data scientists do in `pandas`\n",
    "\n",
    "Designed to be parallelized\n",
    "- process data in a way that it becomes independent\n",
    "- mappers & reducers can run in parallel on different part of the data\n",
    "\n",
    "\n",
    "## Resources\n",
    "\n",
    "[What is MapReduce? - talend](https://www.talend.com/resources/what-is-mapreduce/)\n",
    "\n",
    "[Data Science from Scratch](https://www.oreilly.com/library/view/data-science-from/9781492041122/)\n",
    "\n",
    "\n",
    "## History\n",
    "\n",
    "Introduced by Google in 2004\n",
    "- failure tolerance allowed Google to scale with commodity hardware\n",
    "- Dean & Ghemawat (2004) MapReduce: Simplified Data Processing on Large Clusters - [paper](https://static.googleusercontent.com/media/research.google.com/en//archive/mapreduce-osdi04.pdf)\n",
    "- watch [Building Software Systems At Google and Lessons Learned - Jeff Dean](https://www.youtube.com/watch?v=modXC5IWTJI) for the history of Google's early technical development\n",
    "- read [The Friendship That Made Google Huge - Jeff Dean and Sanjay Ghemawat](https://www.newyorker.com/magazine/2018/12/10/the-friendship-that-made-google-huge) for more on Jeff Dean\n",
    "\n",
    "In 2014 Google stopped using MapReduce\n",
    "\n",
    "Hadoop MapReduce is an open source implementation of MapReduce\n",
    "\n",
    "\n",
    "## Map / Collect / Reduce\n",
    "\n",
    "Read files\n",
    "- Files are lists of records\n",
    "- tabular data (rows are records, columns are floats, strings etc)\n",
    "- split files into records\n",
    "\n",
    "Map\n",
    "- extract k, v pairs (intermediate keys)\n",
    "\n",
    "Collect \n",
    "- also called shuffle & sort, combine\n",
    "- grouping by keys before sending to the reducer\n",
    "\n",
    "Reduce\n",
    "- aggregation / grouping step\n",
    "- count, average, filter, sum etc\n",
    "\n",
    "Output\n",
    "- writing result to a file\n",
    "\n",
    "\n",
    "## Example - word counting\n",
    "\n",
    "> There are few absolute rules of data science, but one of them is that your first MapReduce example has to involve counting words - Data Science from Scratch \n",
    "\n",
    "Input to the pipeline is a number of records (files):"
   ]
  },
  {
   "cell_type": "code",
   "execution_count": 1,
   "metadata": {},
   "outputs": [],
   "source": [
    "records = [\n",
    "    ['data', 'scientist', 'data', 'engineer'],\n",
    "    ['data', 'engineer', 'data', 'engineer'],\n",
    "    ['data', 'scientist', 'data', 'scientist', 'data', 'scientist']\n",
    "]"
   ]
  },
  {
   "cell_type": "markdown",
   "metadata": {},
   "source": [
    "The map step transforms the records into a list of key, value pairs.\n",
    "\n",
    "Map on a single record, to produce a list of key, value pairs:"
   ]
  },
  {
   "cell_type": "code",
   "execution_count": 2,
   "metadata": {},
   "outputs": [
    {
     "data": {
      "text/plain": [
       "[('data', 1), ('scientist', 1), ('data', 1), ('engineer', 1)]"
      ]
     },
     "execution_count": 2,
     "metadata": {},
     "output_type": "execute_result"
    }
   ],
   "source": [
    "def mapper(record):\n",
    "    return [(k, 1) for k in record]\n",
    "\n",
    "mapped = mapper(records[0])\n",
    "\n",
    "mapped"
   ]
  },
  {
   "cell_type": "markdown",
   "metadata": {},
   "source": [
    "The reduce step combines the records into counts.  As we are working on a single machine, there is no need for a combine/shuffle to organize by keys.\n",
    "\n",
    "Reduce on a single mapped record:"
   ]
  },
  {
   "cell_type": "code",
   "execution_count": 3,
   "metadata": {},
   "outputs": [
    {
     "data": {
      "text/plain": [
       "[('data', 2), ('scientist', 1), ('engineer', 1)]"
      ]
     },
     "execution_count": 3,
     "metadata": {},
     "output_type": "execute_result"
    }
   ],
   "source": [
    "from collections import Counter\n",
    "\n",
    "def reduce(mapped):\n",
    "    return list(Counter([m[0] for m in mapped]).items())\n",
    "\n",
    "reduce(mapped)"
   ]
  },
  {
   "cell_type": "markdown",
   "metadata": {},
   "source": [
    "## Run the full map-reduce pipeline\n",
    "\n",
    "Running the mapper on all the records:"
   ]
  },
  {
   "cell_type": "code",
   "execution_count": 4,
   "metadata": {},
   "outputs": [],
   "source": [
    "mapped = []\n",
    "for r in records:\n",
    "    mapped.extend(mapper(r))"
   ]
  },
  {
   "cell_type": "markdown",
   "metadata": {},
   "source": [
    "Sort by key and split:"
   ]
  },
  {
   "cell_type": "code",
   "execution_count": 5,
   "metadata": {},
   "outputs": [
    {
     "data": {
      "text/plain": [
       "[('data', 1),\n",
       " ('data', 1),\n",
       " ('data', 1),\n",
       " ('data', 1),\n",
       " ('data', 1),\n",
       " ('data', 1),\n",
       " ('data', 1),\n",
       " ('engineer', 1),\n",
       " ('engineer', 1),\n",
       " ('engineer', 1),\n",
       " ('scientist', 1),\n",
       " ('scientist', 1),\n",
       " ('scientist', 1),\n",
       " ('scientist', 1)]"
      ]
     },
     "execution_count": 5,
     "metadata": {},
     "output_type": "execute_result"
    }
   ],
   "source": [
    "import itertools, operator\n",
    "\n",
    "sort = sorted(mapped, key=lambda tup: tup[0])\n",
    "#sort = [list(group) for key, group in itertools.groupby(sort, operator.itemgetter(0))]\n",
    "\n",
    "sort"
   ]
  },
  {
   "cell_type": "markdown",
   "metadata": {},
   "source": [
    "Run the reduce step:"
   ]
  },
  {
   "cell_type": "code",
   "execution_count": 6,
   "metadata": {},
   "outputs": [
    {
     "ename": "TypeError",
     "evalue": "'int' object is not subscriptable",
     "output_type": "error",
     "traceback": [
      "\u001b[0;31m---------------------------------------------------------------------------\u001b[0m",
      "\u001b[0;31mTypeError\u001b[0m                                 Traceback (most recent call last)",
      "\u001b[0;32m<ipython-input-6-f7d87549f100>\u001b[0m in \u001b[0;36m<module>\u001b[0;34m\u001b[0m\n\u001b[1;32m      1\u001b[0m \u001b[0mreduced\u001b[0m \u001b[0;34m=\u001b[0m \u001b[0;34m[\u001b[0m\u001b[0;34m]\u001b[0m\u001b[0;34m\u001b[0m\u001b[0;34m\u001b[0m\u001b[0m\n\u001b[1;32m      2\u001b[0m \u001b[0;32mfor\u001b[0m \u001b[0mr\u001b[0m \u001b[0;32min\u001b[0m \u001b[0msort\u001b[0m\u001b[0;34m:\u001b[0m\u001b[0;34m\u001b[0m\u001b[0;34m\u001b[0m\u001b[0m\n\u001b[0;32m----> 3\u001b[0;31m     \u001b[0mreduced\u001b[0m\u001b[0;34m.\u001b[0m\u001b[0mextend\u001b[0m\u001b[0;34m(\u001b[0m\u001b[0mreduce\u001b[0m\u001b[0;34m(\u001b[0m\u001b[0mr\u001b[0m\u001b[0;34m)\u001b[0m\u001b[0;34m)\u001b[0m\u001b[0;34m\u001b[0m\u001b[0;34m\u001b[0m\u001b[0m\n\u001b[0m\u001b[1;32m      4\u001b[0m \u001b[0;34m\u001b[0m\u001b[0m\n\u001b[1;32m      5\u001b[0m \u001b[0mreduced\u001b[0m\u001b[0;34m\u001b[0m\u001b[0;34m\u001b[0m\u001b[0m\n",
      "\u001b[0;32m<ipython-input-3-7b6559f535d9>\u001b[0m in \u001b[0;36mreduce\u001b[0;34m(mapped)\u001b[0m\n\u001b[1;32m      2\u001b[0m \u001b[0;34m\u001b[0m\u001b[0m\n\u001b[1;32m      3\u001b[0m \u001b[0;32mdef\u001b[0m \u001b[0mreduce\u001b[0m\u001b[0;34m(\u001b[0m\u001b[0mmapped\u001b[0m\u001b[0;34m)\u001b[0m\u001b[0;34m:\u001b[0m\u001b[0;34m\u001b[0m\u001b[0;34m\u001b[0m\u001b[0m\n\u001b[0;32m----> 4\u001b[0;31m     \u001b[0;32mreturn\u001b[0m \u001b[0mlist\u001b[0m\u001b[0;34m(\u001b[0m\u001b[0mCounter\u001b[0m\u001b[0;34m(\u001b[0m\u001b[0;34m[\u001b[0m\u001b[0mm\u001b[0m\u001b[0;34m[\u001b[0m\u001b[0;36m0\u001b[0m\u001b[0;34m]\u001b[0m \u001b[0;32mfor\u001b[0m \u001b[0mm\u001b[0m \u001b[0;32min\u001b[0m \u001b[0mmapped\u001b[0m\u001b[0;34m]\u001b[0m\u001b[0;34m)\u001b[0m\u001b[0;34m.\u001b[0m\u001b[0mitems\u001b[0m\u001b[0;34m(\u001b[0m\u001b[0;34m)\u001b[0m\u001b[0;34m)\u001b[0m\u001b[0;34m\u001b[0m\u001b[0;34m\u001b[0m\u001b[0m\n\u001b[0m\u001b[1;32m      5\u001b[0m \u001b[0;34m\u001b[0m\u001b[0m\n\u001b[1;32m      6\u001b[0m \u001b[0mreduce\u001b[0m\u001b[0;34m(\u001b[0m\u001b[0mmapped\u001b[0m\u001b[0;34m)\u001b[0m\u001b[0;34m\u001b[0m\u001b[0;34m\u001b[0m\u001b[0m\n",
      "\u001b[0;32m<ipython-input-3-7b6559f535d9>\u001b[0m in \u001b[0;36m<listcomp>\u001b[0;34m(.0)\u001b[0m\n\u001b[1;32m      2\u001b[0m \u001b[0;34m\u001b[0m\u001b[0m\n\u001b[1;32m      3\u001b[0m \u001b[0;32mdef\u001b[0m \u001b[0mreduce\u001b[0m\u001b[0;34m(\u001b[0m\u001b[0mmapped\u001b[0m\u001b[0;34m)\u001b[0m\u001b[0;34m:\u001b[0m\u001b[0;34m\u001b[0m\u001b[0;34m\u001b[0m\u001b[0m\n\u001b[0;32m----> 4\u001b[0;31m     \u001b[0;32mreturn\u001b[0m \u001b[0mlist\u001b[0m\u001b[0;34m(\u001b[0m\u001b[0mCounter\u001b[0m\u001b[0;34m(\u001b[0m\u001b[0;34m[\u001b[0m\u001b[0mm\u001b[0m\u001b[0;34m[\u001b[0m\u001b[0;36m0\u001b[0m\u001b[0;34m]\u001b[0m \u001b[0;32mfor\u001b[0m \u001b[0mm\u001b[0m \u001b[0;32min\u001b[0m \u001b[0mmapped\u001b[0m\u001b[0;34m]\u001b[0m\u001b[0;34m)\u001b[0m\u001b[0;34m.\u001b[0m\u001b[0mitems\u001b[0m\u001b[0;34m(\u001b[0m\u001b[0;34m)\u001b[0m\u001b[0;34m)\u001b[0m\u001b[0;34m\u001b[0m\u001b[0;34m\u001b[0m\u001b[0m\n\u001b[0m\u001b[1;32m      5\u001b[0m \u001b[0;34m\u001b[0m\u001b[0m\n\u001b[1;32m      6\u001b[0m \u001b[0mreduce\u001b[0m\u001b[0;34m(\u001b[0m\u001b[0mmapped\u001b[0m\u001b[0;34m)\u001b[0m\u001b[0;34m\u001b[0m\u001b[0;34m\u001b[0m\u001b[0m\n",
      "\u001b[0;31mTypeError\u001b[0m: 'int' object is not subscriptable"
     ]
    }
   ],
   "source": [
    "reduced = []\n",
    "for r in sort:\n",
    "    reduced.extend(reduce(r))\n",
    "    \n",
    "reduced"
   ]
  },
  {
   "cell_type": "markdown",
   "metadata": {},
   "source": [
    "## Question\n",
    "\n",
    "Where are opportunities for parallelism in the word count pipeline?\n",
    "\n",
    "## Practical\n",
    "\n",
    "Implement a MapReduce operation on the dataset below:\n",
    "- map to extract the data a list of (key, value) tuples\n",
    "- reduce to filter out london\n",
    "- map\n",
    "- reduce to find the average for each key\n",
    "\n",
    "You do not need anything more than the Python standard library"
   ]
  },
  {
   "cell_type": "code",
   "execution_count": 7,
   "metadata": {},
   "outputs": [],
   "source": [
    "dataset = [\n",
    "    'berlin 20, london 25, auckland 30, melbourne 35',\n",
    "    'berlin 5, london 5, auckland 15, melbourne 15',\n",
    "    'berlin 10, london 5, auckland 10, melbourne 10',\n",
    "]"
   ]
  },
  {
   "cell_type": "code",
   "execution_count": 17,
   "metadata": {},
   "outputs": [
    {
     "data": {
      "text/plain": [
       "[('auckland', 18.333333333333332),\n",
       " ('berlin', 11.666666666666666),\n",
       " ('london', 11.666666666666666),\n",
       " ('melbourne', 20.0)]"
      ]
     },
     "execution_count": 17,
     "metadata": {},
     "output_type": "execute_result"
    }
   ],
   "source": [
    "import itertools\n",
    "\n",
    "def map_rec(rec):\n",
    "    first = rec.split(', ')\n",
    "    second = [(f.split(' ')[0], f.split(' ')[1]) for f in first]\n",
    "    return second\n",
    "\n",
    "second = list(map(map_rec, dataset))\n",
    "second = list(itertools.chain(*second))\n",
    "sort = sorted(second, key=lambda tup: tup[0])\n",
    "\n",
    "sort = [list(group) for key, group in itertools.groupby(sort, operator.itemgetter(0))]\n",
    "\n",
    "res = []\n",
    "for key_records in sort:\n",
    "    s = [int(t[1]) for t in key_records]\n",
    "    res.append((key_records[0][0], sum(s) / len(key_records)))\n",
    "    \n",
    "res"
   ]
  },
  {
   "cell_type": "code",
   "execution_count": 15,
   "metadata": {},
   "outputs": [],
   "source": []
  },
  {
   "cell_type": "code",
   "execution_count": 16,
   "metadata": {},
   "outputs": [
    {
     "data": {
      "text/plain": [
       "[('auckland', 18.333333333333332),\n",
       " ('berlin', 11.666666666666666),\n",
       " ('london', 11.666666666666666),\n",
       " ('melbourne', 20.0)]"
      ]
     },
     "execution_count": 16,
     "metadata": {},
     "output_type": "execute_result"
    }
   ],
   "source": []
  },
  {
   "cell_type": "markdown",
   "metadata": {},
   "source": [
    "## Practical\n",
    "\n",
    "Convert the following dataset to the desired output using MapReduce (Python standard library only):"
   ]
  },
  {
   "cell_type": "code",
   "execution_count": null,
   "metadata": {},
   "outputs": [],
   "source": [
    "dataset = [\n",
    "    ('panda', 0), ('pink', 3), ('pirate', 3), ('panda', 1), ('pink', 4)\n",
    "]\n",
    "\n",
    "# (key, (sum, count))\n",
    "desired_output = [\n",
    "    ('panda', (1, 2)), ('pink', (7, 2)), ('pirate', (3, 1))\n",
    "]"
   ]
  },
  {
   "cell_type": "code",
   "execution_count": null,
   "metadata": {},
   "outputs": [],
   "source": []
  }
 ],
 "metadata": {
  "kernelspec": {
   "display_name": "Python 3",
   "language": "python",
   "name": "python3"
  },
  "language_info": {
   "codemirror_mode": {
    "name": "ipython",
    "version": 3
   },
   "file_extension": ".py",
   "mimetype": "text/x-python",
   "name": "python",
   "nbconvert_exporter": "python",
   "pygments_lexer": "ipython3",
   "version": "3.6.8"
  }
 },
 "nbformat": 4,
 "nbformat_minor": 4
}

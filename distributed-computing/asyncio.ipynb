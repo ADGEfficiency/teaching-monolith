{
 "cells": [
  {
   "cell_type": "markdown",
   "metadata": {},
   "source": [
    "# `asyncio`\n",
    "\n",
    "*Examples from [Async IO in Python: A Complete Walkthrough - Real Python](https://realpython.com/async-io-python/)*\n",
    "\n",
    "Let's look at a simple synchronous program, that prints `one` `two` with a one second sleep in between, three times:"
   ]
  },
  {
   "cell_type": "code",
   "execution_count": 1,
   "metadata": {},
   "outputs": [
    {
     "name": "stdout",
     "output_type": "stream",
     "text": [
      "One\n",
      "Two\n",
      "One\n",
      "Two\n",
      "One\n",
      "Two\n",
      "executed in 3.02 seconds\n"
     ]
    }
   ],
   "source": [
    "import time\n",
    "\n",
    "def count():\n",
    "    print(\"One\")\n",
    "    time.sleep(1)\n",
    "    print(\"Two\")\n",
    "\n",
    "def main():\n",
    "    for _ in range(3):\n",
    "        count()\n",
    "\n",
    "s = time.perf_counter()\n",
    "main()\n",
    "elapsed = time.perf_counter() - s\n",
    "print('executed in {:0.2f} seconds'.format(elapsed))"
   ]
  },
  {
   "cell_type": "markdown",
   "metadata": {},
   "source": [
    "Let's look at same program using `asyncio`:\n",
    "- it lives in a `.py` as notebook- don't play well with `asyncio`\n",
    "- open in a text editor to get syntax highlighting :)"
   ]
  },
  {
   "cell_type": "code",
   "execution_count": 4,
   "metadata": {},
   "outputs": [
    {
     "name": "stdout",
     "output_type": "stream",
     "text": [
      "import asyncio, time\n",
      "\n",
      "\n",
      "async def count():\n",
      "    print(\"One\")\n",
      "    await asyncio.sleep(1)\n",
      "    print(\"Two\")\n",
      "\n",
      "    \n",
      "async def main():\n",
      "    await asyncio.gather(count(), count(), count())\n",
      "    \n",
      "    \n",
      "if __name__ == \"__main__\":\n",
      "    s = time.perf_counter()\n",
      "    \n",
      "    #  in Python 3.7 you can do: \n",
      "    # asyncio.run(main())\n",
      "    \n",
      "    #  otherwise:\n",
      "    loop = asyncio.get_event_loop()\n",
      "    loop.run_until_complete(main())\n",
      "    \n",
      "    elapsed = time.perf_counter() - s\n",
      "    print('executed in {:0.2f} seconds'.format(elapsed))"
     ]
    }
   ],
   "source": [
    "!cat async_counter.py"
   ]
  },
  {
   "cell_type": "markdown",
   "metadata": {},
   "source": [
    "Running this async version we get a different output than our synchronous version:"
   ]
  },
  {
   "cell_type": "code",
   "execution_count": 5,
   "metadata": {},
   "outputs": [
    {
     "name": "stdout",
     "output_type": "stream",
     "text": [
      "One\n",
      "One\n",
      "One\n",
      "Two\n",
      "Two\n",
      "Two\n",
      "executed in 1.01 seconds\n"
     ]
    }
   ],
   "source": [
    "!python async_counter.py"
   ]
  },
  {
   "cell_type": "markdown",
   "metadata": {},
   "source": [
    "What is happening?\n",
    "- we run the first `count`\n",
    "- we hit an operation that lasts a long time (`asyncio.sleep`)\n",
    "- `asyncio.sleep` is non-blocking!\n",
    "- rather than blocking, our program goes and runs the second `count` that sits in our event loop\n",
    "- the same logic holds for the third loop\n",
    "- once our sleeps are over, our event loop returns to print `two`\n",
    "\n",
    "In the synchronous case, our program was blocked by the sleep\n",
    "- in the asynchronous case, the sleep didn't block\n",
    "- our program used that time to do other stuff\n",
    "\n",
    "## `await`\n",
    "\n",
    "This keyword passes control back to the event loop\n",
    "- when Python encounters an `await function_call()` expression, it suspends execution until `function_call()` returns\n",
    "- this let's other stuff run\n",
    "\n",
    "## `async def`\n",
    "\n",
    "Used to define a coroutine\n",
    "- can use `yield`, `return` or `await\n",
    "\n",
    "There is a lot more to asynchronous programming - for more I recommend looking at [Async IO in Python: A Complete Walkthrough - Real Python](https://realpython.com/async-io-python/)"
   ]
  },
  {
   "cell_type": "code",
   "execution_count": null,
   "metadata": {},
   "outputs": [],
   "source": []
  }
 ],
 "metadata": {
  "kernelspec": {
   "display_name": "Python 3",
   "language": "python",
   "name": "python3"
  },
  "language_info": {
   "codemirror_mode": {
    "name": "ipython",
    "version": 3
   },
   "file_extension": ".py",
   "mimetype": "text/x-python",
   "name": "python",
   "nbconvert_exporter": "python",
   "pygments_lexer": "ipython3",
   "version": "3.6.8"
  }
 },
 "nbformat": 4,
 "nbformat_minor": 4
}

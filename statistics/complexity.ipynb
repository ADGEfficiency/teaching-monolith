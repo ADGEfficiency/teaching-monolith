{
 "cells": [
  {
   "cell_type": "markdown",
   "metadata": {},
   "source": [
    "# Complexity\n",
    "\n",
    "[Ned Batchelder - Big-O: How Code Slows as Data Grows - PyCon 2018](https://www.youtube.com/watch?v=duvZ-2UK0fc)\n",
    "\n",
    "Also known as\n",
    "- time complexity \n",
    "- algorithmic complexity\n",
    "- asympotic complexity\n",
    "\n",
    "How code slows as data grows\n",
    "- estimated analytically\n",
    "- measured directly (ideally!)\n",
    "\n",
    "## Big $\\mathcal{O}$ notation\n",
    "\n",
    "$n$ = amount of data\n",
    "\n",
    "$\\mathcal{O}$ = order magnitude\n",
    "\n",
    "Dimensionless\n",
    "- not the running time\n",
    "\n",
    "Relationship between data & code speed\n",
    "- how does the code slow down as data gets larger\n",
    "\n",
    "If I give the code 10x the data - how much longer will it take?\n",
    "\n",
    "The $\\mathcal{O}(n)$ refers to $n$ in the limit - an $n$ gets very large"
   ]
  },
  {
   "cell_type": "code",
   "execution_count": null,
   "metadata": {},
   "outputs": [],
   "source": [
    "import matplotlib.pyplot as plt\n",
    "import numpy as np\n",
    "\n",
    "n = np.arange(1, 100)\n",
    "\n",
    "f, a = plt.subplots()\n",
    "plt.plot(np.power(n, 2), label='quadratic')\n",
    "plt.plot(np.log(n) * n, label='O(nlog(n))')\n",
    "plt.plot(n, label='linear')\n",
    "plt.plot(np.log(n), label='O(log(n))')\n",
    "plt.plot(np.ones_like(n), label='constant')\n",
    "\n",
    "plt.legend()\n",
    "plt.ylim(0, 40)\n",
    "plt.xlim(0, 100)"
   ]
  },
  {
   "cell_type": "markdown",
   "metadata": {},
   "source": [
    "Don't use fancy algo with small n - in the small n region they all look very similar"
   ]
  },
  {
   "cell_type": "code",
   "execution_count": null,
   "metadata": {},
   "outputs": [],
   "source": [
    "f, a = plt.subplots()\n",
    "plt.plot(np.power(n, 2), label='quadratic')\n",
    "plt.plot(np.log(n) * n, label='O(nlog(n))')\n",
    "plt.plot(n, label='linear')\n",
    "plt.plot(np.log(n), label='O(log(n))')\n",
    "plt.plot(np.ones_like(n), label='constant')\n",
    "\n",
    "plt.legend()\n",
    "plt.ylim(0, 5)\n",
    "plt.xlim(0, 10)"
   ]
  },
  {
   "cell_type": "markdown",
   "metadata": {},
   "source": [
    "## How to determine Big-O\n",
    "\n",
    "1. which piece of code\n",
    "2. what is n (not the value, but the variable)\n",
    "3. count steps in a typical run\n",
    "4. keep the highest term (throw away lower order components)\n",
    "\n",
    "\n",
    "## Peer based learning \n",
    "\n",
    "Don't look ahead!\n",
    "\n",
    "For all the operations below - estimate the complexity\n",
    "- length of list\n",
    "- iterating over a list\n",
    "- finding an element in a sorted list\n",
    "- a nested for loop\n"
   ]
  },
  {
   "cell_type": "code",
   "execution_count": null,
   "metadata": {},
   "outputs": [],
   "source": []
  },
  {
   "cell_type": "code",
   "execution_count": null,
   "metadata": {},
   "outputs": [],
   "source": []
  },
  {
   "cell_type": "code",
   "execution_count": null,
   "metadata": {},
   "outputs": [],
   "source": []
  },
  {
   "cell_type": "code",
   "execution_count": null,
   "metadata": {},
   "outputs": [],
   "source": []
  },
  {
   "cell_type": "code",
   "execution_count": null,
   "metadata": {},
   "outputs": [],
   "source": []
  },
  {
   "cell_type": "code",
   "execution_count": null,
   "metadata": {},
   "outputs": [],
   "source": []
  },
  {
   "cell_type": "code",
   "execution_count": null,
   "metadata": {},
   "outputs": [],
   "source": []
  },
  {
   "cell_type": "markdown",
   "metadata": {},
   "source": [
    "## Constant time \n",
    "\n",
    "$\\mathcal{O}(1)$\n",
    "\n",
    "Example - finding the length of a Python list"
   ]
  },
  {
   "cell_type": "code",
   "execution_count": null,
   "metadata": {},
   "outputs": [],
   "source": [
    "small = list(np.random.rand(100))\n",
    "large = list(np.random.rand(1000))"
   ]
  },
  {
   "cell_type": "code",
   "execution_count": null,
   "metadata": {},
   "outputs": [],
   "source": [
    "%timeit len(small)"
   ]
  },
  {
   "cell_type": "code",
   "execution_count": null,
   "metadata": {},
   "outputs": [],
   "source": [
    "%timeit len(large)"
   ]
  },
  {
   "cell_type": "markdown",
   "metadata": {},
   "source": [
    "## Linear time\n",
    "\n",
    "$\\mathcal{O}(n)$ \n",
    "\n",
    "Example - iterating over a list"
   ]
  },
  {
   "cell_type": "code",
   "execution_count": null,
   "metadata": {},
   "outputs": [],
   "source": [
    "%timeit for item in small: pass"
   ]
  },
  {
   "cell_type": "code",
   "execution_count": null,
   "metadata": {},
   "outputs": [],
   "source": [
    "%timeit for item in large: pass"
   ]
  },
  {
   "cell_type": "markdown",
   "metadata": {},
   "source": [
    "## Logarithmic time\n",
    "\n",
    "$\\mathcal{O}(log(n))$ \n",
    "\n",
    "Example = finding elements in a sorted list"
   ]
  },
  {
   "cell_type": "code",
   "execution_count": null,
   "metadata": {},
   "outputs": [],
   "source": [
    "unsort_small = np.random.uniform(0, 100, 100)\n",
    "unsort_large = np.random.uniform(0, 100, 1000)"
   ]
  },
  {
   "cell_type": "code",
   "execution_count": null,
   "metadata": {},
   "outputs": [],
   "source": [
    "def brute_force(data):\n",
    "    query = np.random.choice(data)\n",
    "    for i in data: \n",
    "        if i == query: \n",
    "            break"
   ]
  },
  {
   "cell_type": "code",
   "execution_count": null,
   "metadata": {},
   "outputs": [],
   "source": [
    "%timeit brute_force(unsort_small)"
   ]
  },
  {
   "cell_type": "code",
   "execution_count": null,
   "metadata": {},
   "outputs": [],
   "source": [
    "%timeit brute_force(unsort_large)"
   ]
  },
  {
   "cell_type": "code",
   "execution_count": null,
   "metadata": {},
   "outputs": [],
   "source": [
    "sort_small = sorted(unsort_small)\n",
    "sort_large = sorted(unsort_large)"
   ]
  },
  {
   "cell_type": "code",
   "execution_count": null,
   "metadata": {},
   "outputs": [],
   "source": [
    "def divide_and_conquer(data):\n",
    "    query = np.random.choice(data)\n",
    "    split = int(len(data) / 2)\n",
    "    while split:\n",
    "        split = int(len(data) / 2)\n",
    "        centre = data[split]\n",
    "\n",
    "        if centre == query:\n",
    "            return True\n",
    "\n",
    "        if centre < query:\n",
    "            data = data[split:]\n",
    "        else:\n",
    "            data = data[:split]"
   ]
  },
  {
   "cell_type": "code",
   "execution_count": null,
   "metadata": {},
   "outputs": [],
   "source": [
    "%timeit divide_and_conquer(sort_small)"
   ]
  },
  {
   "cell_type": "code",
   "execution_count": null,
   "metadata": {},
   "outputs": [],
   "source": [
    "%timeit divide_and_conquer(sort_large)"
   ]
  },
  {
   "cell_type": "markdown",
   "metadata": {},
   "source": [
    "## Quadratic time\n",
    "\n",
    "$\\mathcal{O}(n^2)$ \n",
    "\n",
    "Example - nested for loops\n",
    "\n",
    "## Practical\n",
    "\n",
    "Demonstrate that a nested for loop is quadratic time"
   ]
  },
  {
   "cell_type": "code",
   "execution_count": null,
   "metadata": {},
   "outputs": [],
   "source": []
  },
  {
   "cell_type": "markdown",
   "metadata": {},
   "source": [
    "## Practical\n",
    "\n",
    "What is the complexity of the following in Python\n",
    "- `list.append`\n",
    "- `val in list`\n",
    "- `dict[key]`\n",
    "- `key in dict`\n",
    "- `val in set`"
   ]
  },
  {
   "cell_type": "code",
   "execution_count": null,
   "metadata": {},
   "outputs": [],
   "source": []
  },
  {
   "cell_type": "markdown",
   "metadata": {},
   "source": [
    "## More\n",
    "\n",
    "O(n3, n4, 2^n, n^n, n!)\n",
    "\n",
    "More dimensions\n",
    "\n",
    "Typical versus worst case"
   ]
  }
 ],
 "metadata": {
  "kernelspec": {
   "display_name": "Python 3",
   "language": "python",
   "name": "python3"
  },
  "language_info": {
   "codemirror_mode": {
    "name": "ipython",
    "version": 3
   },
   "file_extension": ".py",
   "mimetype": "text/x-python",
   "name": "python",
   "nbconvert_exporter": "python",
   "pygments_lexer": "ipython3",
   "version": "3.6.8"
  }
 },
 "nbformat": 4,
 "nbformat_minor": 4
}

{
 "cells": [
  {
   "cell_type": "code",
   "execution_count": 1,
   "metadata": {},
   "outputs": [],
   "source": [
    "import math\n",
    "\n",
    "import numpy as np\n",
    "import matplotlib.pyplot as plt"
   ]
  },
  {
   "cell_type": "code",
   "execution_count": 2,
   "metadata": {},
   "outputs": [],
   "source": [
    "#  sample a dataset\n",
    "x = np.random.uniform(-1, 1, size=1000)\n",
    "x = np.expand_dims(x, 1)\n",
    "\n",
    "#  change y_true to get the net to fit a different function\n",
    "y_true = 10 * np.power(x, 3) + np.power(x, 2) + 2 * np.power(x, 2)\n",
    "noise = np.random.normal(0, 1, size=x.shape[0]) * 0.5\n",
    "noise = np.expand_dims(noise, 1)\n",
    "y = y_true + noise\n",
    "\n",
    "assert y_true[0] + noise[0] == y[0]\n",
    "assert x.shape[0] == y.shape[0]"
   ]
  },
  {
   "cell_type": "code",
   "execution_count": 3,
   "metadata": {},
   "outputs": [],
   "source": [
    "#  network architecture\n",
    "\n",
    "#  input\n",
    "i_size = 1\n",
    "#  hidden layer\n",
    "h_size = 10\n",
    "activation = 'sigmoid'  #  relu or sigmoid\n",
    "#  output layer\n",
    "o_size = 1\n",
    "\n",
    "#  hyperparameters\n",
    "lr = 0.0001\n",
    "reg = 0.01"
   ]
  },
  {
   "cell_type": "code",
   "execution_count": 4,
   "metadata": {},
   "outputs": [],
   "source": [
    "#  sample weights from a normal distribution, biases at 0\n",
    "w0 = np.random.randn(i_size, h_size)\n",
    "b0 = np.zeros((1, h_size))\n",
    "\n",
    "w1 = np.random.randn(h_size, o_size)\n",
    "b1 = np.zeros((1, o_size))\n",
    "\n",
    "w = [w0, w1]\n",
    "b = [b0, b1]"
   ]
  },
  {
   "cell_type": "code",
   "execution_count": 5,
   "metadata": {},
   "outputs": [],
   "source": [
    "#  sample of the dataset\n",
    "n_samples = 4\n",
    "sample_x, sample_y = x[:n_samples, :], y[:n_samples, :]"
   ]
  },
  {
   "cell_type": "code",
   "execution_count": 6,
   "metadata": {},
   "outputs": [],
   "source": [
    "#  activations & their derivatives\n",
    "\n",
    "def sigmoid(x):\n",
    "    return 1 / (1 + np.exp(-x))\n",
    "\n",
    "def dsigmoid(x):\n",
    "    return sigmoid(x) * (1 - sigmoid(x))\n",
    "\n",
    "def relu(x):\n",
    "    return np.maximum(x, 0)\n",
    "\n",
    "def drelu(x):\n",
    "    x[x <= 0] = 0\n",
    "    x[x > 0] = 1\n",
    "    return x"
   ]
  },
  {
   "cell_type": "code",
   "execution_count": 7,
   "metadata": {},
   "outputs": [],
   "source": [
    "if activation == 'relu':\n",
    "    act = relu\n",
    "    dact = drelu\n",
    "else:\n",
    "    act = sigmoid\n",
    "    dact = dsigmoid\n",
    "\n",
    "def forward(x, w, b):\n",
    "    #  input -> hidden\n",
    "    z0 = x.dot(w[0]) + b[0]\n",
    "    a0 = act(z0)\n",
    "\n",
    "    #  hidden -> output\n",
    "    pred = a0.dot(w[1]) + b[1]\n",
    "    \n",
    "    return z0, a0, pred"
   ]
  },
  {
   "cell_type": "code",
   "execution_count": 8,
   "metadata": {},
   "outputs": [
    {
     "data": {
      "text/plain": [
       "array([[-3.4740828 ],\n",
       "       [-3.33721125],\n",
       "       [-3.48191316],\n",
       "       [-3.53675121]])"
      ]
     },
     "execution_count": 8,
     "metadata": {},
     "output_type": "execute_result"
    }
   ],
   "source": [
    "z0, a0, pred = forward(sample_x, w, b)\n",
    "pred"
   ]
  },
  {
   "cell_type": "code",
   "execution_count": 9,
   "metadata": {},
   "outputs": [],
   "source": [
    "def sq_error(pred, y):\n",
    "    return 1/2 * np.power(pred - y, 2)\n",
    "\n",
    "def abs_error(pred, y):\n",
    "    return abs(pred - y)\n",
    "\n",
    "def error(pred, y):\n",
    "    return pred - y"
   ]
  },
  {
   "cell_type": "code",
   "execution_count": 10,
   "metadata": {},
   "outputs": [],
   "source": [
    "def backward(lr, reg, w, b, z0, a0, pred, y, x):\n",
    "    derror = error(pred, y)\n",
    "    \n",
    "    dw1 = (a0.T).dot(derror)\n",
    "    db1 = derror\n",
    "    \n",
    "    d1 = derror.dot(w[1].T) * dact(z0)\n",
    "    dw0 = np.dot(x.T, d1)\n",
    "    db0 = d1\n",
    "    \n",
    "    dw1 += reg * w[1]\n",
    "    dw0 += reg * w[0]\n",
    "\n",
    "    w[0] += -lr * dw0\n",
    "    b[0] += -lr * np.sum(db0, 0, keepdims=True)\n",
    "    w[1] += -lr * dw1\n",
    "    b[1] += -lr * np.sum(db1, 0, keepdims=True)\n",
    "    \n",
    "    return w, b"
   ]
  },
  {
   "cell_type": "code",
   "execution_count": 11,
   "metadata": {},
   "outputs": [],
   "source": [
    "#  training\n",
    "epochs = 10000\n",
    "hist = []\n",
    "\n",
    "for _ in range(epochs):\n",
    "    z0, a0, pred = forward(x, w, b)\n",
    "    hist.append(np.mean(abs_error(pred, y)))\n",
    "    w, b = backward(lr, reg, w, b, z0, a0, pred, y, x)"
   ]
  },
  {
   "cell_type": "code",
   "execution_count": 12,
   "metadata": {},
   "outputs": [],
   "source": [
    "_, _, preds = forward(x, w, b)"
   ]
  },
  {
   "cell_type": "code",
   "execution_count": 13,
   "metadata": {},
   "outputs": [
    {
     "data": {
      "text/plain": [
       "<matplotlib.legend.Legend at 0x10b6fa780>"
      ]
     },
     "execution_count": 13,
     "metadata": {},
     "output_type": "execute_result"
    },
    {
     "data": {
      "image/png": "[encoded data removed]",
      "text/plain": [
       "<Figure size 432x288 with 1 Axes>"
      ]
     },
     "metadata": {
      "needs_background": "light"
     },
     "output_type": "display_data"
    }
   ],
   "source": [
    "%matplotlib inline\n",
    "\n",
    "plt.scatter(x, preds, label='pred', alpha=0.5)\n",
    "plt.scatter(x, y, label='sampled y', alpha=0.1)\n",
    "plt.plot(\n",
    "    sorted(x),\n",
    "    [y for _, y in sorted(zip(x, y_true))],\n",
    "    label='true y', \n",
    "    color='black'\n",
    ")\n",
    "plt.legend()"
   ]
  },
  {
   "cell_type": "code",
   "execution_count": null,
   "metadata": {},
   "outputs": [],
   "source": []
  }
 ],
 "metadata": {
  "kernelspec": {
   "display_name": "Python 3",
   "language": "python",
   "name": "python3"
  },
  "language_info": {
   "codemirror_mode": {
    "name": "ipython",
    "version": 3
   },
   "file_extension": ".py",
   "mimetype": "text/x-python",
   "name": "python",
   "nbconvert_exporter": "python",
   "pygments_lexer": "ipython3",
   "version": "3.7.2"
  }
 },
 "nbformat": 4,
 "nbformat_minor": 2
}

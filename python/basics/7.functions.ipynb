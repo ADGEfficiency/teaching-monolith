{
 "cells": [
  {
   "cell_type": "markdown",
   "metadata": {},
   "source": [
    "## Scope\n",
    "\n",
    "A local scope is made during the function call, which disapears after the function ends.\n",
    "\n",
    "## Why functions\n",
    "\n",
    "Functions allow us to\n",
    "- reuse code - a bad pattern in programming is to **duplicate code\n",
    "- test code\n",
    "- make code readable\n",
    "- control scope\n",
    "\n",
    "**Functional decomposition** is a key skill of a programmer\n",
    "\n",
    "## Our dataset\n",
    "\n",
    "[The Noble Eightfold Path](https://en.wikipedia.org/wiki/Noble_Eightfold_Path):"
   ]
  },
  {
   "cell_type": "code",
   "execution_count": 23,
   "metadata": {},
   "outputs": [],
   "source": [
    "noble_path = [\n",
    "    ('View', 'our actions have consequences, death is not the end'),\n",
    "    ('Intention', 'peaceful renunciation'),\n",
    "    ('Speech', 'honesty, no gossip'),\n",
    "    ('Action', 'murder, stealing, sexual misconduct'),\n",
    "    ('Livelihood', 'only possessing what is essential to sustain life'),\n",
    "    ('Effort', 'preventing unwholesome states, restraint of the senses'),\n",
    "    ('Mindfulness', 'avoid absent mind, conscious of what one is doing'),    \n",
    "    ('Concentration', 'one-pointedness of the mind')\n",
    "]\n",
    "\n",
    "#  it can be handy to keep a copy of raw data in memory\n",
    "raw = noble_path.copy()"
   ]
  },
  {
   "cell_type": "markdown",
   "metadata": {},
   "source": [
    "Let's imagine we want to do some things:\n",
    "1. add an integer index onto each tuple\n",
    "2. sort the list in flexible ways\n",
    "\n",
    "We can use a list comprehension to add an integer index:"
   ]
  },
  {
   "cell_type": "code",
   "execution_count": 24,
   "metadata": {},
   "outputs": [
    {
     "data": {
      "text/plain": [
       "[(1, 'View', 'our actions have consequences, death is not the end'),\n",
       " (2, 'Intention', 'peaceful renunciation'),\n",
       " (3, 'Speech', 'honesty, no gossip'),\n",
       " (4, 'Action', 'murder, stealing, sexual misconduct'),\n",
       " (5, 'Livelihood', 'only possessing what is essential to sustain life'),\n",
       " (6, 'Effort', 'preventing unwholesome states, restraint of the senses'),\n",
       " (7, 'Mindfulness', 'avoid absent mind, conscious of what one is doing'),\n",
       " (8, 'Concentration', 'one-pointedness of the mind')]"
      ]
     },
     "execution_count": 24,
     "metadata": {},
     "output_type": "execute_result"
    }
   ],
   "source": [
    "noble_path = [(idx, *path) for idx, path in enumerate(raw, 1)]\n",
    "\n",
    "noble_path"
   ]
  },
  {
   "cell_type": "markdown",
   "metadata": {},
   "source": [
    "And the `sorted` builtin:"
   ]
  },
  {
   "cell_type": "code",
   "execution_count": 25,
   "metadata": {},
   "outputs": [
    {
     "data": {
      "text/plain": [
       "\u001b[0;31mSignature:\u001b[0m \u001b[0msorted\u001b[0m\u001b[0;34m(\u001b[0m\u001b[0miterable\u001b[0m\u001b[0;34m,\u001b[0m \u001b[0;34m/\u001b[0m\u001b[0;34m,\u001b[0m \u001b[0;34m*\u001b[0m\u001b[0;34m,\u001b[0m \u001b[0mkey\u001b[0m\u001b[0;34m=\u001b[0m\u001b[0;32mNone\u001b[0m\u001b[0;34m,\u001b[0m \u001b[0mreverse\u001b[0m\u001b[0;34m=\u001b[0m\u001b[0;32mFalse\u001b[0m\u001b[0;34m)\u001b[0m\u001b[0;34m\u001b[0m\u001b[0;34m\u001b[0m\u001b[0m\n",
       "\u001b[0;31mDocstring:\u001b[0m\n",
       "Return a new list containing all items from the iterable in ascending order.\n",
       "\n",
       "A custom key function can be supplied to customize the sort order, and the\n",
       "reverse flag can be set to request the result in descending order.\n",
       "\u001b[0;31mType:\u001b[0m      builtin_function_or_method\n"
      ]
     },
     "metadata": {},
     "output_type": "display_data"
    }
   ],
   "source": [
    "sorted?"
   ]
  },
  {
   "cell_type": "code",
   "execution_count": 26,
   "metadata": {},
   "outputs": [
    {
     "data": {
      "text/plain": [
       "[(8, 'Concentration', 'one-pointedness of the mind'),\n",
       " (7, 'Mindfulness', 'avoid absent mind, conscious of what one is doing'),\n",
       " (6, 'Effort', 'preventing unwholesome states, restraint of the senses'),\n",
       " (5, 'Livelihood', 'only possessing what is essential to sustain life'),\n",
       " (4, 'Action', 'murder, stealing, sexual misconduct'),\n",
       " (3, 'Speech', 'honesty, no gossip'),\n",
       " (2, 'Intention', 'peaceful renunciation'),\n",
       " (1, 'View', 'our actions have consequences, death is not the end')]"
      ]
     },
     "execution_count": 26,
     "metadata": {},
     "output_type": "execute_result"
    }
   ],
   "source": [
    "sorted(noble_path, reverse=True)"
   ]
  },
  {
   "cell_type": "markdown",
   "metadata": {},
   "source": [
    "## Exercise - compose a function\n",
    "\n",
    "Call it `main()`"
   ]
  },
  {
   "cell_type": "code",
   "execution_count": 30,
   "metadata": {},
   "outputs": [],
   "source": [
    "def main(data):\n",
    "    data = [(idx, *path) for idx, path in enumerate(data, 1)]\n",
    "    return sorted(data, reverse=True)"
   ]
  },
  {
   "cell_type": "code",
   "execution_count": 31,
   "metadata": {},
   "outputs": [
    {
     "data": {
      "text/plain": [
       "[(8, 'Concentration', 'one-pointedness of the mind'),\n",
       " (7, 'Mindfulness', 'avoid absent mind, conscious of what one is doing'),\n",
       " (6, 'Effort', 'preventing unwholesome states, restraint of the senses'),\n",
       " (5, 'Livelihood', 'only possessing what is essential to sustain life'),\n",
       " (4, 'Action', 'murder, stealing, sexual misconduct'),\n",
       " (3, 'Speech', 'honesty, no gossip'),\n",
       " (2, 'Intention', 'peaceful renunciation'),\n",
       " (1, 'View', 'our actions have consequences, death is not the end')]"
      ]
     },
     "execution_count": 31,
     "metadata": {},
     "output_type": "execute_result"
    }
   ],
   "source": [
    "main(raw)"
   ]
  },
  {
   "cell_type": "markdown",
   "metadata": {},
   "source": [
    "## Exercise - compose two functions\n",
    "\n",
    "`main()`, `add_integer_index`"
   ]
  },
  {
   "cell_type": "code",
   "execution_count": 34,
   "metadata": {},
   "outputs": [
    {
     "data": {
      "text/plain": [
       "[(8, 'Concentration', 'one-pointedness of the mind'),\n",
       " (7, 'Mindfulness', 'avoid absent mind, conscious of what one is doing'),\n",
       " (6, 'Effort', 'preventing unwholesome states, restraint of the senses'),\n",
       " (5, 'Livelihood', 'only possessing what is essential to sustain life'),\n",
       " (4, 'Action', 'murder, stealing, sexual misconduct'),\n",
       " (3, 'Speech', 'honesty, no gossip'),\n",
       " (2, 'Intention', 'peaceful renunciation'),\n",
       " (1, 'View', 'our actions have consequences, death is not the end')]"
      ]
     },
     "execution_count": 34,
     "metadata": {},
     "output_type": "execute_result"
    }
   ],
   "source": [
    "def main(data):\n",
    "    data = add_integer_index(data)\n",
    "    return sorted(data, reverse=True)\n",
    "\n",
    "def add_integer_index(data):\n",
    "    return [(idx, *path) for idx, path in enumerate(data, 1)]\n",
    "\n",
    "main(raw)"
   ]
  },
  {
   "cell_type": "markdown",
   "metadata": {},
   "source": [
    "## Threefold division"
   ]
  },
  {
   "cell_type": "code",
   "execution_count": 36,
   "metadata": {},
   "outputs": [
    {
     "data": {
      "text/plain": [
       "{'virtue': [3, 4, 5], 'concentration': [6, 7, 8], 'wisdom': [1, 2]}"
      ]
     },
     "execution_count": 36,
     "metadata": {},
     "output_type": "execute_result"
    }
   ],
   "source": [
    "mapper = {'virtue': [3, 4, 5], 'concentration': [6, 7, 8], 'wisdom': [1, 2]}\n",
    "\n",
    "mapper"
   ]
  },
  {
   "cell_type": "code",
   "execution_count": null,
   "metadata": {},
   "outputs": [],
   "source": []
  },
  {
   "cell_type": "code",
   "execution_count": null,
   "metadata": {},
   "outputs": [],
   "source": []
  },
  {
   "cell_type": "code",
   "execution_count": null,
   "metadata": {},
   "outputs": [],
   "source": []
  },
  {
   "cell_type": "code",
   "execution_count": null,
   "metadata": {},
   "outputs": [],
   "source": []
  },
  {
   "cell_type": "markdown",
   "metadata": {},
   "source": [
    "## Parameters\n",
    "\n",
    "Positional"
   ]
  },
  {
   "cell_type": "code",
   "execution_count": null,
   "metadata": {},
   "outputs": [],
   "source": []
  },
  {
   "cell_type": "markdown",
   "metadata": {},
   "source": [
    "Keyword"
   ]
  },
  {
   "cell_type": "code",
   "execution_count": null,
   "metadata": {},
   "outputs": [],
   "source": []
  },
  {
   "cell_type": "code",
   "execution_count": null,
   "metadata": {},
   "outputs": [],
   "source": [
    "#  \n",
    "mutable type as parameter (list etc)\n",
    "\n",
    "pdb"
   ]
  },
  {
   "cell_type": "code",
   "execution_count": null,
   "metadata": {},
   "outputs": [],
   "source": []
  },
  {
   "cell_type": "code",
   "execution_count": null,
   "metadata": {},
   "outputs": [],
   "source": []
  },
  {
   "cell_type": "code",
   "execution_count": null,
   "metadata": {},
   "outputs": [],
   "source": []
  },
  {
   "cell_type": "code",
   "execution_count": null,
   "metadata": {},
   "outputs": [],
   "source": []
  },
  {
   "cell_type": "markdown",
   "metadata": {},
   "source": [
    "## Exercise - factorial\n",
    "\n",
    "Test using `math.factorial`"
   ]
  },
  {
   "cell_type": "code",
   "execution_count": 1,
   "metadata": {},
   "outputs": [],
   "source": [
    "def factorial(n):\n",
    "    if n == 0:\n",
    "        return 1\n",
    "    else:\n",
    "        return n * factorial(n-1)"
   ]
  },
  {
   "cell_type": "code",
   "execution_count": null,
   "metadata": {},
   "outputs": [],
   "source": []
  }
 ],
 "metadata": {
  "kernelspec": {
   "display_name": "Python 3",
   "language": "python",
   "name": "python3"
  },
  "language_info": {
   "codemirror_mode": {
    "name": "ipython",
    "version": 3
   },
   "file_extension": ".py",
   "mimetype": "text/x-python",
   "name": "python",
   "nbconvert_exporter": "python",
   "pygments_lexer": "ipython3",
   "version": "3.6.8"
  }
 },
 "nbformat": 4,
 "nbformat_minor": 4
}

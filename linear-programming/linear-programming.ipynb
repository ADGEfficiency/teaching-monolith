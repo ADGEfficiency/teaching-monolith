{
 "cells": [
  {
   "cell_type": "markdown",
   "metadata": {},
   "source": [
    "# Linear Programming\n",
    "\n",
    "This notebook:\n",
    "\n",
    "- an introduction to linear programming,\n",
    "- food/diet example (show),\n",
    "- example of dispatching an energy system with scenario analysis (do together),\n",
    "- port/market exercise (do alone).\n",
    "\n",
    "Make sure to at least [glance through the notes](https://github.com/ADGEfficiency/teaching-monolith/blob/master/linear-programming/linear-programming.ipynb)!\n",
    "\n",
    "\n",
    "## Linear programming with PuLP\n",
    "\n",
    "We can do linear programming in Python using [PuLP](https://pythonhosted.org/PuLP/) - a library that abstracts away the mechanics of solving linear programs.  \n",
    "\n",
    "There are many other solvers - most Python LP libraries will wrap around a lower level implementation (I hope!).\n",
    "\n",
    "\n",
    "The mathematics of the optimization is not covered here - if you are interested, the [Simplex Method](https://en.wikipedia.org/wiki/Simplex_algorithm) is a good place to start.\n",
    "\n",
    "\n",
    "## Example - Diet Problem\n",
    "\n",
    "From [Linear programming - Michel Goemans](https://math.mit.edu/~goemans/18310S15/lpnotes310.pdf).\n",
    "\n",
    "> In the diet model, a list of available foods is given together with the nutrient content and the cost\n",
    "per unit weight of each food. A certain amount of each nutrient is required per day. For example,\n",
    "here is the data corresponding to a civilization with just two types of grains (G1 and G2) and three\n",
    "types of nutrients (starch, proteins, vitamins)\n",
    "\n",
    "| | Starch [kg/kg] | Protiens [kg/kg] | Vitamins [kg/kg] | Cost [$/g] |\n",
    "|---|---|---|---|---|\n",
    "|apples| 5 | 4 | 2| 0.6 |\n",
    "|oranges| 7 | 2 | 1| 0.35 |\n",
    "\n",
    "We have a requirement per day of 8g of starch, 15g of protiens and 3g of vitamins.\n",
    "\n",
    "### Formulating as a linear problem\n",
    "\n",
    "Let's map this problem directly onto the definition of linear programming\n",
    "\n",
    "1. Objective function = minimize cost,\n",
    "2. Variables = amount of apples & oranges,\n",
    "3. Constraints = daily requirements of starch, protien and vitamins.\n",
    "\n",
    "\n",
    "## The PuLP api\n",
    "\n",
    "Below is a full linear program for the problem above:"
   ]
  },
  {
   "cell_type": "code",
   "execution_count": 19,
   "metadata": {},
   "outputs": [
    {
     "name": "stdout",
     "output_type": "stream",
     "text": [
      "\u001b[33mWARNING: You are using pip version 20.3.3; however, version 21.2.4 is available.\n",
      "You should consider upgrading via the '/Users/adam/.pyenv/versions/3.8.5/envs/general/bin/python3.8 -m pip install --upgrade pip' command.\u001b[0m\n",
      "Optimal\n",
      "apples 5.0\n",
      "oranges -2.0\n"
     ]
    }
   ],
   "source": [
    "!pip install pulp numpy -Uq\n",
    "\n",
    "from pulp import LpProblem, LpMinimize, LpVariable, LpStatus\n",
    "\n",
    "problem = LpProblem('diet cost minimization', LpMinimize)\n",
    "\n",
    "apples = LpVariable('apples', cat='Integer')\n",
    "oranges = LpVariable('oranges', cat='Integer')\n",
    "\n",
    "#  add the objective function\n",
    "problem += apples * 0.6 + oranges * 0.35\n",
    "\n",
    "#  add constraints\n",
    "#  starch\n",
    "problem += apples * 5 + oranges * 7 >= 8\n",
    "#  protien\n",
    "problem += apples * 4 + oranges * 2 >= 15\n",
    "#  vitamins\n",
    "problem += apples * 2 + oranges * 1 >= 3\n",
    "\n",
    "#  run problem & show results\n",
    "problem.solve()\n",
    "print(LpStatus[problem.status])\n",
    "for v in (apples, oranges):\n",
    "    print('{} {}'.format(v.name, v.varValue))"
   ]
  },
  {
   "cell_type": "markdown",
   "metadata": {},
   "source": [
    "What has happened here?  Our program has done something quite wierd!\n",
    "\n",
    "Let's try again, putting some more constraints on our variables.\n",
    "\n",
    "You could also achieve this by an explicit constraint (something like `prob += apples >=0` for a minimum of zero).  \n",
    "`puLp` lets us do this when we create the variables."
   ]
  },
  {
   "cell_type": "code",
   "execution_count": 6,
   "metadata": {},
   "outputs": [
    {
     "name": "stdout",
     "output_type": "stream",
     "text": [
      "Optimal\n",
      "apples 4.0\n",
      "oranges 0.0\n"
     ]
    }
   ],
   "source": [
    "prob = LpProblem('diet cost minimization', LpMinimize)\n",
    "apples = LpVariable('apples', cat='Integer', lowBound=0, upBound=None)\n",
    "oranges = LpVariable('oranges', cat='Integer', lowBound=0, upBound=None)\n",
    "\n",
    "#  add the objective function\n",
    "prob += apples * 0.6 + oranges * 0.35\n",
    "\n",
    "#  add constraints\n",
    "prob += apples * 5 + oranges * 7 >= 8\n",
    "prob += apples * 4 + oranges * 2 >= 15\n",
    "prob += apples * 2 + oranges * 1 >= 3\n",
    "\n",
    "prob.solve()\n",
    "print(LpStatus[prob.status])\n",
    "for v in (apples, oranges):\n",
    "    print('{} {}'.format(v.name, v.varValue))"
   ]
  },
  {
   "cell_type": "markdown",
   "metadata": {},
   "source": [
    "Now we have a model, we can play with it.  "
   ]
  },
  {
   "cell_type": "code",
   "execution_count": null,
   "metadata": {},
   "outputs": [],
   "source": []
  },
  {
   "cell_type": "code",
   "execution_count": null,
   "metadata": {},
   "outputs": [],
   "source": []
  },
  {
   "cell_type": "markdown",
   "metadata": {},
   "source": [
    "## Example - electricity system dispatch\n",
    "\n",
    "Three assets in our grid:\n",
    "\n",
    "- wind turbine,\n",
    "- gas turbine,\n",
    "- big bad coal.\n",
    "\n",
    "Lets make "
   ]
  },
  {
   "cell_type": "code",
   "execution_count": 2,
   "metadata": {},
   "outputs": [],
   "source": [
    "from dataclasses import dataclass\n",
    "\n",
    "@dataclass\n",
    "class Asset:\n",
    "    name: str\n",
    "    price: float\n",
    "    carbon_intensity: float\n",
    "    limit: int\n",
    "\n",
    "assets = [\n",
    "    #  name, price $/MWh, carbon intensity tC/MWh\n",
    "    ('wind', 30, 0.05, 100),\n",
    "    ('gas', 70, 0.1, 50),\n",
    "    ('coal', 50, 0.1, 100),\n",
    "]\n",
    "assets = [Asset(*a) for a in assets]\n",
    "\n",
    "problem = LpProblem('cost minimization', LpMinimize)\n",
    "#  make one variable per asset\n",
    "variables = [LpVariable(a.name, 0, a.limit) for a in assets]"
   ]
  },
  {
   "cell_type": "markdown",
   "metadata": {},
   "source": [
    "Let's create an objective function based on price:"
   ]
  },
  {
   "cell_type": "code",
   "execution_count": 3,
   "metadata": {},
   "outputs": [
    {
     "name": "stderr",
     "output_type": "stream",
     "text": [
      "/Users/adam/.pyenv/versions/3.8.5/envs/general/lib/python3.8/site-packages/pulp/pulp.py:1671: UserWarning: Overwriting previously set objective.\n",
      "  warnings.warn(\"Overwriting previously set objective.\")\n"
     ]
    }
   ],
   "source": [
    "problem += sum([a.price * v for a, v in zip(assets, variables)])"
   ]
  },
  {
   "cell_type": "markdown",
   "metadata": {},
   "source": [
    "And place one constraint - that the sum of our generation is equal to demand:"
   ]
  },
  {
   "cell_type": "code",
   "execution_count": 4,
   "metadata": {},
   "outputs": [
    {
     "name": "stdout",
     "output_type": "stream",
     "text": [
      "Optimal\n",
      "wind 10.0\n",
      "gas 0.0\n",
      "coal 0.0\n"
     ]
    }
   ],
   "source": [
    "demand = 10\n",
    "problem += sum(variables) == demand\n",
    "\n",
    "problem.solve()\n",
    "print(LpStatus[problem.status])\n",
    "\n",
    "for v in variables:\n",
    "    print('{} {}'.format(v.name, v.varValue))"
   ]
  },
  {
   "cell_type": "markdown",
   "metadata": {},
   "source": [
    "Now we have a model - we can use it for scenario analysis:"
   ]
  },
  {
   "cell_type": "code",
   "execution_count": 10,
   "metadata": {},
   "outputs": [
    {
     "name": "stdout",
     "output_type": "stream",
     "text": [
      "Optimal\n",
      "wind 10.0\n",
      "gas 0.0\n",
      "coal 0.0\n",
      "\n",
      "Optimal\n",
      "wind 25.0\n",
      "gas 0.0\n",
      "coal 25.0\n",
      "\n",
      "Optimal\n",
      "wind 25.0\n",
      "gas 0.0\n",
      "coal 75.0\n",
      "\n"
     ]
    }
   ],
   "source": [
    "for demand in [10, 50, 100]:\n",
    "    \n",
    "    problem = LpProblem('cost minimization', LpMinimize)\n",
    "    assets = [\n",
    "        #  name, price $/MWh, carbon intensity tC/MWh\n",
    "        ('wind', 30, 0.05, 25),\n",
    "        ('gas', 70, 0.1, 50),\n",
    "        ('coal', 50, 0.1, 100),\n",
    "    ]\n",
    "    assets = [Asset(*a) for a in assets]\n",
    "    variables = [LpVariable(a.name, 0, a.limit) for a in assets]\n",
    "    \n",
    "    problem += sum([a.price * v for a, v in zip(assets, variables)])\n",
    "    problem += sum(variables) == demand\n",
    "    problem.solve()\n",
    "    print(LpStatus[problem.status])\n",
    "\n",
    "    for v in variables:\n",
    "        print('{} {}'.format(v.name, v.varValue))\n",
    "    print('')"
   ]
  },
  {
   "cell_type": "markdown",
   "metadata": {},
   "source": [
    "We can also look at what changing prices does to our dispatch:"
   ]
  },
  {
   "cell_type": "code",
   "execution_count": null,
   "metadata": {},
   "outputs": [],
   "source": []
  },
  {
   "cell_type": "markdown",
   "metadata": {},
   "source": [
    "## Transportation problem\n",
    "\n",
    "$P$ ports\n",
    "- each port has a capacity, measured in number of units\n",
    "\n",
    "$M$ markets\n",
    "- each market has a demand, measured in number of units\n",
    "\n",
    "Each $(P,M)$ pair has a cost - the cost to transport goods from port $P$ to market $M$.\n",
    "\n",
    "We want to find the lowest cost way to supply all our market demands from our ports.\n",
    "\n",
    "We can map this problem directly onto the definition of linear programming:\n",
    "\n",
    "- objective function = ?\n",
    "- variables = ?\n",
    "- constraints = ?\n",
    "\n",
    "## Exercise\n",
    "\n",
    "Build a linear program to solve the transportation problem:"
   ]
  },
  {
   "cell_type": "code",
   "execution_count": 10,
   "metadata": {},
   "outputs": [],
   "source": [
    "ports = [20, 30, 30, 50]\n",
    "markets = [20, 10, 5]\n",
    "\n",
    "#  one price for a port-market pair - just randomly make prices\n",
    "np.random.seed(42)\n",
    "pm_cost = np.random.uniform(0, 1, size=len(ports) * len(markets)).reshape(len(ports), len(markets))"
   ]
  },
  {
   "cell_type": "markdown",
   "metadata": {},
   "source": [
    "We can access the cost to trade from a port to a market by indexing `pm_cost[port, market]`:"
   ]
  },
  {
   "cell_type": "code",
   "execution_count": 16,
   "metadata": {},
   "outputs": [
    {
     "data": {
      "text/plain": [
       "0.3745401188473625"
      ]
     },
     "execution_count": 16,
     "metadata": {},
     "output_type": "execute_result"
    }
   ],
   "source": [
    "#  trade from port 0 to market 0\n",
    "pm_cost[0, 0]"
   ]
  },
  {
   "cell_type": "code",
   "execution_count": 17,
   "metadata": {},
   "outputs": [
    {
     "data": {
      "text/plain": [
       "0.9699098521619943"
      ]
     },
     "execution_count": 17,
     "metadata": {},
     "output_type": "execute_result"
    }
   ],
   "source": [
    "#  trade from port 3 to market 2\n",
    "pm_cost[3, 2]"
   ]
  },
  {
   "cell_type": "code",
   "execution_count": null,
   "metadata": {},
   "outputs": [],
   "source": []
  },
  {
   "cell_type": "markdown",
   "metadata": {},
   "source": [
    "Feel free to look at the answers by commenting out the two lines below:"
   ]
  },
  {
   "cell_type": "code",
   "execution_count": 15,
   "metadata": {},
   "outputs": [],
   "source": [
    "#from answers import transportation\n",
    "#transportation??"
   ]
  }
 ],
 "metadata": {
  "kernelspec": {
   "display_name": "Python 3",
   "language": "python",
   "name": "python3"
  },
  "language_info": {
   "codemirror_mode": {
    "name": "ipython",
    "version": 3
   },
   "file_extension": ".py",
   "mimetype": "text/x-python",
   "name": "python",
   "nbconvert_exporter": "python",
   "pygments_lexer": "ipython3",
   "version": "3.8.5"
  }
 },
 "nbformat": 4,
 "nbformat_minor": 4
}

{
 "cells": [
  {
   "cell_type": "markdown",
   "metadata": {},
   "source": [
    "From Fooled by Randomness\n",
    "\n",
    "Distribution of the max of random vars \n",
    "- max of avg less volatile than avg max"
   ]
  },
  {
   "cell_type": "code",
   "execution_count": 22,
   "metadata": {},
   "outputs": [
    {
     "name": "stdout",
     "output_type": "stream",
     "text": [
      "standard deviations\n",
      "max of averages 0.03414939315789584\n",
      "average of maxs 0.09793873684630611\n"
     ]
    }
   ],
   "source": [
    "import numpy as np\n",
    "import matplotlib.pyplot as plt\n",
    "max_avgs = []\n",
    "avg_maxs = []\n",
    "n = 16\n",
    "iters = 5000\n",
    "for _ in range(iters):\n",
    "    data = np.random.multivariate_normal(\n",
    "        np.zeros((16, )), np.eye(16,), size=256\n",
    "    )\n",
    "\n",
    "    max_avgs.append(np.max(np.mean(data, axis=0)))\n",
    "    avg_maxs.append(np.mean(np.max(data, axis=0)))\n",
    "\n",
    "print('standard deviations')\n",
    "print('max of averages {}'.format(np.std(max_avgs)))\n",
    "print('average of maxs {}'.format(np.std(avg_maxs)))"
   ]
  },
  {
   "cell_type": "code",
   "execution_count": 11,
   "metadata": {},
   "outputs": [],
   "source": []
  },
  {
   "cell_type": "code",
   "execution_count": null,
   "metadata": {},
   "outputs": [],
   "source": []
  }
 ],
 "metadata": {
  "kernelspec": {
   "display_name": "Python 3",
   "language": "python",
   "name": "python3"
  },
  "language_info": {
   "codemirror_mode": {
    "name": "ipython",
    "version": 3
   },
   "file_extension": ".py",
   "mimetype": "text/x-python",
   "name": "python",
   "nbconvert_exporter": "python",
   "pygments_lexer": "ipython3",
   "version": "3.6.8"
  }
 },
 "nbformat": 4,
 "nbformat_minor": 4
}

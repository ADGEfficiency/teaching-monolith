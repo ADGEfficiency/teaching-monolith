{
 "cells": [
  {
   "cell_type": "markdown",
   "metadata": {},
   "source": [
    "# Functional Programming \n",
    "\n",
    "Elements of functional programming with Python.\n",
    "\n",
    "## Resources\n",
    "\n",
    "[Functional Programming in Python\n",
    "By Marcus Sanatan](https://stackabuse.com/functional-programming-in-python/)\n",
    "\n",
    "[Clean Architecture - Uncle Bob Martin](https://www.amazon.co.uk/Clean-Architecture-Craftsmans-Software-Structure/dp/0134494164)\n",
    "\n",
    "## What is functional programming?\n",
    "\n",
    "- variables that don't vary (immutable data)\n",
    "- first class functions (no objects)\n",
    "- no side effects\n",
    "\n",
    "> Discipline imposed on variable assignment - Uncle Bob Martin\n",
    "\n",
    "Examples include Lisp, Haskell, Erlang, Clojure\n",
    "\n",
    "Python has many of the components of a functional language\n",
    "- map, filter, sum etc\n",
    "\n",
    "## No side effects\n",
    "\n",
    "- same inputs -> same outputs (always)\n",
    "- no dependency on the state of the outside world\n",
    "\n",
    "Not doing something like:"
   ]
  },
  {
   "cell_type": "code",
   "execution_count": null,
   "metadata": {},
   "outputs": [],
   "source": [
    "def pipeline(data):\n",
    "    new_data = clean(data)\n",
    "    database.save(new_data)\n",
    "    database.load(features)\n",
    "    return features"
   ]
  },
  {
   "cell_type": "markdown",
   "metadata": {},
   "source": [
    "## Variables that don't vary\n",
    "\n",
    "Variables are only initialized \n",
    "- they are never changed \n",
    "- this avoids problems such as race conditions / deadlocks\n",
    "\n",
    "Variables being immutable means we can't do:"
   ]
  },
  {
   "cell_type": "code",
   "execution_count": null,
   "metadata": {},
   "outputs": [],
   "source": [
    "#  can't do this\n",
    "def f(x):\n",
    "    x += 1\n",
    "    return x\n",
    "\n",
    "#  can do this\n",
    "def f(x):\n",
    "    x = x + 1\n",
    "    return x"
   ]
  },
  {
   "cell_type": "markdown",
   "metadata": {},
   "source": [
    "## Functions are first class\n",
    "\n",
    "First class citizens means we can pass functions around like other variables \n",
    "- also known as higher order functions\n",
    "\n",
    "Below we pass the `sum` function into a generic `reducer` function:"
   ]
  },
  {
   "cell_type": "code",
   "execution_count": null,
   "metadata": {},
   "outputs": [],
   "source": [
    "def reducer(func, data):\n",
    "    return func(data)\n",
    "\n",
    "data = [1, 2, 3]\n",
    "reducer(sum, data)"
   ]
  },
  {
   "cell_type": "markdown",
   "metadata": {},
   "source": [
    "Passing in another function gives different results:"
   ]
  },
  {
   "cell_type": "code",
   "execution_count": null,
   "metadata": {},
   "outputs": [],
   "source": [
    "reducer(len, data)"
   ]
  },
  {
   "cell_type": "markdown",
   "metadata": {},
   "source": [
    "## Map\n",
    "\n",
    "Similar to apply in pandas.\n",
    "\n",
    "Applying a function to each element of an iterable:"
   ]
  },
  {
   "cell_type": "code",
   "execution_count": null,
   "metadata": {},
   "outputs": [],
   "source": [
    "def lower(s):\n",
    "    return s.lower()\n",
    "\n",
    "cities = ['Berlin', 'Auckland', 'London', 'Sheffield']\n",
    "m = map(lower, cities)\n",
    "m"
   ]
  },
  {
   "cell_type": "markdown",
   "metadata": {},
   "source": [
    "We can see that Python has returned a map object, not the transformed data.  This is an example of **lazy computation**, which is a two step process:\n",
    "1. build a pipeline/graph\n",
    "2. put data through it when needed\n",
    "\n",
    "Examples include Tensorflow 1, Spark, Python generators.\n",
    "\n",
    "We can get the next element as we would for any kind of generator:"
   ]
  },
  {
   "cell_type": "code",
   "execution_count": null,
   "metadata": {},
   "outputs": [],
   "source": [
    "next(m)"
   ]
  },
  {
   "cell_type": "markdown",
   "metadata": {},
   "source": [
    "As we are more impatient than lazy, we can get all the processed data by calling `list` on the generator:"
   ]
  },
  {
   "cell_type": "code",
   "execution_count": null,
   "metadata": {},
   "outputs": [],
   "source": [
    "list(map(lower, cities))"
   ]
  },
  {
   "cell_type": "markdown",
   "metadata": {},
   "source": [
    "## Lambda functions\n",
    "\n",
    "Anonymous - not assigned to a variable\n",
    "- possible to have objects with no variable reference (until they get garbage collected :)\n",
    "\n",
    "We can do the same example using a lambda:"
   ]
  },
  {
   "cell_type": "code",
   "execution_count": null,
   "metadata": {},
   "outputs": [],
   "source": [
    "list(map(lambda x: x.lower(), cities))"
   ]
  },
  {
   "cell_type": "markdown",
   "metadata": {},
   "source": [
    "The object we define above is a lambda function:"
   ]
  },
  {
   "cell_type": "code",
   "execution_count": null,
   "metadata": {},
   "outputs": [],
   "source": [
    "lambda x: x.lower()"
   ]
  },
  {
   "cell_type": "markdown",
   "metadata": {},
   "source": [
    "We can do more complex things in lambdas, such as accessing elements of the input data:"
   ]
  },
  {
   "cell_type": "code",
   "execution_count": null,
   "metadata": {},
   "outputs": [],
   "source": [
    "populations = [\n",
    "    ('Berlin', 3.7),\n",
    "    ('Auckland', 1.7),\n",
    "    ('London', 8.9),\n",
    "    ('Sheffield', 0.5)\n",
    "]\n",
    "\n",
    "list(map(lambda x: (x[0], x[1] * 1000), populations))"
   ]
  },
  {
   "cell_type": "markdown",
   "metadata": {},
   "source": [
    "## Filter\n",
    "\n",
    "Similar to boolean masking in pandas/numpy.\n",
    "\n",
    "Tests each element, keeps those that pass:"
   ]
  },
  {
   "cell_type": "code",
   "execution_count": null,
   "metadata": {},
   "outputs": [],
   "source": [
    "list(filter(lambda x: x[1] > 1.0, populations))"
   ]
  },
  {
   "cell_type": "markdown",
   "metadata": {},
   "source": [
    "## Practical\n",
    "\n",
    "Create a data processing pipeline that selects the cities that have populations greater than the average of all cities\n",
    "\n",
    "Two steps:\n",
    "- `map` to find the average of all cities\n",
    "- `filter` to select using cities above that average\n",
    "\n",
    "These don't have to be done in a single line!"
   ]
  },
  {
   "cell_type": "code",
   "execution_count": null,
   "metadata": {},
   "outputs": [],
   "source": []
  },
  {
   "cell_type": "markdown",
   "metadata": {},
   "source": [
    "## Practical\n",
    "\n",
    "Implement the same pipeline using two list comprehensions"
   ]
  },
  {
   "cell_type": "code",
   "execution_count": null,
   "metadata": {},
   "outputs": [],
   "source": []
  },
  {
   "cell_type": "markdown",
   "metadata": {},
   "source": [
    "## Question\n",
    "\n",
    "In Python, any combination of `map` & `filter` can be done with a single list comprehension\n",
    "- why do we need to use two in the example above?"
   ]
  }
 ],
 "metadata": {
  "kernelspec": {
   "display_name": "Python 3",
   "language": "python",
   "name": "python3"
  },
  "language_info": {
   "codemirror_mode": {
    "name": "ipython",
    "version": 3
   },
   "file_extension": ".py",
   "mimetype": "text/x-python",
   "name": "python",
   "nbconvert_exporter": "python",
   "pygments_lexer": "ipython3",
   "version": "3.6.8"
  }
 },
 "nbformat": 4,
 "nbformat_minor": 4
}

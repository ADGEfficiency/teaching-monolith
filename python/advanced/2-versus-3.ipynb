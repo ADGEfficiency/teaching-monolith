{
 "cells": [
  {
   "cell_type": "code",
   "execution_count": null,
   "metadata": {},
   "outputs": [],
   "source": [
    "# Python 2 versus 3\n",
    "\n",
    "## Division in 2 versus 3\n",
    "\n",
    "Python 3\n",
    "- `/` is float division\n",
    "\n",
    "Python 2\n",
    "- `/` is integer division (assuming `int` inputs)\n",
    "\n",
    "In both 2 and 3\n",
    "- `//` is integer division\n",
    "\n",
    "To get float division in Python 2 requires either of the operands be a `float`\n",
    "\n",
    "```python\n",
    "#  python 2\n",
    "# note the casting in integers\n",
    "a = int(9)\n",
    "b = int(2)\n",
    "\n",
    "a / b\n",
    ">>> 4\n",
    "\n",
    "a // b\n",
    ">>> 4\n",
    "\n",
    "#  cast both to floats\n",
    "a = float(9)\n",
    "b = float(2)\n",
    "\n",
    "a / b\n",
    ">>> 4.5\n",
    "\n",
    "a // b\n",
    ">>> 4.0\n",
    "```\n",
    "\n",
    "\n",
    "## Python 2 versus 3\n",
    "\n",
    "Support for Python 2 stops at the end of 2019 - see the [Python 2.7 countdown](https://pythonclock.org/).  Don't use it!\n",
    "\n",
    "Warning signs you are looking at Python 2 code\n",
    "\n",
    "```python\n",
    "from __future__ import print_function\n",
    "\n",
    "print \"I work with Python 2\""
   ]
  }
 ],
 "metadata": {
  "kernelspec": {
   "display_name": "Python 3",
   "language": "python",
   "name": "python3"
  },
  "language_info": {
   "codemirror_mode": {
    "name": "ipython",
    "version": 3
   },
   "file_extension": ".py",
   "mimetype": "text/x-python",
   "name": "python",
   "nbconvert_exporter": "python",
   "pygments_lexer": "ipython3",
   "version": "3.6.8"
  }
 },
 "nbformat": 4,
 "nbformat_minor": 4
}

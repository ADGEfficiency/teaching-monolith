{
 "cells": [
  {
   "cell_type": "markdown",
   "metadata": {},
   "source": [
    "# Transformers and estimators\n",
    "\n",
    "There are two kinds of pipeline objects\n",
    "- transformers (i.e. normalizing or standardizing)\n",
    "- estimators (i.e. fitting a model)\n",
    "\n",
    "To implement \n",
    "\n",
    "\n",
    "Lets first take a look at a transformer that adds a number to each row of a dataset:\n",
    "\n",
    "- transform - applies the transformation\n",
    "- inverse transform - reverse the transformation"
   ]
  },
  {
   "cell_type": "code",
   "execution_count": 7,
   "metadata": {},
   "outputs": [
    {
     "data": {
      "text/plain": [
       "array([4, 6, 8])"
      ]
     },
     "execution_count": 7,
     "metadata": {},
     "output_type": "execute_result"
    }
   ],
   "source": [
    "from sklearn.base import TransformerMixin, BaseEstimator\n",
    "\n",
    "class Adder(TransformerMixin, BaseEstimator):\n",
    "    def __init__(self, num):\n",
    "        self.num = num\n",
    "\n",
    "    def transform(self, x):\n",
    "        return x + np.full(shape=x.shape, fill_value=self.num)\n",
    "    \n",
    "    def inverse_transform(self, x):\n",
    "        return x - np.full(shape=x.shape, fill_value=self.num)\n",
    "    \n",
    "adder = Adder(4)\n",
    "\n",
    "x = np.array([0, 2 ,4])\n",
    "\n",
    "train = adder.transform(x)\n",
    "\n",
    "train"
   ]
  },
  {
   "cell_type": "code",
   "execution_count": 8,
   "metadata": {},
   "outputs": [
    {
     "data": {
      "text/plain": [
       "array([0, 2, 4])"
      ]
     },
     "execution_count": 8,
     "metadata": {},
     "output_type": "execute_result"
    }
   ],
   "source": [
    "adder.inverse_transform(train)"
   ]
  },
  {
   "cell_type": "markdown",
   "metadata": {},
   "source": [
    "## Estimators\n",
    "\n",
    "- fit\n",
    "- predict"
   ]
  },
  {
   "cell_type": "code",
   "execution_count": 4,
   "metadata": {},
   "outputs": [
    {
     "data": {
      "text/plain": [
       "array([0.5793159, 0.5793159])"
      ]
     },
     "execution_count": 4,
     "metadata": {},
     "output_type": "execute_result"
    }
   ],
   "source": [
    "from sklearn.base import BaseEstimator, RegressorMixin\n",
    "\n",
    "\n",
    "class NaiveRegressor(BaseEstimator, RegressorMixin):\n",
    "    def __init__(self):\n",
    "        pass\n",
    "        \n",
    "    def fit(self, x, y):\n",
    "        self.pred = np.mean(y)\n",
    "        return self\n",
    "        \n",
    "    def predict(self, x):\n",
    "        return np.full(shape=x.shape, fill_value=self.pred)\n",
    "    \n",
    "reg = NaiveRegressor()\n",
    "\n",
    "reg.fit(x=np.zeros((50)), y=np.random.uniform(size=50))\n",
    "\n",
    "reg.predict(x=np.array([0, 1]))"
   ]
  },
  {
   "cell_type": "code",
   "execution_count": null,
   "metadata": {},
   "outputs": [],
   "source": []
  }
 ],
 "metadata": {
  "kernelspec": {
   "display_name": "Python 3",
   "language": "python",
   "name": "python3"
  },
  "language_info": {
   "codemirror_mode": {
    "name": "ipython",
    "version": 3
   },
   "file_extension": ".py",
   "mimetype": "text/x-python",
   "name": "python",
   "nbconvert_exporter": "python",
   "pygments_lexer": "ipython3",
   "version": "3.6.8"
  }
 },
 "nbformat": 4,
 "nbformat_minor": 4
}

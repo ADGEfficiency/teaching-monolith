{
 "cells": [
  {
   "cell_type": "code",
   "execution_count": null,
   "metadata": {},
   "outputs": [],
   "source": [
    "from hypothesis import given\n",
    "from hypothesis.strategies import floats"
   ]
  },
  {
   "cell_type": "code",
   "execution_count": null,
   "metadata": {},
   "outputs": [],
   "source": [
    "floats?"
   ]
  },
  {
   "cell_type": "code",
   "execution_count": null,
   "metadata": {},
   "outputs": [],
   "source": [
    "def good_adder(a, b):\n",
    "    return a + b\n",
    "\n",
    "@given(\n",
    "    floats(allow_nan=False, allow_infinity=False), \n",
    "    floats(allow_nan=False, allow_infinity=False)\n",
    ")\n",
    "def test_good_adder(a, b):\n",
    "    result = good_adder(a, b)\n",
    "    assert result == a + b\n",
    "    \n",
    "test_good_adder()"
   ]
  },
  {
   "cell_type": "code",
   "execution_count": null,
   "metadata": {},
   "outputs": [],
   "source": [
    "def bad_adder(a, b):\n",
    "    return abs(a + b)\n",
    "\n",
    "@given(\n",
    "    floats(allow_nan=False, allow_infinity=False),\n",
    "    floats(allow_nan=False, allow_infinity=False)\n",
    ")\n",
    "def test_bad_adder(a, b):\n",
    "    result = bad_adder(a, b)\n",
    "    assert result == a + b\n",
    "    \n",
    "test_bad_adder()"
   ]
  },
  {
   "cell_type": "code",
   "execution_count": null,
   "metadata": {},
   "outputs": [],
   "source": []
  },
  {
   "cell_type": "code",
   "execution_count": null,
   "metadata": {},
   "outputs": [],
   "source": []
  }
 ],
 "metadata": {
  "kernelspec": {
   "display_name": "Python 3",
   "language": "python",
   "name": "python3"
  },
  "language_info": {
   "codemirror_mode": {
    "name": "ipython",
    "version": 3
   },
   "file_extension": ".py",
   "mimetype": "text/x-python",
   "name": "python",
   "nbconvert_exporter": "python",
   "pygments_lexer": "ipython3",
   "version": "3.6.8"
  }
 },
 "nbformat": 4,
 "nbformat_minor": 4
}

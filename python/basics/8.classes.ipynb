{
 "cells": [
  {
   "cell_type": "markdown",
   "metadata": {},
   "source": [
    "\n",
    "## Why classes\n",
    "\n",
    "Class = pillar of Object Oriented Programming\n",
    "\n",
    "Classes allow us to\n",
    "- control scope (like a function)\n",
    "- reuse code (like a function)\n",
    "- maintain state\n",
    "\n",
    "## When to use classes\n",
    "\n",
    "Group data and/or functionality\n",
    "\n",
    "## The world's simplest class\n",
    "\n",
    "Note the `CamelCase` style"
   ]
  },
  {
   "cell_type": "code",
   "execution_count": 5,
   "metadata": {},
   "outputs": [
    {
     "data": {
      "text/plain": [
       "__main__.SimpleClass"
      ]
     },
     "execution_count": 5,
     "metadata": {},
     "output_type": "execute_result"
    }
   ],
   "source": [
    "class SimpleClass:\n",
    "    pass\n",
    "\n",
    "s = SimpleClass()\n",
    "\n",
    "type(s)"
   ]
  },
  {
   "cell_type": "code",
   "execution_count": 6,
   "metadata": {},
   "outputs": [
    {
     "data": {
      "text/plain": [
       "<__main__.SimpleClass at 0x113c81978>"
      ]
     },
     "execution_count": 6,
     "metadata": {},
     "output_type": "execute_result"
    }
   ],
   "source": [
    "f = SimpleClass()\n",
    "f"
   ]
  },
  {
   "cell_type": "markdown",
   "metadata": {},
   "source": [
    "## Classes are data & functionality\n",
    "\n",
    "Data = **attributes**\n",
    "\n",
    "Functionality = **methods**"
   ]
  },
  {
   "cell_type": "code",
   "execution_count": 27,
   "metadata": {},
   "outputs": [
    {
     "name": "stdout",
     "output_type": "stream",
     "text": [
      "hi my name is adam blue\n"
     ]
    }
   ],
   "source": [
    "class SimpleClass():\n",
    "    a = 10\n",
    "    def __init__(self, name, ):\n",
    "        #print('initalizing')\n",
    "        self.name = name\n",
    "        \n",
    "    def greet(self, color):\n",
    "        print('hi my name is {} {}'.format(self.name, color))\n",
    " \n",
    "s = SimpleClass('adam')\n",
    "\n",
    "s.greet('blue')"
   ]
  },
  {
   "cell_type": "code",
   "execution_count": 24,
   "metadata": {},
   "outputs": [
    {
     "data": {
      "text/plain": [
       "'blue'"
      ]
     },
     "execution_count": 24,
     "metadata": {},
     "output_type": "execute_result"
    }
   ],
   "source": [
    "s.color = 'blue'\n",
    "\n",
    "s.color"
   ]
  },
  {
   "cell_type": "code",
   "execution_count": 18,
   "metadata": {},
   "outputs": [
    {
     "data": {
      "text/plain": [
       "'bob'"
      ]
     },
     "execution_count": 18,
     "metadata": {},
     "output_type": "execute_result"
    }
   ],
   "source": [
    "s = SimpleClass('bob')\n",
    "s.name"
   ]
  },
  {
   "cell_type": "code",
   "execution_count": 19,
   "metadata": {},
   "outputs": [
    {
     "data": {
      "text/plain": [
       "10"
      ]
     },
     "execution_count": 19,
     "metadata": {},
     "output_type": "execute_result"
    }
   ],
   "source": [
    "s.a"
   ]
  },
  {
   "cell_type": "code",
   "execution_count": null,
   "metadata": {},
   "outputs": [],
   "source": [
    "s.greet()"
   ]
  },
  {
   "cell_type": "markdown",
   "metadata": {},
   "source": [
    "## Inheritance\n",
    "\n",
    "Usually not warranted to write both the parent and the class\n",
    "\n",
    "## `super()`\n",
    "\n",
    "Used to initialize the parent class\n",
    "\n",
    "https://realpython.com/python-super/"
   ]
  },
  {
   "cell_type": "code",
   "execution_count": 30,
   "metadata": {},
   "outputs": [
    {
     "name": "stdout",
     "output_type": "stream",
     "text": [
      "hi from child\n"
     ]
    }
   ],
   "source": [
    "class SimpleParent:\n",
    "    def __init__(self): \n",
    "        print('hi from parent')\n",
    "\n",
    "        \n",
    "class SimpleChild(SimpleParent):\n",
    "    def __init__(self):\n",
    "        print('hi from child')\n",
    "        super().__init__()\n",
    "        \n",
    "#  here we initialize the class\n",
    "s = SimpleChild()"
   ]
  },
  {
   "cell_type": "code",
   "execution_count": null,
   "metadata": {},
   "outputs": [],
   "source": []
  },
  {
   "cell_type": "markdown",
   "metadata": {},
   "source": [
    "\n",
    "## Example - \n",
    "\n",
    "Lets imagine we want to build three agents that take actions (either always turn left, always turn right)\n",
    "\n",
    "We can do this without inheritance:"
   ]
  },
  {
   "cell_type": "code",
   "execution_count": 32,
   "metadata": {},
   "outputs": [],
   "source": [
    "class Left:\n",
    "    def __init__(self):\n",
    "        self.name = 'left'\n",
    "        self.age = 0\n",
    "        \n",
    "    def act(self):\n",
    "        self.age += 1\n",
    "        return 'go left'\n",
    "    \n",
    "\n",
    "class Right:\n",
    "    def __init__(self):\n",
    "        self.name = 'right'\n",
    "        self.age = 0\n",
    "        \n",
    "    def act(self):\n",
    "        self.age += 1\n",
    "        return 'go right'"
   ]
  },
  {
   "cell_type": "markdown",
   "metadata": {},
   "source": [
    "We can instantiate these classes, and access their methods and attributes"
   ]
  },
  {
   "cell_type": "code",
   "execution_count": 33,
   "metadata": {},
   "outputs": [
    {
     "data": {
      "text/plain": [
       "'left'"
      ]
     },
     "execution_count": 33,
     "metadata": {},
     "output_type": "execute_result"
    }
   ],
   "source": [
    "left = Left()\n",
    "\n",
    "left.name"
   ]
  },
  {
   "cell_type": "code",
   "execution_count": 34,
   "metadata": {},
   "outputs": [
    {
     "data": {
      "text/plain": [
       "['go right', 'go right', 'go right']"
      ]
     },
     "execution_count": 34,
     "metadata": {},
     "output_type": "execute_result"
    }
   ],
   "source": [
    "right = Right()\n",
    "\n",
    "acts = [right.act() for _ in range(3)]\n",
    "acts"
   ]
  },
  {
   "cell_type": "code",
   "execution_count": 35,
   "metadata": {},
   "outputs": [
    {
     "data": {
      "text/plain": [
       "3"
      ]
     },
     "execution_count": 35,
     "metadata": {},
     "output_type": "execute_result"
    }
   ],
   "source": [
    "right.age"
   ]
  },
  {
   "cell_type": "markdown",
   "metadata": {},
   "source": [
    "You can see there is a lot of repeated code in the examples above - lets see how inheritance might help"
   ]
  },
  {
   "cell_type": "code",
   "execution_count": 36,
   "metadata": {},
   "outputs": [],
   "source": [
    "class Agent:\n",
    "    def __init__(self, name):\n",
    "        self.name = name\n",
    "        self.age = 0\n",
    "        \n",
    "    def act(self):\n",
    "        self.age += 1\n",
    "        \n",
    "        \n",
    "class Left(Agent):\n",
    "    def __init__(self, name):\n",
    "        super().__init__(name)\n",
    "        \n",
    "    def act(self):\n",
    "        super().act()\n",
    "        return 'left'"
   ]
  },
  {
   "cell_type": "code",
   "execution_count": 37,
   "metadata": {},
   "outputs": [
    {
     "data": {
      "text/plain": [
       "['left', 'left', 'left', 'left']"
      ]
     },
     "execution_count": 37,
     "metadata": {},
     "output_type": "execute_result"
    }
   ],
   "source": [
    "left = Left('child left')\n",
    "\n",
    "acts = [left.act() for _ in range(4)]\n",
    "acts"
   ]
  },
  {
   "cell_type": "code",
   "execution_count": 38,
   "metadata": {},
   "outputs": [
    {
     "data": {
      "text/plain": [
       "4"
      ]
     },
     "execution_count": 38,
     "metadata": {},
     "output_type": "execute_result"
    }
   ],
   "source": [
    "left.age"
   ]
  },
  {
   "cell_type": "code",
   "execution_count": 39,
   "metadata": {},
   "outputs": [
    {
     "data": {
      "text/plain": [
       "['right', 'right', 'right', 'right', 'right']"
      ]
     },
     "execution_count": 39,
     "metadata": {},
     "output_type": "execute_result"
    }
   ],
   "source": [
    "class Right(Agent):\n",
    "    def __init__(self, name):\n",
    "        super().__init__(name)\n",
    "        \n",
    "    def act(self):\n",
    "        super().act()\n",
    "        return 'right'\n",
    "\n",
    "right = Right('child right')\n",
    "acts = [right.act() for _ in range(5)]\n",
    "acts"
   ]
  },
  {
   "cell_type": "code",
   "execution_count": 40,
   "metadata": {},
   "outputs": [
    {
     "data": {
      "text/plain": [
       "5"
      ]
     },
     "execution_count": 40,
     "metadata": {},
     "output_type": "execute_result"
    }
   ],
   "source": [
    "right.age"
   ]
  },
  {
   "cell_type": "code",
   "execution_count": 41,
   "metadata": {},
   "outputs": [
    {
     "data": {
      "text/plain": [
       "'child right'"
      ]
     },
     "execution_count": 41,
     "metadata": {},
     "output_type": "execute_result"
    }
   ],
   "source": [
    "right.name"
   ]
  },
  {
   "cell_type": "markdown",
   "metadata": {},
   "source": [
    "Note how\n",
    "- data can flow from the child class to the parent via super\n",
    "- we can access the methods of the parent on the child\n",
    "- we define the common functionality once\n"
   ]
  },
  {
   "cell_type": "code",
   "execution_count": 42,
   "metadata": {},
   "outputs": [
    {
     "name": "stdout",
     "output_type": "stream",
     "text": [
      "{'name': 'child left', 'age': 4}\n"
     ]
    }
   ],
   "source": [
    "print(left.__dict__)"
   ]
  },
  {
   "cell_type": "markdown",
   "metadata": {},
   "source": [
    "## Example Two - Cat, Dog, Animal"
   ]
  },
  {
   "cell_type": "code",
   "execution_count": 43,
   "metadata": {},
   "outputs": [],
   "source": [
    "class Cat:\n",
    "    def __init__(self, name='brian'):  #  default argument for name\n",
    "        self.name = name\n",
    "        self.stomach = []\n",
    "        \n",
    "    def eat(self, food):\n",
    "        print('{} eating {}'.format(self.name, food))\n",
    "        self.stomach.append(food)\n",
    "\n",
    "        \n",
    "class Dog:\n",
    "    def __init__(self, name):\n",
    "        self.name = name\n",
    "        self.stomach = []\n",
    "        \n",
    "    def eat(self, food):\n",
    "        if food == 'grapes':\n",
    "            print('{} cant eat grapes'.format(self.name))\n",
    "            pass\n",
    "        else:\n",
    "            print('{} eating {}'.format(self.name, food))\n",
    "            self.stomach.append(food)"
   ]
  },
  {
   "cell_type": "code",
   "execution_count": 44,
   "metadata": {},
   "outputs": [],
   "source": [
    "class Animal:\n",
    "    def __init__(self, name):\n",
    "        self.name = name\n",
    "        self.stomach = []\n",
    "        \n",
    "    def eat(self, food):\n",
    "        print('{} eating {} now'.format(self.name, food))\n",
    "        self.stomach.append(food)        \n",
    "    \n",
    "class Cat(Animal):\n",
    "    def __init__(self, name='brian'):  #  default argument for name\n",
    "        super().__init__(name)"
   ]
  },
  {
   "cell_type": "code",
   "execution_count": 45,
   "metadata": {},
   "outputs": [],
   "source": [
    "class Dog(Animal):\n",
    "    def __init__(self, name):\n",
    "        super().__init__(name)\n",
    "        \n",
    "    def eat(self, food):\n",
    "        if food == 'grapes':\n",
    "            print('{} cant eat grapes'.format(self.name))\n",
    "            pass\n",
    "        else:\n",
    "            super().eat(food)"
   ]
  },
  {
   "cell_type": "markdown",
   "metadata": {},
   "source": [
    "## Example Three - Actors in Apocalypse Now\n",
    "\n",
    "The `namedtuple` is a fine data structure for **holding state** (aka data):"
   ]
  },
  {
   "cell_type": "code",
   "execution_count": 46,
   "metadata": {},
   "outputs": [
    {
     "data": {
      "text/plain": [
       "[Actor(name='Marlon Brando'),\n",
       " Actor(name='Robert Duvall'),\n",
       " Actor(name='Martin Sheen')]"
      ]
     },
     "execution_count": 46,
     "metadata": {},
     "output_type": "execute_result"
    }
   ],
   "source": [
    "from collections import namedtuple\n",
    "\n",
    "Actor = namedtuple('Actor', ['name'])\n",
    "\n",
    "actors = ['Marlon Brando', 'Robert Duvall', 'Martin Sheen']\n",
    "actors = [Actor(name) for name in actors]\n",
    "\n",
    "actors"
   ]
  },
  {
   "cell_type": "markdown",
   "metadata": {},
   "source": [
    "Let's also have a data structure for films:"
   ]
  },
  {
   "cell_type": "code",
   "execution_count": 47,
   "metadata": {},
   "outputs": [
    {
     "data": {
      "text/plain": [
       "[Film(name='Apocalypse Now', actors=('Martin Sheen', 'Marlon Brando', 'Robert Duvall')),\n",
       " Film(name='The Godfather', actors=('Marlon Brando', 'Al Pacino', 'Robert Duvall')),\n",
       " Film(name='The Godfather Part II', actors=('Marlon Brando', 'Al Pacino', 'Robert Duvall'))]"
      ]
     },
     "execution_count": 47,
     "metadata": {},
     "output_type": "execute_result"
    }
   ],
   "source": [
    "Film = namedtuple('Film', ['name', 'actors'])\n",
    "\n",
    "films = [\n",
    "    Film('Apocalypse Now', ('Martin Sheen', 'Marlon Brando', 'Robert Duvall')),\n",
    "    Film('The Godfather', ('Marlon Brando', 'Al Pacino', 'Robert Duvall')),\n",
    "    Film('The Godfather Part II', ('Marlon Brando', 'Al Pacino', 'Robert Duvall'))\n",
    "]\n",
    "\n",
    "films"
   ]
  },
  {
   "cell_type": "markdown",
   "metadata": {},
   "source": [
    "Now we have data structures, lets add functionality:"
   ]
  },
  {
   "cell_type": "code",
   "execution_count": 48,
   "metadata": {},
   "outputs": [
    {
     "data": {
      "text/plain": [
       "2"
      ]
     },
     "execution_count": 48,
     "metadata": {},
     "output_type": "execute_result"
    }
   ],
   "source": [
    "def act(name, films):\n",
    "    num_films = 0\n",
    "    \n",
    "    for fi in films:\n",
    "        if name in fi.actors:\n",
    "            num_films += 1\n",
    "            \n",
    "    return num_films\n",
    "    \n",
    "act('Al Pacino', films)"
   ]
  },
  {
   "cell_type": "markdown",
   "metadata": {},
   "source": [
    "## Practical\n",
    "\n",
    "Write an `Actor` class that has\n",
    "- attributes of `name`, `num_films`\n",
    "- an `act()` method"
   ]
  },
  {
   "cell_type": "code",
   "execution_count": 63,
   "metadata": {},
   "outputs": [
    {
     "data": {
      "text/plain": [
       "2"
      ]
     },
     "execution_count": 63,
     "metadata": {},
     "output_type": "execute_result"
    }
   ],
   "source": [
    "class Actor:\n",
    "    def __init__(self, name):\n",
    "        self.name = name\n",
    "        self.films = []\n",
    "        \n",
    "    def act(self, films):   \n",
    "        for fi in films:\n",
    "            if self.name in fi.actors:\n",
    "                self.films.append(fi)\n",
    "    \n",
    "    @property\n",
    "    def num_films(self):\n",
    "        return len(self.films)\n",
    "                \n",
    "al = Actor('Al Pacino')\n",
    "al.act(films)\n",
    "\n",
    "al.num_films"
   ]
  },
  {
   "cell_type": "markdown",
   "metadata": {},
   "source": [
    "## Practical \n",
    "\n",
    "This final practical\n",
    "\n",
    "Create a program with two user facing classes\n",
    "- OrderedDataset\n",
    "- ShuffledDataset\n",
    "\n",
    "Both accept should accept an iterable of `samples`"
   ]
  },
  {
   "cell_type": "code",
   "execution_count": null,
   "metadata": {},
   "outputs": [],
   "source": [
    "class Dataset:\n",
    "    \"\"\"Insert docstring here\"\"\"\n",
    "    \n",
    "    def __init__(self):\n",
    "        pass\n",
    "    \n",
    "    def sample_batch(self):\n",
    "        raise NotImplementedError('Sampling batching not implemented in your child class')\n",
    "    \n",
    "\n",
    "class OrderedDataset(Dataset):\n",
    "    \"\"\"Insert docstring here\"\"\"\n",
    "    \n",
    "    def __init__(self):\n",
    "        pass\n",
    "    \n",
    "    \n",
    "class ShuffledDataset(Dataset):\n",
    "    \"\"\"Insert docstring here\"\"\"\n",
    "        \n",
    "    def __init__(self):\n",
    "        pass"
   ]
  },
  {
   "cell_type": "code",
   "execution_count": null,
   "metadata": {},
   "outputs": [],
   "source": [
    "samples = np.random.uniform(0, 100, 10000).reshape(-1, 4)\n",
    "samples"
   ]
  },
  {
   "cell_type": "code",
   "execution_count": null,
   "metadata": {},
   "outputs": [],
   "source": []
  }
 ],
 "metadata": {
  "kernelspec": {
   "display_name": "Python 3",
   "language": "python",
   "name": "python3"
  },
  "language_info": {
   "codemirror_mode": {
    "name": "ipython",
    "version": 3
   },
   "file_extension": ".py",
   "mimetype": "text/x-python",
   "name": "python",
   "nbconvert_exporter": "python",
   "pygments_lexer": "ipython3",
   "version": "3.6.8"
  }
 },
 "nbformat": 4,
 "nbformat_minor": 4
}

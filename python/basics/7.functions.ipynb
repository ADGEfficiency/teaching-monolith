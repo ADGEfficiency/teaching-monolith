{
 "cells": [
  {
   "cell_type": "markdown",
   "metadata": {},
   "source": [
    "## Why functions\n",
    "\n",
    "Functions allow us to\n",
    "- reuse code - a bad pattern in programming is to duplicate code\n",
    "- test code\n",
    "- make code readable\n",
    "- control scope\n",
    "\n",
    "**Functional decomposition** is a key skill of a programmer\n",
    "\n",
    "## When to use functions\n",
    "\n",
    "Always\n",
    "\n",
    "## Scope\n",
    "\n",
    "A local scope is made during the function call, which disapears after the function ends."
   ]
  },
  {
   "cell_type": "code",
   "execution_count": null,
   "metadata": {},
   "outputs": [],
   "source": [
    "def simple():\n",
    "    #  local scope\n",
    "    x = 10\n",
    "    return x * 2\n",
    "    \n",
    "#  global scope\n",
    "x = simple()\n",
    "\n",
    "x"
   ]
  },
  {
   "cell_type": "markdown",
   "metadata": {},
   "source": [
    "## `pdb`\n",
    "\n",
    "A Python debugger (standard library)"
   ]
  },
  {
   "cell_type": "markdown",
   "metadata": {},
   "source": [
    "## Using functions well\n",
    "\n",
    "```\n",
    "if check:\n",
    "\n",
    "   return   \n",
    "```\n",
    "\n",
    "rather than\n",
    "```\n",
    "if check:\n",
    "\n",
    "else:\n",
    "```\n"
   ]
  },
  {
   "cell_type": "markdown",
   "metadata": {},
   "source": [
    "## Parameters\n",
    "\n",
    "Positional\n",
    "\n",
    "positionap args = based on the order, keyword = based on the name"
   ]
  },
  {
   "cell_type": "code",
   "execution_count": null,
   "metadata": {},
   "outputs": [],
   "source": []
  },
  {
   "cell_type": "markdown",
   "metadata": {},
   "source": [
    "Keyword use keyword args to enable functionality"
   ]
  },
  {
   "cell_type": "code",
   "execution_count": null,
   "metadata": {},
   "outputs": [],
   "source": []
  },
  {
   "cell_type": "code",
   "execution_count": null,
   "metadata": {},
   "outputs": [],
   "source": [
    "#  \n",
    "mutable type as parameter (list etc)\n",
    "\n",
    "pdb"
   ]
  },
  {
   "cell_type": "code",
   "execution_count": null,
   "metadata": {},
   "outputs": [],
   "source": []
  },
  {
   "cell_type": "code",
   "execution_count": null,
   "metadata": {},
   "outputs": [],
   "source": []
  },
  {
   "cell_type": "code",
   "execution_count": null,
   "metadata": {},
   "outputs": [],
   "source": []
  },
  {
   "cell_type": "code",
   "execution_count": null,
   "metadata": {},
   "outputs": [],
   "source": []
  },
  {
   "cell_type": "markdown",
   "metadata": {},
   "source": [
    "## Exercise - factorial\n",
    "\n",
    "Test using `math.factorial`"
   ]
  },
  {
   "cell_type": "code",
   "execution_count": null,
   "metadata": {},
   "outputs": [],
   "source": [
    "def factorial(n):\n",
    "    if n == 0:\n",
    "        return 1\n",
    "    else:\n",
    "        return n * factorial(n-1)"
   ]
  },
  {
   "cell_type": "code",
   "execution_count": null,
   "metadata": {},
   "outputs": [],
   "source": []
  },
  {
   "cell_type": "markdown",
   "metadata": {},
   "source": [
    "args, kwargs"
   ]
  },
  {
   "cell_type": "code",
   "execution_count": null,
   "metadata": {},
   "outputs": [],
   "source": []
  },
  {
   "cell_type": "code",
   "execution_count": null,
   "metadata": {},
   "outputs": [],
   "source": []
  },
  {
   "cell_type": "code",
   "execution_count": null,
   "metadata": {},
   "outputs": [],
   "source": []
  },
  {
   "cell_type": "markdown",
   "metadata": {},
   "source": [
    "## Our dataset\n",
    "\n",
    "[The Noble Eightfold Path](https://en.wikipedia.org/wiki/Noble_Eightfold_Path):"
   ]
  },
  {
   "cell_type": "code",
   "execution_count": null,
   "metadata": {},
   "outputs": [],
   "source": [
    "noble_path = [\n",
    "    ('View', 'our actions have consequences, death is not the end'),\n",
    "    ('Intention', 'peaceful renunciation'),\n",
    "    ('Speech', 'honesty, no gossip'),\n",
    "    ('Action', 'murder, stealing, sexual misconduct'),\n",
    "    ('Livelihood', 'only possessing what is essential to sustain life'),\n",
    "    ('Effort', 'preventing unwholesome states, restraint of the senses'),\n",
    "    ('Mindfulness', 'avoid absent mind, conscious of what one is doing'),    \n",
    "    ('Concentration', 'one-pointedness of the mind')\n",
    "]\n",
    "\n",
    "#  it can be handy to keep a copy of raw data in memory\n",
    "raw = noble_path.copy()"
   ]
  },
  {
   "cell_type": "markdown",
   "metadata": {},
   "source": [
    "Let's imagine we want to do some things:\n",
    "1. add an integer index onto each tuple\n",
    "2. sort the list in flexible ways\n",
    "\n",
    "We can use a list comprehension to add an integer index:"
   ]
  },
  {
   "cell_type": "code",
   "execution_count": null,
   "metadata": {},
   "outputs": [],
   "source": [
    "noble_path = [(idx, *path) for idx, path in enumerate(raw, 1)]\n",
    "\n",
    "noble_path"
   ]
  },
  {
   "cell_type": "markdown",
   "metadata": {},
   "source": [
    "And the `sorted` builtin:"
   ]
  },
  {
   "cell_type": "code",
   "execution_count": null,
   "metadata": {},
   "outputs": [],
   "source": [
    "sorted?"
   ]
  },
  {
   "cell_type": "code",
   "execution_count": null,
   "metadata": {},
   "outputs": [],
   "source": [
    "sorted(noble_path, reverse=True)"
   ]
  },
  {
   "cell_type": "markdown",
   "metadata": {},
   "source": [
    "## Exercise - compose a function\n",
    "\n",
    "Call it `main()`"
   ]
  },
  {
   "cell_type": "code",
   "execution_count": null,
   "metadata": {},
   "outputs": [],
   "source": [
    "def main(data):\n",
    "    data = [(idx, *path) for idx, path in enumerate(data, 1)]\n",
    "    return sorted(data, reverse=True)"
   ]
  },
  {
   "cell_type": "code",
   "execution_count": null,
   "metadata": {},
   "outputs": [],
   "source": [
    "main(raw)"
   ]
  },
  {
   "cell_type": "markdown",
   "metadata": {},
   "source": [
    "## Exercise - compose two functions\n",
    "\n",
    "`main()`, `add_integer_index`"
   ]
  },
  {
   "cell_type": "code",
   "execution_count": null,
   "metadata": {},
   "outputs": [],
   "source": [
    "def main(data):\n",
    "    data = add_integer_index(data)\n",
    "    return sorted(data, reverse=True)\n",
    "\n",
    "def add_integer_index(data):\n",
    "    return [(idx, *path) for idx, path in enumerate(data, 1)]\n",
    "\n",
    "main(raw)"
   ]
  },
  {
   "cell_type": "markdown",
   "metadata": {},
   "source": [
    "## Threefold division"
   ]
  },
  {
   "cell_type": "code",
   "execution_count": null,
   "metadata": {},
   "outputs": [],
   "source": [
    "mapper = {'virtue': [3, 4, 5], 'concentration': [6, 7, 8], 'wisdom': [1, 2]}\n",
    "\n",
    "mapper"
   ]
  },
  {
   "cell_type": "code",
   "execution_count": null,
   "metadata": {},
   "outputs": [],
   "source": []
  },
  {
   "cell_type": "code",
   "execution_count": null,
   "metadata": {},
   "outputs": [],
   "source": []
  },
  {
   "cell_type": "code",
   "execution_count": null,
   "metadata": {},
   "outputs": [],
   "source": []
  }
 ],
 "metadata": {
  "kernelspec": {
   "display_name": "Python 3",
   "language": "python",
   "name": "python3"
  },
  "language_info": {
   "codemirror_mode": {
    "name": "ipython",
    "version": 3
   },
   "file_extension": ".py",
   "mimetype": "text/x-python",
   "name": "python",
   "nbconvert_exporter": "python",
   "pygments_lexer": "ipython3",
   "version": "3.6.8"
  }
 },
 "nbformat": 4,
 "nbformat_minor": 4
}

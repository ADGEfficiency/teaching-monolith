{
 "cells": [
  {
   "cell_type": "markdown",
   "metadata": {},
   "source": [
    "## Why functions\n",
    "\n",
    "Functions allow us to\n",
    "- reuse code - a bad pattern in programming is to duplicate code\n",
    "- test code\n",
    "- make code readable\n",
    "- control scope\n",
    "\n",
    "**Functional decomposition** is a key skill of a programmer\n",
    "\n",
    "## When to use functions\n",
    "\n",
    "Always\n",
    "- maybe not on your first draft\n",
    "- second draft is usually writing functions\n",
    "\n",
    "## Scope\n",
    "\n",
    "A local scope is made during the function call, which disapears after the function ends."
   ]
  },
  {
   "cell_type": "code",
   "execution_count": null,
   "metadata": {},
   "outputs": [],
   "source": [
    "#  global scope\n",
    "\n",
    "def simple():\n",
    "    #  local scope\n",
    "    x = 10\n",
    "    x = 20\n",
    "    import pdb; pdb.set_trace()\n",
    "    return x * 2\n",
    "    \n",
    "#  global scope\n",
    "x = simple()\n",
    "\n",
    "x"
   ]
  },
  {
   "cell_type": "markdown",
   "metadata": {},
   "source": [
    "## `pdb`\n",
    "\n",
    "A Python debugger (standard library)"
   ]
  },
  {
   "cell_type": "markdown",
   "metadata": {},
   "source": [
    "## Using functions well\n",
    "\n",
    "```\n",
    "if check:\n",
    "\n",
    "   return   \n",
    "```\n",
    "\n",
    "rather than\n",
    "```\n",
    "if check:\n",
    "\n",
    "else:\n",
    "```\n"
   ]
  },
  {
   "cell_type": "markdown",
   "metadata": {},
   "source": [
    "## Parameters\n",
    "\n",
    "Inputs to functions\n",
    "\n",
    "### Positional parameters\n",
    "\n",
    "Based on the order"
   ]
  },
  {
   "cell_type": "code",
   "execution_count": null,
   "metadata": {},
   "outputs": [],
   "source": [
    "def adder(a, b):\n",
    "    return a + b\n",
    "\n",
    "adder(3, 2)"
   ]
  },
  {
   "cell_type": "markdown",
   "metadata": {},
   "source": [
    "We can **explode** positional arguments into a function:"
   ]
  },
  {
   "cell_type": "code",
   "execution_count": null,
   "metadata": {},
   "outputs": [],
   "source": [
    "vals = (3, 2)\n",
    "\n",
    "def adder(a, b):\n",
    "    return a + b\n",
    "\n",
    "adder(*vals)"
   ]
  },
  {
   "cell_type": "markdown",
   "metadata": {},
   "source": [
    "This can allow us to have variable length inputs:"
   ]
  },
  {
   "cell_type": "code",
   "execution_count": null,
   "metadata": {},
   "outputs": [],
   "source": [
    "vals = (3, 2, 3)\n",
    "\n",
    "def adder(*args):\n",
    "    return sum(args)\n",
    "\n",
    "adder(*vals)"
   ]
  },
  {
   "cell_type": "markdown",
   "metadata": {},
   "source": [
    "### Keyword parameters\n",
    "\n",
    "Based on the name\n",
    "- have defaults\n",
    "- use keyword args to enable functionality"
   ]
  },
  {
   "cell_type": "code",
   "execution_count": null,
   "metadata": {},
   "outputs": [],
   "source": [
    "def subtracter(first=4, second=2):\n",
    "    return first - second\n",
    "\n",
    "subtracter(3, 2)"
   ]
  },
  {
   "cell_type": "markdown",
   "metadata": {},
   "source": [
    "The default values allow us to run the function without input:"
   ]
  },
  {
   "cell_type": "code",
   "execution_count": null,
   "metadata": {},
   "outputs": [],
   "source": [
    "subtracter()"
   ]
  },
  {
   "cell_type": "markdown",
   "metadata": {},
   "source": [
    "We can use keyword args to enable functionality: "
   ]
  },
  {
   "cell_type": "code",
   "execution_count": null,
   "metadata": {},
   "outputs": [],
   "source": [
    "def subtracter(first=4, second=2, verbose=0):\n",
    "    result = first - second\n",
    "    \n",
    "    if verbose:\n",
    "        print(first, second, result)\n",
    "        \n",
    "    return result\n",
    "\n",
    "res = subtracter(8, 4)"
   ]
  },
  {
   "cell_type": "markdown",
   "metadata": {},
   "source": [
    "### Warning - mutable type as a parameter"
   ]
  },
  {
   "cell_type": "code",
   "execution_count": null,
   "metadata": {},
   "outputs": [],
   "source": [
    "def length(data=[]):\n",
    "    data.append(1)\n",
    "    return len(data)\n",
    "\n",
    "length()"
   ]
  },
  {
   "cell_type": "code",
   "execution_count": null,
   "metadata": {},
   "outputs": [],
   "source": [
    "length()"
   ]
  },
  {
   "cell_type": "code",
   "execution_count": null,
   "metadata": {},
   "outputs": [],
   "source": [
    "length([0, 1, 2, 3])"
   ]
  },
  {
   "cell_type": "markdown",
   "metadata": {},
   "source": [
    "Do you see what is happening above?\n",
    "- think about when the empty list is initialized"
   ]
  },
  {
   "cell_type": "markdown",
   "metadata": {},
   "source": [
    "## Exercise - factorial\n",
    "\n",
    "Test using `math.factorial`"
   ]
  },
  {
   "cell_type": "code",
   "execution_count": null,
   "metadata": {},
   "outputs": [],
   "source": [
    "#  from answers import factorial\n",
    "#  factorial??"
   ]
  },
  {
   "cell_type": "code",
   "execution_count": null,
   "metadata": {},
   "outputs": [],
   "source": []
  },
  {
   "cell_type": "markdown",
   "metadata": {},
   "source": [
    "## Our dataset\n",
    "\n",
    "[The Noble Eightfold Path](https://en.wikipedia.org/wiki/Noble_Eightfold_Path)\n",
    "- the Fourth Noble Truth\n",
    "- Buddhism's verision of the 10 Commandments"
   ]
  },
  {
   "cell_type": "code",
   "execution_count": null,
   "metadata": {},
   "outputs": [],
   "source": [
    "noble_path = [\n",
    "    ('View', 'our actions have consequences, death is not the end'),\n",
    "    ('Intention', 'peaceful renunciation'),\n",
    "    ('Speech', 'honesty, no gossip'),\n",
    "    ('Action', 'murder, stealing, sexual misconduct'),\n",
    "    ('Livelihood', 'only possessing what is essential to sustain life'),\n",
    "    ('Effort', 'preventing unwholesome states, restraint of the senses'),\n",
    "    ('Mindfulness', 'avoid absent mind, conscious of what one is doing'),    \n",
    "    ('Concentration', 'one-pointedness of the mind')\n",
    "]\n",
    "\n",
    "#  it can be handy to keep a copy of raw data in memory\n",
    "raw = noble_path.copy()\n",
    "\n",
    "#  check location in memory is different\n",
    "assert id(raw) != id(noble_path)"
   ]
  },
  {
   "cell_type": "markdown",
   "metadata": {},
   "source": [
    "Let's imagine we want to do some things:\n",
    "1. add an integer index onto each tuple\n",
    "2. sort the list in flexible ways\n",
    "\n",
    "We can use a list comprehension to add an integer index:"
   ]
  },
  {
   "cell_type": "code",
   "execution_count": null,
   "metadata": {},
   "outputs": [],
   "source": [
    "noble_path = [(idx, *path) for idx, path in enumerate(raw, 1)]\n",
    "\n",
    "noble_path"
   ]
  },
  {
   "cell_type": "markdown",
   "metadata": {},
   "source": [
    "And the `sorted` builtin:"
   ]
  },
  {
   "cell_type": "code",
   "execution_count": null,
   "metadata": {},
   "outputs": [],
   "source": [
    "sorted?"
   ]
  },
  {
   "cell_type": "code",
   "execution_count": null,
   "metadata": {},
   "outputs": [],
   "source": [
    "sorted(noble_path, reverse=True)"
   ]
  },
  {
   "cell_type": "markdown",
   "metadata": {},
   "source": [
    "## Exercise - compose a function\n",
    "\n",
    "Call it `main()`"
   ]
  },
  {
   "cell_type": "code",
   "execution_count": null,
   "metadata": {},
   "outputs": [],
   "source": [
    "def main(raw, reverse=False, start=1):\n",
    "    noble_path = [(idx, *path) for idx, path in enumerate(raw, start)]\n",
    "    return sorted(noble_path, reverse=reverse)"
   ]
  },
  {
   "cell_type": "markdown",
   "metadata": {},
   "source": [
    "## Exercise - compose two functions\n",
    "\n",
    "`main()`, `add_integer_index`"
   ]
  },
  {
   "cell_type": "code",
   "execution_count": null,
   "metadata": {},
   "outputs": [],
   "source": [
    "add_integer_index??"
   ]
  },
  {
   "cell_type": "code",
   "execution_count": null,
   "metadata": {},
   "outputs": [],
   "source": [
    "from answers import main, add_integer_index\n",
    "main??"
   ]
  },
  {
   "cell_type": "markdown",
   "metadata": {},
   "source": [
    "## Threefold division\n",
    "\n",
    "https://en.wikipedia.org/wiki/Noble_Eightfold_Path#Threefold_division\n",
    "\n",
    "The 8 Noble Truths can be grouped into three basic divisions\n",
    "- we encode the data in a dict where\n",
    "- keys == division\n",
    "- values == list of idxs"
   ]
  },
  {
   "cell_type": "code",
   "execution_count": null,
   "metadata": {},
   "outputs": [],
   "source": [
    "#  {division: noble_truth_idx}\n",
    "\n",
    "mapper = {'virtue': [3, 4, 5], 'concentration': [6, 7, 8], 'wisdom': [1, 2]}\n",
    "\n",
    "mapper"
   ]
  },
  {
   "cell_type": "markdown",
   "metadata": {},
   "source": [
    "## Practical\n",
    "\n",
    "Integrate these two datasets.  You are free to use `pandas` or keep it real in pure Python.\n",
    "\n",
    "Just make sure you write & rewrite functions!"
   ]
  },
  {
   "cell_type": "code",
   "execution_count": null,
   "metadata": {},
   "outputs": [],
   "source": []
  }
 ],
 "metadata": {
  "kernelspec": {
   "display_name": "Python 3",
   "language": "python",
   "name": "python3"
  },
  "language_info": {
   "codemirror_mode": {
    "name": "ipython",
    "version": 3
   },
   "file_extension": ".py",
   "mimetype": "text/x-python",
   "name": "python",
   "nbconvert_exporter": "python",
   "pygments_lexer": "ipython3",
   "version": "3.6.8"
  }
 },
 "nbformat": 4,
 "nbformat_minor": 4
}
